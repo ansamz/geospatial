{
 "cells": [
  {
   "cell_type": "code",
   "execution_count": 164,
   "metadata": {},
   "outputs": [],
   "source": [
    "import pandas as pd\n",
    "import numpy as np\n",
    "import json\n",
    "import matplotlib.pyplot as plt\n",
    "import matplotlib.transforms as mtransforms\n",
    "import matplotlib.cm as cm\n",
    "import seaborn as sns\n",
    "import plotly.express as px\n",
    "import plotly.graph_objects as go\n",
    "from plotly.subplots import make_subplots\n",
    "from pathlib import Path\n",
    "import os.path\n",
    "from PIL import Image"
   ]
  },
  {
   "cell_type": "code",
   "execution_count": 165,
   "metadata": {},
   "outputs": [],
   "source": [
    "def read_data(path):\n",
    "    df = pd.read_parquet(path)\n",
    "    return df\n",
    "\n",
    "def read_json(path):\n",
    "    with open(path) as response:\n",
    "        result = json.load(response)\n",
    "    return result"
   ]
  },
  {
   "cell_type": "code",
   "execution_count": 166,
   "metadata": {},
   "outputs": [],
   "source": [
    "data = read_data('C:\\\\Users\\\\Ansam\\\\Documents\\\\github\\\\geospatial\\\\data\\\\final_dataset.parquet')\n",
    "\n",
    "data = data.drop(columns = ['kingdom', 'class', 'Unnamed: 0', 'phylum', 'order', 'scientificName', 'verbatimScientificName', 'countryCode'])\n",
    "\n",
    "regions = read_json('C:\\\\Users\\\\Ansam\\\\Documents\\\\github\\\\geospatial\\\\data\\\\georef-switzerland-kanton.geojson')\n",
    "\n",
    "alpine_Cantons = ['Valais', 'Graubünden', 'Uri', 'Bern', 'Ticino', 'Schwyz', 'Glarus', 'Obwalden', 'Nidwalden', 'Appenzell', 'St. Gallen']\n",
    "plateau_Cantons = ['Zürich', 'Aargau', 'Luzern', 'Thurgau', 'Solothurn', 'Basel', 'Schaffhausen', 'Zug', 'Fribourg', 'Genève']\n",
    "jura_Cantons = ['Neuchâtel', 'Jura', 'Vaud']\n",
    "\n",
    "# Create a mapping dictionary for each type\n",
    "mapping = {}\n",
    "for canton in alpine_Cantons:\n",
    "    mapping[canton] = 'Alpine'\n",
    "for canton in plateau_Cantons:\n",
    "    mapping[canton] = 'Plateau'\n",
    "for canton in jura_Cantons:\n",
    "    mapping[canton] = 'Jura'\n",
    "\n",
    "# Map the types to a new 'Type' column in the DataFrame\n",
    "data['Landscape'] = data['stateProvince'].map(mapping)"
   ]
  },
  {
   "cell_type": "code",
   "execution_count": 167,
   "metadata": {},
   "outputs": [
    {
     "data": {
      "text/plain": [
       "Index(['family', 'genus', 'species', 'taxonRank', 'stateProvince',\n",
       "       'occurrenceStatus', 'publishingOrgKey', 'decimalLatitude',\n",
       "       'decimalLongitude', 'coordinateUncertaintyInMeters', 'elevation', 'day',\n",
       "       'Month', 'Year', 'basisOfRecord', 'Temperature', 'Precipitation',\n",
       "       'Landscape'],\n",
       "      dtype='object')"
      ]
     },
     "execution_count": 167,
     "metadata": {},
     "output_type": "execute_result"
    }
   ],
   "source": [
    "data.columns"
   ]
  },
  {
   "cell_type": "code",
   "execution_count": 168,
   "metadata": {},
   "outputs": [
    {
     "name": "stdout",
     "output_type": "stream",
     "text": [
      "<class 'pandas.core.frame.DataFrame'>\n",
      "RangeIndex: 114036 entries, 0 to 114035\n",
      "Data columns (total 18 columns):\n",
      " #   Column                         Non-Null Count   Dtype  \n",
      "---  ------                         --------------   -----  \n",
      " 0   family                         114036 non-null  object \n",
      " 1   genus                          114036 non-null  object \n",
      " 2   species                        114036 non-null  object \n",
      " 3   taxonRank                      114036 non-null  object \n",
      " 4   stateProvince                  114036 non-null  object \n",
      " 5   occurrenceStatus               114036 non-null  object \n",
      " 6   publishingOrgKey               114036 non-null  object \n",
      " 7   decimalLatitude                114036 non-null  float64\n",
      " 8   decimalLongitude               114036 non-null  float64\n",
      " 9   coordinateUncertaintyInMeters  114036 non-null  float64\n",
      " 10  elevation                      114036 non-null  float64\n",
      " 11  day                            114036 non-null  float64\n",
      " 12  Month                          114036 non-null  float64\n",
      " 13  Year                           114036 non-null  int64  \n",
      " 14  basisOfRecord                  114036 non-null  object \n",
      " 15  Temperature                    114036 non-null  float64\n",
      " 16  Precipitation                  114036 non-null  float64\n",
      " 17  Landscape                      114036 non-null  object \n",
      "dtypes: float64(8), int64(1), object(9)\n",
      "memory usage: 15.7+ MB\n"
     ]
    }
   ],
   "source": [
    "data.info()"
   ]
  },
  {
   "cell_type": "code",
   "execution_count": 169,
   "metadata": {},
   "outputs": [
    {
     "data": {
      "text/plain": [
       "array(['PRESENT'], dtype=object)"
      ]
     },
     "execution_count": 169,
     "metadata": {},
     "output_type": "execute_result"
    }
   ],
   "source": [
    "data.occurrenceStatus.unique()"
   ]
  },
  {
   "cell_type": "code",
   "execution_count": 170,
   "metadata": {},
   "outputs": [],
   "source": [
    "data = data.replace({'PRESENT': 1})"
   ]
  },
  {
   "cell_type": "code",
   "execution_count": 171,
   "metadata": {},
   "outputs": [
    {
     "data": {
      "text/plain": [
       "array([2001, 1996, 1997, 2005, 2004, 2003, 2006, 1994, 1999, 2007, 2008,\n",
       "       2014, 2013, 2018, 2019, 2017, 2016, 2009, 2020, 2012, 2021, 2015,\n",
       "       2010, 1995, 1991, 1986, 1984, 1983, 1980, 1979, 2002, 1998, 1982,\n",
       "       2000, 1975, 1992, 1989, 1990, 1993, 1987, 2011, 1985, 1988, 1927,\n",
       "       1928, 1981, 1924, 1923, 1926, 1925, 1909], dtype=int64)"
      ]
     },
     "execution_count": 171,
     "metadata": {},
     "output_type": "execute_result"
    }
   ],
   "source": [
    "# sorted(data.Year.unique())\n",
    "data.Year.unique()"
   ]
  },
  {
   "cell_type": "code",
   "execution_count": 182,
   "metadata": {},
   "outputs": [],
   "source": [
    "data['day'] = 1\n",
    "data['date'] = pd.to_datetime(data[['Year', 'Month', 'day']])"
   ]
  },
  {
   "attachments": {},
   "cell_type": "markdown",
   "metadata": {},
   "source": [
    "Data Exploration and Visualization:"
   ]
  },
  {
   "cell_type": "code",
   "execution_count": 183,
   "metadata": {},
   "outputs": [
    {
     "data": {
      "image/png": "[encoded data removed]",
      "text/plain": [
       "<Figure size 1200x600 with 1 Axes>"
      ]
     },
     "metadata": {},
     "output_type": "display_data"
    }
   ],
   "source": [
    "# Group by year and count unique spider occurrences\n",
    "spider_occurrences = data.groupby('Year')['species'].nunique()\n",
    "\n",
    "# Plot spider occurrences over time\n",
    "plt.figure(figsize=(12, 6))\n",
    "spider_occurrences.plot(marker='o')\n",
    "plt.title('Spider Occurrences Over Time')\n",
    "plt.xlabel('Year')\n",
    "plt.ylabel('Number of Unique Spider Occurrences')\n",
    "plt.xticks(rotation=45)\n",
    "plt.show()"
   ]
  },
  {
   "cell_type": "code",
   "execution_count": 184,
   "metadata": {},
   "outputs": [
    {
     "data": {
      "application/vnd.plotly.v1+json": {
       "config": {
        "plotlyServerURL": "https://plot.ly"
       },
       "data": [
        {
         "hovertemplate": "Temperature=%{x}<br>occurrenceStatus=%{y}<extra></extra>",
         "legendgroup": "",
         "marker": {
          "color": "#636efa",
          "symbol": "circle"
         },
         "mode": "markers",
         "name": "",
         "orientation": "v",
         "showlegend": false,
         "type": "scatter",
         "x": [
          0.2248046874999999,
          3.786186186186186,
          6.870697674418604,
          7.745399404898146,
          11.871231177423246,
          15.13243779527559,
          17.343438940092163,
          16.39620996441281,
          12.982352057674978,
          8.913274123859816,
          4.411504907306434,
          1.7477815699658703
         ],
         "xaxis": "x",
         "y": [
          512,
          666,
          1505,
          8738,
          29021,
          31750,
          17360,
          11240,
          6658,
          4166,
          1834,
          586
         ],
         "yaxis": "y"
        },
        {
         "hovertemplate": "<b>OLS trendline</b><br>occurrenceStatus = 1359.16 * Temperature + -2664.34<br>R<sup>2</sup>=0.510386<br><br>Temperature=%{x}<br>occurrenceStatus=%{y} <b>(trend)</b><extra></extra>",
         "legendgroup": "",
         "marker": {
          "color": "#636efa",
          "symbol": "circle"
         },
         "mode": "lines",
         "name": "",
         "showlegend": false,
         "type": "scatter",
         "x": [
          0.2248046874999999,
          1.7477815699658703,
          3.786186186186186,
          4.411504907306434,
          6.870697674418604,
          7.745399404898146,
          8.913274123859816,
          11.871231177423246,
          12.982352057674978,
          15.13243779527559,
          16.39620996441281,
          17.343438940092163
         ],
         "xaxis": "x",
         "y": [
          -2358.79653366173,
          -288.82859750541274,
          2481.6876493711266,
          3331.59529898786,
          6674.029603379739,
          7862.888447291751,
          9450.216035471607,
          13470.550374027087,
          14980.740464103135,
          17903.049126867758,
          19620.716610096537,
          20908.151521570573
         ],
         "yaxis": "y"
        }
       ],
       "layout": {
        "legend": {
         "tracegroupgap": 0
        },
        "template": {
         "data": {
          "bar": [
           {
            "error_x": {
             "color": "#2a3f5f"
            },
            "error_y": {
             "color": "#2a3f5f"
            },
            "marker": {
             "line": {
              "color": "#E5ECF6",
              "width": 0.5
             },
             "pattern": {
              "fillmode": "overlay",
              "size": 10,
              "solidity": 0.2
             }
            },
            "type": "bar"
           }
          ],
          "barpolar": [
           {
            "marker": {
             "line": {
              "color": "#E5ECF6",
              "width": 0.5
             },
             "pattern": {
              "fillmode": "overlay",
              "size": 10,
              "solidity": 0.2
             }
            },
            "type": "barpolar"
           }
          ],
          "carpet": [
           {
            "aaxis": {
             "endlinecolor": "#2a3f5f",
             "gridcolor": "white",
             "linecolor": "white",
             "minorgridcolor": "white",
             "startlinecolor": "#2a3f5f"
            },
            "baxis": {
             "endlinecolor": "#2a3f5f",
             "gridcolor": "white",
             "linecolor": "white",
             "minorgridcolor": "white",
             "startlinecolor": "#2a3f5f"
            },
            "type": "carpet"
           }
          ],
          "choropleth": [
           {
            "colorbar": {
             "outlinewidth": 0,
             "ticks": ""
            },
            "type": "choropleth"
           }
          ],
          "contour": [
           {
            "colorbar": {
             "outlinewidth": 0,
             "ticks": ""
            },
            "colorscale": [
             [
              0,
              "#0d0887"
             ],
             [
              0.1111111111111111,
              "#46039f"
             ],
             [
              0.2222222222222222,
              "#7201a8"
             ],
             [
              0.3333333333333333,
              "#9c179e"
             ],
             [
              0.4444444444444444,
              "#bd3786"
             ],
             [
              0.5555555555555556,
              "#d8576b"
             ],
             [
              0.6666666666666666,
              "#ed7953"
             ],
             [
              0.7777777777777778,
              "#fb9f3a"
             ],
             [
              0.8888888888888888,
              "#fdca26"
             ],
             [
              1,
              "#f0f921"
             ]
            ],
            "type": "contour"
           }
          ],
          "contourcarpet": [
           {
            "colorbar": {
             "outlinewidth": 0,
             "ticks": ""
            },
            "type": "contourcarpet"
           }
          ],
          "heatmap": [
           {
            "colorbar": {
             "outlinewidth": 0,
             "ticks": ""
            },
            "colorscale": [
             [
              0,
              "#0d0887"
             ],
             [
              0.1111111111111111,
              "#46039f"
             ],
             [
              0.2222222222222222,
              "#7201a8"
             ],
             [
              0.3333333333333333,
              "#9c179e"
             ],
             [
              0.4444444444444444,
              "#bd3786"
             ],
             [
              0.5555555555555556,
              "#d8576b"
             ],
             [
              0.6666666666666666,
              "#ed7953"
             ],
             [
              0.7777777777777778,
              "#fb9f3a"
             ],
             [
              0.8888888888888888,
              "#fdca26"
             ],
             [
              1,
              "#f0f921"
             ]
            ],
            "type": "heatmap"
           }
          ],
          "heatmapgl": [
           {
            "colorbar": {
             "outlinewidth": 0,
             "ticks": ""
            },
            "colorscale": [
             [
              0,
              "#0d0887"
             ],
             [
              0.1111111111111111,
              "#46039f"
             ],
             [
              0.2222222222222222,
              "#7201a8"
             ],
             [
              0.3333333333333333,
              "#9c179e"
             ],
             [
              0.4444444444444444,
              "#bd3786"
             ],
             [
              0.5555555555555556,
              "#d8576b"
             ],
             [
              0.6666666666666666,
              "#ed7953"
             ],
             [
              0.7777777777777778,
              "#fb9f3a"
             ],
             [
              0.8888888888888888,
              "#fdca26"
             ],
             [
              1,
              "#f0f921"
             ]
            ],
            "type": "heatmapgl"
           }
          ],
          "histogram": [
           {
            "marker": {
             "pattern": {
              "fillmode": "overlay",
              "size": 10,
              "solidity": 0.2
             }
            },
            "type": "histogram"
           }
          ],
          "histogram2d": [
           {
            "colorbar": {
             "outlinewidth": 0,
             "ticks": ""
            },
            "colorscale": [
             [
              0,
              "#0d0887"
             ],
             [
              0.1111111111111111,
              "#46039f"
             ],
             [
              0.2222222222222222,
              "#7201a8"
             ],
             [
              0.3333333333333333,
              "#9c179e"
             ],
             [
              0.4444444444444444,
              "#bd3786"
             ],
             [
              0.5555555555555556,
              "#d8576b"
             ],
             [
              0.6666666666666666,
              "#ed7953"
             ],
             [
              0.7777777777777778,
              "#fb9f3a"
             ],
             [
              0.8888888888888888,
              "#fdca26"
             ],
             [
              1,
              "#f0f921"
             ]
            ],
            "type": "histogram2d"
           }
          ],
          "histogram2dcontour": [
           {
            "colorbar": {
             "outlinewidth": 0,
             "ticks": ""
            },
            "colorscale": [
             [
              0,
              "#0d0887"
             ],
             [
              0.1111111111111111,
              "#46039f"
             ],
             [
              0.2222222222222222,
              "#7201a8"
             ],
             [
              0.3333333333333333,
              "#9c179e"
             ],
             [
              0.4444444444444444,
              "#bd3786"
             ],
             [
              0.5555555555555556,
              "#d8576b"
             ],
             [
              0.6666666666666666,
              "#ed7953"
             ],
             [
              0.7777777777777778,
              "#fb9f3a"
             ],
             [
              0.8888888888888888,
              "#fdca26"
             ],
             [
              1,
              "#f0f921"
             ]
            ],
            "type": "histogram2dcontour"
           }
          ],
          "mesh3d": [
           {
            "colorbar": {
             "outlinewidth": 0,
             "ticks": ""
            },
            "type": "mesh3d"
           }
          ],
          "parcoords": [
           {
            "line": {
             "colorbar": {
              "outlinewidth": 0,
              "ticks": ""
             }
            },
            "type": "parcoords"
           }
          ],
          "pie": [
           {
            "automargin": true,
            "type": "pie"
           }
          ],
          "scatter": [
           {
            "fillpattern": {
             "fillmode": "overlay",
             "size": 10,
             "solidity": 0.2
            },
            "type": "scatter"
           }
          ],
          "scatter3d": [
           {
            "line": {
             "colorbar": {
              "outlinewidth": 0,
              "ticks": ""
             }
            },
            "marker": {
             "colorbar": {
              "outlinewidth": 0,
              "ticks": ""
             }
            },
            "type": "scatter3d"
           }
          ],
          "scattercarpet": [
           {
            "marker": {
             "colorbar": {
              "outlinewidth": 0,
              "ticks": ""
             }
            },
            "type": "scattercarpet"
           }
          ],
          "scattergeo": [
           {
            "marker": {
             "colorbar": {
              "outlinewidth": 0,
              "ticks": ""
             }
            },
            "type": "scattergeo"
           }
          ],
          "scattergl": [
           {
            "marker": {
             "colorbar": {
              "outlinewidth": 0,
              "ticks": ""
             }
            },
            "type": "scattergl"
           }
          ],
          "scattermapbox": [
           {
            "marker": {
             "colorbar": {
              "outlinewidth": 0,
              "ticks": ""
             }
            },
            "type": "scattermapbox"
           }
          ],
          "scatterpolar": [
           {
            "marker": {
             "colorbar": {
              "outlinewidth": 0,
              "ticks": ""
             }
            },
            "type": "scatterpolar"
           }
          ],
          "scatterpolargl": [
           {
            "marker": {
             "colorbar": {
              "outlinewidth": 0,
              "ticks": ""
             }
            },
            "type": "scatterpolargl"
           }
          ],
          "scatterternary": [
           {
            "marker": {
             "colorbar": {
              "outlinewidth": 0,
              "ticks": ""
             }
            },
            "type": "scatterternary"
           }
          ],
          "surface": [
           {
            "colorbar": {
             "outlinewidth": 0,
             "ticks": ""
            },
            "colorscale": [
             [
              0,
              "#0d0887"
             ],
             [
              0.1111111111111111,
              "#46039f"
             ],
             [
              0.2222222222222222,
              "#7201a8"
             ],
             [
              0.3333333333333333,
              "#9c179e"
             ],
             [
              0.4444444444444444,
              "#bd3786"
             ],
             [
              0.5555555555555556,
              "#d8576b"
             ],
             [
              0.6666666666666666,
              "#ed7953"
             ],
             [
              0.7777777777777778,
              "#fb9f3a"
             ],
             [
              0.8888888888888888,
              "#fdca26"
             ],
             [
              1,
              "#f0f921"
             ]
            ],
            "type": "surface"
           }
          ],
          "table": [
           {
            "cells": {
             "fill": {
              "color": "#EBF0F8"
             },
             "line": {
              "color": "white"
             }
            },
            "header": {
             "fill": {
              "color": "#C8D4E3"
             },
             "line": {
              "color": "white"
             }
            },
            "type": "table"
           }
          ]
         },
         "layout": {
          "annotationdefaults": {
           "arrowcolor": "#2a3f5f",
           "arrowhead": 0,
           "arrowwidth": 1
          },
          "autotypenumbers": "strict",
          "coloraxis": {
           "colorbar": {
            "outlinewidth": 0,
            "ticks": ""
           }
          },
          "colorscale": {
           "diverging": [
            [
             0,
             "#8e0152"
            ],
            [
             0.1,
             "#c51b7d"
            ],
            [
             0.2,
             "#de77ae"
            ],
            [
             0.3,
             "#f1b6da"
            ],
            [
             0.4,
             "#fde0ef"
            ],
            [
             0.5,
             "#f7f7f7"
            ],
            [
             0.6,
             "#e6f5d0"
            ],
            [
             0.7,
             "#b8e186"
            ],
            [
             0.8,
             "#7fbc41"
            ],
            [
             0.9,
             "#4d9221"
            ],
            [
             1,
             "#276419"
            ]
           ],
           "sequential": [
            [
             0,
             "#0d0887"
            ],
            [
             0.1111111111111111,
             "#46039f"
            ],
            [
             0.2222222222222222,
             "#7201a8"
            ],
            [
             0.3333333333333333,
             "#9c179e"
            ],
            [
             0.4444444444444444,
             "#bd3786"
            ],
            [
             0.5555555555555556,
             "#d8576b"
            ],
            [
             0.6666666666666666,
             "#ed7953"
            ],
            [
             0.7777777777777778,
             "#fb9f3a"
            ],
            [
             0.8888888888888888,
             "#fdca26"
            ],
            [
             1,
             "#f0f921"
            ]
           ],
           "sequentialminus": [
            [
             0,
             "#0d0887"
            ],
            [
             0.1111111111111111,
             "#46039f"
            ],
            [
             0.2222222222222222,
             "#7201a8"
            ],
            [
             0.3333333333333333,
             "#9c179e"
            ],
            [
             0.4444444444444444,
             "#bd3786"
            ],
            [
             0.5555555555555556,
             "#d8576b"
            ],
            [
             0.6666666666666666,
             "#ed7953"
            ],
            [
             0.7777777777777778,
             "#fb9f3a"
            ],
            [
             0.8888888888888888,
             "#fdca26"
            ],
            [
             1,
             "#f0f921"
            ]
           ]
          },
          "colorway": [
           "#636efa",
           "#EF553B",
           "#00cc96",
           "#ab63fa",
           "#FFA15A",
           "#19d3f3",
           "#FF6692",
           "#B6E880",
           "#FF97FF",
           "#FECB52"
          ],
          "font": {
           "color": "#2a3f5f"
          },
          "geo": {
           "bgcolor": "white",
           "lakecolor": "white",
           "landcolor": "#E5ECF6",
           "showlakes": true,
           "showland": true,
           "subunitcolor": "white"
          },
          "hoverlabel": {
           "align": "left"
          },
          "hovermode": "closest",
          "mapbox": {
           "style": "light"
          },
          "paper_bgcolor": "white",
          "plot_bgcolor": "#E5ECF6",
          "polar": {
           "angularaxis": {
            "gridcolor": "white",
            "linecolor": "white",
            "ticks": ""
           },
           "bgcolor": "#E5ECF6",
           "radialaxis": {
            "gridcolor": "white",
            "linecolor": "white",
            "ticks": ""
           }
          },
          "scene": {
           "xaxis": {
            "backgroundcolor": "#E5ECF6",
            "gridcolor": "white",
            "gridwidth": 2,
            "linecolor": "white",
            "showbackground": true,
            "ticks": "",
            "zerolinecolor": "white"
           },
           "yaxis": {
            "backgroundcolor": "#E5ECF6",
            "gridcolor": "white",
            "gridwidth": 2,
            "linecolor": "white",
            "showbackground": true,
            "ticks": "",
            "zerolinecolor": "white"
           },
           "zaxis": {
            "backgroundcolor": "#E5ECF6",
            "gridcolor": "white",
            "gridwidth": 2,
            "linecolor": "white",
            "showbackground": true,
            "ticks": "",
            "zerolinecolor": "white"
           }
          },
          "shapedefaults": {
           "line": {
            "color": "#2a3f5f"
           }
          },
          "ternary": {
           "aaxis": {
            "gridcolor": "white",
            "linecolor": "white",
            "ticks": ""
           },
           "baxis": {
            "gridcolor": "white",
            "linecolor": "white",
            "ticks": ""
           },
           "bgcolor": "#E5ECF6",
           "caxis": {
            "gridcolor": "white",
            "linecolor": "white",
            "ticks": ""
           }
          },
          "title": {
           "x": 0.05
          },
          "xaxis": {
           "automargin": true,
           "gridcolor": "white",
           "linecolor": "white",
           "ticks": "",
           "title": {
            "standoff": 15
           },
           "zerolinecolor": "white",
           "zerolinewidth": 2
          },
          "yaxis": {
           "automargin": true,
           "gridcolor": "white",
           "linecolor": "white",
           "ticks": "",
           "title": {
            "standoff": 15
           },
           "zerolinecolor": "white",
           "zerolinewidth": 2
          }
         }
        },
        "title": {
         "text": "Temperature vs. Spider Occurrences"
        },
        "xaxis": {
         "anchor": "y",
         "domain": [
          0,
          1
         ],
         "title": {
          "text": "Temperature"
         }
        },
        "yaxis": {
         "anchor": "x",
         "domain": [
          0,
          1
         ],
         "title": {
          "text": "Spider Occurrences"
         }
        }
       }
      }
     },
     "metadata": {},
     "output_type": "display_data"
    }
   ],
   "source": [
    "# Group occurrences by month and calculate average temperature and precipitation\n",
    "monthly_data = data.groupby('Month').agg({'Temperature': 'mean', 'Precipitation': 'mean', 'occurrenceStatus': 'sum'}).reset_index()\n",
    "\n",
    "# Plotting temperature and spider occurrences\n",
    "fig = px.scatter(monthly_data, x='Temperature', y='occurrenceStatus', trendline='ols', title='Temperature vs. Spider Occurrences')\n",
    "fig.update_layout(xaxis_title='Temperature', yaxis_title='Spider Occurrences')\n",
    "fig.show()"
   ]
  },
  {
   "cell_type": "code",
   "execution_count": 185,
   "metadata": {},
   "outputs": [
    {
     "data": {
      "application/vnd.plotly.v1+json": {
       "config": {
        "plotlyServerURL": "https://plot.ly"
       },
       "data": [
        {
         "hovertemplate": "Precipitation=%{x}<br>occurrenceStatus=%{y}<extra></extra>",
         "legendgroup": "",
         "marker": {
          "color": "#636efa",
          "symbol": "circle"
         },
         "mode": "markers",
         "name": "",
         "orientation": "v",
         "showlegend": false,
         "type": "scatter",
         "x": [
          69.9958984375,
          57.87192192192192,
          50.92352159468438,
          105.12375829709316,
          125.00219151648807,
          111.64114645669291,
          120.06563940092165,
          120.81364768683274,
          89.28729348152599,
          98.6880700912146,
          67.27257360959652,
          63.25836177474403
         ],
         "xaxis": "x",
         "y": [
          512,
          666,
          1505,
          8738,
          29021,
          31750,
          17360,
          11240,
          6658,
          4166,
          1834,
          586
         ],
         "yaxis": "y"
        },
        {
         "hovertemplate": "<b>OLS trendline</b><br>occurrenceStatus = 321.725 * Precipitation + -19450.8<br>R<sup>2</sup>=0.621702<br><br>Precipitation=%{x}<br>occurrenceStatus=%{y} <b>(trend)</b><extra></extra>",
         "legendgroup": "",
         "marker": {
          "color": "#636efa",
          "symbol": "circle"
         },
         "mode": "lines",
         "name": "",
         "showlegend": false,
         "type": "scatter",
         "x": [
          50.92352159468438,
          57.87192192192192,
          63.25836177474403,
          67.27257360959652,
          69.9958984375,
          89.28729348152599,
          98.6880700912146,
          105.12375829709316,
          111.64114645669291,
          120.06563940092165,
          120.81364768683274,
          125.00219151648807
         ],
         "xaxis": "x",
         "y": [
          -3067.397867436861,
          -831.9204670352192,
          901.0344567628745,
          2192.5086687568146,
          3068.671644408405,
          9275.20489121769,
          12299.674217604104,
          14370.199066881556,
          16467.008872631886,
          19177.38287236281,
          19418.03619395002,
          20765.597449895795
         ],
         "yaxis": "y"
        }
       ],
       "layout": {
        "legend": {
         "tracegroupgap": 0
        },
        "template": {
         "data": {
          "bar": [
           {
            "error_x": {
             "color": "#2a3f5f"
            },
            "error_y": {
             "color": "#2a3f5f"
            },
            "marker": {
             "line": {
              "color": "#E5ECF6",
              "width": 0.5
             },
             "pattern": {
              "fillmode": "overlay",
              "size": 10,
              "solidity": 0.2
             }
            },
            "type": "bar"
           }
          ],
          "barpolar": [
           {
            "marker": {
             "line": {
              "color": "#E5ECF6",
              "width": 0.5
             },
             "pattern": {
              "fillmode": "overlay",
              "size": 10,
              "solidity": 0.2
             }
            },
            "type": "barpolar"
           }
          ],
          "carpet": [
           {
            "aaxis": {
             "endlinecolor": "#2a3f5f",
             "gridcolor": "white",
             "linecolor": "white",
             "minorgridcolor": "white",
             "startlinecolor": "#2a3f5f"
            },
            "baxis": {
             "endlinecolor": "#2a3f5f",
             "gridcolor": "white",
             "linecolor": "white",
             "minorgridcolor": "white",
             "startlinecolor": "#2a3f5f"
            },
            "type": "carpet"
           }
          ],
          "choropleth": [
           {
            "colorbar": {
             "outlinewidth": 0,
             "ticks": ""
            },
            "type": "choropleth"
           }
          ],
          "contour": [
           {
            "colorbar": {
             "outlinewidth": 0,
             "ticks": ""
            },
            "colorscale": [
             [
              0,
              "#0d0887"
             ],
             [
              0.1111111111111111,
              "#46039f"
             ],
             [
              0.2222222222222222,
              "#7201a8"
             ],
             [
              0.3333333333333333,
              "#9c179e"
             ],
             [
              0.4444444444444444,
              "#bd3786"
             ],
             [
              0.5555555555555556,
              "#d8576b"
             ],
             [
              0.6666666666666666,
              "#ed7953"
             ],
             [
              0.7777777777777778,
              "#fb9f3a"
             ],
             [
              0.8888888888888888,
              "#fdca26"
             ],
             [
              1,
              "#f0f921"
             ]
            ],
            "type": "contour"
           }
          ],
          "contourcarpet": [
           {
            "colorbar": {
             "outlinewidth": 0,
             "ticks": ""
            },
            "type": "contourcarpet"
           }
          ],
          "heatmap": [
           {
            "colorbar": {
             "outlinewidth": 0,
             "ticks": ""
            },
            "colorscale": [
             [
              0,
              "#0d0887"
             ],
             [
              0.1111111111111111,
              "#46039f"
             ],
             [
              0.2222222222222222,
              "#7201a8"
             ],
             [
              0.3333333333333333,
              "#9c179e"
             ],
             [
              0.4444444444444444,
              "#bd3786"
             ],
             [
              0.5555555555555556,
              "#d8576b"
             ],
             [
              0.6666666666666666,
              "#ed7953"
             ],
             [
              0.7777777777777778,
              "#fb9f3a"
             ],
             [
              0.8888888888888888,
              "#fdca26"
             ],
             [
              1,
              "#f0f921"
             ]
            ],
            "type": "heatmap"
           }
          ],
          "heatmapgl": [
           {
            "colorbar": {
             "outlinewidth": 0,
             "ticks": ""
            },
            "colorscale": [
             [
              0,
              "#0d0887"
             ],
             [
              0.1111111111111111,
              "#46039f"
             ],
             [
              0.2222222222222222,
              "#7201a8"
             ],
             [
              0.3333333333333333,
              "#9c179e"
             ],
             [
              0.4444444444444444,
              "#bd3786"
             ],
             [
              0.5555555555555556,
              "#d8576b"
             ],
             [
              0.6666666666666666,
              "#ed7953"
             ],
             [
              0.7777777777777778,
              "#fb9f3a"
             ],
             [
              0.8888888888888888,
              "#fdca26"
             ],
             [
              1,
              "#f0f921"
             ]
            ],
            "type": "heatmapgl"
           }
          ],
          "histogram": [
           {
            "marker": {
             "pattern": {
              "fillmode": "overlay",
              "size": 10,
              "solidity": 0.2
             }
            },
            "type": "histogram"
           }
          ],
          "histogram2d": [
           {
            "colorbar": {
             "outlinewidth": 0,
             "ticks": ""
            },
            "colorscale": [
             [
              0,
              "#0d0887"
             ],
             [
              0.1111111111111111,
              "#46039f"
             ],
             [
              0.2222222222222222,
              "#7201a8"
             ],
             [
              0.3333333333333333,
              "#9c179e"
             ],
             [
              0.4444444444444444,
              "#bd3786"
             ],
             [
              0.5555555555555556,
              "#d8576b"
             ],
             [
              0.6666666666666666,
              "#ed7953"
             ],
             [
              0.7777777777777778,
              "#fb9f3a"
             ],
             [
              0.8888888888888888,
              "#fdca26"
             ],
             [
              1,
              "#f0f921"
             ]
            ],
            "type": "histogram2d"
           }
          ],
          "histogram2dcontour": [
           {
            "colorbar": {
             "outlinewidth": 0,
             "ticks": ""
            },
            "colorscale": [
             [
              0,
              "#0d0887"
             ],
             [
              0.1111111111111111,
              "#46039f"
             ],
             [
              0.2222222222222222,
              "#7201a8"
             ],
             [
              0.3333333333333333,
              "#9c179e"
             ],
             [
              0.4444444444444444,
              "#bd3786"
             ],
             [
              0.5555555555555556,
              "#d8576b"
             ],
             [
              0.6666666666666666,
              "#ed7953"
             ],
             [
              0.7777777777777778,
              "#fb9f3a"
             ],
             [
              0.8888888888888888,
              "#fdca26"
             ],
             [
              1,
              "#f0f921"
             ]
            ],
            "type": "histogram2dcontour"
           }
          ],
          "mesh3d": [
           {
            "colorbar": {
             "outlinewidth": 0,
             "ticks": ""
            },
            "type": "mesh3d"
           }
          ],
          "parcoords": [
           {
            "line": {
             "colorbar": {
              "outlinewidth": 0,
              "ticks": ""
             }
            },
            "type": "parcoords"
           }
          ],
          "pie": [
           {
            "automargin": true,
            "type": "pie"
           }
          ],
          "scatter": [
           {
            "fillpattern": {
             "fillmode": "overlay",
             "size": 10,
             "solidity": 0.2
            },
            "type": "scatter"
           }
          ],
          "scatter3d": [
           {
            "line": {
             "colorbar": {
              "outlinewidth": 0,
              "ticks": ""
             }
            },
            "marker": {
             "colorbar": {
              "outlinewidth": 0,
              "ticks": ""
             }
            },
            "type": "scatter3d"
           }
          ],
          "scattercarpet": [
           {
            "marker": {
             "colorbar": {
              "outlinewidth": 0,
              "ticks": ""
             }
            },
            "type": "scattercarpet"
           }
          ],
          "scattergeo": [
           {
            "marker": {
             "colorbar": {
              "outlinewidth": 0,
              "ticks": ""
             }
            },
            "type": "scattergeo"
           }
          ],
          "scattergl": [
           {
            "marker": {
             "colorbar": {
              "outlinewidth": 0,
              "ticks": ""
             }
            },
            "type": "scattergl"
           }
          ],
          "scattermapbox": [
           {
            "marker": {
             "colorbar": {
              "outlinewidth": 0,
              "ticks": ""
             }
            },
            "type": "scattermapbox"
           }
          ],
          "scatterpolar": [
           {
            "marker": {
             "colorbar": {
              "outlinewidth": 0,
              "ticks": ""
             }
            },
            "type": "scatterpolar"
           }
          ],
          "scatterpolargl": [
           {
            "marker": {
             "colorbar": {
              "outlinewidth": 0,
              "ticks": ""
             }
            },
            "type": "scatterpolargl"
           }
          ],
          "scatterternary": [
           {
            "marker": {
             "colorbar": {
              "outlinewidth": 0,
              "ticks": ""
             }
            },
            "type": "scatterternary"
           }
          ],
          "surface": [
           {
            "colorbar": {
             "outlinewidth": 0,
             "ticks": ""
            },
            "colorscale": [
             [
              0,
              "#0d0887"
             ],
             [
              0.1111111111111111,
              "#46039f"
             ],
             [
              0.2222222222222222,
              "#7201a8"
             ],
             [
              0.3333333333333333,
              "#9c179e"
             ],
             [
              0.4444444444444444,
              "#bd3786"
             ],
             [
              0.5555555555555556,
              "#d8576b"
             ],
             [
              0.6666666666666666,
              "#ed7953"
             ],
             [
              0.7777777777777778,
              "#fb9f3a"
             ],
             [
              0.8888888888888888,
              "#fdca26"
             ],
             [
              1,
              "#f0f921"
             ]
            ],
            "type": "surface"
           }
          ],
          "table": [
           {
            "cells": {
             "fill": {
              "color": "#EBF0F8"
             },
             "line": {
              "color": "white"
             }
            },
            "header": {
             "fill": {
              "color": "#C8D4E3"
             },
             "line": {
              "color": "white"
             }
            },
            "type": "table"
           }
          ]
         },
         "layout": {
          "annotationdefaults": {
           "arrowcolor": "#2a3f5f",
           "arrowhead": 0,
           "arrowwidth": 1
          },
          "autotypenumbers": "strict",
          "coloraxis": {
           "colorbar": {
            "outlinewidth": 0,
            "ticks": ""
           }
          },
          "colorscale": {
           "diverging": [
            [
             0,
             "#8e0152"
            ],
            [
             0.1,
             "#c51b7d"
            ],
            [
             0.2,
             "#de77ae"
            ],
            [
             0.3,
             "#f1b6da"
            ],
            [
             0.4,
             "#fde0ef"
            ],
            [
             0.5,
             "#f7f7f7"
            ],
            [
             0.6,
             "#e6f5d0"
            ],
            [
             0.7,
             "#b8e186"
            ],
            [
             0.8,
             "#7fbc41"
            ],
            [
             0.9,
             "#4d9221"
            ],
            [
             1,
             "#276419"
            ]
           ],
           "sequential": [
            [
             0,
             "#0d0887"
            ],
            [
             0.1111111111111111,
             "#46039f"
            ],
            [
             0.2222222222222222,
             "#7201a8"
            ],
            [
             0.3333333333333333,
             "#9c179e"
            ],
            [
             0.4444444444444444,
             "#bd3786"
            ],
            [
             0.5555555555555556,
             "#d8576b"
            ],
            [
             0.6666666666666666,
             "#ed7953"
            ],
            [
             0.7777777777777778,
             "#fb9f3a"
            ],
            [
             0.8888888888888888,
             "#fdca26"
            ],
            [
             1,
             "#f0f921"
            ]
           ],
           "sequentialminus": [
            [
             0,
             "#0d0887"
            ],
            [
             0.1111111111111111,
             "#46039f"
            ],
            [
             0.2222222222222222,
             "#7201a8"
            ],
            [
             0.3333333333333333,
             "#9c179e"
            ],
            [
             0.4444444444444444,
             "#bd3786"
            ],
            [
             0.5555555555555556,
             "#d8576b"
            ],
            [
             0.6666666666666666,
             "#ed7953"
            ],
            [
             0.7777777777777778,
             "#fb9f3a"
            ],
            [
             0.8888888888888888,
             "#fdca26"
            ],
            [
             1,
             "#f0f921"
            ]
           ]
          },
          "colorway": [
           "#636efa",
           "#EF553B",
           "#00cc96",
           "#ab63fa",
           "#FFA15A",
           "#19d3f3",
           "#FF6692",
           "#B6E880",
           "#FF97FF",
           "#FECB52"
          ],
          "font": {
           "color": "#2a3f5f"
          },
          "geo": {
           "bgcolor": "white",
           "lakecolor": "white",
           "landcolor": "#E5ECF6",
           "showlakes": true,
           "showland": true,
           "subunitcolor": "white"
          },
          "hoverlabel": {
           "align": "left"
          },
          "hovermode": "closest",
          "mapbox": {
           "style": "light"
          },
          "paper_bgcolor": "white",
          "plot_bgcolor": "#E5ECF6",
          "polar": {
           "angularaxis": {
            "gridcolor": "white",
            "linecolor": "white",
            "ticks": ""
           },
           "bgcolor": "#E5ECF6",
           "radialaxis": {
            "gridcolor": "white",
            "linecolor": "white",
            "ticks": ""
           }
          },
          "scene": {
           "xaxis": {
            "backgroundcolor": "#E5ECF6",
            "gridcolor": "white",
            "gridwidth": 2,
            "linecolor": "white",
            "showbackground": true,
            "ticks": "",
            "zerolinecolor": "white"
           },
           "yaxis": {
            "backgroundcolor": "#E5ECF6",
            "gridcolor": "white",
            "gridwidth": 2,
            "linecolor": "white",
            "showbackground": true,
            "ticks": "",
            "zerolinecolor": "white"
           },
           "zaxis": {
            "backgroundcolor": "#E5ECF6",
            "gridcolor": "white",
            "gridwidth": 2,
            "linecolor": "white",
            "showbackground": true,
            "ticks": "",
            "zerolinecolor": "white"
           }
          },
          "shapedefaults": {
           "line": {
            "color": "#2a3f5f"
           }
          },
          "ternary": {
           "aaxis": {
            "gridcolor": "white",
            "linecolor": "white",
            "ticks": ""
           },
           "baxis": {
            "gridcolor": "white",
            "linecolor": "white",
            "ticks": ""
           },
           "bgcolor": "#E5ECF6",
           "caxis": {
            "gridcolor": "white",
            "linecolor": "white",
            "ticks": ""
           }
          },
          "title": {
           "x": 0.05
          },
          "xaxis": {
           "automargin": true,
           "gridcolor": "white",
           "linecolor": "white",
           "ticks": "",
           "title": {
            "standoff": 15
           },
           "zerolinecolor": "white",
           "zerolinewidth": 2
          },
          "yaxis": {
           "automargin": true,
           "gridcolor": "white",
           "linecolor": "white",
           "ticks": "",
           "title": {
            "standoff": 15
           },
           "zerolinecolor": "white",
           "zerolinewidth": 2
          }
         }
        },
        "title": {
         "text": "Precipitation vs. Spider Occurrences"
        },
        "xaxis": {
         "anchor": "y",
         "domain": [
          0,
          1
         ],
         "title": {
          "text": "Precipitation"
         }
        },
        "yaxis": {
         "anchor": "x",
         "domain": [
          0,
          1
         ],
         "title": {
          "text": "Spider Occurrences"
         }
        }
       }
      }
     },
     "metadata": {},
     "output_type": "display_data"
    }
   ],
   "source": [
    "# Plotting precipitation and spider occurrences\n",
    "fig = px.scatter(monthly_data, x='Precipitation', y='occurrenceStatus', trendline='ols', title='Precipitation vs. Spider Occurrences')\n",
    "fig.update_layout(xaxis_title='Precipitation', yaxis_title='Spider Occurrences')\n",
    "fig.show()"
   ]
  },
  {
   "cell_type": "code",
   "execution_count": 186,
   "metadata": {},
   "outputs": [
    {
     "data": {
      "application/vnd.plotly.v1+json": {
       "config": {
        "plotlyServerURL": "https://plot.ly"
       },
       "data": [
        {
         "alignmentgroup": "True",
         "hovertemplate": "Landscape=%{x}<br>occurrenceStatus=%{y}<extra></extra>",
         "legendgroup": "",
         "marker": {
          "color": "#636efa",
          "pattern": {
           "shape": ""
          }
         },
         "name": "",
         "offsetgroup": "",
         "orientation": "v",
         "showlegend": false,
         "textposition": "auto",
         "type": "bar",
         "x": [
          "Alpine",
          "Jura",
          "Plateau"
         ],
         "xaxis": "x",
         "y": [
          46374,
          25132,
          42530
         ],
         "yaxis": "y"
        }
       ],
       "layout": {
        "barmode": "relative",
        "legend": {
         "tracegroupgap": 0
        },
        "template": {
         "data": {
          "bar": [
           {
            "error_x": {
             "color": "#2a3f5f"
            },
            "error_y": {
             "color": "#2a3f5f"
            },
            "marker": {
             "line": {
              "color": "#E5ECF6",
              "width": 0.5
             },
             "pattern": {
              "fillmode": "overlay",
              "size": 10,
              "solidity": 0.2
             }
            },
            "type": "bar"
           }
          ],
          "barpolar": [
           {
            "marker": {
             "line": {
              "color": "#E5ECF6",
              "width": 0.5
             },
             "pattern": {
              "fillmode": "overlay",
              "size": 10,
              "solidity": 0.2
             }
            },
            "type": "barpolar"
           }
          ],
          "carpet": [
           {
            "aaxis": {
             "endlinecolor": "#2a3f5f",
             "gridcolor": "white",
             "linecolor": "white",
             "minorgridcolor": "white",
             "startlinecolor": "#2a3f5f"
            },
            "baxis": {
             "endlinecolor": "#2a3f5f",
             "gridcolor": "white",
             "linecolor": "white",
             "minorgridcolor": "white",
             "startlinecolor": "#2a3f5f"
            },
            "type": "carpet"
           }
          ],
          "choropleth": [
           {
            "colorbar": {
             "outlinewidth": 0,
             "ticks": ""
            },
            "type": "choropleth"
           }
          ],
          "contour": [
           {
            "colorbar": {
             "outlinewidth": 0,
             "ticks": ""
            },
            "colorscale": [
             [
              0,
              "#0d0887"
             ],
             [
              0.1111111111111111,
              "#46039f"
             ],
             [
              0.2222222222222222,
              "#7201a8"
             ],
             [
              0.3333333333333333,
              "#9c179e"
             ],
             [
              0.4444444444444444,
              "#bd3786"
             ],
             [
              0.5555555555555556,
              "#d8576b"
             ],
             [
              0.6666666666666666,
              "#ed7953"
             ],
             [
              0.7777777777777778,
              "#fb9f3a"
             ],
             [
              0.8888888888888888,
              "#fdca26"
             ],
             [
              1,
              "#f0f921"
             ]
            ],
            "type": "contour"
           }
          ],
          "contourcarpet": [
           {
            "colorbar": {
             "outlinewidth": 0,
             "ticks": ""
            },
            "type": "contourcarpet"
           }
          ],
          "heatmap": [
           {
            "colorbar": {
             "outlinewidth": 0,
             "ticks": ""
            },
            "colorscale": [
             [
              0,
              "#0d0887"
             ],
             [
              0.1111111111111111,
              "#46039f"
             ],
             [
              0.2222222222222222,
              "#7201a8"
             ],
             [
              0.3333333333333333,
              "#9c179e"
             ],
             [
              0.4444444444444444,
              "#bd3786"
             ],
             [
              0.5555555555555556,
              "#d8576b"
             ],
             [
              0.6666666666666666,
              "#ed7953"
             ],
             [
              0.7777777777777778,
              "#fb9f3a"
             ],
             [
              0.8888888888888888,
              "#fdca26"
             ],
             [
              1,
              "#f0f921"
             ]
            ],
            "type": "heatmap"
           }
          ],
          "heatmapgl": [
           {
            "colorbar": {
             "outlinewidth": 0,
             "ticks": ""
            },
            "colorscale": [
             [
              0,
              "#0d0887"
             ],
             [
              0.1111111111111111,
              "#46039f"
             ],
             [
              0.2222222222222222,
              "#7201a8"
             ],
             [
              0.3333333333333333,
              "#9c179e"
             ],
             [
              0.4444444444444444,
              "#bd3786"
             ],
             [
              0.5555555555555556,
              "#d8576b"
             ],
             [
              0.6666666666666666,
              "#ed7953"
             ],
             [
              0.7777777777777778,
              "#fb9f3a"
             ],
             [
              0.8888888888888888,
              "#fdca26"
             ],
             [
              1,
              "#f0f921"
             ]
            ],
            "type": "heatmapgl"
           }
          ],
          "histogram": [
           {
            "marker": {
             "pattern": {
              "fillmode": "overlay",
              "size": 10,
              "solidity": 0.2
             }
            },
            "type": "histogram"
           }
          ],
          "histogram2d": [
           {
            "colorbar": {
             "outlinewidth": 0,
             "ticks": ""
            },
            "colorscale": [
             [
              0,
              "#0d0887"
             ],
             [
              0.1111111111111111,
              "#46039f"
             ],
             [
              0.2222222222222222,
              "#7201a8"
             ],
             [
              0.3333333333333333,
              "#9c179e"
             ],
             [
              0.4444444444444444,
              "#bd3786"
             ],
             [
              0.5555555555555556,
              "#d8576b"
             ],
             [
              0.6666666666666666,
              "#ed7953"
             ],
             [
              0.7777777777777778,
              "#fb9f3a"
             ],
             [
              0.8888888888888888,
              "#fdca26"
             ],
             [
              1,
              "#f0f921"
             ]
            ],
            "type": "histogram2d"
           }
          ],
          "histogram2dcontour": [
           {
            "colorbar": {
             "outlinewidth": 0,
             "ticks": ""
            },
            "colorscale": [
             [
              0,
              "#0d0887"
             ],
             [
              0.1111111111111111,
              "#46039f"
             ],
             [
              0.2222222222222222,
              "#7201a8"
             ],
             [
              0.3333333333333333,
              "#9c179e"
             ],
             [
              0.4444444444444444,
              "#bd3786"
             ],
             [
              0.5555555555555556,
              "#d8576b"
             ],
             [
              0.6666666666666666,
              "#ed7953"
             ],
             [
              0.7777777777777778,
              "#fb9f3a"
             ],
             [
              0.8888888888888888,
              "#fdca26"
             ],
             [
              1,
              "#f0f921"
             ]
            ],
            "type": "histogram2dcontour"
           }
          ],
          "mesh3d": [
           {
            "colorbar": {
             "outlinewidth": 0,
             "ticks": ""
            },
            "type": "mesh3d"
           }
          ],
          "parcoords": [
           {
            "line": {
             "colorbar": {
              "outlinewidth": 0,
              "ticks": ""
             }
            },
            "type": "parcoords"
           }
          ],
          "pie": [
           {
            "automargin": true,
            "type": "pie"
           }
          ],
          "scatter": [
           {
            "fillpattern": {
             "fillmode": "overlay",
             "size": 10,
             "solidity": 0.2
            },
            "type": "scatter"
           }
          ],
          "scatter3d": [
           {
            "line": {
             "colorbar": {
              "outlinewidth": 0,
              "ticks": ""
             }
            },
            "marker": {
             "colorbar": {
              "outlinewidth": 0,
              "ticks": ""
             }
            },
            "type": "scatter3d"
           }
          ],
          "scattercarpet": [
           {
            "marker": {
             "colorbar": {
              "outlinewidth": 0,
              "ticks": ""
             }
            },
            "type": "scattercarpet"
           }
          ],
          "scattergeo": [
           {
            "marker": {
             "colorbar": {
              "outlinewidth": 0,
              "ticks": ""
             }
            },
            "type": "scattergeo"
           }
          ],
          "scattergl": [
           {
            "marker": {
             "colorbar": {
              "outlinewidth": 0,
              "ticks": ""
             }
            },
            "type": "scattergl"
           }
          ],
          "scattermapbox": [
           {
            "marker": {
             "colorbar": {
              "outlinewidth": 0,
              "ticks": ""
             }
            },
            "type": "scattermapbox"
           }
          ],
          "scatterpolar": [
           {
            "marker": {
             "colorbar": {
              "outlinewidth": 0,
              "ticks": ""
             }
            },
            "type": "scatterpolar"
           }
          ],
          "scatterpolargl": [
           {
            "marker": {
             "colorbar": {
              "outlinewidth": 0,
              "ticks": ""
             }
            },
            "type": "scatterpolargl"
           }
          ],
          "scatterternary": [
           {
            "marker": {
             "colorbar": {
              "outlinewidth": 0,
              "ticks": ""
             }
            },
            "type": "scatterternary"
           }
          ],
          "surface": [
           {
            "colorbar": {
             "outlinewidth": 0,
             "ticks": ""
            },
            "colorscale": [
             [
              0,
              "#0d0887"
             ],
             [
              0.1111111111111111,
              "#46039f"
             ],
             [
              0.2222222222222222,
              "#7201a8"
             ],
             [
              0.3333333333333333,
              "#9c179e"
             ],
             [
              0.4444444444444444,
              "#bd3786"
             ],
             [
              0.5555555555555556,
              "#d8576b"
             ],
             [
              0.6666666666666666,
              "#ed7953"
             ],
             [
              0.7777777777777778,
              "#fb9f3a"
             ],
             [
              0.8888888888888888,
              "#fdca26"
             ],
             [
              1,
              "#f0f921"
             ]
            ],
            "type": "surface"
           }
          ],
          "table": [
           {
            "cells": {
             "fill": {
              "color": "#EBF0F8"
             },
             "line": {
              "color": "white"
             }
            },
            "header": {
             "fill": {
              "color": "#C8D4E3"
             },
             "line": {
              "color": "white"
             }
            },
            "type": "table"
           }
          ]
         },
         "layout": {
          "annotationdefaults": {
           "arrowcolor": "#2a3f5f",
           "arrowhead": 0,
           "arrowwidth": 1
          },
          "autotypenumbers": "strict",
          "coloraxis": {
           "colorbar": {
            "outlinewidth": 0,
            "ticks": ""
           }
          },
          "colorscale": {
           "diverging": [
            [
             0,
             "#8e0152"
            ],
            [
             0.1,
             "#c51b7d"
            ],
            [
             0.2,
             "#de77ae"
            ],
            [
             0.3,
             "#f1b6da"
            ],
            [
             0.4,
             "#fde0ef"
            ],
            [
             0.5,
             "#f7f7f7"
            ],
            [
             0.6,
             "#e6f5d0"
            ],
            [
             0.7,
             "#b8e186"
            ],
            [
             0.8,
             "#7fbc41"
            ],
            [
             0.9,
             "#4d9221"
            ],
            [
             1,
             "#276419"
            ]
           ],
           "sequential": [
            [
             0,
             "#0d0887"
            ],
            [
             0.1111111111111111,
             "#46039f"
            ],
            [
             0.2222222222222222,
             "#7201a8"
            ],
            [
             0.3333333333333333,
             "#9c179e"
            ],
            [
             0.4444444444444444,
             "#bd3786"
            ],
            [
             0.5555555555555556,
             "#d8576b"
            ],
            [
             0.6666666666666666,
             "#ed7953"
            ],
            [
             0.7777777777777778,
             "#fb9f3a"
            ],
            [
             0.8888888888888888,
             "#fdca26"
            ],
            [
             1,
             "#f0f921"
            ]
           ],
           "sequentialminus": [
            [
             0,
             "#0d0887"
            ],
            [
             0.1111111111111111,
             "#46039f"
            ],
            [
             0.2222222222222222,
             "#7201a8"
            ],
            [
             0.3333333333333333,
             "#9c179e"
            ],
            [
             0.4444444444444444,
             "#bd3786"
            ],
            [
             0.5555555555555556,
             "#d8576b"
            ],
            [
             0.6666666666666666,
             "#ed7953"
            ],
            [
             0.7777777777777778,
             "#fb9f3a"
            ],
            [
             0.8888888888888888,
             "#fdca26"
            ],
            [
             1,
             "#f0f921"
            ]
           ]
          },
          "colorway": [
           "#636efa",
           "#EF553B",
           "#00cc96",
           "#ab63fa",
           "#FFA15A",
           "#19d3f3",
           "#FF6692",
           "#B6E880",
           "#FF97FF",
           "#FECB52"
          ],
          "font": {
           "color": "#2a3f5f"
          },
          "geo": {
           "bgcolor": "white",
           "lakecolor": "white",
           "landcolor": "#E5ECF6",
           "showlakes": true,
           "showland": true,
           "subunitcolor": "white"
          },
          "hoverlabel": {
           "align": "left"
          },
          "hovermode": "closest",
          "mapbox": {
           "style": "light"
          },
          "paper_bgcolor": "white",
          "plot_bgcolor": "#E5ECF6",
          "polar": {
           "angularaxis": {
            "gridcolor": "white",
            "linecolor": "white",
            "ticks": ""
           },
           "bgcolor": "#E5ECF6",
           "radialaxis": {
            "gridcolor": "white",
            "linecolor": "white",
            "ticks": ""
           }
          },
          "scene": {
           "xaxis": {
            "backgroundcolor": "#E5ECF6",
            "gridcolor": "white",
            "gridwidth": 2,
            "linecolor": "white",
            "showbackground": true,
            "ticks": "",
            "zerolinecolor": "white"
           },
           "yaxis": {
            "backgroundcolor": "#E5ECF6",
            "gridcolor": "white",
            "gridwidth": 2,
            "linecolor": "white",
            "showbackground": true,
            "ticks": "",
            "zerolinecolor": "white"
           },
           "zaxis": {
            "backgroundcolor": "#E5ECF6",
            "gridcolor": "white",
            "gridwidth": 2,
            "linecolor": "white",
            "showbackground": true,
            "ticks": "",
            "zerolinecolor": "white"
           }
          },
          "shapedefaults": {
           "line": {
            "color": "#2a3f5f"
           }
          },
          "ternary": {
           "aaxis": {
            "gridcolor": "white",
            "linecolor": "white",
            "ticks": ""
           },
           "baxis": {
            "gridcolor": "white",
            "linecolor": "white",
            "ticks": ""
           },
           "bgcolor": "#E5ECF6",
           "caxis": {
            "gridcolor": "white",
            "linecolor": "white",
            "ticks": ""
           }
          },
          "title": {
           "x": 0.05
          },
          "xaxis": {
           "automargin": true,
           "gridcolor": "white",
           "linecolor": "white",
           "ticks": "",
           "title": {
            "standoff": 15
           },
           "zerolinecolor": "white",
           "zerolinewidth": 2
          },
          "yaxis": {
           "automargin": true,
           "gridcolor": "white",
           "linecolor": "white",
           "ticks": "",
           "title": {
            "standoff": 15
           },
           "zerolinecolor": "white",
           "zerolinewidth": 2
          }
         }
        },
        "title": {
         "text": "Spider Occurrences by Landscape"
        },
        "xaxis": {
         "anchor": "y",
         "domain": [
          0,
          1
         ],
         "title": {
          "text": "Landscape"
         }
        },
        "yaxis": {
         "anchor": "x",
         "domain": [
          0,
          1
         ],
         "title": {
          "text": "Spider Occurrences"
         }
        }
       }
      }
     },
     "metadata": {},
     "output_type": "display_data"
    }
   ],
   "source": [
    "# Comparing spider occurrences across landscape types\n",
    "landscape_counts = data.groupby('Landscape')['occurrenceStatus'].sum().reset_index()\n",
    "\n",
    "fig = px.bar(landscape_counts, x='Landscape', y='occurrenceStatus', title='Spider Occurrences by Landscape')\n",
    "fig.update_layout(xaxis_title='Landscape', yaxis_title='Spider Occurrences')\n",
    "fig.show()"
   ]
  },
  {
   "cell_type": "code",
   "execution_count": 191,
   "metadata": {},
   "outputs": [
    {
     "data": {
      "text/html": [
       "<div>\n",
       "<style scoped>\n",
       "    .dataframe tbody tr th:only-of-type {\n",
       "        vertical-align: middle;\n",
       "    }\n",
       "\n",
       "    .dataframe tbody tr th {\n",
       "        vertical-align: top;\n",
       "    }\n",
       "\n",
       "    .dataframe thead th {\n",
       "        text-align: right;\n",
       "    }\n",
       "</style>\n",
       "<table border=\"1\" class=\"dataframe\">\n",
       "  <thead>\n",
       "    <tr style=\"text-align: right;\">\n",
       "      <th></th>\n",
       "      <th>date</th>\n",
       "      <th>Temperature</th>\n",
       "      <th>Precipitation</th>\n",
       "      <th>occurrenceStatus</th>\n",
       "      <th>Landscape</th>\n",
       "    </tr>\n",
       "  </thead>\n",
       "  <tbody>\n",
       "    <tr>\n",
       "      <th>0</th>\n",
       "      <td>1981-04-01</td>\n",
       "      <td>10.7</td>\n",
       "      <td>8.9</td>\n",
       "      <td>40</td>\n",
       "      <td>Jura</td>\n",
       "    </tr>\n",
       "    <tr>\n",
       "      <th>1</th>\n",
       "      <td>1981-05-01</td>\n",
       "      <td>12.5</td>\n",
       "      <td>139.5</td>\n",
       "      <td>70</td>\n",
       "      <td>Jura</td>\n",
       "    </tr>\n",
       "    <tr>\n",
       "      <th>2</th>\n",
       "      <td>1981-06-01</td>\n",
       "      <td>16.3</td>\n",
       "      <td>67.2</td>\n",
       "      <td>79</td>\n",
       "      <td>Jura</td>\n",
       "    </tr>\n",
       "    <tr>\n",
       "      <th>3</th>\n",
       "      <td>1981-07-01</td>\n",
       "      <td>17.2</td>\n",
       "      <td>74.2</td>\n",
       "      <td>81</td>\n",
       "      <td>Jura</td>\n",
       "    </tr>\n",
       "    <tr>\n",
       "      <th>4</th>\n",
       "      <td>1981-08-01</td>\n",
       "      <td>19.1</td>\n",
       "      <td>38.7</td>\n",
       "      <td>18</td>\n",
       "      <td>Jura</td>\n",
       "    </tr>\n",
       "  </tbody>\n",
       "</table>\n",
       "</div>"
      ],
      "text/plain": [
       "        date  Temperature  Precipitation  occurrenceStatus Landscape\n",
       "0 1981-04-01         10.7            8.9                40      Jura\n",
       "1 1981-05-01         12.5          139.5                70      Jura\n",
       "2 1981-06-01         16.3           67.2                79      Jura\n",
       "3 1981-07-01         17.2           74.2                81      Jura\n",
       "4 1981-08-01         19.1           38.7                18      Jura"
      ]
     },
     "execution_count": 191,
     "metadata": {},
     "output_type": "execute_result"
    }
   ],
   "source": [
    "data2 = data[data['Year'] > 1980]\n",
    "\n",
    "# Convert the 'Year' column to datetime type\n",
    "# data2['Year'] = pd.to_datetime(data2['Year'], format='%Y')\n",
    "\n",
    "# Group data by month and calculate average temperature, precipitation, and spider occurrences\n",
    "monthly_data = data2.groupby('date').agg({'Temperature': 'mean', 'Precipitation': 'mean', 'occurrenceStatus': 'sum', 'Landscape': 'first'}).reset_index()\n",
    "monthly_data.head()"
   ]
  },
  {
   "cell_type": "code",
   "execution_count": 192,
   "metadata": {},
   "outputs": [
    {
     "data": {
      "application/vnd.plotly.v1+json": {
       "config": {
        "plotlyServerURL": "https://plot.ly"
       },
       "data": [
        {
         "mode": "lines",
         "name": "Temperature",
         "type": "scatter",
         "x": [
          "1981-04-01T00:00:00",
          "1981-05-01T00:00:00",
          "1981-06-01T00:00:00",
          "1981-07-01T00:00:00",
          "1981-08-01T00:00:00",
          "1981-09-01T00:00:00",
          "1982-08-01T00:00:00",
          "1982-09-01T00:00:00",
          "1983-04-01T00:00:00",
          "1983-05-01T00:00:00",
          "1983-06-01T00:00:00",
          "1983-07-01T00:00:00",
          "1983-08-01T00:00:00",
          "1983-09-01T00:00:00",
          "1983-10-01T00:00:00",
          "1983-11-01T00:00:00",
          "1984-04-01T00:00:00",
          "1984-05-01T00:00:00",
          "1984-06-01T00:00:00",
          "1984-07-01T00:00:00",
          "1984-08-01T00:00:00",
          "1984-09-01T00:00:00",
          "1984-10-01T00:00:00",
          "1984-11-01T00:00:00",
          "1984-12-01T00:00:00",
          "1985-04-01T00:00:00",
          "1985-05-01T00:00:00",
          "1985-08-01T00:00:00",
          "1986-05-01T00:00:00",
          "1986-06-01T00:00:00",
          "1986-07-01T00:00:00",
          "1986-08-01T00:00:00",
          "1986-09-01T00:00:00",
          "1986-10-01T00:00:00",
          "1987-03-01T00:00:00",
          "1987-05-01T00:00:00",
          "1987-06-01T00:00:00",
          "1987-07-01T00:00:00",
          "1987-08-01T00:00:00",
          "1987-09-01T00:00:00",
          "1988-01-01T00:00:00",
          "1988-04-01T00:00:00",
          "1988-05-01T00:00:00",
          "1988-06-01T00:00:00",
          "1988-07-01T00:00:00",
          "1988-08-01T00:00:00",
          "1988-09-01T00:00:00",
          "1988-10-01T00:00:00",
          "1988-11-01T00:00:00",
          "1988-12-01T00:00:00",
          "1989-01-01T00:00:00",
          "1989-02-01T00:00:00",
          "1989-03-01T00:00:00",
          "1989-04-01T00:00:00",
          "1989-05-01T00:00:00",
          "1989-06-01T00:00:00",
          "1989-07-01T00:00:00",
          "1989-08-01T00:00:00",
          "1989-09-01T00:00:00",
          "1989-10-01T00:00:00",
          "1989-11-01T00:00:00",
          "1989-12-01T00:00:00",
          "1990-01-01T00:00:00",
          "1990-03-01T00:00:00",
          "1990-04-01T00:00:00",
          "1990-05-01T00:00:00",
          "1990-06-01T00:00:00",
          "1990-07-01T00:00:00",
          "1990-08-01T00:00:00",
          "1990-09-01T00:00:00",
          "1991-05-01T00:00:00",
          "1991-06-01T00:00:00",
          "1991-07-01T00:00:00",
          "1991-08-01T00:00:00",
          "1991-09-01T00:00:00",
          "1991-10-01T00:00:00",
          "1991-12-01T00:00:00",
          "1992-01-01T00:00:00",
          "1992-03-01T00:00:00",
          "1992-04-01T00:00:00",
          "1992-05-01T00:00:00",
          "1992-06-01T00:00:00",
          "1992-07-01T00:00:00",
          "1992-08-01T00:00:00",
          "1992-09-01T00:00:00",
          "1992-10-01T00:00:00",
          "1992-11-01T00:00:00",
          "1992-12-01T00:00:00",
          "1993-01-01T00:00:00",
          "1993-02-01T00:00:00",
          "1993-03-01T00:00:00",
          "1993-04-01T00:00:00",
          "1993-05-01T00:00:00",
          "1993-06-01T00:00:00",
          "1993-07-01T00:00:00",
          "1993-08-01T00:00:00",
          "1993-09-01T00:00:00",
          "1993-12-01T00:00:00",
          "1994-01-01T00:00:00",
          "1994-02-01T00:00:00",
          "1994-03-01T00:00:00",
          "1994-04-01T00:00:00",
          "1994-05-01T00:00:00",
          "1994-06-01T00:00:00",
          "1994-07-01T00:00:00",
          "1994-08-01T00:00:00",
          "1994-09-01T00:00:00",
          "1994-10-01T00:00:00",
          "1994-11-01T00:00:00",
          "1994-12-01T00:00:00",
          "1995-02-01T00:00:00",
          "1995-03-01T00:00:00",
          "1995-04-01T00:00:00",
          "1995-05-01T00:00:00",
          "1995-06-01T00:00:00",
          "1995-07-01T00:00:00",
          "1995-08-01T00:00:00",
          "1995-09-01T00:00:00",
          "1995-10-01T00:00:00",
          "1995-11-01T00:00:00",
          "1996-01-01T00:00:00",
          "1996-03-01T00:00:00",
          "1996-04-01T00:00:00",
          "1996-05-01T00:00:00",
          "1996-06-01T00:00:00",
          "1996-07-01T00:00:00",
          "1996-08-01T00:00:00",
          "1996-09-01T00:00:00",
          "1996-10-01T00:00:00",
          "1996-11-01T00:00:00",
          "1996-12-01T00:00:00",
          "1997-03-01T00:00:00",
          "1997-04-01T00:00:00",
          "1997-05-01T00:00:00",
          "1997-06-01T00:00:00",
          "1997-07-01T00:00:00",
          "1997-08-01T00:00:00",
          "1997-09-01T00:00:00",
          "1997-10-01T00:00:00",
          "1997-11-01T00:00:00",
          "1998-01-01T00:00:00",
          "1998-02-01T00:00:00",
          "1998-03-01T00:00:00",
          "1998-04-01T00:00:00",
          "1998-05-01T00:00:00",
          "1998-06-01T00:00:00",
          "1998-07-01T00:00:00",
          "1998-08-01T00:00:00",
          "1998-09-01T00:00:00",
          "1998-10-01T00:00:00",
          "1998-11-01T00:00:00",
          "1998-12-01T00:00:00",
          "1999-01-01T00:00:00",
          "1999-02-01T00:00:00",
          "1999-03-01T00:00:00",
          "1999-04-01T00:00:00",
          "1999-05-01T00:00:00",
          "1999-06-01T00:00:00",
          "1999-07-01T00:00:00",
          "1999-08-01T00:00:00",
          "1999-09-01T00:00:00",
          "1999-10-01T00:00:00",
          "1999-11-01T00:00:00",
          "1999-12-01T00:00:00",
          "2000-01-01T00:00:00",
          "2000-02-01T00:00:00",
          "2000-03-01T00:00:00",
          "2000-04-01T00:00:00",
          "2000-05-01T00:00:00",
          "2000-06-01T00:00:00",
          "2000-07-01T00:00:00",
          "2000-08-01T00:00:00",
          "2000-09-01T00:00:00",
          "2000-10-01T00:00:00",
          "2000-11-01T00:00:00",
          "2000-12-01T00:00:00",
          "2001-02-01T00:00:00",
          "2001-03-01T00:00:00",
          "2001-04-01T00:00:00",
          "2001-05-01T00:00:00",
          "2001-06-01T00:00:00",
          "2001-07-01T00:00:00",
          "2001-08-01T00:00:00",
          "2001-09-01T00:00:00",
          "2001-10-01T00:00:00",
          "2001-11-01T00:00:00",
          "2001-12-01T00:00:00",
          "2002-01-01T00:00:00",
          "2002-02-01T00:00:00",
          "2002-03-01T00:00:00",
          "2002-04-01T00:00:00",
          "2002-05-01T00:00:00",
          "2002-06-01T00:00:00",
          "2002-07-01T00:00:00",
          "2002-08-01T00:00:00",
          "2002-09-01T00:00:00",
          "2002-10-01T00:00:00",
          "2002-11-01T00:00:00",
          "2002-12-01T00:00:00",
          "2003-01-01T00:00:00",
          "2003-02-01T00:00:00",
          "2003-03-01T00:00:00",
          "2003-04-01T00:00:00",
          "2003-05-01T00:00:00",
          "2003-06-01T00:00:00",
          "2003-07-01T00:00:00",
          "2003-08-01T00:00:00",
          "2003-09-01T00:00:00",
          "2003-10-01T00:00:00",
          "2003-11-01T00:00:00",
          "2004-01-01T00:00:00",
          "2004-03-01T00:00:00",
          "2004-04-01T00:00:00",
          "2004-05-01T00:00:00",
          "2004-06-01T00:00:00",
          "2004-07-01T00:00:00",
          "2004-08-01T00:00:00",
          "2004-09-01T00:00:00",
          "2004-10-01T00:00:00",
          "2004-11-01T00:00:00",
          "2004-12-01T00:00:00",
          "2005-01-01T00:00:00",
          "2005-02-01T00:00:00",
          "2005-03-01T00:00:00",
          "2005-04-01T00:00:00",
          "2005-05-01T00:00:00",
          "2005-06-01T00:00:00",
          "2005-07-01T00:00:00",
          "2005-08-01T00:00:00",
          "2005-09-01T00:00:00",
          "2005-10-01T00:00:00",
          "2005-11-01T00:00:00",
          "2005-12-01T00:00:00",
          "2006-01-01T00:00:00",
          "2006-02-01T00:00:00",
          "2006-03-01T00:00:00",
          "2006-04-01T00:00:00",
          "2006-05-01T00:00:00",
          "2006-06-01T00:00:00",
          "2006-07-01T00:00:00",
          "2006-08-01T00:00:00",
          "2006-09-01T00:00:00",
          "2006-10-01T00:00:00",
          "2006-11-01T00:00:00",
          "2006-12-01T00:00:00",
          "2007-01-01T00:00:00",
          "2007-02-01T00:00:00",
          "2007-04-01T00:00:00",
          "2007-05-01T00:00:00",
          "2007-06-01T00:00:00",
          "2007-07-01T00:00:00",
          "2007-08-01T00:00:00",
          "2007-09-01T00:00:00",
          "2007-10-01T00:00:00",
          "2007-11-01T00:00:00",
          "2007-12-01T00:00:00",
          "2008-01-01T00:00:00",
          "2008-02-01T00:00:00",
          "2008-03-01T00:00:00",
          "2008-04-01T00:00:00",
          "2008-05-01T00:00:00",
          "2008-06-01T00:00:00",
          "2008-07-01T00:00:00",
          "2008-08-01T00:00:00",
          "2008-09-01T00:00:00",
          "2008-10-01T00:00:00",
          "2008-11-01T00:00:00",
          "2009-01-01T00:00:00",
          "2009-02-01T00:00:00",
          "2009-03-01T00:00:00",
          "2009-04-01T00:00:00",
          "2009-05-01T00:00:00",
          "2009-06-01T00:00:00",
          "2009-07-01T00:00:00",
          "2009-08-01T00:00:00",
          "2009-09-01T00:00:00",
          "2009-10-01T00:00:00",
          "2009-11-01T00:00:00",
          "2009-12-01T00:00:00",
          "2010-01-01T00:00:00",
          "2010-02-01T00:00:00",
          "2010-03-01T00:00:00",
          "2010-04-01T00:00:00",
          "2010-05-01T00:00:00",
          "2010-06-01T00:00:00",
          "2010-07-01T00:00:00",
          "2010-08-01T00:00:00",
          "2010-09-01T00:00:00",
          "2010-10-01T00:00:00",
          "2010-11-01T00:00:00",
          "2010-12-01T00:00:00",
          "2011-01-01T00:00:00",
          "2011-03-01T00:00:00",
          "2011-04-01T00:00:00",
          "2011-05-01T00:00:00",
          "2011-06-01T00:00:00",
          "2011-07-01T00:00:00",
          "2011-08-01T00:00:00",
          "2011-09-01T00:00:00",
          "2011-10-01T00:00:00",
          "2011-11-01T00:00:00",
          "2012-02-01T00:00:00",
          "2012-03-01T00:00:00",
          "2012-04-01T00:00:00",
          "2012-05-01T00:00:00",
          "2012-06-01T00:00:00",
          "2012-07-01T00:00:00",
          "2012-08-01T00:00:00",
          "2012-09-01T00:00:00",
          "2012-10-01T00:00:00",
          "2012-11-01T00:00:00",
          "2012-12-01T00:00:00",
          "2013-01-01T00:00:00",
          "2013-03-01T00:00:00",
          "2013-04-01T00:00:00",
          "2013-05-01T00:00:00",
          "2013-06-01T00:00:00",
          "2013-07-01T00:00:00",
          "2013-08-01T00:00:00",
          "2013-09-01T00:00:00",
          "2013-10-01T00:00:00",
          "2013-11-01T00:00:00",
          "2013-12-01T00:00:00",
          "2014-01-01T00:00:00",
          "2014-02-01T00:00:00",
          "2014-03-01T00:00:00",
          "2014-04-01T00:00:00",
          "2014-05-01T00:00:00",
          "2014-06-01T00:00:00",
          "2014-07-01T00:00:00",
          "2014-08-01T00:00:00",
          "2014-09-01T00:00:00",
          "2014-10-01T00:00:00",
          "2014-11-01T00:00:00",
          "2014-12-01T00:00:00",
          "2015-01-01T00:00:00",
          "2015-02-01T00:00:00",
          "2015-03-01T00:00:00",
          "2015-04-01T00:00:00",
          "2015-05-01T00:00:00",
          "2015-06-01T00:00:00",
          "2015-07-01T00:00:00",
          "2015-08-01T00:00:00",
          "2015-09-01T00:00:00",
          "2015-10-01T00:00:00",
          "2015-11-01T00:00:00",
          "2015-12-01T00:00:00",
          "2016-01-01T00:00:00",
          "2016-02-01T00:00:00",
          "2016-03-01T00:00:00",
          "2016-04-01T00:00:00",
          "2016-05-01T00:00:00",
          "2016-06-01T00:00:00",
          "2016-07-01T00:00:00",
          "2016-08-01T00:00:00",
          "2016-09-01T00:00:00",
          "2016-10-01T00:00:00",
          "2016-11-01T00:00:00",
          "2016-12-01T00:00:00",
          "2017-01-01T00:00:00",
          "2017-02-01T00:00:00",
          "2017-03-01T00:00:00",
          "2017-04-01T00:00:00",
          "2017-05-01T00:00:00",
          "2017-06-01T00:00:00",
          "2017-07-01T00:00:00",
          "2017-08-01T00:00:00",
          "2017-09-01T00:00:00",
          "2017-10-01T00:00:00",
          "2017-11-01T00:00:00",
          "2017-12-01T00:00:00",
          "2018-01-01T00:00:00",
          "2018-02-01T00:00:00",
          "2018-03-01T00:00:00",
          "2018-04-01T00:00:00",
          "2018-05-01T00:00:00",
          "2018-06-01T00:00:00",
          "2018-07-01T00:00:00",
          "2018-08-01T00:00:00",
          "2018-09-01T00:00:00",
          "2018-10-01T00:00:00",
          "2018-11-01T00:00:00",
          "2018-12-01T00:00:00",
          "2019-01-01T00:00:00",
          "2019-02-01T00:00:00",
          "2019-03-01T00:00:00",
          "2019-04-01T00:00:00",
          "2019-05-01T00:00:00",
          "2019-06-01T00:00:00",
          "2019-07-01T00:00:00",
          "2019-08-01T00:00:00",
          "2019-09-01T00:00:00",
          "2019-10-01T00:00:00",
          "2019-11-01T00:00:00",
          "2019-12-01T00:00:00",
          "2020-01-01T00:00:00",
          "2020-02-01T00:00:00",
          "2020-03-01T00:00:00",
          "2020-04-01T00:00:00",
          "2020-05-01T00:00:00",
          "2020-06-01T00:00:00",
          "2020-07-01T00:00:00",
          "2020-08-01T00:00:00",
          "2020-09-01T00:00:00",
          "2020-10-01T00:00:00",
          "2020-11-01T00:00:00",
          "2020-12-01T00:00:00",
          "2021-01-01T00:00:00",
          "2021-02-01T00:00:00",
          "2021-03-01T00:00:00",
          "2021-04-01T00:00:00",
          "2021-05-01T00:00:00",
          "2021-06-01T00:00:00",
          "2021-07-01T00:00:00",
          "2021-08-01T00:00:00",
          "2021-09-01T00:00:00",
          "2021-10-01T00:00:00",
          "2021-11-01T00:00:00",
          "2021-12-01T00:00:00"
         ],
         "xaxis": "x",
         "y": [
          10.7,
          12.5,
          16.3,
          17.2,
          19.1,
          15.200000000000001,
          16.3,
          16.2,
          8.1,
          9.906617647058823,
          16.616523867809057,
          21.50467032967033,
          17.7,
          14.026422764227643,
          8.714814814814813,
          2.5,
          5.667435158501441,
          7.858419958419959,
          13.492558139534886,
          16.461679790026245,
          15.833770491803277,
          11.662085308056872,
          8.816022099447514,
          5.583018867924529,
          1.7,
          11.1,
          13.799999999999999,
          7.4,
          14.3,
          16.02,
          17.7,
          17.03333333333333,
          13.5,
          10.2,
          -9.5,
          13.8,
          17.38859060402684,
          21.27421875,
          16.838461538461537,
          16.838461538461537,
          4,
          11.8,
          11.356552962298025,
          13.16096954630205,
          18.186475409836067,
          17.522199798183653,
          14.44802110817942,
          9.948275862068966,
          5.5827956989247305,
          5.2,
          3.3,
          5.7,
          10,
          7.883478260869565,
          14.428571428571429,
          16.383150605885746,
          20.631028938906752,
          19.773039215686275,
          14.917445482866043,
          10.692526690391459,
          7.3,
          4.1,
          2.4,
          10.5,
          10.7,
          16.64282560706402,
          16.95320512820513,
          22.3,
          20.759090909090908,
          14.8,
          0.2619142572283151,
          5.020529801324503,
          14.54047619047619,
          13.317534942820838,
          16.085714285714285,
          9.3,
          0.5,
          -0.1,
          -0.3749999999999999,
          8.75,
          12.833050847457626,
          13.328057553956834,
          16.712987012987014,
          17.29009009009009,
          14.361538461538462,
          8.9,
          7.4,
          2,
          1.1333333333333335,
          -7,
          5.2,
          10.6,
          12.646031746031747,
          14.516101694915253,
          14.301724137931034,
          15.375862068965516,
          13.9,
          3.858333333333333,
          3,
          2.566666666666667,
          8.49479768786127,
          7.228571428571429,
          10.553537629562866,
          14.157103235747304,
          19.02702366127024,
          17.888829787234044,
          12.013471502590674,
          8.124,
          7.800000000000001,
          3.12,
          2.5333333333333337,
          3.7,
          9.426470588235293,
          12.59856670341786,
          15.121802679658952,
          20.696350364963504,
          18.493541666666665,
          12.850160771704179,
          13.134934497816595,
          4.364864864864865,
          -0.012500000000000011,
          1.45,
          10.08638014527845,
          12.583381088825215,
          17.320449812578094,
          17.72462686567164,
          17.336295369211513,
          11.67361111111111,
          9.496103896103897,
          4.767763157894737,
          0.2,
          7.279999999999999,
          6.5336867862969,
          12.091350446428573,
          14.157927247769388,
          14.62979704797048,
          17.022153846153845,
          13.010560344827587,
          8.0875,
          4.8999999999999995,
          1.8,
          6.010256410256409,
          8.606741573033707,
          1.3885558583106268,
          10.943047034764826,
          14.907164634146342,
          18.285227272727273,
          9.73781512605042,
          6.063448275862069,
          12.22,
          3,
          1.1333333333333335,
          2,
          -0.5,
          6,
          4.327551020408163,
          13.110679048171795,
          12.364316023439077,
          18.653361344537814,
          18.58653846153846,
          17.396610169491527,
          10.4856,
          3.4,
          -4.6,
          0.26666666666666666,
          4.3,
          6.266666666666667,
          6.860919540229885,
          12.493171697179614,
          15.125035561877667,
          20.33421052631579,
          18.545695364238412,
          17.675,
          8.528571428571428,
          6.4,
          4.279999999999999,
          3.7,
          7.15,
          3.979899497487437,
          12.75428893905192,
          12.354801324503311,
          15.618819188191882,
          16.098722044728433,
          9.185294117647059,
          13.5,
          2.7,
          -0.3,
          0.65,
          5.575,
          10.031578947368422,
          12.008571428571429,
          12.904716981132076,
          18.52577447335812,
          14.780371352785146,
          13.667114093959732,
          11.665217391304347,
          4.7682926829268295,
          6.5,
          0.45999999999999996,
          -0.6,
          -2,
          7.2,
          1.120441988950276,
          12.201314924391848,
          20.008681925808997,
          18.431257783312578,
          18.083050847457628,
          10.835006605019814,
          1.8432835820895523,
          5.4,
          1.9,
          4.8,
          11.313157894736841,
          12.42170542635659,
          17.117774086378738,
          17.876095617529884,
          13.015662650602408,
          16.240123456790123,
          11.304918032786885,
          1.7285714285714284,
          -3.4,
          1.8,
          -0.4666666666666667,
          5.328571428571428,
          10.430718954248366,
          10.191336032388664,
          16.29697601668405,
          15.800788954635108,
          12.574643874643874,
          12.081648936170213,
          6.861007462686567,
          4.768965517241378,
          0.8000000000000002,
          -1.4727272727272727,
          0.9230769230769231,
          4.5,
          9.854545454545455,
          14.374401473296501,
          18.395107033639142,
          23.60105263157895,
          15.255792682926831,
          17.8681592039801,
          13.561878453038673,
          7.854794520547945,
          2.5,
          5.15,
          6.4,
          8.488888888888889,
          10.333333333333334,
          15.994366197183098,
          12.817647058823528,
          12.54782608695652,
          13.867058823529412,
          10.185164835164835,
          4.3,
          2.1,
          4.3,
          4.794545454545455,
          6.2,
          9.3,
          15.927555555555557,
          18.044239631336406,
          19.524293785310736,
          17.893582887700536,
          9.223809523809525,
          8.790909090909091,
          5.8,
          -0.8,
          0.4,
          4.2,
          12.032530120481928,
          15.234653465346534,
          16.234375,
          16.805,
          14.741666666666667,
          13.833333333333334,
          9.571428571428571,
          7.2,
          1.1,
          -1.9,
          0.9,
          5.158851674641149,
          11.101604278074866,
          12.495098039215685,
          16.7663421418637,
          19.231917475728157,
          16.490747330960858,
          12.753191489361702,
          9.5275,
          5.959615384615384,
          -1.5666666666666667,
          0.5,
          7.4,
          12.1,
          15.755778894472362,
          17.362135922330097,
          11.047368421052632,
          19.24705882352941,
          16.41875,
          4.083333333333333,
          5.1,
          -4.9,
          7.7749999999999995,
          9.700000000000001,
          13.322857142857144,
          16.165000000000003,
          15.231007751937986,
          17.12511627906977,
          10.96896551724138,
          8.091304347826087,
          5.8,
          2.4400000000000004,
          -1.0166666666666668,
          0.96,
          9.054545454545455,
          7.419512195121951,
          14.756744186046511,
          19.68777777777778,
          16.164462809917357,
          13.603508771929825,
          9.986956521739131,
          3.75,
          2.566666666666667,
          2.085714285714286,
          4.945161290322581,
          7.300000000000001,
          11.938461538461537,
          11.153846153846153,
          15.473684210526315,
          14.194416243654821,
          14.8235,
          12.2864406779661,
          9.741935483870968,
          5.05,
          2.5833333333333335,
          0.3000000000000001,
          -1.1,
          6.85,
          9.738095238095237,
          11.827118644067795,
          13.713235294117647,
          18.358,
          16.176470588235293,
          9.110526315789473,
          5.6,
          8.25,
          3.95,
          -1.02,
          2.7,
          -0.3799999999999999,
          9.5,
          9.461538461538462,
          12.663087248322148,
          17.24137931034483,
          16.797435897435896,
          13.552941176470588,
          4.769767441860465,
          1.17027027027027,
          -0.8933333333333333,
          -6.708333333333333,
          -1.1136363636363635,
          5.652941176470588,
          6.173333333333334,
          14.359349593495935,
          18.803806228373702,
          16.575324675324676,
          18.25401459854015,
          7.748514851485149,
          8.847619047619048,
          2.2363636363636363,
          0.02499999999999991,
          2.6,
          -5.475,
          3.0625,
          7.175,
          11.861643835616437,
          17.939672801635993,
          20.240413533834587,
          18.084810126582276,
          14.238,
          9.63076923076923,
          5.409090909090909,
          2.085714285714286,
          -1.8333333333333333,
          2.5928571428571425,
          7.665714285714285,
          9.570796460176991,
          10.309574468085106,
          18.01988950276243,
          17.494573643410853,
          16.670731707317074,
          12.472049689440993,
          9.315151515151515,
          2.7,
          1.9000000000000001,
          1.0333333333333334,
          4.22,
          4.905,
          9.4734375,
          11.622764227642275,
          14.747142857142856,
          15.105147058823531,
          17.615625,
          14.450617283950617,
          8.35625,
          5.538888888888889,
          0.5142857142857143,
          -1.0416666666666667,
          3.195,
          5.008695652173913,
          7.224444444444445,
          7.971794871794871,
          17.07721518987342,
          13.6,
          16.433333333333334,
          14.330985915492958,
          7.6066666666666665,
          3.12,
          -4.2
         ],
         "yaxis": "y"
        },
        {
         "mode": "lines",
         "name": "Temperature (Moving Average 10)",
         "type": "scatter",
         "x": [
          "1981-04-01T00:00:00",
          "1981-05-01T00:00:00",
          "1981-06-01T00:00:00",
          "1981-07-01T00:00:00",
          "1981-08-01T00:00:00",
          "1981-09-01T00:00:00",
          "1982-08-01T00:00:00",
          "1982-09-01T00:00:00",
          "1983-04-01T00:00:00",
          "1983-05-01T00:00:00",
          "1983-06-01T00:00:00",
          "1983-07-01T00:00:00",
          "1983-08-01T00:00:00",
          "1983-09-01T00:00:00",
          "1983-10-01T00:00:00",
          "1983-11-01T00:00:00",
          "1984-04-01T00:00:00",
          "1984-05-01T00:00:00",
          "1984-06-01T00:00:00",
          "1984-07-01T00:00:00",
          "1984-08-01T00:00:00",
          "1984-09-01T00:00:00",
          "1984-10-01T00:00:00",
          "1984-11-01T00:00:00",
          "1984-12-01T00:00:00",
          "1985-04-01T00:00:00",
          "1985-05-01T00:00:00",
          "1985-08-01T00:00:00",
          "1986-05-01T00:00:00",
          "1986-06-01T00:00:00",
          "1986-07-01T00:00:00",
          "1986-08-01T00:00:00",
          "1986-09-01T00:00:00",
          "1986-10-01T00:00:00",
          "1987-03-01T00:00:00",
          "1987-05-01T00:00:00",
          "1987-06-01T00:00:00",
          "1987-07-01T00:00:00",
          "1987-08-01T00:00:00",
          "1987-09-01T00:00:00",
          "1988-01-01T00:00:00",
          "1988-04-01T00:00:00",
          "1988-05-01T00:00:00",
          "1988-06-01T00:00:00",
          "1988-07-01T00:00:00",
          "1988-08-01T00:00:00",
          "1988-09-01T00:00:00",
          "1988-10-01T00:00:00",
          "1988-11-01T00:00:00",
          "1988-12-01T00:00:00",
          "1989-01-01T00:00:00",
          "1989-02-01T00:00:00",
          "1989-03-01T00:00:00",
          "1989-04-01T00:00:00",
          "1989-05-01T00:00:00",
          "1989-06-01T00:00:00",
          "1989-07-01T00:00:00",
          "1989-08-01T00:00:00",
          "1989-09-01T00:00:00",
          "1989-10-01T00:00:00",
          "1989-11-01T00:00:00",
          "1989-12-01T00:00:00",
          "1990-01-01T00:00:00",
          "1990-03-01T00:00:00",
          "1990-04-01T00:00:00",
          "1990-05-01T00:00:00",
          "1990-06-01T00:00:00",
          "1990-07-01T00:00:00",
          "1990-08-01T00:00:00",
          "1990-09-01T00:00:00",
          "1991-05-01T00:00:00",
          "1991-06-01T00:00:00",
          "1991-07-01T00:00:00",
          "1991-08-01T00:00:00",
          "1991-09-01T00:00:00",
          "1991-10-01T00:00:00",
          "1991-12-01T00:00:00",
          "1992-01-01T00:00:00",
          "1992-03-01T00:00:00",
          "1992-04-01T00:00:00",
          "1992-05-01T00:00:00",
          "1992-06-01T00:00:00",
          "1992-07-01T00:00:00",
          "1992-08-01T00:00:00",
          "1992-09-01T00:00:00",
          "1992-10-01T00:00:00",
          "1992-11-01T00:00:00",
          "1992-12-01T00:00:00",
          "1993-01-01T00:00:00",
          "1993-02-01T00:00:00",
          "1993-03-01T00:00:00",
          "1993-04-01T00:00:00",
          "1993-05-01T00:00:00",
          "1993-06-01T00:00:00",
          "1993-07-01T00:00:00",
          "1993-08-01T00:00:00",
          "1993-09-01T00:00:00",
          "1993-12-01T00:00:00",
          "1994-01-01T00:00:00",
          "1994-02-01T00:00:00",
          "1994-03-01T00:00:00",
          "1994-04-01T00:00:00",
          "1994-05-01T00:00:00",
          "1994-06-01T00:00:00",
          "1994-07-01T00:00:00",
          "1994-08-01T00:00:00",
          "1994-09-01T00:00:00",
          "1994-10-01T00:00:00",
          "1994-11-01T00:00:00",
          "1994-12-01T00:00:00",
          "1995-02-01T00:00:00",
          "1995-03-01T00:00:00",
          "1995-04-01T00:00:00",
          "1995-05-01T00:00:00",
          "1995-06-01T00:00:00",
          "1995-07-01T00:00:00",
          "1995-08-01T00:00:00",
          "1995-09-01T00:00:00",
          "1995-10-01T00:00:00",
          "1995-11-01T00:00:00",
          "1996-01-01T00:00:00",
          "1996-03-01T00:00:00",
          "1996-04-01T00:00:00",
          "1996-05-01T00:00:00",
          "1996-06-01T00:00:00",
          "1996-07-01T00:00:00",
          "1996-08-01T00:00:00",
          "1996-09-01T00:00:00",
          "1996-10-01T00:00:00",
          "1996-11-01T00:00:00",
          "1996-12-01T00:00:00",
          "1997-03-01T00:00:00",
          "1997-04-01T00:00:00",
          "1997-05-01T00:00:00",
          "1997-06-01T00:00:00",
          "1997-07-01T00:00:00",
          "1997-08-01T00:00:00",
          "1997-09-01T00:00:00",
          "1997-10-01T00:00:00",
          "1997-11-01T00:00:00",
          "1998-01-01T00:00:00",
          "1998-02-01T00:00:00",
          "1998-03-01T00:00:00",
          "1998-04-01T00:00:00",
          "1998-05-01T00:00:00",
          "1998-06-01T00:00:00",
          "1998-07-01T00:00:00",
          "1998-08-01T00:00:00",
          "1998-09-01T00:00:00",
          "1998-10-01T00:00:00",
          "1998-11-01T00:00:00",
          "1998-12-01T00:00:00",
          "1999-01-01T00:00:00",
          "1999-02-01T00:00:00",
          "1999-03-01T00:00:00",
          "1999-04-01T00:00:00",
          "1999-05-01T00:00:00",
          "1999-06-01T00:00:00",
          "1999-07-01T00:00:00",
          "1999-08-01T00:00:00",
          "1999-09-01T00:00:00",
          "1999-10-01T00:00:00",
          "1999-11-01T00:00:00",
          "1999-12-01T00:00:00",
          "2000-01-01T00:00:00",
          "2000-02-01T00:00:00",
          "2000-03-01T00:00:00",
          "2000-04-01T00:00:00",
          "2000-05-01T00:00:00",
          "2000-06-01T00:00:00",
          "2000-07-01T00:00:00",
          "2000-08-01T00:00:00",
          "2000-09-01T00:00:00",
          "2000-10-01T00:00:00",
          "2000-11-01T00:00:00",
          "2000-12-01T00:00:00",
          "2001-02-01T00:00:00",
          "2001-03-01T00:00:00",
          "2001-04-01T00:00:00",
          "2001-05-01T00:00:00",
          "2001-06-01T00:00:00",
          "2001-07-01T00:00:00",
          "2001-08-01T00:00:00",
          "2001-09-01T00:00:00",
          "2001-10-01T00:00:00",
          "2001-11-01T00:00:00",
          "2001-12-01T00:00:00",
          "2002-01-01T00:00:00",
          "2002-02-01T00:00:00",
          "2002-03-01T00:00:00",
          "2002-04-01T00:00:00",
          "2002-05-01T00:00:00",
          "2002-06-01T00:00:00",
          "2002-07-01T00:00:00",
          "2002-08-01T00:00:00",
          "2002-09-01T00:00:00",
          "2002-10-01T00:00:00",
          "2002-11-01T00:00:00",
          "2002-12-01T00:00:00",
          "2003-01-01T00:00:00",
          "2003-02-01T00:00:00",
          "2003-03-01T00:00:00",
          "2003-04-01T00:00:00",
          "2003-05-01T00:00:00",
          "2003-06-01T00:00:00",
          "2003-07-01T00:00:00",
          "2003-08-01T00:00:00",
          "2003-09-01T00:00:00",
          "2003-10-01T00:00:00",
          "2003-11-01T00:00:00",
          "2004-01-01T00:00:00",
          "2004-03-01T00:00:00",
          "2004-04-01T00:00:00",
          "2004-05-01T00:00:00",
          "2004-06-01T00:00:00",
          "2004-07-01T00:00:00",
          "2004-08-01T00:00:00",
          "2004-09-01T00:00:00",
          "2004-10-01T00:00:00",
          "2004-11-01T00:00:00",
          "2004-12-01T00:00:00",
          "2005-01-01T00:00:00",
          "2005-02-01T00:00:00",
          "2005-03-01T00:00:00",
          "2005-04-01T00:00:00",
          "2005-05-01T00:00:00",
          "2005-06-01T00:00:00",
          "2005-07-01T00:00:00",
          "2005-08-01T00:00:00",
          "2005-09-01T00:00:00",
          "2005-10-01T00:00:00",
          "2005-11-01T00:00:00",
          "2005-12-01T00:00:00",
          "2006-01-01T00:00:00",
          "2006-02-01T00:00:00",
          "2006-03-01T00:00:00",
          "2006-04-01T00:00:00",
          "2006-05-01T00:00:00",
          "2006-06-01T00:00:00",
          "2006-07-01T00:00:00",
          "2006-08-01T00:00:00",
          "2006-09-01T00:00:00",
          "2006-10-01T00:00:00",
          "2006-11-01T00:00:00",
          "2006-12-01T00:00:00",
          "2007-01-01T00:00:00",
          "2007-02-01T00:00:00",
          "2007-04-01T00:00:00",
          "2007-05-01T00:00:00",
          "2007-06-01T00:00:00",
          "2007-07-01T00:00:00",
          "2007-08-01T00:00:00",
          "2007-09-01T00:00:00",
          "2007-10-01T00:00:00",
          "2007-11-01T00:00:00",
          "2007-12-01T00:00:00",
          "2008-01-01T00:00:00",
          "2008-02-01T00:00:00",
          "2008-03-01T00:00:00",
          "2008-04-01T00:00:00",
          "2008-05-01T00:00:00",
          "2008-06-01T00:00:00",
          "2008-07-01T00:00:00",
          "2008-08-01T00:00:00",
          "2008-09-01T00:00:00",
          "2008-10-01T00:00:00",
          "2008-11-01T00:00:00",
          "2009-01-01T00:00:00",
          "2009-02-01T00:00:00",
          "2009-03-01T00:00:00",
          "2009-04-01T00:00:00",
          "2009-05-01T00:00:00",
          "2009-06-01T00:00:00",
          "2009-07-01T00:00:00",
          "2009-08-01T00:00:00",
          "2009-09-01T00:00:00",
          "2009-10-01T00:00:00",
          "2009-11-01T00:00:00",
          "2009-12-01T00:00:00",
          "2010-01-01T00:00:00",
          "2010-02-01T00:00:00",
          "2010-03-01T00:00:00",
          "2010-04-01T00:00:00",
          "2010-05-01T00:00:00",
          "2010-06-01T00:00:00",
          "2010-07-01T00:00:00",
          "2010-08-01T00:00:00",
          "2010-09-01T00:00:00",
          "2010-10-01T00:00:00",
          "2010-11-01T00:00:00",
          "2010-12-01T00:00:00",
          "2011-01-01T00:00:00",
          "2011-03-01T00:00:00",
          "2011-04-01T00:00:00",
          "2011-05-01T00:00:00",
          "2011-06-01T00:00:00",
          "2011-07-01T00:00:00",
          "2011-08-01T00:00:00",
          "2011-09-01T00:00:00",
          "2011-10-01T00:00:00",
          "2011-11-01T00:00:00",
          "2012-02-01T00:00:00",
          "2012-03-01T00:00:00",
          "2012-04-01T00:00:00",
          "2012-05-01T00:00:00",
          "2012-06-01T00:00:00",
          "2012-07-01T00:00:00",
          "2012-08-01T00:00:00",
          "2012-09-01T00:00:00",
          "2012-10-01T00:00:00",
          "2012-11-01T00:00:00",
          "2012-12-01T00:00:00",
          "2013-01-01T00:00:00",
          "2013-03-01T00:00:00",
          "2013-04-01T00:00:00",
          "2013-05-01T00:00:00",
          "2013-06-01T00:00:00",
          "2013-07-01T00:00:00",
          "2013-08-01T00:00:00",
          "2013-09-01T00:00:00",
          "2013-10-01T00:00:00",
          "2013-11-01T00:00:00",
          "2013-12-01T00:00:00",
          "2014-01-01T00:00:00",
          "2014-02-01T00:00:00",
          "2014-03-01T00:00:00",
          "2014-04-01T00:00:00",
          "2014-05-01T00:00:00",
          "2014-06-01T00:00:00",
          "2014-07-01T00:00:00",
          "2014-08-01T00:00:00",
          "2014-09-01T00:00:00",
          "2014-10-01T00:00:00",
          "2014-11-01T00:00:00",
          "2014-12-01T00:00:00",
          "2015-01-01T00:00:00",
          "2015-02-01T00:00:00",
          "2015-03-01T00:00:00",
          "2015-04-01T00:00:00",
          "2015-05-01T00:00:00",
          "2015-06-01T00:00:00",
          "2015-07-01T00:00:00",
          "2015-08-01T00:00:00",
          "2015-09-01T00:00:00",
          "2015-10-01T00:00:00",
          "2015-11-01T00:00:00",
          "2015-12-01T00:00:00",
          "2016-01-01T00:00:00",
          "2016-02-01T00:00:00",
          "2016-03-01T00:00:00",
          "2016-04-01T00:00:00",
          "2016-05-01T00:00:00",
          "2016-06-01T00:00:00",
          "2016-07-01T00:00:00",
          "2016-08-01T00:00:00",
          "2016-09-01T00:00:00",
          "2016-10-01T00:00:00",
          "2016-11-01T00:00:00",
          "2016-12-01T00:00:00",
          "2017-01-01T00:00:00",
          "2017-02-01T00:00:00",
          "2017-03-01T00:00:00",
          "2017-04-01T00:00:00",
          "2017-05-01T00:00:00",
          "2017-06-01T00:00:00",
          "2017-07-01T00:00:00",
          "2017-08-01T00:00:00",
          "2017-09-01T00:00:00",
          "2017-10-01T00:00:00",
          "2017-11-01T00:00:00",
          "2017-12-01T00:00:00",
          "2018-01-01T00:00:00",
          "2018-02-01T00:00:00",
          "2018-03-01T00:00:00",
          "2018-04-01T00:00:00",
          "2018-05-01T00:00:00",
          "2018-06-01T00:00:00",
          "2018-07-01T00:00:00",
          "2018-08-01T00:00:00",
          "2018-09-01T00:00:00",
          "2018-10-01T00:00:00",
          "2018-11-01T00:00:00",
          "2018-12-01T00:00:00",
          "2019-01-01T00:00:00",
          "2019-02-01T00:00:00",
          "2019-03-01T00:00:00",
          "2019-04-01T00:00:00",
          "2019-05-01T00:00:00",
          "2019-06-01T00:00:00",
          "2019-07-01T00:00:00",
          "2019-08-01T00:00:00",
          "2019-09-01T00:00:00",
          "2019-10-01T00:00:00",
          "2019-11-01T00:00:00",
          "2019-12-01T00:00:00",
          "2020-01-01T00:00:00",
          "2020-02-01T00:00:00",
          "2020-03-01T00:00:00",
          "2020-04-01T00:00:00",
          "2020-05-01T00:00:00",
          "2020-06-01T00:00:00",
          "2020-07-01T00:00:00",
          "2020-08-01T00:00:00",
          "2020-09-01T00:00:00",
          "2020-10-01T00:00:00",
          "2020-11-01T00:00:00",
          "2020-12-01T00:00:00",
          "2021-01-01T00:00:00",
          "2021-02-01T00:00:00",
          "2021-03-01T00:00:00",
          "2021-04-01T00:00:00",
          "2021-05-01T00:00:00",
          "2021-06-01T00:00:00",
          "2021-07-01T00:00:00",
          "2021-08-01T00:00:00",
          "2021-09-01T00:00:00",
          "2021-10-01T00:00:00",
          "2021-11-01T00:00:00",
          "2021-12-01T00:00:00"
         ],
         "xaxis": "x",
         "y": [
          null,
          null,
          null,
          null,
          null,
          14.150661764705882,
          14.74231415148679,
          15.64278118445382,
          15.782781184453821,
          15.465423460876588,
          14.426904942358068,
          13.156904942358068,
          12.09364845820821,
          11.259490454050207,
          11.798746268003693,
          12.454252482300436,
          12.37597714469986,
          11.391718642538512,
          10.503320852483267,
          9.658980462852954,
          8.957498981371472,
          9.817498981371472,
          10.630755465521329,
          10.584913469679332,
          10.665657655725843,
          10.621489676723218,
          10.808112627542892,
          11.345237430070537,
          11.813635220125786,
          12.275333333333332,
          11.155333333333333,
          11.425333333333333,
          11.784192393736017,
          13.171614268736016,
          13.425460422582171,
          13.507306576428324,
          12.137306576428326,
          11.613973243094991,
          11.399628539324794,
          11.695725493954999,
          14.464373034938607,
          14.836593014756971,
          14.542536065172229,
          13.409941776379124,
          12.284375192425447,
          11.12052903857929,
          11.05052903857929,
          10.44052903857929,
          10.30487374234949,
          9.77712461380624,
          9.401334215679777,
          9.287429296449986,
          9.90573007952272,
          10.88820641488445,
          11.821671393278582,
          12.370924062317727,
          12.770924062317727,
          12.610924062317727,
          11.850924062317727,
          12.11257623623077,
          11.739719093373626,
          11.765686593491456,
          11.397904212421292,
          11.650600290852664,
          12.234764833475152,
          12.645512164436006,
          11.941703590158836,
          12.033756570291287,
          13.247804189338904,
          13.52955768362099,
          14.06812911219242,
          13.333846551486015,
          11.688526038665504,
          9.448526038665504,
          7.335116947756413,
          6.730116947756413,
          7.987230606779344,
          8.817983382042579,
          9.03523446429366,
          9.432489979020584,
          9.260072396603004,
          9.220072396603003,
          9.910072396603002,
          10.120072396603003,
          10.270905729936336,
          8.695905729936337,
          7.932600645190573,
          7.65979488979489,
          7.253099363099364,
          6.97570052358188,
          6.969719091221137,
          7.617305298117688,
          8.267305298117687,
          8.453138631451022,
          8.63980529811769,
          9.596471964784355,
          9.925951733570482,
          9.588808876427624,
          9.379559464780737,
          9.343659618863942,
          9.816189571197864,
          10.067486343024715,
          9.878833493283782,
          10.305400159950448,
          10.785400159950449,
          10.840733493283782,
          10.244587057830989,
          9.891729914973848,
          9.779023210841089,
          9.623169557608144,
          9.232647459447016,
          9.513399517219963,
          10.16140653362756,
          10.63402261079798,
          11.167516060579638,
          11.292002547066124,
          11.037419213732791,
          10.812419213732792,
          10.878410169437107,
          10.876891607977843,
          11.096756321269757,
          10.79958397134057,
          10.683859341595056,
          10.566204375535749,
          10.202321315364479,
          10.242611144667466,
          10.263861144667466,
          10.846861144667466,
          10.49159180876931,
          10.442388744529646,
          10.126136488048775,
          9.816653506278659,
          9.785239353972893,
          9.91893427734454,
          9.778073887734152,
          9.791297571944678,
          9.951297571944677,
          9.824323212970318,
          10.031628691643999,
          8.961349232832204,
          8.639861211531748,
          8.667597970149334,
          8.793905312806677,
          8.46663079092896,
          8.264225618515166,
          8.996225618515167,
          9.116225618515168,
          8.628533310822858,
          7.9678591535194885,
          7.7790035676884255,
          7.284698864211943,
          6.226737502838125,
          5.709282680382578,
          5.971932770121444,
          7.230924076989018,
          7.867577923142865,
          9.307238940092017,
          10.242465606758683,
          10.382465606758682,
          9.972465606758684,
          9.39913227342535,
          9.396377171384533,
          8.71197593323402,
          8.161636284913103,
          7.545617320177283,
          7.199467030211203,
          7.493227065893629,
          8.29923660231747,
          9.72673660231747,
          11.039593745174614,
          11.652927078507947,
          11.650927078507946,
          11.39426041184128,
          11.42316845781829,
          10.571841237849073,
          10.3347665755665,
          9.53682565538525,
          9.244138037780598,
          9.086510242253443,
          9.152182511161003,
          9.862182511161004,
          9.704182511161004,
          9.304182511161004,
          8.654182511161006,
          8.81369256141226,
          8.54142156224391,
          8.506798572650723,
          8.23538835194474,
          8.478093594807712,
          9.037601318321519,
          9.054312727717493,
          9.950834466847926,
          10.45766373514061,
          11.04266373514061,
          10.53116373514061,
          9.468005840403768,
          8.067148697546624,
          7.496676999433417,
          5.756143750992633,
          5.498238108153303,
          6.13239489133823,
          6.808998930539053,
          8.140474746992133,
          8.573975407494114,
          8.71230376570307,
          9.312303765703069,
          9.70230376570307,
          9.46230376570307,
          10.481575356281727,
          10.5036144064782,
          10.214523622535173,
          10.159007405956904,
          9.652268586271383,
          10.192780271448413,
          11.138943716518146,
          10.77180085937529,
          10.24180085937529,
          9.94180085937529,
          8.76381840323494,
          8.054505003456423,
          7.385799490243386,
          6.617323531729264,
          6.945454868337427,
          6.901521418121926,
          7.0284940023076246,
          8.063801753067503,
          9.089902499336159,
          9.386799051060297,
          9.513465717726964,
          8.833335847597095,
          7.882571644479951,
          7.313438041241083,
          6.669194985027223,
          6.526556236893365,
          7.108602552792891,
          8.260542922333764,
          9.100021444357791,
          10.409940813031664,
          11.68612865833553,
          12.618880837663053,
          12.77657314535536,
          12.84157314535536,
          12.496118599900814,
          11.907567341460053,
          11.101389971429471,
          10.340721327989886,
          10.096906765579558,
          9.5648734538772,
          9.595391490926271,
          9.828428522387963,
          10.008428522387963,
          9.703428522387961,
          9.493428522387962,
          9.123994178953618,
          8.710660845620286,
          8.041224225901976,
          8.352215075575177,
          8.901856430013165,
          9.4675799261913,
          10.23842173144487,
          10.730802683825821,
          11.399893592916731,
          11.54989359291673,
          10.990439047462186,
          10.410439047462186,
          9.900439047462184,
          9.510936503954822,
          9.229977887355835,
          8.900986008824763,
          8.792127720054708,
          9.343913434340422,
          9.848155858582846,
          10.225298715725703,
          11.025298715725702,
          11.095298715725704,
          10.485298715725703,
          9.37204570367751,
          8.364465524606972,
          7.851188452414459,
          7.420198256336027,
          7.62266580385573,
          8.162524218095212,
          8.854456094048441,
          9.409775242984612,
          10.252525242984612,
          11.03848678144615,
          10.791820114779483,
          10.325934947315368,
          9.955774519507882,
          9.916264715586312,
          9.81520839084718,
          9.628230235507374,
          9.083892344516551,
          9.733279077933322,
          10.422404077933322,
          10.234775872805118,
          10.901442539471784,
          10.361442539471785,
          10.398942539471783,
          10.158942539471784,
          9.915650364310261,
          9.795936772077251,
          10.214300705165787,
          10.002106450719822,
          9.457128002443962,
          9.857925103893235,
          9.927925103893237,
          10.661925103893235,
          9.78275843722657,
          8.90875843722657,
          8.4819272683954,
          7.607378487907596,
          7.559952131318449,
          7.816218281189249,
          8.335768010456846,
          8.88698845286722,
          9.305684105041134,
          9.436684105041135,
          9.795017438374469,
          9.907588866945897,
          9.496650450523608,
          9.484699231011414,
          9.202870966252915,
          8.349477803859754,
          8.28039994392065,
          8.33949069109315,
          8.823145038919236,
          9.676789106715848,
          10.394315988436276,
          10.690744559864847,
          10.454561764165923,
          9.754561764165924,
          8.450715610319769,
          8.020330994935154,
          7.446772097692045,
          7.210042337733344,
          7.099015867145108,
          7.706171799348499,
          8.34962530978493,
          8.755677941363878,
          9.057344608030544,
          9.852344608030545,
          10.357344608030544,
          9.570344608030545,
          8.866535084221022,
          7.6458232198142415,
          7.224499690402477,
          6.334853536556323,
          5.983515202565007,
          6.796600502020544,
          7.916344091764134,
          8.446638209411192,
          8.528614953597238,
          8.747641980624266,
          8.38830864729093,
          7.755475313957599,
          6.6941116775939635,
          6.313251949087175,
          5.664276557588294,
          5.376073585903404,
          5.576710618997185,
          5.878948968882594,
          7.227373684550562,
          7.88519814267205,
          8.859293380767287,
          9.753763077736986,
          9.867626714100622,
          9.562332596453563,
          8.39749926312023,
          7.267814303770637,
          6.104933680933266,
          5.633565596962442,
          5.602131417272027,
          6.85132128550697,
          7.775040393403293,
          8.97520402976693,
          9.935780952843853,
          10.216690043752944,
          10.972761472324372,
          10.483178138991038,
          10.024963853276752,
          9.605370898286537,
          8.768483264140638,
          7.775399357565689,
          7.768907295183705,
          8.094564659524789,
          8.798560907179574,
          9.504856785214582,
          10.227800508158305,
          10.68113384149164,
          10.611848127205926,
          9.94861003196783,
          9.41353038595013,
          8.87307293914162,
          8.018427738865377,
          7.43124679728852,
          7.238887912271098,
          7.502197649209352,
          8.3322449976942,
          9.507306726089261,
          10.15293172608926,
          10.603487281644817,
          10.232915853073388,
          9.638249186406721,
          9.010405436406721,
          8.348998578859886,
          7.596728737590044,
          6.8833935188871775,
          6.82955253787452,
          6.7444908094794584,
          7.552199142812792,
          8.431408845473198,
          9.140646940711296,
          9.55681360737796,
          8.817313607377962,
          null,
          null,
          null,
          null
         ],
         "yaxis": "y"
        },
        {
         "mode": "lines",
         "name": "Occurrences",
         "type": "scatter",
         "x": [
          "1981-04-01T00:00:00",
          "1981-05-01T00:00:00",
          "1981-06-01T00:00:00",
          "1981-07-01T00:00:00",
          "1981-08-01T00:00:00",
          "1981-09-01T00:00:00",
          "1982-08-01T00:00:00",
          "1982-09-01T00:00:00",
          "1983-04-01T00:00:00",
          "1983-05-01T00:00:00",
          "1983-06-01T00:00:00",
          "1983-07-01T00:00:00",
          "1983-08-01T00:00:00",
          "1983-09-01T00:00:00",
          "1983-10-01T00:00:00",
          "1983-11-01T00:00:00",
          "1984-04-01T00:00:00",
          "1984-05-01T00:00:00",
          "1984-06-01T00:00:00",
          "1984-07-01T00:00:00",
          "1984-08-01T00:00:00",
          "1984-09-01T00:00:00",
          "1984-10-01T00:00:00",
          "1984-11-01T00:00:00",
          "1984-12-01T00:00:00",
          "1985-04-01T00:00:00",
          "1985-05-01T00:00:00",
          "1985-08-01T00:00:00",
          "1986-05-01T00:00:00",
          "1986-06-01T00:00:00",
          "1986-07-01T00:00:00",
          "1986-08-01T00:00:00",
          "1986-09-01T00:00:00",
          "1986-10-01T00:00:00",
          "1987-03-01T00:00:00",
          "1987-05-01T00:00:00",
          "1987-06-01T00:00:00",
          "1987-07-01T00:00:00",
          "1987-08-01T00:00:00",
          "1987-09-01T00:00:00",
          "1988-01-01T00:00:00",
          "1988-04-01T00:00:00",
          "1988-05-01T00:00:00",
          "1988-06-01T00:00:00",
          "1988-07-01T00:00:00",
          "1988-08-01T00:00:00",
          "1988-09-01T00:00:00",
          "1988-10-01T00:00:00",
          "1988-11-01T00:00:00",
          "1988-12-01T00:00:00",
          "1989-01-01T00:00:00",
          "1989-02-01T00:00:00",
          "1989-03-01T00:00:00",
          "1989-04-01T00:00:00",
          "1989-05-01T00:00:00",
          "1989-06-01T00:00:00",
          "1989-07-01T00:00:00",
          "1989-08-01T00:00:00",
          "1989-09-01T00:00:00",
          "1989-10-01T00:00:00",
          "1989-11-01T00:00:00",
          "1989-12-01T00:00:00",
          "1990-01-01T00:00:00",
          "1990-03-01T00:00:00",
          "1990-04-01T00:00:00",
          "1990-05-01T00:00:00",
          "1990-06-01T00:00:00",
          "1990-07-01T00:00:00",
          "1990-08-01T00:00:00",
          "1990-09-01T00:00:00",
          "1991-05-01T00:00:00",
          "1991-06-01T00:00:00",
          "1991-07-01T00:00:00",
          "1991-08-01T00:00:00",
          "1991-09-01T00:00:00",
          "1991-10-01T00:00:00",
          "1991-12-01T00:00:00",
          "1992-01-01T00:00:00",
          "1992-03-01T00:00:00",
          "1992-04-01T00:00:00",
          "1992-05-01T00:00:00",
          "1992-06-01T00:00:00",
          "1992-07-01T00:00:00",
          "1992-08-01T00:00:00",
          "1992-09-01T00:00:00",
          "1992-10-01T00:00:00",
          "1992-11-01T00:00:00",
          "1992-12-01T00:00:00",
          "1993-01-01T00:00:00",
          "1993-02-01T00:00:00",
          "1993-03-01T00:00:00",
          "1993-04-01T00:00:00",
          "1993-05-01T00:00:00",
          "1993-06-01T00:00:00",
          "1993-07-01T00:00:00",
          "1993-08-01T00:00:00",
          "1993-09-01T00:00:00",
          "1993-12-01T00:00:00",
          "1994-01-01T00:00:00",
          "1994-02-01T00:00:00",
          "1994-03-01T00:00:00",
          "1994-04-01T00:00:00",
          "1994-05-01T00:00:00",
          "1994-06-01T00:00:00",
          "1994-07-01T00:00:00",
          "1994-08-01T00:00:00",
          "1994-09-01T00:00:00",
          "1994-10-01T00:00:00",
          "1994-11-01T00:00:00",
          "1994-12-01T00:00:00",
          "1995-02-01T00:00:00",
          "1995-03-01T00:00:00",
          "1995-04-01T00:00:00",
          "1995-05-01T00:00:00",
          "1995-06-01T00:00:00",
          "1995-07-01T00:00:00",
          "1995-08-01T00:00:00",
          "1995-09-01T00:00:00",
          "1995-10-01T00:00:00",
          "1995-11-01T00:00:00",
          "1996-01-01T00:00:00",
          "1996-03-01T00:00:00",
          "1996-04-01T00:00:00",
          "1996-05-01T00:00:00",
          "1996-06-01T00:00:00",
          "1996-07-01T00:00:00",
          "1996-08-01T00:00:00",
          "1996-09-01T00:00:00",
          "1996-10-01T00:00:00",
          "1996-11-01T00:00:00",
          "1996-12-01T00:00:00",
          "1997-03-01T00:00:00",
          "1997-04-01T00:00:00",
          "1997-05-01T00:00:00",
          "1997-06-01T00:00:00",
          "1997-07-01T00:00:00",
          "1997-08-01T00:00:00",
          "1997-09-01T00:00:00",
          "1997-10-01T00:00:00",
          "1997-11-01T00:00:00",
          "1998-01-01T00:00:00",
          "1998-02-01T00:00:00",
          "1998-03-01T00:00:00",
          "1998-04-01T00:00:00",
          "1998-05-01T00:00:00",
          "1998-06-01T00:00:00",
          "1998-07-01T00:00:00",
          "1998-08-01T00:00:00",
          "1998-09-01T00:00:00",
          "1998-10-01T00:00:00",
          "1998-11-01T00:00:00",
          "1998-12-01T00:00:00",
          "1999-01-01T00:00:00",
          "1999-02-01T00:00:00",
          "1999-03-01T00:00:00",
          "1999-04-01T00:00:00",
          "1999-05-01T00:00:00",
          "1999-06-01T00:00:00",
          "1999-07-01T00:00:00",
          "1999-08-01T00:00:00",
          "1999-09-01T00:00:00",
          "1999-10-01T00:00:00",
          "1999-11-01T00:00:00",
          "1999-12-01T00:00:00",
          "2000-01-01T00:00:00",
          "2000-02-01T00:00:00",
          "2000-03-01T00:00:00",
          "2000-04-01T00:00:00",
          "2000-05-01T00:00:00",
          "2000-06-01T00:00:00",
          "2000-07-01T00:00:00",
          "2000-08-01T00:00:00",
          "2000-09-01T00:00:00",
          "2000-10-01T00:00:00",
          "2000-11-01T00:00:00",
          "2000-12-01T00:00:00",
          "2001-02-01T00:00:00",
          "2001-03-01T00:00:00",
          "2001-04-01T00:00:00",
          "2001-05-01T00:00:00",
          "2001-06-01T00:00:00",
          "2001-07-01T00:00:00",
          "2001-08-01T00:00:00",
          "2001-09-01T00:00:00",
          "2001-10-01T00:00:00",
          "2001-11-01T00:00:00",
          "2001-12-01T00:00:00",
          "2002-01-01T00:00:00",
          "2002-02-01T00:00:00",
          "2002-03-01T00:00:00",
          "2002-04-01T00:00:00",
          "2002-05-01T00:00:00",
          "2002-06-01T00:00:00",
          "2002-07-01T00:00:00",
          "2002-08-01T00:00:00",
          "2002-09-01T00:00:00",
          "2002-10-01T00:00:00",
          "2002-11-01T00:00:00",
          "2002-12-01T00:00:00",
          "2003-01-01T00:00:00",
          "2003-02-01T00:00:00",
          "2003-03-01T00:00:00",
          "2003-04-01T00:00:00",
          "2003-05-01T00:00:00",
          "2003-06-01T00:00:00",
          "2003-07-01T00:00:00",
          "2003-08-01T00:00:00",
          "2003-09-01T00:00:00",
          "2003-10-01T00:00:00",
          "2003-11-01T00:00:00",
          "2004-01-01T00:00:00",
          "2004-03-01T00:00:00",
          "2004-04-01T00:00:00",
          "2004-05-01T00:00:00",
          "2004-06-01T00:00:00",
          "2004-07-01T00:00:00",
          "2004-08-01T00:00:00",
          "2004-09-01T00:00:00",
          "2004-10-01T00:00:00",
          "2004-11-01T00:00:00",
          "2004-12-01T00:00:00",
          "2005-01-01T00:00:00",
          "2005-02-01T00:00:00",
          "2005-03-01T00:00:00",
          "2005-04-01T00:00:00",
          "2005-05-01T00:00:00",
          "2005-06-01T00:00:00",
          "2005-07-01T00:00:00",
          "2005-08-01T00:00:00",
          "2005-09-01T00:00:00",
          "2005-10-01T00:00:00",
          "2005-11-01T00:00:00",
          "2005-12-01T00:00:00",
          "2006-01-01T00:00:00",
          "2006-02-01T00:00:00",
          "2006-03-01T00:00:00",
          "2006-04-01T00:00:00",
          "2006-05-01T00:00:00",
          "2006-06-01T00:00:00",
          "2006-07-01T00:00:00",
          "2006-08-01T00:00:00",
          "2006-09-01T00:00:00",
          "2006-10-01T00:00:00",
          "2006-11-01T00:00:00",
          "2006-12-01T00:00:00",
          "2007-01-01T00:00:00",
          "2007-02-01T00:00:00",
          "2007-04-01T00:00:00",
          "2007-05-01T00:00:00",
          "2007-06-01T00:00:00",
          "2007-07-01T00:00:00",
          "2007-08-01T00:00:00",
          "2007-09-01T00:00:00",
          "2007-10-01T00:00:00",
          "2007-11-01T00:00:00",
          "2007-12-01T00:00:00",
          "2008-01-01T00:00:00",
          "2008-02-01T00:00:00",
          "2008-03-01T00:00:00",
          "2008-04-01T00:00:00",
          "2008-05-01T00:00:00",
          "2008-06-01T00:00:00",
          "2008-07-01T00:00:00",
          "2008-08-01T00:00:00",
          "2008-09-01T00:00:00",
          "2008-10-01T00:00:00",
          "2008-11-01T00:00:00",
          "2009-01-01T00:00:00",
          "2009-02-01T00:00:00",
          "2009-03-01T00:00:00",
          "2009-04-01T00:00:00",
          "2009-05-01T00:00:00",
          "2009-06-01T00:00:00",
          "2009-07-01T00:00:00",
          "2009-08-01T00:00:00",
          "2009-09-01T00:00:00",
          "2009-10-01T00:00:00",
          "2009-11-01T00:00:00",
          "2009-12-01T00:00:00",
          "2010-01-01T00:00:00",
          "2010-02-01T00:00:00",
          "2010-03-01T00:00:00",
          "2010-04-01T00:00:00",
          "2010-05-01T00:00:00",
          "2010-06-01T00:00:00",
          "2010-07-01T00:00:00",
          "2010-08-01T00:00:00",
          "2010-09-01T00:00:00",
          "2010-10-01T00:00:00",
          "2010-11-01T00:00:00",
          "2010-12-01T00:00:00",
          "2011-01-01T00:00:00",
          "2011-03-01T00:00:00",
          "2011-04-01T00:00:00",
          "2011-05-01T00:00:00",
          "2011-06-01T00:00:00",
          "2011-07-01T00:00:00",
          "2011-08-01T00:00:00",
          "2011-09-01T00:00:00",
          "2011-10-01T00:00:00",
          "2011-11-01T00:00:00",
          "2012-02-01T00:00:00",
          "2012-03-01T00:00:00",
          "2012-04-01T00:00:00",
          "2012-05-01T00:00:00",
          "2012-06-01T00:00:00",
          "2012-07-01T00:00:00",
          "2012-08-01T00:00:00",
          "2012-09-01T00:00:00",
          "2012-10-01T00:00:00",
          "2012-11-01T00:00:00",
          "2012-12-01T00:00:00",
          "2013-01-01T00:00:00",
          "2013-03-01T00:00:00",
          "2013-04-01T00:00:00",
          "2013-05-01T00:00:00",
          "2013-06-01T00:00:00",
          "2013-07-01T00:00:00",
          "2013-08-01T00:00:00",
          "2013-09-01T00:00:00",
          "2013-10-01T00:00:00",
          "2013-11-01T00:00:00",
          "2013-12-01T00:00:00",
          "2014-01-01T00:00:00",
          "2014-02-01T00:00:00",
          "2014-03-01T00:00:00",
          "2014-04-01T00:00:00",
          "2014-05-01T00:00:00",
          "2014-06-01T00:00:00",
          "2014-07-01T00:00:00",
          "2014-08-01T00:00:00",
          "2014-09-01T00:00:00",
          "2014-10-01T00:00:00",
          "2014-11-01T00:00:00",
          "2014-12-01T00:00:00",
          "2015-01-01T00:00:00",
          "2015-02-01T00:00:00",
          "2015-03-01T00:00:00",
          "2015-04-01T00:00:00",
          "2015-05-01T00:00:00",
          "2015-06-01T00:00:00",
          "2015-07-01T00:00:00",
          "2015-08-01T00:00:00",
          "2015-09-01T00:00:00",
          "2015-10-01T00:00:00",
          "2015-11-01T00:00:00",
          "2015-12-01T00:00:00",
          "2016-01-01T00:00:00",
          "2016-02-01T00:00:00",
          "2016-03-01T00:00:00",
          "2016-04-01T00:00:00",
          "2016-05-01T00:00:00",
          "2016-06-01T00:00:00",
          "2016-07-01T00:00:00",
          "2016-08-01T00:00:00",
          "2016-09-01T00:00:00",
          "2016-10-01T00:00:00",
          "2016-11-01T00:00:00",
          "2016-12-01T00:00:00",
          "2017-01-01T00:00:00",
          "2017-02-01T00:00:00",
          "2017-03-01T00:00:00",
          "2017-04-01T00:00:00",
          "2017-05-01T00:00:00",
          "2017-06-01T00:00:00",
          "2017-07-01T00:00:00",
          "2017-08-01T00:00:00",
          "2017-09-01T00:00:00",
          "2017-10-01T00:00:00",
          "2017-11-01T00:00:00",
          "2017-12-01T00:00:00",
          "2018-01-01T00:00:00",
          "2018-02-01T00:00:00",
          "2018-03-01T00:00:00",
          "2018-04-01T00:00:00",
          "2018-05-01T00:00:00",
          "2018-06-01T00:00:00",
          "2018-07-01T00:00:00",
          "2018-08-01T00:00:00",
          "2018-09-01T00:00:00",
          "2018-10-01T00:00:00",
          "2018-11-01T00:00:00",
          "2018-12-01T00:00:00",
          "2019-01-01T00:00:00",
          "2019-02-01T00:00:00",
          "2019-03-01T00:00:00",
          "2019-04-01T00:00:00",
          "2019-05-01T00:00:00",
          "2019-06-01T00:00:00",
          "2019-07-01T00:00:00",
          "2019-08-01T00:00:00",
          "2019-09-01T00:00:00",
          "2019-10-01T00:00:00",
          "2019-11-01T00:00:00",
          "2019-12-01T00:00:00",
          "2020-01-01T00:00:00",
          "2020-02-01T00:00:00",
          "2020-03-01T00:00:00",
          "2020-04-01T00:00:00",
          "2020-05-01T00:00:00",
          "2020-06-01T00:00:00",
          "2020-07-01T00:00:00",
          "2020-08-01T00:00:00",
          "2020-09-01T00:00:00",
          "2020-10-01T00:00:00",
          "2020-11-01T00:00:00",
          "2020-12-01T00:00:00",
          "2021-01-01T00:00:00",
          "2021-02-01T00:00:00",
          "2021-03-01T00:00:00",
          "2021-04-01T00:00:00",
          "2021-05-01T00:00:00",
          "2021-06-01T00:00:00",
          "2021-07-01T00:00:00",
          "2021-08-01T00:00:00",
          "2021-09-01T00:00:00",
          "2021-10-01T00:00:00",
          "2021-11-01T00:00:00",
          "2021-12-01T00:00:00"
         ],
         "xaxis": "x2",
         "y": [
          40,
          70,
          79,
          81,
          18,
          38,
          1,
          2,
          376,
          544,
          817,
          728,
          636,
          246,
          216,
          227,
          347,
          481,
          645,
          762,
          305,
          211,
          181,
          159,
          1,
          4,
          4,
          2,
          17,
          20,
          11,
          9,
          4,
          4,
          1,
          100,
          298,
          128,
          13,
          13,
          1,
          46,
          557,
          1609,
          976,
          991,
          379,
          696,
          93,
          80,
          33,
          123,
          111,
          575,
          994,
          1733,
          1244,
          612,
          642,
          281,
          276,
          82,
          55,
          175,
          136,
          453,
          156,
          31,
          66,
          21,
          1003,
          302,
          168,
          787,
          21,
          1,
          5,
          1,
          8,
          2,
          118,
          278,
          154,
          111,
          13,
          3,
          7,
          1,
          3,
          2,
          1,
          5,
          63,
          118,
          58,
          58,
          2,
          12,
          8,
          3,
          173,
          7,
          2219,
          3245,
          803,
          376,
          193,
          100,
          2,
          5,
          3,
          1,
          374,
          907,
          821,
          822,
          480,
          311,
          229,
          148,
          8,
          4,
          1652,
          2094,
          2401,
          1206,
          799,
          576,
          308,
          152,
          2,
          10,
          1226,
          1792,
          1457,
          1084,
          650,
          464,
          8,
          3,
          4,
          39,
          89,
          367,
          978,
          656,
          440,
          119,
          145,
          50,
          1,
          3,
          2,
          1,
          2,
          588,
          5169,
          4949,
          714,
          156,
          118,
          125,
          56,
          1,
          3,
          1,
          6,
          348,
          2021,
          1406,
          76,
          151,
          88,
          7,
          1,
          5,
          2,
          4,
          199,
          1772,
          1208,
          542,
          313,
          34,
          1,
          1,
          2,
          4,
          4,
          19,
          70,
          954,
          807,
          377,
          298,
          115,
          41,
          2,
          5,
          1,
          2,
          4,
          181,
          1521,
          1267,
          803,
          590,
          757,
          268,
          2,
          1,
          2,
          76,
          1161,
          1204,
          251,
          83,
          162,
          61,
          7,
          1,
          4,
          9,
          14,
          459,
          1235,
          959,
          507,
          351,
          376,
          536,
          29,
          24,
          33,
          13,
          67,
          11,
          543,
          654,
          285,
          328,
          201,
          181,
          73,
          1,
          2,
          1,
          9,
          6,
          71,
          17,
          23,
          170,
          182,
          62,
          69,
          94,
          165,
          87,
          476,
          225,
          217,
          177,
          187,
          21,
          11,
          4,
          2,
          1,
          1,
          83,
          101,
          160,
          20,
          36,
          12,
          7,
          2,
          1,
          5,
          5,
          209,
          187,
          204,
          1438,
          824,
          562,
          47,
          40,
          52,
          3,
          1,
          1,
          4,
          199,
          309,
          19,
          17,
          16,
          12,
          3,
          1,
          4,
          8,
          35,
          60,
          387,
          215,
          87,
          23,
          4,
          5,
          6,
          10,
          11,
          41,
          215,
          180,
          121,
          57,
          23,
          6,
          12,
          14,
          31,
          9,
          26,
          65,
          171,
          197,
          200,
          177,
          31,
          4,
          6,
          3,
          4,
          2,
          21,
          59,
          68,
          50,
          51,
          19,
          8,
          4,
          2,
          5,
          4,
          5,
          2,
          39,
          149,
          58,
          78,
          34,
          43,
          37,
          30,
          36,
          22,
          34,
          30,
          123,
          289,
          77,
          137,
          101,
          21,
          11,
          4,
          6,
          8,
          8,
          60,
          73,
          489,
          532,
          237,
          50,
          13,
          11,
          7,
          9,
          14,
          140,
          226,
          282,
          181,
          129,
          205,
          161,
          33,
          10,
          15,
          9,
          10,
          20,
          64,
          123,
          70,
          136,
          96,
          81,
          32,
          18,
          14,
          12,
          20,
          23,
          45,
          117,
          158,
          107,
          102,
          71,
          30,
          5,
          1
         ],
         "yaxis": "y2"
        }
       ],
       "layout": {
        "height": 600,
        "template": {
         "data": {
          "bar": [
           {
            "error_x": {
             "color": "#2a3f5f"
            },
            "error_y": {
             "color": "#2a3f5f"
            },
            "marker": {
             "line": {
              "color": "#E5ECF6",
              "width": 0.5
             },
             "pattern": {
              "fillmode": "overlay",
              "size": 10,
              "solidity": 0.2
             }
            },
            "type": "bar"
           }
          ],
          "barpolar": [
           {
            "marker": {
             "line": {
              "color": "#E5ECF6",
              "width": 0.5
             },
             "pattern": {
              "fillmode": "overlay",
              "size": 10,
              "solidity": 0.2
             }
            },
            "type": "barpolar"
           }
          ],
          "carpet": [
           {
            "aaxis": {
             "endlinecolor": "#2a3f5f",
             "gridcolor": "white",
             "linecolor": "white",
             "minorgridcolor": "white",
             "startlinecolor": "#2a3f5f"
            },
            "baxis": {
             "endlinecolor": "#2a3f5f",
             "gridcolor": "white",
             "linecolor": "white",
             "minorgridcolor": "white",
             "startlinecolor": "#2a3f5f"
            },
            "type": "carpet"
           }
          ],
          "choropleth": [
           {
            "colorbar": {
             "outlinewidth": 0,
             "ticks": ""
            },
            "type": "choropleth"
           }
          ],
          "contour": [
           {
            "colorbar": {
             "outlinewidth": 0,
             "ticks": ""
            },
            "colorscale": [
             [
              0,
              "#0d0887"
             ],
             [
              0.1111111111111111,
              "#46039f"
             ],
             [
              0.2222222222222222,
              "#7201a8"
             ],
             [
              0.3333333333333333,
              "#9c179e"
             ],
             [
              0.4444444444444444,
              "#bd3786"
             ],
             [
              0.5555555555555556,
              "#d8576b"
             ],
             [
              0.6666666666666666,
              "#ed7953"
             ],
             [
              0.7777777777777778,
              "#fb9f3a"
             ],
             [
              0.8888888888888888,
              "#fdca26"
             ],
             [
              1,
              "#f0f921"
             ]
            ],
            "type": "contour"
           }
          ],
          "contourcarpet": [
           {
            "colorbar": {
             "outlinewidth": 0,
             "ticks": ""
            },
            "type": "contourcarpet"
           }
          ],
          "heatmap": [
           {
            "colorbar": {
             "outlinewidth": 0,
             "ticks": ""
            },
            "colorscale": [
             [
              0,
              "#0d0887"
             ],
             [
              0.1111111111111111,
              "#46039f"
             ],
             [
              0.2222222222222222,
              "#7201a8"
             ],
             [
              0.3333333333333333,
              "#9c179e"
             ],
             [
              0.4444444444444444,
              "#bd3786"
             ],
             [
              0.5555555555555556,
              "#d8576b"
             ],
             [
              0.6666666666666666,
              "#ed7953"
             ],
             [
              0.7777777777777778,
              "#fb9f3a"
             ],
             [
              0.8888888888888888,
              "#fdca26"
             ],
             [
              1,
              "#f0f921"
             ]
            ],
            "type": "heatmap"
           }
          ],
          "heatmapgl": [
           {
            "colorbar": {
             "outlinewidth": 0,
             "ticks": ""
            },
            "colorscale": [
             [
              0,
              "#0d0887"
             ],
             [
              0.1111111111111111,
              "#46039f"
             ],
             [
              0.2222222222222222,
              "#7201a8"
             ],
             [
              0.3333333333333333,
              "#9c179e"
             ],
             [
              0.4444444444444444,
              "#bd3786"
             ],
             [
              0.5555555555555556,
              "#d8576b"
             ],
             [
              0.6666666666666666,
              "#ed7953"
             ],
             [
              0.7777777777777778,
              "#fb9f3a"
             ],
             [
              0.8888888888888888,
              "#fdca26"
             ],
             [
              1,
              "#f0f921"
             ]
            ],
            "type": "heatmapgl"
           }
          ],
          "histogram": [
           {
            "marker": {
             "pattern": {
              "fillmode": "overlay",
              "size": 10,
              "solidity": 0.2
             }
            },
            "type": "histogram"
           }
          ],
          "histogram2d": [
           {
            "colorbar": {
             "outlinewidth": 0,
             "ticks": ""
            },
            "colorscale": [
             [
              0,
              "#0d0887"
             ],
             [
              0.1111111111111111,
              "#46039f"
             ],
             [
              0.2222222222222222,
              "#7201a8"
             ],
             [
              0.3333333333333333,
              "#9c179e"
             ],
             [
              0.4444444444444444,
              "#bd3786"
             ],
             [
              0.5555555555555556,
              "#d8576b"
             ],
             [
              0.6666666666666666,
              "#ed7953"
             ],
             [
              0.7777777777777778,
              "#fb9f3a"
             ],
             [
              0.8888888888888888,
              "#fdca26"
             ],
             [
              1,
              "#f0f921"
             ]
            ],
            "type": "histogram2d"
           }
          ],
          "histogram2dcontour": [
           {
            "colorbar": {
             "outlinewidth": 0,
             "ticks": ""
            },
            "colorscale": [
             [
              0,
              "#0d0887"
             ],
             [
              0.1111111111111111,
              "#46039f"
             ],
             [
              0.2222222222222222,
              "#7201a8"
             ],
             [
              0.3333333333333333,
              "#9c179e"
             ],
             [
              0.4444444444444444,
              "#bd3786"
             ],
             [
              0.5555555555555556,
              "#d8576b"
             ],
             [
              0.6666666666666666,
              "#ed7953"
             ],
             [
              0.7777777777777778,
              "#fb9f3a"
             ],
             [
              0.8888888888888888,
              "#fdca26"
             ],
             [
              1,
              "#f0f921"
             ]
            ],
            "type": "histogram2dcontour"
           }
          ],
          "mesh3d": [
           {
            "colorbar": {
             "outlinewidth": 0,
             "ticks": ""
            },
            "type": "mesh3d"
           }
          ],
          "parcoords": [
           {
            "line": {
             "colorbar": {
              "outlinewidth": 0,
              "ticks": ""
             }
            },
            "type": "parcoords"
           }
          ],
          "pie": [
           {
            "automargin": true,
            "type": "pie"
           }
          ],
          "scatter": [
           {
            "fillpattern": {
             "fillmode": "overlay",
             "size": 10,
             "solidity": 0.2
            },
            "type": "scatter"
           }
          ],
          "scatter3d": [
           {
            "line": {
             "colorbar": {
              "outlinewidth": 0,
              "ticks": ""
             }
            },
            "marker": {
             "colorbar": {
              "outlinewidth": 0,
              "ticks": ""
             }
            },
            "type": "scatter3d"
           }
          ],
          "scattercarpet": [
           {
            "marker": {
             "colorbar": {
              "outlinewidth": 0,
              "ticks": ""
             }
            },
            "type": "scattercarpet"
           }
          ],
          "scattergeo": [
           {
            "marker": {
             "colorbar": {
              "outlinewidth": 0,
              "ticks": ""
             }
            },
            "type": "scattergeo"
           }
          ],
          "scattergl": [
           {
            "marker": {
             "colorbar": {
              "outlinewidth": 0,
              "ticks": ""
             }
            },
            "type": "scattergl"
           }
          ],
          "scattermapbox": [
           {
            "marker": {
             "colorbar": {
              "outlinewidth": 0,
              "ticks": ""
             }
            },
            "type": "scattermapbox"
           }
          ],
          "scatterpolar": [
           {
            "marker": {
             "colorbar": {
              "outlinewidth": 0,
              "ticks": ""
             }
            },
            "type": "scatterpolar"
           }
          ],
          "scatterpolargl": [
           {
            "marker": {
             "colorbar": {
              "outlinewidth": 0,
              "ticks": ""
             }
            },
            "type": "scatterpolargl"
           }
          ],
          "scatterternary": [
           {
            "marker": {
             "colorbar": {
              "outlinewidth": 0,
              "ticks": ""
             }
            },
            "type": "scatterternary"
           }
          ],
          "surface": [
           {
            "colorbar": {
             "outlinewidth": 0,
             "ticks": ""
            },
            "colorscale": [
             [
              0,
              "#0d0887"
             ],
             [
              0.1111111111111111,
              "#46039f"
             ],
             [
              0.2222222222222222,
              "#7201a8"
             ],
             [
              0.3333333333333333,
              "#9c179e"
             ],
             [
              0.4444444444444444,
              "#bd3786"
             ],
             [
              0.5555555555555556,
              "#d8576b"
             ],
             [
              0.6666666666666666,
              "#ed7953"
             ],
             [
              0.7777777777777778,
              "#fb9f3a"
             ],
             [
              0.8888888888888888,
              "#fdca26"
             ],
             [
              1,
              "#f0f921"
             ]
            ],
            "type": "surface"
           }
          ],
          "table": [
           {
            "cells": {
             "fill": {
              "color": "#EBF0F8"
             },
             "line": {
              "color": "white"
             }
            },
            "header": {
             "fill": {
              "color": "#C8D4E3"
             },
             "line": {
              "color": "white"
             }
            },
            "type": "table"
           }
          ]
         },
         "layout": {
          "annotationdefaults": {
           "arrowcolor": "#2a3f5f",
           "arrowhead": 0,
           "arrowwidth": 1
          },
          "autotypenumbers": "strict",
          "coloraxis": {
           "colorbar": {
            "outlinewidth": 0,
            "ticks": ""
           }
          },
          "colorscale": {
           "diverging": [
            [
             0,
             "#8e0152"
            ],
            [
             0.1,
             "#c51b7d"
            ],
            [
             0.2,
             "#de77ae"
            ],
            [
             0.3,
             "#f1b6da"
            ],
            [
             0.4,
             "#fde0ef"
            ],
            [
             0.5,
             "#f7f7f7"
            ],
            [
             0.6,
             "#e6f5d0"
            ],
            [
             0.7,
             "#b8e186"
            ],
            [
             0.8,
             "#7fbc41"
            ],
            [
             0.9,
             "#4d9221"
            ],
            [
             1,
             "#276419"
            ]
           ],
           "sequential": [
            [
             0,
             "#0d0887"
            ],
            [
             0.1111111111111111,
             "#46039f"
            ],
            [
             0.2222222222222222,
             "#7201a8"
            ],
            [
             0.3333333333333333,
             "#9c179e"
            ],
            [
             0.4444444444444444,
             "#bd3786"
            ],
            [
             0.5555555555555556,
             "#d8576b"
            ],
            [
             0.6666666666666666,
             "#ed7953"
            ],
            [
             0.7777777777777778,
             "#fb9f3a"
            ],
            [
             0.8888888888888888,
             "#fdca26"
            ],
            [
             1,
             "#f0f921"
            ]
           ],
           "sequentialminus": [
            [
             0,
             "#0d0887"
            ],
            [
             0.1111111111111111,
             "#46039f"
            ],
            [
             0.2222222222222222,
             "#7201a8"
            ],
            [
             0.3333333333333333,
             "#9c179e"
            ],
            [
             0.4444444444444444,
             "#bd3786"
            ],
            [
             0.5555555555555556,
             "#d8576b"
            ],
            [
             0.6666666666666666,
             "#ed7953"
            ],
            [
             0.7777777777777778,
             "#fb9f3a"
            ],
            [
             0.8888888888888888,
             "#fdca26"
            ],
            [
             1,
             "#f0f921"
            ]
           ]
          },
          "colorway": [
           "#636efa",
           "#EF553B",
           "#00cc96",
           "#ab63fa",
           "#FFA15A",
           "#19d3f3",
           "#FF6692",
           "#B6E880",
           "#FF97FF",
           "#FECB52"
          ],
          "font": {
           "color": "#2a3f5f"
          },
          "geo": {
           "bgcolor": "white",
           "lakecolor": "white",
           "landcolor": "#E5ECF6",
           "showlakes": true,
           "showland": true,
           "subunitcolor": "white"
          },
          "hoverlabel": {
           "align": "left"
          },
          "hovermode": "closest",
          "mapbox": {
           "style": "light"
          },
          "paper_bgcolor": "white",
          "plot_bgcolor": "#E5ECF6",
          "polar": {
           "angularaxis": {
            "gridcolor": "white",
            "linecolor": "white",
            "ticks": ""
           },
           "bgcolor": "#E5ECF6",
           "radialaxis": {
            "gridcolor": "white",
            "linecolor": "white",
            "ticks": ""
           }
          },
          "scene": {
           "xaxis": {
            "backgroundcolor": "#E5ECF6",
            "gridcolor": "white",
            "gridwidth": 2,
            "linecolor": "white",
            "showbackground": true,
            "ticks": "",
            "zerolinecolor": "white"
           },
           "yaxis": {
            "backgroundcolor": "#E5ECF6",
            "gridcolor": "white",
            "gridwidth": 2,
            "linecolor": "white",
            "showbackground": true,
            "ticks": "",
            "zerolinecolor": "white"
           },
           "zaxis": {
            "backgroundcolor": "#E5ECF6",
            "gridcolor": "white",
            "gridwidth": 2,
            "linecolor": "white",
            "showbackground": true,
            "ticks": "",
            "zerolinecolor": "white"
           }
          },
          "shapedefaults": {
           "line": {
            "color": "#2a3f5f"
           }
          },
          "ternary": {
           "aaxis": {
            "gridcolor": "white",
            "linecolor": "white",
            "ticks": ""
           },
           "baxis": {
            "gridcolor": "white",
            "linecolor": "white",
            "ticks": ""
           },
           "bgcolor": "#E5ECF6",
           "caxis": {
            "gridcolor": "white",
            "linecolor": "white",
            "ticks": ""
           }
          },
          "title": {
           "x": 0.05
          },
          "xaxis": {
           "automargin": true,
           "gridcolor": "white",
           "linecolor": "white",
           "ticks": "",
           "title": {
            "standoff": 15
           },
           "zerolinecolor": "white",
           "zerolinewidth": 2
          },
          "yaxis": {
           "automargin": true,
           "gridcolor": "white",
           "linecolor": "white",
           "ticks": "",
           "title": {
            "standoff": 15
           },
           "zerolinecolor": "white",
           "zerolinewidth": 2
          }
         }
        },
        "title": {
         "text": "Monthly Temperature and Occurrences Time Series"
        },
        "xaxis": {
         "anchor": "y",
         "domain": [
          0,
          1
         ],
         "matches": "x2",
         "showticklabels": false,
         "title": {
          "text": "Date"
         }
        },
        "xaxis2": {
         "anchor": "y2",
         "domain": [
          0,
          1
         ]
        },
        "yaxis": {
         "anchor": "x",
         "domain": [
          0.575,
          1
         ],
         "title": {
          "text": "Temperature"
         }
        },
        "yaxis2": {
         "anchor": "x2",
         "domain": [
          0,
          0.425
         ],
         "title": {
          "text": "Occurrences"
         }
        }
       }
      }
     },
     "metadata": {},
     "output_type": "display_data"
    }
   ],
   "source": [
    "# Calculate moving average for temperature\n",
    "window_size = 10  # Adjust the window size as needed\n",
    "monthly_data['Temperature_MA'] = monthly_data['Temperature'].rolling(window_size, center=True).mean()\n",
    "\n",
    "# Create the subplots with shared x-axis\n",
    "fig = make_subplots(rows=2, cols=1, shared_xaxes=True)\n",
    "\n",
    "# Add temperature line\n",
    "fig.add_trace(go.Scatter(x=monthly_data['date'], y=monthly_data['Temperature'], mode='lines', name='Temperature'), row=1, col=1)\n",
    "\n",
    "# Add moving average line for temperature\n",
    "fig.add_trace(go.Scatter(x=monthly_data['date'], y=monthly_data['Temperature_MA'], mode='lines', name=f'Temperature (Moving Average {window_size})'), row=1, col=1)\n",
    "\n",
    "# Add occurrences line\n",
    "fig.add_trace(go.Scatter(x=monthly_data['date'], y=monthly_data['occurrenceStatus'], mode='lines', name='Occurrences'), row=2, col=1)\n",
    "\n",
    "# Set layout\n",
    "fig.update_layout(title='Monthly Temperature and Occurrences Time Series',\n",
    "                  xaxis_title='Date',\n",
    "                  yaxis_title='Temperature',\n",
    "                  yaxis2_title='Occurrences',\n",
    "                  height=600)\n",
    "\n",
    "# Show the plot\n",
    "fig.show()"
   ]
  },
  {
   "cell_type": "code",
   "execution_count": 193,
   "metadata": {},
   "outputs": [
    {
     "data": {
      "application/vnd.plotly.v1+json": {
       "config": {
        "plotlyServerURL": "https://plot.ly"
       },
       "data": [
        {
         "mode": "lines",
         "name": "Precipitation",
         "type": "scatter",
         "x": [
          "1981-04-01T00:00:00",
          "1981-05-01T00:00:00",
          "1981-06-01T00:00:00",
          "1981-07-01T00:00:00",
          "1981-08-01T00:00:00",
          "1981-09-01T00:00:00",
          "1982-08-01T00:00:00",
          "1982-09-01T00:00:00",
          "1983-04-01T00:00:00",
          "1983-05-01T00:00:00",
          "1983-06-01T00:00:00",
          "1983-07-01T00:00:00",
          "1983-08-01T00:00:00",
          "1983-09-01T00:00:00",
          "1983-10-01T00:00:00",
          "1983-11-01T00:00:00",
          "1984-04-01T00:00:00",
          "1984-05-01T00:00:00",
          "1984-06-01T00:00:00",
          "1984-07-01T00:00:00",
          "1984-08-01T00:00:00",
          "1984-09-01T00:00:00",
          "1984-10-01T00:00:00",
          "1984-11-01T00:00:00",
          "1984-12-01T00:00:00",
          "1985-04-01T00:00:00",
          "1985-05-01T00:00:00",
          "1985-08-01T00:00:00",
          "1986-05-01T00:00:00",
          "1986-06-01T00:00:00",
          "1986-07-01T00:00:00",
          "1986-08-01T00:00:00",
          "1986-09-01T00:00:00",
          "1986-10-01T00:00:00",
          "1987-03-01T00:00:00",
          "1987-05-01T00:00:00",
          "1987-06-01T00:00:00",
          "1987-07-01T00:00:00",
          "1987-08-01T00:00:00",
          "1987-09-01T00:00:00",
          "1988-01-01T00:00:00",
          "1988-04-01T00:00:00",
          "1988-05-01T00:00:00",
          "1988-06-01T00:00:00",
          "1988-07-01T00:00:00",
          "1988-08-01T00:00:00",
          "1988-09-01T00:00:00",
          "1988-10-01T00:00:00",
          "1988-11-01T00:00:00",
          "1988-12-01T00:00:00",
          "1989-01-01T00:00:00",
          "1989-02-01T00:00:00",
          "1989-03-01T00:00:00",
          "1989-04-01T00:00:00",
          "1989-05-01T00:00:00",
          "1989-06-01T00:00:00",
          "1989-07-01T00:00:00",
          "1989-08-01T00:00:00",
          "1989-09-01T00:00:00",
          "1989-10-01T00:00:00",
          "1989-11-01T00:00:00",
          "1989-12-01T00:00:00",
          "1990-01-01T00:00:00",
          "1990-03-01T00:00:00",
          "1990-04-01T00:00:00",
          "1990-05-01T00:00:00",
          "1990-06-01T00:00:00",
          "1990-07-01T00:00:00",
          "1990-08-01T00:00:00",
          "1990-09-01T00:00:00",
          "1991-05-01T00:00:00",
          "1991-06-01T00:00:00",
          "1991-07-01T00:00:00",
          "1991-08-01T00:00:00",
          "1991-09-01T00:00:00",
          "1991-10-01T00:00:00",
          "1991-12-01T00:00:00",
          "1992-01-01T00:00:00",
          "1992-03-01T00:00:00",
          "1992-04-01T00:00:00",
          "1992-05-01T00:00:00",
          "1992-06-01T00:00:00",
          "1992-07-01T00:00:00",
          "1992-08-01T00:00:00",
          "1992-09-01T00:00:00",
          "1992-10-01T00:00:00",
          "1992-11-01T00:00:00",
          "1992-12-01T00:00:00",
          "1993-01-01T00:00:00",
          "1993-02-01T00:00:00",
          "1993-03-01T00:00:00",
          "1993-04-01T00:00:00",
          "1993-05-01T00:00:00",
          "1993-06-01T00:00:00",
          "1993-07-01T00:00:00",
          "1993-08-01T00:00:00",
          "1993-09-01T00:00:00",
          "1993-12-01T00:00:00",
          "1994-01-01T00:00:00",
          "1994-02-01T00:00:00",
          "1994-03-01T00:00:00",
          "1994-04-01T00:00:00",
          "1994-05-01T00:00:00",
          "1994-06-01T00:00:00",
          "1994-07-01T00:00:00",
          "1994-08-01T00:00:00",
          "1994-09-01T00:00:00",
          "1994-10-01T00:00:00",
          "1994-11-01T00:00:00",
          "1994-12-01T00:00:00",
          "1995-02-01T00:00:00",
          "1995-03-01T00:00:00",
          "1995-04-01T00:00:00",
          "1995-05-01T00:00:00",
          "1995-06-01T00:00:00",
          "1995-07-01T00:00:00",
          "1995-08-01T00:00:00",
          "1995-09-01T00:00:00",
          "1995-10-01T00:00:00",
          "1995-11-01T00:00:00",
          "1996-01-01T00:00:00",
          "1996-03-01T00:00:00",
          "1996-04-01T00:00:00",
          "1996-05-01T00:00:00",
          "1996-06-01T00:00:00",
          "1996-07-01T00:00:00",
          "1996-08-01T00:00:00",
          "1996-09-01T00:00:00",
          "1996-10-01T00:00:00",
          "1996-11-01T00:00:00",
          "1996-12-01T00:00:00",
          "1997-03-01T00:00:00",
          "1997-04-01T00:00:00",
          "1997-05-01T00:00:00",
          "1997-06-01T00:00:00",
          "1997-07-01T00:00:00",
          "1997-08-01T00:00:00",
          "1997-09-01T00:00:00",
          "1997-10-01T00:00:00",
          "1997-11-01T00:00:00",
          "1998-01-01T00:00:00",
          "1998-02-01T00:00:00",
          "1998-03-01T00:00:00",
          "1998-04-01T00:00:00",
          "1998-05-01T00:00:00",
          "1998-06-01T00:00:00",
          "1998-07-01T00:00:00",
          "1998-08-01T00:00:00",
          "1998-09-01T00:00:00",
          "1998-10-01T00:00:00",
          "1998-11-01T00:00:00",
          "1998-12-01T00:00:00",
          "1999-01-01T00:00:00",
          "1999-02-01T00:00:00",
          "1999-03-01T00:00:00",
          "1999-04-01T00:00:00",
          "1999-05-01T00:00:00",
          "1999-06-01T00:00:00",
          "1999-07-01T00:00:00",
          "1999-08-01T00:00:00",
          "1999-09-01T00:00:00",
          "1999-10-01T00:00:00",
          "1999-11-01T00:00:00",
          "1999-12-01T00:00:00",
          "2000-01-01T00:00:00",
          "2000-02-01T00:00:00",
          "2000-03-01T00:00:00",
          "2000-04-01T00:00:00",
          "2000-05-01T00:00:00",
          "2000-06-01T00:00:00",
          "2000-07-01T00:00:00",
          "2000-08-01T00:00:00",
          "2000-09-01T00:00:00",
          "2000-10-01T00:00:00",
          "2000-11-01T00:00:00",
          "2000-12-01T00:00:00",
          "2001-02-01T00:00:00",
          "2001-03-01T00:00:00",
          "2001-04-01T00:00:00",
          "2001-05-01T00:00:00",
          "2001-06-01T00:00:00",
          "2001-07-01T00:00:00",
          "2001-08-01T00:00:00",
          "2001-09-01T00:00:00",
          "2001-10-01T00:00:00",
          "2001-11-01T00:00:00",
          "2001-12-01T00:00:00",
          "2002-01-01T00:00:00",
          "2002-02-01T00:00:00",
          "2002-03-01T00:00:00",
          "2002-04-01T00:00:00",
          "2002-05-01T00:00:00",
          "2002-06-01T00:00:00",
          "2002-07-01T00:00:00",
          "2002-08-01T00:00:00",
          "2002-09-01T00:00:00",
          "2002-10-01T00:00:00",
          "2002-11-01T00:00:00",
          "2002-12-01T00:00:00",
          "2003-01-01T00:00:00",
          "2003-02-01T00:00:00",
          "2003-03-01T00:00:00",
          "2003-04-01T00:00:00",
          "2003-05-01T00:00:00",
          "2003-06-01T00:00:00",
          "2003-07-01T00:00:00",
          "2003-08-01T00:00:00",
          "2003-09-01T00:00:00",
          "2003-10-01T00:00:00",
          "2003-11-01T00:00:00",
          "2004-01-01T00:00:00",
          "2004-03-01T00:00:00",
          "2004-04-01T00:00:00",
          "2004-05-01T00:00:00",
          "2004-06-01T00:00:00",
          "2004-07-01T00:00:00",
          "2004-08-01T00:00:00",
          "2004-09-01T00:00:00",
          "2004-10-01T00:00:00",
          "2004-11-01T00:00:00",
          "2004-12-01T00:00:00",
          "2005-01-01T00:00:00",
          "2005-02-01T00:00:00",
          "2005-03-01T00:00:00",
          "2005-04-01T00:00:00",
          "2005-05-01T00:00:00",
          "2005-06-01T00:00:00",
          "2005-07-01T00:00:00",
          "2005-08-01T00:00:00",
          "2005-09-01T00:00:00",
          "2005-10-01T00:00:00",
          "2005-11-01T00:00:00",
          "2005-12-01T00:00:00",
          "2006-01-01T00:00:00",
          "2006-02-01T00:00:00",
          "2006-03-01T00:00:00",
          "2006-04-01T00:00:00",
          "2006-05-01T00:00:00",
          "2006-06-01T00:00:00",
          "2006-07-01T00:00:00",
          "2006-08-01T00:00:00",
          "2006-09-01T00:00:00",
          "2006-10-01T00:00:00",
          "2006-11-01T00:00:00",
          "2006-12-01T00:00:00",
          "2007-01-01T00:00:00",
          "2007-02-01T00:00:00",
          "2007-04-01T00:00:00",
          "2007-05-01T00:00:00",
          "2007-06-01T00:00:00",
          "2007-07-01T00:00:00",
          "2007-08-01T00:00:00",
          "2007-09-01T00:00:00",
          "2007-10-01T00:00:00",
          "2007-11-01T00:00:00",
          "2007-12-01T00:00:00",
          "2008-01-01T00:00:00",
          "2008-02-01T00:00:00",
          "2008-03-01T00:00:00",
          "2008-04-01T00:00:00",
          "2008-05-01T00:00:00",
          "2008-06-01T00:00:00",
          "2008-07-01T00:00:00",
          "2008-08-01T00:00:00",
          "2008-09-01T00:00:00",
          "2008-10-01T00:00:00",
          "2008-11-01T00:00:00",
          "2009-01-01T00:00:00",
          "2009-02-01T00:00:00",
          "2009-03-01T00:00:00",
          "2009-04-01T00:00:00",
          "2009-05-01T00:00:00",
          "2009-06-01T00:00:00",
          "2009-07-01T00:00:00",
          "2009-08-01T00:00:00",
          "2009-09-01T00:00:00",
          "2009-10-01T00:00:00",
          "2009-11-01T00:00:00",
          "2009-12-01T00:00:00",
          "2010-01-01T00:00:00",
          "2010-02-01T00:00:00",
          "2010-03-01T00:00:00",
          "2010-04-01T00:00:00",
          "2010-05-01T00:00:00",
          "2010-06-01T00:00:00",
          "2010-07-01T00:00:00",
          "2010-08-01T00:00:00",
          "2010-09-01T00:00:00",
          "2010-10-01T00:00:00",
          "2010-11-01T00:00:00",
          "2010-12-01T00:00:00",
          "2011-01-01T00:00:00",
          "2011-03-01T00:00:00",
          "2011-04-01T00:00:00",
          "2011-05-01T00:00:00",
          "2011-06-01T00:00:00",
          "2011-07-01T00:00:00",
          "2011-08-01T00:00:00",
          "2011-09-01T00:00:00",
          "2011-10-01T00:00:00",
          "2011-11-01T00:00:00",
          "2012-02-01T00:00:00",
          "2012-03-01T00:00:00",
          "2012-04-01T00:00:00",
          "2012-05-01T00:00:00",
          "2012-06-01T00:00:00",
          "2012-07-01T00:00:00",
          "2012-08-01T00:00:00",
          "2012-09-01T00:00:00",
          "2012-10-01T00:00:00",
          "2012-11-01T00:00:00",
          "2012-12-01T00:00:00",
          "2013-01-01T00:00:00",
          "2013-03-01T00:00:00",
          "2013-04-01T00:00:00",
          "2013-05-01T00:00:00",
          "2013-06-01T00:00:00",
          "2013-07-01T00:00:00",
          "2013-08-01T00:00:00",
          "2013-09-01T00:00:00",
          "2013-10-01T00:00:00",
          "2013-11-01T00:00:00",
          "2013-12-01T00:00:00",
          "2014-01-01T00:00:00",
          "2014-02-01T00:00:00",
          "2014-03-01T00:00:00",
          "2014-04-01T00:00:00",
          "2014-05-01T00:00:00",
          "2014-06-01T00:00:00",
          "2014-07-01T00:00:00",
          "2014-08-01T00:00:00",
          "2014-09-01T00:00:00",
          "2014-10-01T00:00:00",
          "2014-11-01T00:00:00",
          "2014-12-01T00:00:00",
          "2015-01-01T00:00:00",
          "2015-02-01T00:00:00",
          "2015-03-01T00:00:00",
          "2015-04-01T00:00:00",
          "2015-05-01T00:00:00",
          "2015-06-01T00:00:00",
          "2015-07-01T00:00:00",
          "2015-08-01T00:00:00",
          "2015-09-01T00:00:00",
          "2015-10-01T00:00:00",
          "2015-11-01T00:00:00",
          "2015-12-01T00:00:00",
          "2016-01-01T00:00:00",
          "2016-02-01T00:00:00",
          "2016-03-01T00:00:00",
          "2016-04-01T00:00:00",
          "2016-05-01T00:00:00",
          "2016-06-01T00:00:00",
          "2016-07-01T00:00:00",
          "2016-08-01T00:00:00",
          "2016-09-01T00:00:00",
          "2016-10-01T00:00:00",
          "2016-11-01T00:00:00",
          "2016-12-01T00:00:00",
          "2017-01-01T00:00:00",
          "2017-02-01T00:00:00",
          "2017-03-01T00:00:00",
          "2017-04-01T00:00:00",
          "2017-05-01T00:00:00",
          "2017-06-01T00:00:00",
          "2017-07-01T00:00:00",
          "2017-08-01T00:00:00",
          "2017-09-01T00:00:00",
          "2017-10-01T00:00:00",
          "2017-11-01T00:00:00",
          "2017-12-01T00:00:00",
          "2018-01-01T00:00:00",
          "2018-02-01T00:00:00",
          "2018-03-01T00:00:00",
          "2018-04-01T00:00:00",
          "2018-05-01T00:00:00",
          "2018-06-01T00:00:00",
          "2018-07-01T00:00:00",
          "2018-08-01T00:00:00",
          "2018-09-01T00:00:00",
          "2018-10-01T00:00:00",
          "2018-11-01T00:00:00",
          "2018-12-01T00:00:00",
          "2019-01-01T00:00:00",
          "2019-02-01T00:00:00",
          "2019-03-01T00:00:00",
          "2019-04-01T00:00:00",
          "2019-05-01T00:00:00",
          "2019-06-01T00:00:00",
          "2019-07-01T00:00:00",
          "2019-08-01T00:00:00",
          "2019-09-01T00:00:00",
          "2019-10-01T00:00:00",
          "2019-11-01T00:00:00",
          "2019-12-01T00:00:00",
          "2020-01-01T00:00:00",
          "2020-02-01T00:00:00",
          "2020-03-01T00:00:00",
          "2020-04-01T00:00:00",
          "2020-05-01T00:00:00",
          "2020-06-01T00:00:00",
          "2020-07-01T00:00:00",
          "2020-08-01T00:00:00",
          "2020-09-01T00:00:00",
          "2020-10-01T00:00:00",
          "2020-11-01T00:00:00",
          "2020-12-01T00:00:00",
          "2021-01-01T00:00:00",
          "2021-02-01T00:00:00",
          "2021-03-01T00:00:00",
          "2021-04-01T00:00:00",
          "2021-05-01T00:00:00",
          "2021-06-01T00:00:00",
          "2021-07-01T00:00:00",
          "2021-08-01T00:00:00",
          "2021-09-01T00:00:00",
          "2021-10-01T00:00:00",
          "2021-11-01T00:00:00",
          "2021-12-01T00:00:00"
         ],
         "xaxis": "x",
         "y": [
          8.9,
          139.5,
          67.2,
          74.2,
          38.7,
          108.2,
          200.9,
          65.5,
          85.2,
          161.1849264705882,
          52.07625458996328,
          35.32802197802198,
          68.9,
          178.7081300813008,
          53.05555555555556,
          83.90000000000002,
          37.94265129682997,
          118.35343035343035,
          72.49519379844962,
          48.51259842519685,
          77.64131147540984,
          232.90379146919435,
          71.62541436464089,
          70.48050314465408,
          60.1,
          95.2,
          236.35,
          195.9,
          162.6,
          80.53999999999999,
          118.5,
          149.2111111111111,
          35.9,
          90.1,
          209.2,
          143.1,
          276.5506711409396,
          308.3203125,
          132.9,
          155.13846153846154,
          103.3,
          81.1,
          169.00915619389585,
          152.59446861404598,
          126.31270491803278,
          148.12219979818366,
          103.84485488126649,
          176.20818965517242,
          4.564516129032258,
          45.5,
          0,
          126.2,
          40.79999999999999,
          414.7156521739131,
          93.55714285714286,
          116.80478938257356,
          108.48697749196141,
          182.9887254901961,
          54.07725856697819,
          44.455516014234874,
          76.5,
          75.7,
          45.8,
          6.2,
          173.5,
          114.34083885209714,
          239.5596153846154,
          14.1,
          73.73030303030303,
          82.9,
          106.04277168494517,
          154.62152317880793,
          143.90595238095239,
          28.419059720457433,
          95.19999999999999,
          67.7,
          97.8,
          13.7,
          103.27499999999999,
          103.4,
          46.13050847457627,
          131.7845323741007,
          152.64155844155843,
          176.36306306306307,
          65.3076923076923,
          154.8,
          161.1,
          88.2,
          45.86666666666667,
          72,
          21.6,
          60.2,
          102.37142857142857,
          192.93474576271186,
          292.12068965517244,
          141.29999999999998,
          195.1,
          112.53333333333332,
          86.35,
          45.06666666666666,
          32.00693641618497,
          107.88571428571429,
          189.75236593059938,
          87.0546687211094,
          103.64757160647572,
          104.90079787234042,
          173.04559585492228,
          110.363,
          58.6,
          114.4,
          116.90000000000002,
          113.7,
          31.414438502673796,
          143.7691289966924,
          64.36065773447015,
          84.40985401459855,
          108.18083333333333,
          127.74147909967846,
          17.677292576419212,
          48.37364864864865,
          21.125,
          61.849999999999994,
          26.506598062953994,
          100.13557784145176,
          93.31703456892961,
          123.22661691542288,
          139.28623279098872,
          39.20954861111111,
          66.10487012987012,
          120.78223684210528,
          53.55,
          21.07,
          66.6357259380098,
          77.72488839285714,
          164.5509951956074,
          153.70046125461255,
          63.07584615384615,
          73.4467672413793,
          76.5625,
          37.96666666666667,
          79.8,
          27.323076923076922,
          8.546067415730338,
          306.26539509536786,
          97.00858895705521,
          204.47210365853655,
          139.23545454545456,
          78.89915966386555,
          205.80275862068967,
          170.24400000000003,
          93.9,
          35.233333333333334,
          53.5,
          176.4,
          56.2,
          169.4374149659864,
          145.73573224995164,
          129.76688219842393,
          136.29117647058823,
          143.07371794871796,
          130.38305084745764,
          102.11919999999999,
          59,
          89.2,
          25.433333333333334,
          112.2,
          68.06666666666666,
          91.27586206896552,
          128.39005442850075,
          89.85732574679943,
          359.7184210526316,
          92.16953642384107,
          196.81363636363633,
          83.34285714285714,
          124.5,
          62.4,
          49.5,
          241.15,
          154.10251256281407,
          70.55733634311513,
          124.97384105960265,
          105.41439114391143,
          108.58626198083067,
          120.56470588235294,
          80.2,
          98.7,
          43.3,
          31.65,
          83.9,
          65.84210526315789,
          65.62857142857143,
          194.30356394129979,
          91.9542750929368,
          157.63501326259947,
          206.36912751677852,
          127.43304347826086,
          98.47560975609755,
          181.6,
          124.85999999999999,
          42.9,
          34.3,
          34.875,
          170.88121546961327,
          93.9154503616042,
          92.22975532754539,
          139.22378580323786,
          93.94593220338983,
          39.12298546895641,
          193.08880597014922,
          37.8,
          181.7,
          63.5,
          183.34605263157894,
          169.77019810508182,
          89.33388704318936,
          99.0613545816733,
          191.24096385542168,
          61.80493827160494,
          158.0704918032787,
          29.62857142857143,
          30.4,
          24.2,
          28.61111111111111,
          38.94285714285714,
          80.82374727668845,
          115.32145748987854,
          91.1575599582899,
          102.66765285996055,
          151.7866096866097,
          48.25771276595745,
          46.6160447761194,
          30.286206896551725,
          40.8,
          9.327272727272728,
          37.38461538461538,
          131.2,
          152.88181818181818,
          140.96187845303868,
          75.24449541284405,
          29.951578947368425,
          148.26646341463416,
          173.61194029850745,
          63.86850828729282,
          35.09726027397261,
          54.6,
          51.65,
          61.7,
          16.833333333333332,
          150.08333333333334,
          135.00704225352112,
          124.17647058823529,
          190.7391304347826,
          41.98705882352941,
          5.685714285714285,
          39.4,
          35.1,
          44.3,
          18.911515151515154,
          44.1,
          112,
          76.3071111111111,
          37.3552995391705,
          113.02146892655367,
          102.04331550802141,
          110.51904761904763,
          92.22727272727273,
          18.1,
          18.1,
          60.2,
          118.9,
          20.23132530120482,
          87.45346534653467,
          163.375,
          151.99,
          87.80555555555556,
          45.31666666666666,
          52.528571428571425,
          123.9,
          110.9,
          39.2,
          35.1,
          47.922009569377984,
          16.484491978609626,
          90.88921568627451,
          102.20799721835884,
          174.62208737864077,
          207.85889679715305,
          39.4936170212766,
          20.884999999999998,
          90.13461538461539,
          93.96666666666665,
          34.3,
          18.7,
          22.55,
          66.10402010050251,
          64.78770226537218,
          157.4842105263158,
          86.32352941176471,
          74.50625,
          121.40833333333332,
          0,
          34.2,
          19.875,
          187.725,
          76.62857142857143,
          130.55166666666668,
          118.89121447028424,
          146.8879069767442,
          123.09770114942529,
          110.14347826086957,
          100.1,
          111.17999999999999,
          53.400000000000006,
          52.879999999999995,
          92.21818181818182,
          162.51951219512196,
          99.29674418604651,
          113.81222222222223,
          91.3603305785124,
          98.1842105263158,
          120.41739130434782,
          126.01666666666667,
          62.23333333333333,
          56.021428571428565,
          71.3483870967742,
          25.344444444444445,
          69.72692307692309,
          79.24307692307693,
          85.45555555555555,
          222.02588832487308,
          132.52200000000002,
          59.378531073446325,
          137.89354838709676,
          77.5,
          41.86666666666667,
          81.86666666666666,
          41.9,
          39.5,
          92.88095238095238,
          138.59322033898306,
          90.3970588235294,
          59.63400000000001,
          106.31764705882352,
          82.97894736842105,
          82.675,
          56.3,
          23.8,
          108.22,
          97.9,
          40.42,
          111.2,
          162.04358974358973,
          146.58993288590602,
          120.81379310344828,
          93.09615384615384,
          82.03529411764706,
          52.79302325581395,
          53.38648648648649,
          6.053333333333333,
          83.96111111111111,
          51.5,
          65.52058823529413,
          85.03999999999999,
          89.02113821138212,
          87.72006920415224,
          103.46233766233766,
          104,
          133.9732673267327,
          43.02857142857143,
          81.11818181818181,
          112.95,
          197.53333333333333,
          59.3375,
          61.75,
          46.97833333333334,
          98.04383561643836,
          68.01901840490797,
          85.10676691729323,
          95.95569620253164,
          57.48,
          87.25384615384615,
          30.172727272727272,
          240.44285714285712,
          77.61111111111111,
          45.285714285714285,
          63.90357142857143,
          63.078761061946906,
          102.73262411347518,
          105.45690607734807,
          109.32558139534883,
          136.01463414634145,
          77.08757763975156,
          152.0969696969697,
          115.92999999999999,
          119.46000000000001,
          42.97777777777778,
          116.38,
          57.23,
          43.771875,
          88.96910569105691,
          162.69714285714284,
          74.40220588235294,
          144.26354166666667,
          72.16296296296296,
          152.921875,
          23.85,
          107.58571428571429,
          162.93333333333334,
          32.779999999999994,
          47.800000000000004,
          47.837777777777774,
          168.92051282051284,
          153.6006329113924,
          203.87943925233648,
          93.49705882352941,
          62.926760563380284,
          70.45333333333333,
          21.56,
          135.4
         ],
         "yaxis": "y"
        },
        {
         "mode": "lines",
         "name": "Precipitation (Moving Average 10)",
         "type": "scatter",
         "x": [
          "1981-04-01T00:00:00",
          "1981-05-01T00:00:00",
          "1981-06-01T00:00:00",
          "1981-07-01T00:00:00",
          "1981-08-01T00:00:00",
          "1981-09-01T00:00:00",
          "1982-08-01T00:00:00",
          "1982-09-01T00:00:00",
          "1983-04-01T00:00:00",
          "1983-05-01T00:00:00",
          "1983-06-01T00:00:00",
          "1983-07-01T00:00:00",
          "1983-08-01T00:00:00",
          "1983-09-01T00:00:00",
          "1983-10-01T00:00:00",
          "1983-11-01T00:00:00",
          "1984-04-01T00:00:00",
          "1984-05-01T00:00:00",
          "1984-06-01T00:00:00",
          "1984-07-01T00:00:00",
          "1984-08-01T00:00:00",
          "1984-09-01T00:00:00",
          "1984-10-01T00:00:00",
          "1984-11-01T00:00:00",
          "1984-12-01T00:00:00",
          "1985-04-01T00:00:00",
          "1985-05-01T00:00:00",
          "1985-08-01T00:00:00",
          "1986-05-01T00:00:00",
          "1986-06-01T00:00:00",
          "1986-07-01T00:00:00",
          "1986-08-01T00:00:00",
          "1986-09-01T00:00:00",
          "1986-10-01T00:00:00",
          "1987-03-01T00:00:00",
          "1987-05-01T00:00:00",
          "1987-06-01T00:00:00",
          "1987-07-01T00:00:00",
          "1987-08-01T00:00:00",
          "1987-09-01T00:00:00",
          "1988-01-01T00:00:00",
          "1988-04-01T00:00:00",
          "1988-05-01T00:00:00",
          "1988-06-01T00:00:00",
          "1988-07-01T00:00:00",
          "1988-08-01T00:00:00",
          "1988-09-01T00:00:00",
          "1988-10-01T00:00:00",
          "1988-11-01T00:00:00",
          "1988-12-01T00:00:00",
          "1989-01-01T00:00:00",
          "1989-02-01T00:00:00",
          "1989-03-01T00:00:00",
          "1989-04-01T00:00:00",
          "1989-05-01T00:00:00",
          "1989-06-01T00:00:00",
          "1989-07-01T00:00:00",
          "1989-08-01T00:00:00",
          "1989-09-01T00:00:00",
          "1989-10-01T00:00:00",
          "1989-11-01T00:00:00",
          "1989-12-01T00:00:00",
          "1990-01-01T00:00:00",
          "1990-03-01T00:00:00",
          "1990-04-01T00:00:00",
          "1990-05-01T00:00:00",
          "1990-06-01T00:00:00",
          "1990-07-01T00:00:00",
          "1990-08-01T00:00:00",
          "1990-09-01T00:00:00",
          "1991-05-01T00:00:00",
          "1991-06-01T00:00:00",
          "1991-07-01T00:00:00",
          "1991-08-01T00:00:00",
          "1991-09-01T00:00:00",
          "1991-10-01T00:00:00",
          "1991-12-01T00:00:00",
          "1992-01-01T00:00:00",
          "1992-03-01T00:00:00",
          "1992-04-01T00:00:00",
          "1992-05-01T00:00:00",
          "1992-06-01T00:00:00",
          "1992-07-01T00:00:00",
          "1992-08-01T00:00:00",
          "1992-09-01T00:00:00",
          "1992-10-01T00:00:00",
          "1992-11-01T00:00:00",
          "1992-12-01T00:00:00",
          "1993-01-01T00:00:00",
          "1993-02-01T00:00:00",
          "1993-03-01T00:00:00",
          "1993-04-01T00:00:00",
          "1993-05-01T00:00:00",
          "1993-06-01T00:00:00",
          "1993-07-01T00:00:00",
          "1993-08-01T00:00:00",
          "1993-09-01T00:00:00",
          "1993-12-01T00:00:00",
          "1994-01-01T00:00:00",
          "1994-02-01T00:00:00",
          "1994-03-01T00:00:00",
          "1994-04-01T00:00:00",
          "1994-05-01T00:00:00",
          "1994-06-01T00:00:00",
          "1994-07-01T00:00:00",
          "1994-08-01T00:00:00",
          "1994-09-01T00:00:00",
          "1994-10-01T00:00:00",
          "1994-11-01T00:00:00",
          "1994-12-01T00:00:00",
          "1995-02-01T00:00:00",
          "1995-03-01T00:00:00",
          "1995-04-01T00:00:00",
          "1995-05-01T00:00:00",
          "1995-06-01T00:00:00",
          "1995-07-01T00:00:00",
          "1995-08-01T00:00:00",
          "1995-09-01T00:00:00",
          "1995-10-01T00:00:00",
          "1995-11-01T00:00:00",
          "1996-01-01T00:00:00",
          "1996-03-01T00:00:00",
          "1996-04-01T00:00:00",
          "1996-05-01T00:00:00",
          "1996-06-01T00:00:00",
          "1996-07-01T00:00:00",
          "1996-08-01T00:00:00",
          "1996-09-01T00:00:00",
          "1996-10-01T00:00:00",
          "1996-11-01T00:00:00",
          "1996-12-01T00:00:00",
          "1997-03-01T00:00:00",
          "1997-04-01T00:00:00",
          "1997-05-01T00:00:00",
          "1997-06-01T00:00:00",
          "1997-07-01T00:00:00",
          "1997-08-01T00:00:00",
          "1997-09-01T00:00:00",
          "1997-10-01T00:00:00",
          "1997-11-01T00:00:00",
          "1998-01-01T00:00:00",
          "1998-02-01T00:00:00",
          "1998-03-01T00:00:00",
          "1998-04-01T00:00:00",
          "1998-05-01T00:00:00",
          "1998-06-01T00:00:00",
          "1998-07-01T00:00:00",
          "1998-08-01T00:00:00",
          "1998-09-01T00:00:00",
          "1998-10-01T00:00:00",
          "1998-11-01T00:00:00",
          "1998-12-01T00:00:00",
          "1999-01-01T00:00:00",
          "1999-02-01T00:00:00",
          "1999-03-01T00:00:00",
          "1999-04-01T00:00:00",
          "1999-05-01T00:00:00",
          "1999-06-01T00:00:00",
          "1999-07-01T00:00:00",
          "1999-08-01T00:00:00",
          "1999-09-01T00:00:00",
          "1999-10-01T00:00:00",
          "1999-11-01T00:00:00",
          "1999-12-01T00:00:00",
          "2000-01-01T00:00:00",
          "2000-02-01T00:00:00",
          "2000-03-01T00:00:00",
          "2000-04-01T00:00:00",
          "2000-05-01T00:00:00",
          "2000-06-01T00:00:00",
          "2000-07-01T00:00:00",
          "2000-08-01T00:00:00",
          "2000-09-01T00:00:00",
          "2000-10-01T00:00:00",
          "2000-11-01T00:00:00",
          "2000-12-01T00:00:00",
          "2001-02-01T00:00:00",
          "2001-03-01T00:00:00",
          "2001-04-01T00:00:00",
          "2001-05-01T00:00:00",
          "2001-06-01T00:00:00",
          "2001-07-01T00:00:00",
          "2001-08-01T00:00:00",
          "2001-09-01T00:00:00",
          "2001-10-01T00:00:00",
          "2001-11-01T00:00:00",
          "2001-12-01T00:00:00",
          "2002-01-01T00:00:00",
          "2002-02-01T00:00:00",
          "2002-03-01T00:00:00",
          "2002-04-01T00:00:00",
          "2002-05-01T00:00:00",
          "2002-06-01T00:00:00",
          "2002-07-01T00:00:00",
          "2002-08-01T00:00:00",
          "2002-09-01T00:00:00",
          "2002-10-01T00:00:00",
          "2002-11-01T00:00:00",
          "2002-12-01T00:00:00",
          "2003-01-01T00:00:00",
          "2003-02-01T00:00:00",
          "2003-03-01T00:00:00",
          "2003-04-01T00:00:00",
          "2003-05-01T00:00:00",
          "2003-06-01T00:00:00",
          "2003-07-01T00:00:00",
          "2003-08-01T00:00:00",
          "2003-09-01T00:00:00",
          "2003-10-01T00:00:00",
          "2003-11-01T00:00:00",
          "2004-01-01T00:00:00",
          "2004-03-01T00:00:00",
          "2004-04-01T00:00:00",
          "2004-05-01T00:00:00",
          "2004-06-01T00:00:00",
          "2004-07-01T00:00:00",
          "2004-08-01T00:00:00",
          "2004-09-01T00:00:00",
          "2004-10-01T00:00:00",
          "2004-11-01T00:00:00",
          "2004-12-01T00:00:00",
          "2005-01-01T00:00:00",
          "2005-02-01T00:00:00",
          "2005-03-01T00:00:00",
          "2005-04-01T00:00:00",
          "2005-05-01T00:00:00",
          "2005-06-01T00:00:00",
          "2005-07-01T00:00:00",
          "2005-08-01T00:00:00",
          "2005-09-01T00:00:00",
          "2005-10-01T00:00:00",
          "2005-11-01T00:00:00",
          "2005-12-01T00:00:00",
          "2006-01-01T00:00:00",
          "2006-02-01T00:00:00",
          "2006-03-01T00:00:00",
          "2006-04-01T00:00:00",
          "2006-05-01T00:00:00",
          "2006-06-01T00:00:00",
          "2006-07-01T00:00:00",
          "2006-08-01T00:00:00",
          "2006-09-01T00:00:00",
          "2006-10-01T00:00:00",
          "2006-11-01T00:00:00",
          "2006-12-01T00:00:00",
          "2007-01-01T00:00:00",
          "2007-02-01T00:00:00",
          "2007-04-01T00:00:00",
          "2007-05-01T00:00:00",
          "2007-06-01T00:00:00",
          "2007-07-01T00:00:00",
          "2007-08-01T00:00:00",
          "2007-09-01T00:00:00",
          "2007-10-01T00:00:00",
          "2007-11-01T00:00:00",
          "2007-12-01T00:00:00",
          "2008-01-01T00:00:00",
          "2008-02-01T00:00:00",
          "2008-03-01T00:00:00",
          "2008-04-01T00:00:00",
          "2008-05-01T00:00:00",
          "2008-06-01T00:00:00",
          "2008-07-01T00:00:00",
          "2008-08-01T00:00:00",
          "2008-09-01T00:00:00",
          "2008-10-01T00:00:00",
          "2008-11-01T00:00:00",
          "2009-01-01T00:00:00",
          "2009-02-01T00:00:00",
          "2009-03-01T00:00:00",
          "2009-04-01T00:00:00",
          "2009-05-01T00:00:00",
          "2009-06-01T00:00:00",
          "2009-07-01T00:00:00",
          "2009-08-01T00:00:00",
          "2009-09-01T00:00:00",
          "2009-10-01T00:00:00",
          "2009-11-01T00:00:00",
          "2009-12-01T00:00:00",
          "2010-01-01T00:00:00",
          "2010-02-01T00:00:00",
          "2010-03-01T00:00:00",
          "2010-04-01T00:00:00",
          "2010-05-01T00:00:00",
          "2010-06-01T00:00:00",
          "2010-07-01T00:00:00",
          "2010-08-01T00:00:00",
          "2010-09-01T00:00:00",
          "2010-10-01T00:00:00",
          "2010-11-01T00:00:00",
          "2010-12-01T00:00:00",
          "2011-01-01T00:00:00",
          "2011-03-01T00:00:00",
          "2011-04-01T00:00:00",
          "2011-05-01T00:00:00",
          "2011-06-01T00:00:00",
          "2011-07-01T00:00:00",
          "2011-08-01T00:00:00",
          "2011-09-01T00:00:00",
          "2011-10-01T00:00:00",
          "2011-11-01T00:00:00",
          "2012-02-01T00:00:00",
          "2012-03-01T00:00:00",
          "2012-04-01T00:00:00",
          "2012-05-01T00:00:00",
          "2012-06-01T00:00:00",
          "2012-07-01T00:00:00",
          "2012-08-01T00:00:00",
          "2012-09-01T00:00:00",
          "2012-10-01T00:00:00",
          "2012-11-01T00:00:00",
          "2012-12-01T00:00:00",
          "2013-01-01T00:00:00",
          "2013-03-01T00:00:00",
          "2013-04-01T00:00:00",
          "2013-05-01T00:00:00",
          "2013-06-01T00:00:00",
          "2013-07-01T00:00:00",
          "2013-08-01T00:00:00",
          "2013-09-01T00:00:00",
          "2013-10-01T00:00:00",
          "2013-11-01T00:00:00",
          "2013-12-01T00:00:00",
          "2014-01-01T00:00:00",
          "2014-02-01T00:00:00",
          "2014-03-01T00:00:00",
          "2014-04-01T00:00:00",
          "2014-05-01T00:00:00",
          "2014-06-01T00:00:00",
          "2014-07-01T00:00:00",
          "2014-08-01T00:00:00",
          "2014-09-01T00:00:00",
          "2014-10-01T00:00:00",
          "2014-11-01T00:00:00",
          "2014-12-01T00:00:00",
          "2015-01-01T00:00:00",
          "2015-02-01T00:00:00",
          "2015-03-01T00:00:00",
          "2015-04-01T00:00:00",
          "2015-05-01T00:00:00",
          "2015-06-01T00:00:00",
          "2015-07-01T00:00:00",
          "2015-08-01T00:00:00",
          "2015-09-01T00:00:00",
          "2015-10-01T00:00:00",
          "2015-11-01T00:00:00",
          "2015-12-01T00:00:00",
          "2016-01-01T00:00:00",
          "2016-02-01T00:00:00",
          "2016-03-01T00:00:00",
          "2016-04-01T00:00:00",
          "2016-05-01T00:00:00",
          "2016-06-01T00:00:00",
          "2016-07-01T00:00:00",
          "2016-08-01T00:00:00",
          "2016-09-01T00:00:00",
          "2016-10-01T00:00:00",
          "2016-11-01T00:00:00",
          "2016-12-01T00:00:00",
          "2017-01-01T00:00:00",
          "2017-02-01T00:00:00",
          "2017-03-01T00:00:00",
          "2017-04-01T00:00:00",
          "2017-05-01T00:00:00",
          "2017-06-01T00:00:00",
          "2017-07-01T00:00:00",
          "2017-08-01T00:00:00",
          "2017-09-01T00:00:00",
          "2017-10-01T00:00:00",
          "2017-11-01T00:00:00",
          "2017-12-01T00:00:00",
          "2018-01-01T00:00:00",
          "2018-02-01T00:00:00",
          "2018-03-01T00:00:00",
          "2018-04-01T00:00:00",
          "2018-05-01T00:00:00",
          "2018-06-01T00:00:00",
          "2018-07-01T00:00:00",
          "2018-08-01T00:00:00",
          "2018-09-01T00:00:00",
          "2018-10-01T00:00:00",
          "2018-11-01T00:00:00",
          "2018-12-01T00:00:00",
          "2019-01-01T00:00:00",
          "2019-02-01T00:00:00",
          "2019-03-01T00:00:00",
          "2019-04-01T00:00:00",
          "2019-05-01T00:00:00",
          "2019-06-01T00:00:00",
          "2019-07-01T00:00:00",
          "2019-08-01T00:00:00",
          "2019-09-01T00:00:00",
          "2019-10-01T00:00:00",
          "2019-11-01T00:00:00",
          "2019-12-01T00:00:00",
          "2020-01-01T00:00:00",
          "2020-02-01T00:00:00",
          "2020-03-01T00:00:00",
          "2020-04-01T00:00:00",
          "2020-05-01T00:00:00",
          "2020-06-01T00:00:00",
          "2020-07-01T00:00:00",
          "2020-08-01T00:00:00",
          "2020-09-01T00:00:00",
          "2020-10-01T00:00:00",
          "2020-11-01T00:00:00",
          "2020-12-01T00:00:00",
          "2021-01-01T00:00:00",
          "2021-02-01T00:00:00",
          "2021-03-01T00:00:00",
          "2021-04-01T00:00:00",
          "2021-05-01T00:00:00",
          "2021-06-01T00:00:00",
          "2021-07-01T00:00:00",
          "2021-08-01T00:00:00",
          "2021-09-01T00:00:00",
          "2021-10-01T00:00:00",
          "2021-11-01T00:00:00",
          "2021-12-01T00:00:00"
         ],
         "xaxis": "x",
         "y": [
          null,
          null,
          null,
          null,
          null,
          94.94849264705883,
          99.26611810605515,
          88.84892030385734,
          89.01892030385734,
          99.46973331198743,
          100.90528886754298,
          98.47528886754299,
          82.17955399722598,
          87.46489703256901,
          86.19441641241397,
          74.92718360787484,
          77.4836892964195,
          97.24126624553674,
          97.51380768200082,
          86.69104498833615,
          87.3954894327806,
          88.52548943278059,
          108.3662243030976,
          116.12088126775457,
          125.13136188790959,
          128.3341020453899,
          132.41997089784894,
          124.05070286204061,
          120.47816142557652,
          122.44011111111111,
          137.35011111111112,
          142.1401111111111,
          146.16017822520507,
          157.40220947520507,
          154.43220947520507,
          161.8920556290512,
          160.37205562905123,
          153.5609445179401,
          166.87186013732972,
          173.12130699873427,
          164.83257749053757,
          165.33479747035594,
          148.06421584438863,
          134.85300355990586,
          122.01945517280907,
          111.05560901896293,
          100.72560901896296,
          105.23560901896295,
          92.41469339957335,
          118.62681175556006,
          115.35125554947108,
          112.21951450791008,
          112.68372676897957,
          113.36178035248193,
          118.31305459627654,
          118.2086061977,
          125.85860619770001,
          120.80860619770002,
          121.30860619770002,
          80.45704098030869,
          88.45132669459441,
          88.20493164154678,
          101.31219543081218,
          84.42332288179256,
          86.38862732812504,
          90.23307572670156,
          93.18735289519607,
          101.07950521307687,
          110.89010045117212,
          113.11200642321785,
          105.28200642321785,
          100.61792253800813,
          86.44196099954658,
          86.40196099954659,
          89.3564306965163,
          91.40643069651628,
          85.4152043754794,
          83.13150529500868,
          84.00506590106929,
          98.79946623532985,
          95.81023546609907,
          104.52023546609908,
          110.8502354660991,
          118.30023546609907,
          112.55940213276574,
          109.41940213276575,
          106.96635128530811,
          99.80789804789805,
          94.78088506088507,
          96.43805333084995,
          119.11935306559795,
          117.76935306559797,
          121.16935306559795,
          123.6026863989313,
          127.65101973226463,
          124.95768639893129,
          125.99838004054978,
          130.7669514691212,
          139.5050452050383,
          128.91703750087805,
          110.06972569600836,
          106.42980548324242,
          104.22436506873464,
          104.00733173540132,
          101.2323317354013,
          108.16566506873464,
          116.65497142711615,
          117.23639999854473,
          101.40260725575216,
          107.07405328331046,
          103.1453618961099,
          101.09626751033571,
          94.60979125817683,
          96.34763916814467,
          92.2553684257866,
          85.65273329065147,
          76.07523329065145,
          70.89023329065144,
          70.39944924667947,
          66.03609413115541,
          68.93173181460136,
          72.81340810468379,
          75.92394805044933,
          67.07075500159259,
          71.91351275693769,
          79.15437157628335,
          82.39687157628335,
          78.31887157628336,
          82.33178436378893,
          80.09071541892948,
          87.21411148159724,
          90.2614959155162,
          82.64045725180196,
          86.06417911482876,
          87.10994210184177,
          78.82838508429789,
          81.4533850842979,
          82.07869277660559,
          76.26972692437765,
          99.1237775946287,
          92.3695369707735,
          97.4467012111659,
          105.06266205032674,
          105.60790129257536,
          118.53192715464434,
          131.75966048797767,
          133.16966048797767,
          133.96068612900334,
          138.4560793874303,
          125.4695398778935,
          121.38868098218798,
          117.88521211293296,
          118.53523988338267,
          123.62201213683849,
          116.67085392182835,
          113.95382571670015,
          117.6021308014459,
          124.29071746811258,
          124.84071746811257,
          116.12071746811259,
          113.0440508014459,
          107.32030930484727,
          99.55340274651877,
          95.70430073357292,
          94.91418852936418,
          89.59254930917234,
          112.52608632968972,
          111.53111997207384,
          125.31248360843747,
          124.72676932272319,
          134.63343598938985,
          129.65343598938983,
          127.79676932272318,
          142.78418311582664,
          145.35542892925798,
          143.42542998888956,
          119.95097198958663,
          121.27545746159367,
          112.4527200233131,
          116.17490489726269,
          111.74490489726267,
          115.3749048972627,
          114.75490489726269,
          93.80490489726269,
          86.78465364098128,
          86.31313053298557,
          80.37860356988243,
          89.26752084962126,
          87.60432216083188,
          91.31135289885654,
          103.92826565053437,
          106.80156999836046,
          112.31913097397023,
          127.31413097397024,
          131.41013097397024,
          129.11592044765445,
          125.9830633047973,
          110.04020691066732,
          117.93290094833496,
          111.56094465823544,
          100.14700743931212,
          101.32608167180982,
          100.87311391653905,
          86.6254124634347,
          93.44829306044963,
          92.93829306044962,
          107.67829306044962,
          110.54079306044962,
          111.7872767766462,
          119.37275155099394,
          119.08316472255834,
          115.06692160040191,
          124.79642476560507,
          127.06462004586993,
          123.56278862918289,
          122.74564577204004,
          107.61564577204004,
          103.68564577204002,
          88.21215161999324,
          75.12941752377077,
          74.27840354712069,
          75.9044138379412,
          65.89607344822801,
          69.98234490706358,
          69.35395669539668,
          71.21687082913527,
          72.83847530674723,
          73.4470959964024,
          74.6659848852913,
          71.70442644373284,
          67.36051325452553,
          68.94836750553768,
          75.12079332789051,
          78.95021588719833,
          71.29600445982176,
          69.46539107796286,
          79.63043294181433,
          93.9630062820099,
          96.26985711073918,
          98.84685586540918,
          100.56839432694764,
          92.61339432694764,
          83.49521250876582,
          71.08235799679528,
          78.56624178884422,
          89.07178811945948,
          86.6627888368196,
          88.37550785044712,
          86.18736290407077,
          83.24620830524493,
          81.72620830524494,
          80.07120830524494,
          78.33120830524494,
          78.53902648706313,
          67.94069315372978,
          65.63998892837768,
          60.853052980665254,
          45.51466989110405,
          52.61811090140647,
          62.25387102363718,
          69.36577578554194,
          75.0785030582692,
          72.45850305826922,
          72.37735154311771,
          73.98735154311771,
          74.67735154311771,
          69.06977296212708,
          74.07958954286349,
          79.11494265020812,
          84.109611099406,
          81.8382618930568,
          77.14720128699618,
          80.59005842985331,
          91.17005842985331,
          96.2400584298533,
          88.27005842985332,
          89.75692589973283,
          85.80378032201716,
          71.11472951987813,
          65.00465108850557,
          66.4448952547859,
          79.37543732598331,
          94.90846986284149,
          86.46783156496915,
          77.46633156496914,
          82.55979310343068,
          88.44645977009733,
          87.08425881315955,
          87.30580961529859,
          80.47188804667113,
          76.8614903348855,
          65.87805182355864,
          60.8405831964749,
          65.52357443552373,
          70.88569943552372,
          74.01307123039552,
          64.61640456372885,
          64.60640456372886,
          64.72390456372885,
          81.24140456372886,
          82.29385969653575,
          88.87025613666519,
          85.01095653106204,
          91.06739428755999,
          95.92653940250253,
          94.80005389525614,
          104.81005389525615,
          112.50805389525613,
          115.86055389525613,
          102.37605389525615,
          103.93501493421718,
          107.1317994870627,
          105.17235245863893,
          101.86478398318674,
          98.69104692609545,
          97.49512015264007,
          99.52685928307486,
          101.01052594974152,
          101.89385928307486,
          102.20800214021772,
          100.12102266807695,
          86.4035158930092,
          83.44653378209685,
          79.98961925218232,
          79.39914174988664,
          91.78330952974235,
          92.99377039930758,
          86.32995683998556,
          93.8959783453619,
          96.04383548821905,
          93.09566344520829,
          98.74788566743051,
          95.9651933597382,
          91.9908856674305,
          92.73342534997019,
          84.39015855138119,
          80.17766443373412,
          80.20321132638949,
          77.04562119356217,
          77.59351593040428,
          81.67434926373761,
          79.11768259707094,
          77.30768259707095,
          84.17968259707095,
          84.6815873589757,
          74.8642653250774,
          76.94455944272445,
          87.18551841708343,
          91.21274699979169,
          94.99623157329441,
          96.0383469579098,
          98.61187636967449,
          101.5111786952559,
          96.02782734390453,
          86.84316067723788,
          91.19727178834898,
          85.22727178834899,
          75.57497163751941,
          69.41997834892882,
          66.24071285972221,
          65.70310439552205,
          67.84580874999111,
          72.9665064244097,
          81.02518450843432,
          84.72270831795814,
          84.4384153886652,
          90.5834153886652,
          103.78468989846913,
          101.21443989846914,
          98.48732607733092,
          94.41315249024903,
          93.8713022856591,
          90.2732041261499,
          85.38655408520594,
          90.67926656260197,
          88.31544838078379,
          85.7458329961684,
          69.0097723901078,
          87.1203081043935,
          88.70641921550461,
          88.53715731074271,
          85.12313089195602,
          84.62910515765991,
          86.39169087727812,
          87.34181186475976,
          92.52637000429465,
          97.40244880354416,
          102.09393384024659,
          93.25934509565785,
          97.09123398454673,
          104.50866255597532,
          102.41608319089593,
          107.74620708470127,
          103.19594467335374,
          97.02744156561893,
          94.99179399518974,
          97.66004486626989,
          97.39150769053002,
          96.60816488749973,
          92.23146118379601,
          95.57764868379601,
          93.66487090601824,
          92.78544233458966,
          103.35577566792298,
          102.256588167923,
          98.1396775988173,
          86.6537410908808,
          96.10557178469678,
          97.03928090916936,
          110.21092853810671,
          104.26844692045965,
          108.17612297679769,
          104.4628848815596,
          90.32555154822624,
          100.58755154822626,
          null,
          null,
          null,
          null
         ],
         "yaxis": "y"
        },
        {
         "mode": "lines",
         "name": "Occurrences",
         "type": "scatter",
         "x": [
          "1981-04-01T00:00:00",
          "1981-05-01T00:00:00",
          "1981-06-01T00:00:00",
          "1981-07-01T00:00:00",
          "1981-08-01T00:00:00",
          "1981-09-01T00:00:00",
          "1982-08-01T00:00:00",
          "1982-09-01T00:00:00",
          "1983-04-01T00:00:00",
          "1983-05-01T00:00:00",
          "1983-06-01T00:00:00",
          "1983-07-01T00:00:00",
          "1983-08-01T00:00:00",
          "1983-09-01T00:00:00",
          "1983-10-01T00:00:00",
          "1983-11-01T00:00:00",
          "1984-04-01T00:00:00",
          "1984-05-01T00:00:00",
          "1984-06-01T00:00:00",
          "1984-07-01T00:00:00",
          "1984-08-01T00:00:00",
          "1984-09-01T00:00:00",
          "1984-10-01T00:00:00",
          "1984-11-01T00:00:00",
          "1984-12-01T00:00:00",
          "1985-04-01T00:00:00",
          "1985-05-01T00:00:00",
          "1985-08-01T00:00:00",
          "1986-05-01T00:00:00",
          "1986-06-01T00:00:00",
          "1986-07-01T00:00:00",
          "1986-08-01T00:00:00",
          "1986-09-01T00:00:00",
          "1986-10-01T00:00:00",
          "1987-03-01T00:00:00",
          "1987-05-01T00:00:00",
          "1987-06-01T00:00:00",
          "1987-07-01T00:00:00",
          "1987-08-01T00:00:00",
          "1987-09-01T00:00:00",
          "1988-01-01T00:00:00",
          "1988-04-01T00:00:00",
          "1988-05-01T00:00:00",
          "1988-06-01T00:00:00",
          "1988-07-01T00:00:00",
          "1988-08-01T00:00:00",
          "1988-09-01T00:00:00",
          "1988-10-01T00:00:00",
          "1988-11-01T00:00:00",
          "1988-12-01T00:00:00",
          "1989-01-01T00:00:00",
          "1989-02-01T00:00:00",
          "1989-03-01T00:00:00",
          "1989-04-01T00:00:00",
          "1989-05-01T00:00:00",
          "1989-06-01T00:00:00",
          "1989-07-01T00:00:00",
          "1989-08-01T00:00:00",
          "1989-09-01T00:00:00",
          "1989-10-01T00:00:00",
          "1989-11-01T00:00:00",
          "1989-12-01T00:00:00",
          "1990-01-01T00:00:00",
          "1990-03-01T00:00:00",
          "1990-04-01T00:00:00",
          "1990-05-01T00:00:00",
          "1990-06-01T00:00:00",
          "1990-07-01T00:00:00",
          "1990-08-01T00:00:00",
          "1990-09-01T00:00:00",
          "1991-05-01T00:00:00",
          "1991-06-01T00:00:00",
          "1991-07-01T00:00:00",
          "1991-08-01T00:00:00",
          "1991-09-01T00:00:00",
          "1991-10-01T00:00:00",
          "1991-12-01T00:00:00",
          "1992-01-01T00:00:00",
          "1992-03-01T00:00:00",
          "1992-04-01T00:00:00",
          "1992-05-01T00:00:00",
          "1992-06-01T00:00:00",
          "1992-07-01T00:00:00",
          "1992-08-01T00:00:00",
          "1992-09-01T00:00:00",
          "1992-10-01T00:00:00",
          "1992-11-01T00:00:00",
          "1992-12-01T00:00:00",
          "1993-01-01T00:00:00",
          "1993-02-01T00:00:00",
          "1993-03-01T00:00:00",
          "1993-04-01T00:00:00",
          "1993-05-01T00:00:00",
          "1993-06-01T00:00:00",
          "1993-07-01T00:00:00",
          "1993-08-01T00:00:00",
          "1993-09-01T00:00:00",
          "1993-12-01T00:00:00",
          "1994-01-01T00:00:00",
          "1994-02-01T00:00:00",
          "1994-03-01T00:00:00",
          "1994-04-01T00:00:00",
          "1994-05-01T00:00:00",
          "1994-06-01T00:00:00",
          "1994-07-01T00:00:00",
          "1994-08-01T00:00:00",
          "1994-09-01T00:00:00",
          "1994-10-01T00:00:00",
          "1994-11-01T00:00:00",
          "1994-12-01T00:00:00",
          "1995-02-01T00:00:00",
          "1995-03-01T00:00:00",
          "1995-04-01T00:00:00",
          "1995-05-01T00:00:00",
          "1995-06-01T00:00:00",
          "1995-07-01T00:00:00",
          "1995-08-01T00:00:00",
          "1995-09-01T00:00:00",
          "1995-10-01T00:00:00",
          "1995-11-01T00:00:00",
          "1996-01-01T00:00:00",
          "1996-03-01T00:00:00",
          "1996-04-01T00:00:00",
          "1996-05-01T00:00:00",
          "1996-06-01T00:00:00",
          "1996-07-01T00:00:00",
          "1996-08-01T00:00:00",
          "1996-09-01T00:00:00",
          "1996-10-01T00:00:00",
          "1996-11-01T00:00:00",
          "1996-12-01T00:00:00",
          "1997-03-01T00:00:00",
          "1997-04-01T00:00:00",
          "1997-05-01T00:00:00",
          "1997-06-01T00:00:00",
          "1997-07-01T00:00:00",
          "1997-08-01T00:00:00",
          "1997-09-01T00:00:00",
          "1997-10-01T00:00:00",
          "1997-11-01T00:00:00",
          "1998-01-01T00:00:00",
          "1998-02-01T00:00:00",
          "1998-03-01T00:00:00",
          "1998-04-01T00:00:00",
          "1998-05-01T00:00:00",
          "1998-06-01T00:00:00",
          "1998-07-01T00:00:00",
          "1998-08-01T00:00:00",
          "1998-09-01T00:00:00",
          "1998-10-01T00:00:00",
          "1998-11-01T00:00:00",
          "1998-12-01T00:00:00",
          "1999-01-01T00:00:00",
          "1999-02-01T00:00:00",
          "1999-03-01T00:00:00",
          "1999-04-01T00:00:00",
          "1999-05-01T00:00:00",
          "1999-06-01T00:00:00",
          "1999-07-01T00:00:00",
          "1999-08-01T00:00:00",
          "1999-09-01T00:00:00",
          "1999-10-01T00:00:00",
          "1999-11-01T00:00:00",
          "1999-12-01T00:00:00",
          "2000-01-01T00:00:00",
          "2000-02-01T00:00:00",
          "2000-03-01T00:00:00",
          "2000-04-01T00:00:00",
          "2000-05-01T00:00:00",
          "2000-06-01T00:00:00",
          "2000-07-01T00:00:00",
          "2000-08-01T00:00:00",
          "2000-09-01T00:00:00",
          "2000-10-01T00:00:00",
          "2000-11-01T00:00:00",
          "2000-12-01T00:00:00",
          "2001-02-01T00:00:00",
          "2001-03-01T00:00:00",
          "2001-04-01T00:00:00",
          "2001-05-01T00:00:00",
          "2001-06-01T00:00:00",
          "2001-07-01T00:00:00",
          "2001-08-01T00:00:00",
          "2001-09-01T00:00:00",
          "2001-10-01T00:00:00",
          "2001-11-01T00:00:00",
          "2001-12-01T00:00:00",
          "2002-01-01T00:00:00",
          "2002-02-01T00:00:00",
          "2002-03-01T00:00:00",
          "2002-04-01T00:00:00",
          "2002-05-01T00:00:00",
          "2002-06-01T00:00:00",
          "2002-07-01T00:00:00",
          "2002-08-01T00:00:00",
          "2002-09-01T00:00:00",
          "2002-10-01T00:00:00",
          "2002-11-01T00:00:00",
          "2002-12-01T00:00:00",
          "2003-01-01T00:00:00",
          "2003-02-01T00:00:00",
          "2003-03-01T00:00:00",
          "2003-04-01T00:00:00",
          "2003-05-01T00:00:00",
          "2003-06-01T00:00:00",
          "2003-07-01T00:00:00",
          "2003-08-01T00:00:00",
          "2003-09-01T00:00:00",
          "2003-10-01T00:00:00",
          "2003-11-01T00:00:00",
          "2004-01-01T00:00:00",
          "2004-03-01T00:00:00",
          "2004-04-01T00:00:00",
          "2004-05-01T00:00:00",
          "2004-06-01T00:00:00",
          "2004-07-01T00:00:00",
          "2004-08-01T00:00:00",
          "2004-09-01T00:00:00",
          "2004-10-01T00:00:00",
          "2004-11-01T00:00:00",
          "2004-12-01T00:00:00",
          "2005-01-01T00:00:00",
          "2005-02-01T00:00:00",
          "2005-03-01T00:00:00",
          "2005-04-01T00:00:00",
          "2005-05-01T00:00:00",
          "2005-06-01T00:00:00",
          "2005-07-01T00:00:00",
          "2005-08-01T00:00:00",
          "2005-09-01T00:00:00",
          "2005-10-01T00:00:00",
          "2005-11-01T00:00:00",
          "2005-12-01T00:00:00",
          "2006-01-01T00:00:00",
          "2006-02-01T00:00:00",
          "2006-03-01T00:00:00",
          "2006-04-01T00:00:00",
          "2006-05-01T00:00:00",
          "2006-06-01T00:00:00",
          "2006-07-01T00:00:00",
          "2006-08-01T00:00:00",
          "2006-09-01T00:00:00",
          "2006-10-01T00:00:00",
          "2006-11-01T00:00:00",
          "2006-12-01T00:00:00",
          "2007-01-01T00:00:00",
          "2007-02-01T00:00:00",
          "2007-04-01T00:00:00",
          "2007-05-01T00:00:00",
          "2007-06-01T00:00:00",
          "2007-07-01T00:00:00",
          "2007-08-01T00:00:00",
          "2007-09-01T00:00:00",
          "2007-10-01T00:00:00",
          "2007-11-01T00:00:00",
          "2007-12-01T00:00:00",
          "2008-01-01T00:00:00",
          "2008-02-01T00:00:00",
          "2008-03-01T00:00:00",
          "2008-04-01T00:00:00",
          "2008-05-01T00:00:00",
          "2008-06-01T00:00:00",
          "2008-07-01T00:00:00",
          "2008-08-01T00:00:00",
          "2008-09-01T00:00:00",
          "2008-10-01T00:00:00",
          "2008-11-01T00:00:00",
          "2009-01-01T00:00:00",
          "2009-02-01T00:00:00",
          "2009-03-01T00:00:00",
          "2009-04-01T00:00:00",
          "2009-05-01T00:00:00",
          "2009-06-01T00:00:00",
          "2009-07-01T00:00:00",
          "2009-08-01T00:00:00",
          "2009-09-01T00:00:00",
          "2009-10-01T00:00:00",
          "2009-11-01T00:00:00",
          "2009-12-01T00:00:00",
          "2010-01-01T00:00:00",
          "2010-02-01T00:00:00",
          "2010-03-01T00:00:00",
          "2010-04-01T00:00:00",
          "2010-05-01T00:00:00",
          "2010-06-01T00:00:00",
          "2010-07-01T00:00:00",
          "2010-08-01T00:00:00",
          "2010-09-01T00:00:00",
          "2010-10-01T00:00:00",
          "2010-11-01T00:00:00",
          "2010-12-01T00:00:00",
          "2011-01-01T00:00:00",
          "2011-03-01T00:00:00",
          "2011-04-01T00:00:00",
          "2011-05-01T00:00:00",
          "2011-06-01T00:00:00",
          "2011-07-01T00:00:00",
          "2011-08-01T00:00:00",
          "2011-09-01T00:00:00",
          "2011-10-01T00:00:00",
          "2011-11-01T00:00:00",
          "2012-02-01T00:00:00",
          "2012-03-01T00:00:00",
          "2012-04-01T00:00:00",
          "2012-05-01T00:00:00",
          "2012-06-01T00:00:00",
          "2012-07-01T00:00:00",
          "2012-08-01T00:00:00",
          "2012-09-01T00:00:00",
          "2012-10-01T00:00:00",
          "2012-11-01T00:00:00",
          "2012-12-01T00:00:00",
          "2013-01-01T00:00:00",
          "2013-03-01T00:00:00",
          "2013-04-01T00:00:00",
          "2013-05-01T00:00:00",
          "2013-06-01T00:00:00",
          "2013-07-01T00:00:00",
          "2013-08-01T00:00:00",
          "2013-09-01T00:00:00",
          "2013-10-01T00:00:00",
          "2013-11-01T00:00:00",
          "2013-12-01T00:00:00",
          "2014-01-01T00:00:00",
          "2014-02-01T00:00:00",
          "2014-03-01T00:00:00",
          "2014-04-01T00:00:00",
          "2014-05-01T00:00:00",
          "2014-06-01T00:00:00",
          "2014-07-01T00:00:00",
          "2014-08-01T00:00:00",
          "2014-09-01T00:00:00",
          "2014-10-01T00:00:00",
          "2014-11-01T00:00:00",
          "2014-12-01T00:00:00",
          "2015-01-01T00:00:00",
          "2015-02-01T00:00:00",
          "2015-03-01T00:00:00",
          "2015-04-01T00:00:00",
          "2015-05-01T00:00:00",
          "2015-06-01T00:00:00",
          "2015-07-01T00:00:00",
          "2015-08-01T00:00:00",
          "2015-09-01T00:00:00",
          "2015-10-01T00:00:00",
          "2015-11-01T00:00:00",
          "2015-12-01T00:00:00",
          "2016-01-01T00:00:00",
          "2016-02-01T00:00:00",
          "2016-03-01T00:00:00",
          "2016-04-01T00:00:00",
          "2016-05-01T00:00:00",
          "2016-06-01T00:00:00",
          "2016-07-01T00:00:00",
          "2016-08-01T00:00:00",
          "2016-09-01T00:00:00",
          "2016-10-01T00:00:00",
          "2016-11-01T00:00:00",
          "2016-12-01T00:00:00",
          "2017-01-01T00:00:00",
          "2017-02-01T00:00:00",
          "2017-03-01T00:00:00",
          "2017-04-01T00:00:00",
          "2017-05-01T00:00:00",
          "2017-06-01T00:00:00",
          "2017-07-01T00:00:00",
          "2017-08-01T00:00:00",
          "2017-09-01T00:00:00",
          "2017-10-01T00:00:00",
          "2017-11-01T00:00:00",
          "2017-12-01T00:00:00",
          "2018-01-01T00:00:00",
          "2018-02-01T00:00:00",
          "2018-03-01T00:00:00",
          "2018-04-01T00:00:00",
          "2018-05-01T00:00:00",
          "2018-06-01T00:00:00",
          "2018-07-01T00:00:00",
          "2018-08-01T00:00:00",
          "2018-09-01T00:00:00",
          "2018-10-01T00:00:00",
          "2018-11-01T00:00:00",
          "2018-12-01T00:00:00",
          "2019-01-01T00:00:00",
          "2019-02-01T00:00:00",
          "2019-03-01T00:00:00",
          "2019-04-01T00:00:00",
          "2019-05-01T00:00:00",
          "2019-06-01T00:00:00",
          "2019-07-01T00:00:00",
          "2019-08-01T00:00:00",
          "2019-09-01T00:00:00",
          "2019-10-01T00:00:00",
          "2019-11-01T00:00:00",
          "2019-12-01T00:00:00",
          "2020-01-01T00:00:00",
          "2020-02-01T00:00:00",
          "2020-03-01T00:00:00",
          "2020-04-01T00:00:00",
          "2020-05-01T00:00:00",
          "2020-06-01T00:00:00",
          "2020-07-01T00:00:00",
          "2020-08-01T00:00:00",
          "2020-09-01T00:00:00",
          "2020-10-01T00:00:00",
          "2020-11-01T00:00:00",
          "2020-12-01T00:00:00",
          "2021-01-01T00:00:00",
          "2021-02-01T00:00:00",
          "2021-03-01T00:00:00",
          "2021-04-01T00:00:00",
          "2021-05-01T00:00:00",
          "2021-06-01T00:00:00",
          "2021-07-01T00:00:00",
          "2021-08-01T00:00:00",
          "2021-09-01T00:00:00",
          "2021-10-01T00:00:00",
          "2021-11-01T00:00:00",
          "2021-12-01T00:00:00"
         ],
         "xaxis": "x2",
         "y": [
          40,
          70,
          79,
          81,
          18,
          38,
          1,
          2,
          376,
          544,
          817,
          728,
          636,
          246,
          216,
          227,
          347,
          481,
          645,
          762,
          305,
          211,
          181,
          159,
          1,
          4,
          4,
          2,
          17,
          20,
          11,
          9,
          4,
          4,
          1,
          100,
          298,
          128,
          13,
          13,
          1,
          46,
          557,
          1609,
          976,
          991,
          379,
          696,
          93,
          80,
          33,
          123,
          111,
          575,
          994,
          1733,
          1244,
          612,
          642,
          281,
          276,
          82,
          55,
          175,
          136,
          453,
          156,
          31,
          66,
          21,
          1003,
          302,
          168,
          787,
          21,
          1,
          5,
          1,
          8,
          2,
          118,
          278,
          154,
          111,
          13,
          3,
          7,
          1,
          3,
          2,
          1,
          5,
          63,
          118,
          58,
          58,
          2,
          12,
          8,
          3,
          173,
          7,
          2219,
          3245,
          803,
          376,
          193,
          100,
          2,
          5,
          3,
          1,
          374,
          907,
          821,
          822,
          480,
          311,
          229,
          148,
          8,
          4,
          1652,
          2094,
          2401,
          1206,
          799,
          576,
          308,
          152,
          2,
          10,
          1226,
          1792,
          1457,
          1084,
          650,
          464,
          8,
          3,
          4,
          39,
          89,
          367,
          978,
          656,
          440,
          119,
          145,
          50,
          1,
          3,
          2,
          1,
          2,
          588,
          5169,
          4949,
          714,
          156,
          118,
          125,
          56,
          1,
          3,
          1,
          6,
          348,
          2021,
          1406,
          76,
          151,
          88,
          7,
          1,
          5,
          2,
          4,
          199,
          1772,
          1208,
          542,
          313,
          34,
          1,
          1,
          2,
          4,
          4,
          19,
          70,
          954,
          807,
          377,
          298,
          115,
          41,
          2,
          5,
          1,
          2,
          4,
          181,
          1521,
          1267,
          803,
          590,
          757,
          268,
          2,
          1,
          2,
          76,
          1161,
          1204,
          251,
          83,
          162,
          61,
          7,
          1,
          4,
          9,
          14,
          459,
          1235,
          959,
          507,
          351,
          376,
          536,
          29,
          24,
          33,
          13,
          67,
          11,
          543,
          654,
          285,
          328,
          201,
          181,
          73,
          1,
          2,
          1,
          9,
          6,
          71,
          17,
          23,
          170,
          182,
          62,
          69,
          94,
          165,
          87,
          476,
          225,
          217,
          177,
          187,
          21,
          11,
          4,
          2,
          1,
          1,
          83,
          101,
          160,
          20,
          36,
          12,
          7,
          2,
          1,
          5,
          5,
          209,
          187,
          204,
          1438,
          824,
          562,
          47,
          40,
          52,
          3,
          1,
          1,
          4,
          199,
          309,
          19,
          17,
          16,
          12,
          3,
          1,
          4,
          8,
          35,
          60,
          387,
          215,
          87,
          23,
          4,
          5,
          6,
          10,
          11,
          41,
          215,
          180,
          121,
          57,
          23,
          6,
          12,
          14,
          31,
          9,
          26,
          65,
          171,
          197,
          200,
          177,
          31,
          4,
          6,
          3,
          4,
          2,
          21,
          59,
          68,
          50,
          51,
          19,
          8,
          4,
          2,
          5,
          4,
          5,
          2,
          39,
          149,
          58,
          78,
          34,
          43,
          37,
          30,
          36,
          22,
          34,
          30,
          123,
          289,
          77,
          137,
          101,
          21,
          11,
          4,
          6,
          8,
          8,
          60,
          73,
          489,
          532,
          237,
          50,
          13,
          11,
          7,
          9,
          14,
          140,
          226,
          282,
          181,
          129,
          205,
          161,
          33,
          10,
          15,
          9,
          10,
          20,
          64,
          123,
          70,
          136,
          96,
          81,
          32,
          18,
          14,
          12,
          20,
          23,
          45,
          117,
          158,
          107,
          102,
          71,
          30,
          5,
          1
         ],
         "yaxis": "y2"
        }
       ],
       "layout": {
        "height": 600,
        "template": {
         "data": {
          "bar": [
           {
            "error_x": {
             "color": "#2a3f5f"
            },
            "error_y": {
             "color": "#2a3f5f"
            },
            "marker": {
             "line": {
              "color": "#E5ECF6",
              "width": 0.5
             },
             "pattern": {
              "fillmode": "overlay",
              "size": 10,
              "solidity": 0.2
             }
            },
            "type": "bar"
           }
          ],
          "barpolar": [
           {
            "marker": {
             "line": {
              "color": "#E5ECF6",
              "width": 0.5
             },
             "pattern": {
              "fillmode": "overlay",
              "size": 10,
              "solidity": 0.2
             }
            },
            "type": "barpolar"
           }
          ],
          "carpet": [
           {
            "aaxis": {
             "endlinecolor": "#2a3f5f",
             "gridcolor": "white",
             "linecolor": "white",
             "minorgridcolor": "white",
             "startlinecolor": "#2a3f5f"
            },
            "baxis": {
             "endlinecolor": "#2a3f5f",
             "gridcolor": "white",
             "linecolor": "white",
             "minorgridcolor": "white",
             "startlinecolor": "#2a3f5f"
            },
            "type": "carpet"
           }
          ],
          "choropleth": [
           {
            "colorbar": {
             "outlinewidth": 0,
             "ticks": ""
            },
            "type": "choropleth"
           }
          ],
          "contour": [
           {
            "colorbar": {
             "outlinewidth": 0,
             "ticks": ""
            },
            "colorscale": [
             [
              0,
              "#0d0887"
             ],
             [
              0.1111111111111111,
              "#46039f"
             ],
             [
              0.2222222222222222,
              "#7201a8"
             ],
             [
              0.3333333333333333,
              "#9c179e"
             ],
             [
              0.4444444444444444,
              "#bd3786"
             ],
             [
              0.5555555555555556,
              "#d8576b"
             ],
             [
              0.6666666666666666,
              "#ed7953"
             ],
             [
              0.7777777777777778,
              "#fb9f3a"
             ],
             [
              0.8888888888888888,
              "#fdca26"
             ],
             [
              1,
              "#f0f921"
             ]
            ],
            "type": "contour"
           }
          ],
          "contourcarpet": [
           {
            "colorbar": {
             "outlinewidth": 0,
             "ticks": ""
            },
            "type": "contourcarpet"
           }
          ],
          "heatmap": [
           {
            "colorbar": {
             "outlinewidth": 0,
             "ticks": ""
            },
            "colorscale": [
             [
              0,
              "#0d0887"
             ],
             [
              0.1111111111111111,
              "#46039f"
             ],
             [
              0.2222222222222222,
              "#7201a8"
             ],
             [
              0.3333333333333333,
              "#9c179e"
             ],
             [
              0.4444444444444444,
              "#bd3786"
             ],
             [
              0.5555555555555556,
              "#d8576b"
             ],
             [
              0.6666666666666666,
              "#ed7953"
             ],
             [
              0.7777777777777778,
              "#fb9f3a"
             ],
             [
              0.8888888888888888,
              "#fdca26"
             ],
             [
              1,
              "#f0f921"
             ]
            ],
            "type": "heatmap"
           }
          ],
          "heatmapgl": [
           {
            "colorbar": {
             "outlinewidth": 0,
             "ticks": ""
            },
            "colorscale": [
             [
              0,
              "#0d0887"
             ],
             [
              0.1111111111111111,
              "#46039f"
             ],
             [
              0.2222222222222222,
              "#7201a8"
             ],
             [
              0.3333333333333333,
              "#9c179e"
             ],
             [
              0.4444444444444444,
              "#bd3786"
             ],
             [
              0.5555555555555556,
              "#d8576b"
             ],
             [
              0.6666666666666666,
              "#ed7953"
             ],
             [
              0.7777777777777778,
              "#fb9f3a"
             ],
             [
              0.8888888888888888,
              "#fdca26"
             ],
             [
              1,
              "#f0f921"
             ]
            ],
            "type": "heatmapgl"
           }
          ],
          "histogram": [
           {
            "marker": {
             "pattern": {
              "fillmode": "overlay",
              "size": 10,
              "solidity": 0.2
             }
            },
            "type": "histogram"
           }
          ],
          "histogram2d": [
           {
            "colorbar": {
             "outlinewidth": 0,
             "ticks": ""
            },
            "colorscale": [
             [
              0,
              "#0d0887"
             ],
             [
              0.1111111111111111,
              "#46039f"
             ],
             [
              0.2222222222222222,
              "#7201a8"
             ],
             [
              0.3333333333333333,
              "#9c179e"
             ],
             [
              0.4444444444444444,
              "#bd3786"
             ],
             [
              0.5555555555555556,
              "#d8576b"
             ],
             [
              0.6666666666666666,
              "#ed7953"
             ],
             [
              0.7777777777777778,
              "#fb9f3a"
             ],
             [
              0.8888888888888888,
              "#fdca26"
             ],
             [
              1,
              "#f0f921"
             ]
            ],
            "type": "histogram2d"
           }
          ],
          "histogram2dcontour": [
           {
            "colorbar": {
             "outlinewidth": 0,
             "ticks": ""
            },
            "colorscale": [
             [
              0,
              "#0d0887"
             ],
             [
              0.1111111111111111,
              "#46039f"
             ],
             [
              0.2222222222222222,
              "#7201a8"
             ],
             [
              0.3333333333333333,
              "#9c179e"
             ],
             [
              0.4444444444444444,
              "#bd3786"
             ],
             [
              0.5555555555555556,
              "#d8576b"
             ],
             [
              0.6666666666666666,
              "#ed7953"
             ],
             [
              0.7777777777777778,
              "#fb9f3a"
             ],
             [
              0.8888888888888888,
              "#fdca26"
             ],
             [
              1,
              "#f0f921"
             ]
            ],
            "type": "histogram2dcontour"
           }
          ],
          "mesh3d": [
           {
            "colorbar": {
             "outlinewidth": 0,
             "ticks": ""
            },
            "type": "mesh3d"
           }
          ],
          "parcoords": [
           {
            "line": {
             "colorbar": {
              "outlinewidth": 0,
              "ticks": ""
             }
            },
            "type": "parcoords"
           }
          ],
          "pie": [
           {
            "automargin": true,
            "type": "pie"
           }
          ],
          "scatter": [
           {
            "fillpattern": {
             "fillmode": "overlay",
             "size": 10,
             "solidity": 0.2
            },
            "type": "scatter"
           }
          ],
          "scatter3d": [
           {
            "line": {
             "colorbar": {
              "outlinewidth": 0,
              "ticks": ""
             }
            },
            "marker": {
             "colorbar": {
              "outlinewidth": 0,
              "ticks": ""
             }
            },
            "type": "scatter3d"
           }
          ],
          "scattercarpet": [
           {
            "marker": {
             "colorbar": {
              "outlinewidth": 0,
              "ticks": ""
             }
            },
            "type": "scattercarpet"
           }
          ],
          "scattergeo": [
           {
            "marker": {
             "colorbar": {
              "outlinewidth": 0,
              "ticks": ""
             }
            },
            "type": "scattergeo"
           }
          ],
          "scattergl": [
           {
            "marker": {
             "colorbar": {
              "outlinewidth": 0,
              "ticks": ""
             }
            },
            "type": "scattergl"
           }
          ],
          "scattermapbox": [
           {
            "marker": {
             "colorbar": {
              "outlinewidth": 0,
              "ticks": ""
             }
            },
            "type": "scattermapbox"
           }
          ],
          "scatterpolar": [
           {
            "marker": {
             "colorbar": {
              "outlinewidth": 0,
              "ticks": ""
             }
            },
            "type": "scatterpolar"
           }
          ],
          "scatterpolargl": [
           {
            "marker": {
             "colorbar": {
              "outlinewidth": 0,
              "ticks": ""
             }
            },
            "type": "scatterpolargl"
           }
          ],
          "scatterternary": [
           {
            "marker": {
             "colorbar": {
              "outlinewidth": 0,
              "ticks": ""
             }
            },
            "type": "scatterternary"
           }
          ],
          "surface": [
           {
            "colorbar": {
             "outlinewidth": 0,
             "ticks": ""
            },
            "colorscale": [
             [
              0,
              "#0d0887"
             ],
             [
              0.1111111111111111,
              "#46039f"
             ],
             [
              0.2222222222222222,
              "#7201a8"
             ],
             [
              0.3333333333333333,
              "#9c179e"
             ],
             [
              0.4444444444444444,
              "#bd3786"
             ],
             [
              0.5555555555555556,
              "#d8576b"
             ],
             [
              0.6666666666666666,
              "#ed7953"
             ],
             [
              0.7777777777777778,
              "#fb9f3a"
             ],
             [
              0.8888888888888888,
              "#fdca26"
             ],
             [
              1,
              "#f0f921"
             ]
            ],
            "type": "surface"
           }
          ],
          "table": [
           {
            "cells": {
             "fill": {
              "color": "#EBF0F8"
             },
             "line": {
              "color": "white"
             }
            },
            "header": {
             "fill": {
              "color": "#C8D4E3"
             },
             "line": {
              "color": "white"
             }
            },
            "type": "table"
           }
          ]
         },
         "layout": {
          "annotationdefaults": {
           "arrowcolor": "#2a3f5f",
           "arrowhead": 0,
           "arrowwidth": 1
          },
          "autotypenumbers": "strict",
          "coloraxis": {
           "colorbar": {
            "outlinewidth": 0,
            "ticks": ""
           }
          },
          "colorscale": {
           "diverging": [
            [
             0,
             "#8e0152"
            ],
            [
             0.1,
             "#c51b7d"
            ],
            [
             0.2,
             "#de77ae"
            ],
            [
             0.3,
             "#f1b6da"
            ],
            [
             0.4,
             "#fde0ef"
            ],
            [
             0.5,
             "#f7f7f7"
            ],
            [
             0.6,
             "#e6f5d0"
            ],
            [
             0.7,
             "#b8e186"
            ],
            [
             0.8,
             "#7fbc41"
            ],
            [
             0.9,
             "#4d9221"
            ],
            [
             1,
             "#276419"
            ]
           ],
           "sequential": [
            [
             0,
             "#0d0887"
            ],
            [
             0.1111111111111111,
             "#46039f"
            ],
            [
             0.2222222222222222,
             "#7201a8"
            ],
            [
             0.3333333333333333,
             "#9c179e"
            ],
            [
             0.4444444444444444,
             "#bd3786"
            ],
            [
             0.5555555555555556,
             "#d8576b"
            ],
            [
             0.6666666666666666,
             "#ed7953"
            ],
            [
             0.7777777777777778,
             "#fb9f3a"
            ],
            [
             0.8888888888888888,
             "#fdca26"
            ],
            [
             1,
             "#f0f921"
            ]
           ],
           "sequentialminus": [
            [
             0,
             "#0d0887"
            ],
            [
             0.1111111111111111,
             "#46039f"
            ],
            [
             0.2222222222222222,
             "#7201a8"
            ],
            [
             0.3333333333333333,
             "#9c179e"
            ],
            [
             0.4444444444444444,
             "#bd3786"
            ],
            [
             0.5555555555555556,
             "#d8576b"
            ],
            [
             0.6666666666666666,
             "#ed7953"
            ],
            [
             0.7777777777777778,
             "#fb9f3a"
            ],
            [
             0.8888888888888888,
             "#fdca26"
            ],
            [
             1,
             "#f0f921"
            ]
           ]
          },
          "colorway": [
           "#636efa",
           "#EF553B",
           "#00cc96",
           "#ab63fa",
           "#FFA15A",
           "#19d3f3",
           "#FF6692",
           "#B6E880",
           "#FF97FF",
           "#FECB52"
          ],
          "font": {
           "color": "#2a3f5f"
          },
          "geo": {
           "bgcolor": "white",
           "lakecolor": "white",
           "landcolor": "#E5ECF6",
           "showlakes": true,
           "showland": true,
           "subunitcolor": "white"
          },
          "hoverlabel": {
           "align": "left"
          },
          "hovermode": "closest",
          "mapbox": {
           "style": "light"
          },
          "paper_bgcolor": "white",
          "plot_bgcolor": "#E5ECF6",
          "polar": {
           "angularaxis": {
            "gridcolor": "white",
            "linecolor": "white",
            "ticks": ""
           },
           "bgcolor": "#E5ECF6",
           "radialaxis": {
            "gridcolor": "white",
            "linecolor": "white",
            "ticks": ""
           }
          },
          "scene": {
           "xaxis": {
            "backgroundcolor": "#E5ECF6",
            "gridcolor": "white",
            "gridwidth": 2,
            "linecolor": "white",
            "showbackground": true,
            "ticks": "",
            "zerolinecolor": "white"
           },
           "yaxis": {
            "backgroundcolor": "#E5ECF6",
            "gridcolor": "white",
            "gridwidth": 2,
            "linecolor": "white",
            "showbackground": true,
            "ticks": "",
            "zerolinecolor": "white"
           },
           "zaxis": {
            "backgroundcolor": "#E5ECF6",
            "gridcolor": "white",
            "gridwidth": 2,
            "linecolor": "white",
            "showbackground": true,
            "ticks": "",
            "zerolinecolor": "white"
           }
          },
          "shapedefaults": {
           "line": {
            "color": "#2a3f5f"
           }
          },
          "ternary": {
           "aaxis": {
            "gridcolor": "white",
            "linecolor": "white",
            "ticks": ""
           },
           "baxis": {
            "gridcolor": "white",
            "linecolor": "white",
            "ticks": ""
           },
           "bgcolor": "#E5ECF6",
           "caxis": {
            "gridcolor": "white",
            "linecolor": "white",
            "ticks": ""
           }
          },
          "title": {
           "x": 0.05
          },
          "xaxis": {
           "automargin": true,
           "gridcolor": "white",
           "linecolor": "white",
           "ticks": "",
           "title": {
            "standoff": 15
           },
           "zerolinecolor": "white",
           "zerolinewidth": 2
          },
          "yaxis": {
           "automargin": true,
           "gridcolor": "white",
           "linecolor": "white",
           "ticks": "",
           "title": {
            "standoff": 15
           },
           "zerolinecolor": "white",
           "zerolinewidth": 2
          }
         }
        },
        "title": {
         "text": "Monthly Precipitation and Occurrences Time Series"
        },
        "xaxis": {
         "anchor": "y",
         "domain": [
          0,
          1
         ],
         "matches": "x2",
         "showticklabels": false,
         "title": {
          "text": "Date"
         }
        },
        "xaxis2": {
         "anchor": "y2",
         "domain": [
          0,
          1
         ]
        },
        "yaxis": {
         "anchor": "x",
         "domain": [
          0.575,
          1
         ],
         "title": {
          "text": "Precipitation"
         }
        },
        "yaxis2": {
         "anchor": "x2",
         "domain": [
          0,
          0.425
         ],
         "title": {
          "text": "Occurrences"
         }
        }
       }
      }
     },
     "metadata": {},
     "output_type": "display_data"
    }
   ],
   "source": [
    "# Calculate moving average for temperature\n",
    "window_size = 10  # Adjust the window size as needed\n",
    "monthly_data['Precipitation_MA'] = monthly_data['Precipitation'].rolling(window_size, center=True).mean()\n",
    "\n",
    "# Create the subplots with shared x-axis\n",
    "fig = make_subplots(rows=2, cols=1, shared_xaxes=True)\n",
    "\n",
    "# Add temperature line\n",
    "fig.add_trace(go.Scatter(x=monthly_data['date'], y=monthly_data['Precipitation'], mode='lines', name='Precipitation'), row=1, col=1)\n",
    "\n",
    "# Add moving average line for temperature\n",
    "fig.add_trace(go.Scatter(x=monthly_data['date'], y=monthly_data['Precipitation_MA'], mode='lines', name=f'Precipitation (Moving Average {window_size})'), row=1, col=1)\n",
    "\n",
    "# Add occurrences line\n",
    "fig.add_trace(go.Scatter(x=monthly_data['date'], y=monthly_data['occurrenceStatus'], mode='lines', name='Occurrences'), row=2, col=1)\n",
    "\n",
    "# Set layout\n",
    "fig.update_layout(title='Monthly Precipitation and Occurrences Time Series',\n",
    "                  xaxis_title='Date',\n",
    "                  yaxis_title='Precipitation',\n",
    "                  yaxis2_title='Occurrences',\n",
    "                  height=600)\n",
    "\n",
    "# Show the plot\n",
    "fig.show()"
   ]
  },
  {
   "cell_type": "code",
   "execution_count": 194,
   "metadata": {},
   "outputs": [
    {
     "data": {
      "application/vnd.plotly.v1+json": {
       "config": {
        "plotlyServerURL": "https://plot.ly"
       },
       "data": [
        {
         "mode": "lines",
         "name": "Jura",
         "type": "scatter",
         "x": [
          "1981-04-01T00:00:00",
          "1981-05-01T00:00:00",
          "1981-06-01T00:00:00",
          "1981-07-01T00:00:00",
          "1981-08-01T00:00:00",
          "1981-09-01T00:00:00",
          "1982-09-01T00:00:00",
          "1988-01-01T00:00:00",
          "1990-09-01T00:00:00",
          "1991-10-01T00:00:00",
          "1991-12-01T00:00:00",
          "1992-01-01T00:00:00",
          "1992-03-01T00:00:00",
          "1992-10-01T00:00:00",
          "1992-11-01T00:00:00",
          "1992-12-01T00:00:00",
          "1993-01-01T00:00:00",
          "1993-03-01T00:00:00",
          "1993-04-01T00:00:00",
          "1993-09-01T00:00:00",
          "1993-12-01T00:00:00",
          "1994-01-01T00:00:00",
          "1994-02-01T00:00:00",
          "1994-11-01T00:00:00",
          "1997-10-01T00:00:00",
          "1998-11-01T00:00:00",
          "1998-12-01T00:00:00",
          "2000-01-01T00:00:00",
          "2000-02-01T00:00:00",
          "2000-03-01T00:00:00",
          "2000-10-01T00:00:00",
          "2000-11-01T00:00:00",
          "2001-02-01T00:00:00",
          "2001-03-01T00:00:00",
          "2001-10-01T00:00:00",
          "2002-01-01T00:00:00",
          "2002-02-01T00:00:00",
          "2002-12-01T00:00:00",
          "2003-10-01T00:00:00",
          "2003-11-01T00:00:00",
          "2004-01-01T00:00:00",
          "2004-03-01T00:00:00",
          "2007-07-01T00:00:00",
          "2007-08-01T00:00:00",
          "2010-03-01T00:00:00",
          "2010-04-01T00:00:00",
          "2010-09-01T00:00:00",
          "2010-10-01T00:00:00",
          "2010-11-01T00:00:00",
          "2011-03-01T00:00:00",
          "2011-05-01T00:00:00",
          "2012-03-01T00:00:00",
          "2013-03-01T00:00:00",
          "2013-10-01T00:00:00",
          "2015-04-01T00:00:00",
          "2015-06-01T00:00:00",
          "2016-03-01T00:00:00",
          "2018-01-01T00:00:00",
          "2018-12-01T00:00:00"
         ],
         "y": [
          40,
          70,
          79,
          81,
          18,
          38,
          2,
          1,
          21,
          1,
          5,
          1,
          8,
          3,
          7,
          1,
          3,
          1,
          5,
          2,
          12,
          8,
          3,
          2,
          8,
          1,
          3,
          3,
          1,
          6,
          7,
          1,
          2,
          4,
          1,
          4,
          4,
          5,
          268,
          2,
          1,
          2,
          17,
          23,
          209,
          187,
          47,
          40,
          52,
          1,
          199,
          4,
          10,
          23,
          21,
          68,
          5,
          6,
          7
         ]
        },
        {
         "mode": "lines",
         "name": "Alpine",
         "type": "scatter",
         "x": [
          "1982-08-01T00:00:00",
          "1983-04-01T00:00:00",
          "1983-05-01T00:00:00",
          "1983-06-01T00:00:00",
          "1983-07-01T00:00:00",
          "1983-08-01T00:00:00",
          "1983-09-01T00:00:00",
          "1983-10-01T00:00:00",
          "1983-11-01T00:00:00",
          "1984-04-01T00:00:00",
          "1984-05-01T00:00:00",
          "1984-06-01T00:00:00",
          "1984-07-01T00:00:00",
          "1984-08-01T00:00:00",
          "1984-09-01T00:00:00",
          "1984-10-01T00:00:00",
          "1984-11-01T00:00:00",
          "1985-04-01T00:00:00",
          "1985-05-01T00:00:00",
          "1985-08-01T00:00:00",
          "1986-05-01T00:00:00",
          "1986-06-01T00:00:00",
          "1986-07-01T00:00:00",
          "1986-08-01T00:00:00",
          "1986-09-01T00:00:00",
          "1986-10-01T00:00:00",
          "1987-03-01T00:00:00",
          "1987-05-01T00:00:00",
          "1987-06-01T00:00:00",
          "1987-07-01T00:00:00",
          "1987-08-01T00:00:00",
          "1987-09-01T00:00:00",
          "1988-04-01T00:00:00",
          "1988-05-01T00:00:00",
          "1988-06-01T00:00:00",
          "1988-07-01T00:00:00",
          "1988-08-01T00:00:00",
          "1988-09-01T00:00:00",
          "1988-10-01T00:00:00",
          "1988-11-01T00:00:00",
          "1988-12-01T00:00:00",
          "1989-01-01T00:00:00",
          "1989-02-01T00:00:00",
          "1989-03-01T00:00:00",
          "1989-04-01T00:00:00",
          "1989-05-01T00:00:00",
          "1989-06-01T00:00:00",
          "1989-07-01T00:00:00",
          "1989-08-01T00:00:00",
          "1989-09-01T00:00:00",
          "1989-10-01T00:00:00",
          "1989-11-01T00:00:00",
          "1989-12-01T00:00:00",
          "1990-01-01T00:00:00",
          "1990-03-01T00:00:00",
          "1990-04-01T00:00:00",
          "1990-05-01T00:00:00",
          "1990-06-01T00:00:00",
          "1990-07-01T00:00:00",
          "1990-08-01T00:00:00",
          "1991-05-01T00:00:00",
          "1991-06-01T00:00:00",
          "1991-07-01T00:00:00",
          "1991-09-01T00:00:00",
          "1992-04-01T00:00:00",
          "1992-06-01T00:00:00",
          "1992-07-01T00:00:00",
          "1992-08-01T00:00:00",
          "1992-09-01T00:00:00",
          "1993-02-01T00:00:00",
          "1993-08-01T00:00:00",
          "1994-04-01T00:00:00",
          "1995-02-01T00:00:00",
          "1996-01-01T00:00:00",
          "1996-03-01T00:00:00",
          "1996-10-01T00:00:00",
          "1996-11-01T00:00:00",
          "1996-12-01T00:00:00",
          "1998-02-01T00:00:00",
          "1998-03-01T00:00:00",
          "1998-04-01T00:00:00",
          "1998-05-01T00:00:00",
          "1998-06-01T00:00:00",
          "1998-07-01T00:00:00",
          "1998-08-01T00:00:00",
          "1998-09-01T00:00:00",
          "1998-10-01T00:00:00",
          "1999-04-01T00:00:00",
          "1999-12-01T00:00:00",
          "2000-04-01T00:00:00",
          "2000-05-01T00:00:00",
          "2000-06-01T00:00:00",
          "2000-07-01T00:00:00",
          "2000-08-01T00:00:00",
          "2000-09-01T00:00:00",
          "2000-12-01T00:00:00",
          "2001-07-01T00:00:00",
          "2001-08-01T00:00:00",
          "2001-09-01T00:00:00",
          "2002-03-01T00:00:00",
          "2002-04-01T00:00:00",
          "2002-05-01T00:00:00",
          "2002-06-01T00:00:00",
          "2002-07-01T00:00:00",
          "2002-08-01T00:00:00",
          "2002-09-01T00:00:00",
          "2003-01-01T00:00:00",
          "2003-03-01T00:00:00",
          "2003-04-01T00:00:00",
          "2003-09-01T00:00:00",
          "2004-05-01T00:00:00",
          "2004-08-01T00:00:00",
          "2004-10-01T00:00:00",
          "2004-12-01T00:00:00",
          "2009-06-01T00:00:00",
          "2009-07-01T00:00:00",
          "2010-06-01T00:00:00",
          "2010-12-01T00:00:00",
          "2011-01-01T00:00:00",
          "2011-04-01T00:00:00",
          "2011-06-01T00:00:00",
          "2011-08-01T00:00:00",
          "2011-10-01T00:00:00",
          "2011-11-01T00:00:00",
          "2012-02-01T00:00:00",
          "2012-04-01T00:00:00",
          "2012-06-01T00:00:00",
          "2012-08-01T00:00:00",
          "2013-09-01T00:00:00",
          "2015-02-01T00:00:00",
          "2015-05-01T00:00:00",
          "2015-07-01T00:00:00",
          "2015-08-01T00:00:00",
          "2016-07-01T00:00:00",
          "2016-09-01T00:00:00",
          "2016-12-01T00:00:00",
          "2017-01-01T00:00:00",
          "2017-05-01T00:00:00",
          "2019-02-01T00:00:00",
          "2019-03-01T00:00:00",
          "2019-05-01T00:00:00",
          "2020-02-01T00:00:00",
          "2020-07-01T00:00:00",
          "2021-01-01T00:00:00",
          "2021-02-01T00:00:00",
          "2021-03-01T00:00:00",
          "2021-05-01T00:00:00",
          "2021-06-01T00:00:00",
          "2021-07-01T00:00:00",
          "2021-08-01T00:00:00",
          "2021-10-01T00:00:00",
          "2021-11-01T00:00:00",
          "2021-12-01T00:00:00"
         ],
         "y": [
          1,
          376,
          544,
          817,
          728,
          636,
          246,
          216,
          227,
          347,
          481,
          645,
          762,
          305,
          211,
          181,
          159,
          4,
          4,
          2,
          17,
          20,
          11,
          9,
          4,
          4,
          1,
          100,
          298,
          128,
          13,
          13,
          46,
          557,
          1609,
          976,
          991,
          379,
          696,
          93,
          80,
          33,
          123,
          111,
          575,
          994,
          1733,
          1244,
          612,
          642,
          281,
          276,
          82,
          55,
          175,
          136,
          453,
          156,
          31,
          66,
          1003,
          302,
          168,
          21,
          2,
          278,
          154,
          111,
          13,
          2,
          58,
          7,
          3,
          8,
          4,
          308,
          152,
          2,
          39,
          89,
          367,
          978,
          656,
          440,
          119,
          145,
          50,
          588,
          1,
          348,
          2021,
          1406,
          76,
          151,
          88,
          5,
          542,
          313,
          34,
          19,
          70,
          954,
          807,
          377,
          298,
          115,
          1,
          4,
          181,
          757,
          1161,
          83,
          61,
          1,
          160,
          20,
          1438,
          3,
          1,
          4,
          309,
          17,
          12,
          3,
          1,
          8,
          60,
          215,
          57,
          4,
          59,
          50,
          51,
          58,
          34,
          30,
          36,
          123,
          14,
          140,
          282,
          10,
          136,
          12,
          20,
          23,
          117,
          158,
          107,
          102,
          30,
          5,
          1
         ]
        },
        {
         "mode": "lines",
         "name": "Plateau",
         "type": "scatter",
         "x": [
          "1984-12-01T00:00:00",
          "1991-08-01T00:00:00",
          "1992-05-01T00:00:00",
          "1993-05-01T00:00:00",
          "1993-06-01T00:00:00",
          "1993-07-01T00:00:00",
          "1994-03-01T00:00:00",
          "1994-05-01T00:00:00",
          "1994-06-01T00:00:00",
          "1994-07-01T00:00:00",
          "1994-08-01T00:00:00",
          "1994-09-01T00:00:00",
          "1994-10-01T00:00:00",
          "1994-12-01T00:00:00",
          "1995-03-01T00:00:00",
          "1995-04-01T00:00:00",
          "1995-05-01T00:00:00",
          "1995-06-01T00:00:00",
          "1995-07-01T00:00:00",
          "1995-08-01T00:00:00",
          "1995-09-01T00:00:00",
          "1995-10-01T00:00:00",
          "1995-11-01T00:00:00",
          "1996-04-01T00:00:00",
          "1996-05-01T00:00:00",
          "1996-06-01T00:00:00",
          "1996-07-01T00:00:00",
          "1996-08-01T00:00:00",
          "1996-09-01T00:00:00",
          "1997-03-01T00:00:00",
          "1997-04-01T00:00:00",
          "1997-05-01T00:00:00",
          "1997-06-01T00:00:00",
          "1997-07-01T00:00:00",
          "1997-08-01T00:00:00",
          "1997-09-01T00:00:00",
          "1997-11-01T00:00:00",
          "1998-01-01T00:00:00",
          "1999-01-01T00:00:00",
          "1999-02-01T00:00:00",
          "1999-03-01T00:00:00",
          "1999-05-01T00:00:00",
          "1999-06-01T00:00:00",
          "1999-07-01T00:00:00",
          "1999-08-01T00:00:00",
          "1999-09-01T00:00:00",
          "1999-10-01T00:00:00",
          "1999-11-01T00:00:00",
          "2001-04-01T00:00:00",
          "2001-05-01T00:00:00",
          "2001-06-01T00:00:00",
          "2001-11-01T00:00:00",
          "2001-12-01T00:00:00",
          "2002-10-01T00:00:00",
          "2002-11-01T00:00:00",
          "2003-02-01T00:00:00",
          "2003-05-01T00:00:00",
          "2003-06-01T00:00:00",
          "2003-07-01T00:00:00",
          "2003-08-01T00:00:00",
          "2004-04-01T00:00:00",
          "2004-06-01T00:00:00",
          "2004-07-01T00:00:00",
          "2004-09-01T00:00:00",
          "2004-11-01T00:00:00",
          "2005-01-01T00:00:00",
          "2005-02-01T00:00:00",
          "2005-03-01T00:00:00",
          "2005-04-01T00:00:00",
          "2005-05-01T00:00:00",
          "2005-06-01T00:00:00",
          "2005-07-01T00:00:00",
          "2005-08-01T00:00:00",
          "2005-09-01T00:00:00",
          "2005-10-01T00:00:00",
          "2005-11-01T00:00:00",
          "2005-12-01T00:00:00",
          "2006-01-01T00:00:00",
          "2006-02-01T00:00:00",
          "2006-03-01T00:00:00",
          "2006-04-01T00:00:00",
          "2006-05-01T00:00:00",
          "2006-06-01T00:00:00",
          "2006-07-01T00:00:00",
          "2006-08-01T00:00:00",
          "2006-09-01T00:00:00",
          "2006-10-01T00:00:00",
          "2006-11-01T00:00:00",
          "2006-12-01T00:00:00",
          "2007-01-01T00:00:00",
          "2007-02-01T00:00:00",
          "2007-04-01T00:00:00",
          "2007-05-01T00:00:00",
          "2007-06-01T00:00:00",
          "2007-09-01T00:00:00",
          "2007-10-01T00:00:00",
          "2007-11-01T00:00:00",
          "2007-12-01T00:00:00",
          "2008-01-01T00:00:00",
          "2008-02-01T00:00:00",
          "2008-03-01T00:00:00",
          "2008-04-01T00:00:00",
          "2008-05-01T00:00:00",
          "2008-06-01T00:00:00",
          "2008-07-01T00:00:00",
          "2008-08-01T00:00:00",
          "2008-09-01T00:00:00",
          "2008-10-01T00:00:00",
          "2008-11-01T00:00:00",
          "2009-01-01T00:00:00",
          "2009-02-01T00:00:00",
          "2009-03-01T00:00:00",
          "2009-04-01T00:00:00",
          "2009-05-01T00:00:00",
          "2009-08-01T00:00:00",
          "2009-09-01T00:00:00",
          "2009-10-01T00:00:00",
          "2009-11-01T00:00:00",
          "2009-12-01T00:00:00",
          "2010-01-01T00:00:00",
          "2010-02-01T00:00:00",
          "2010-05-01T00:00:00",
          "2010-07-01T00:00:00",
          "2010-08-01T00:00:00",
          "2011-07-01T00:00:00",
          "2011-09-01T00:00:00",
          "2012-05-01T00:00:00",
          "2012-07-01T00:00:00",
          "2012-09-01T00:00:00",
          "2012-10-01T00:00:00",
          "2012-11-01T00:00:00",
          "2012-12-01T00:00:00",
          "2013-01-01T00:00:00",
          "2013-04-01T00:00:00",
          "2013-05-01T00:00:00",
          "2013-06-01T00:00:00",
          "2013-07-01T00:00:00",
          "2013-08-01T00:00:00",
          "2013-11-01T00:00:00",
          "2013-12-01T00:00:00",
          "2014-01-01T00:00:00",
          "2014-02-01T00:00:00",
          "2014-03-01T00:00:00",
          "2014-04-01T00:00:00",
          "2014-05-01T00:00:00",
          "2014-06-01T00:00:00",
          "2014-07-01T00:00:00",
          "2014-08-01T00:00:00",
          "2014-09-01T00:00:00",
          "2014-10-01T00:00:00",
          "2014-11-01T00:00:00",
          "2014-12-01T00:00:00",
          "2015-01-01T00:00:00",
          "2015-03-01T00:00:00",
          "2015-09-01T00:00:00",
          "2015-10-01T00:00:00",
          "2015-11-01T00:00:00",
          "2015-12-01T00:00:00",
          "2016-01-01T00:00:00",
          "2016-02-01T00:00:00",
          "2016-04-01T00:00:00",
          "2016-05-01T00:00:00",
          "2016-06-01T00:00:00",
          "2016-08-01T00:00:00",
          "2016-10-01T00:00:00",
          "2016-11-01T00:00:00",
          "2017-02-01T00:00:00",
          "2017-03-01T00:00:00",
          "2017-04-01T00:00:00",
          "2017-06-01T00:00:00",
          "2017-07-01T00:00:00",
          "2017-08-01T00:00:00",
          "2017-09-01T00:00:00",
          "2017-10-01T00:00:00",
          "2017-11-01T00:00:00",
          "2017-12-01T00:00:00",
          "2018-02-01T00:00:00",
          "2018-03-01T00:00:00",
          "2018-04-01T00:00:00",
          "2018-05-01T00:00:00",
          "2018-06-01T00:00:00",
          "2018-07-01T00:00:00",
          "2018-08-01T00:00:00",
          "2018-09-01T00:00:00",
          "2018-10-01T00:00:00",
          "2018-11-01T00:00:00",
          "2019-01-01T00:00:00",
          "2019-04-01T00:00:00",
          "2019-06-01T00:00:00",
          "2019-07-01T00:00:00",
          "2019-08-01T00:00:00",
          "2019-09-01T00:00:00",
          "2019-10-01T00:00:00",
          "2019-11-01T00:00:00",
          "2019-12-01T00:00:00",
          "2020-01-01T00:00:00",
          "2020-03-01T00:00:00",
          "2020-04-01T00:00:00",
          "2020-05-01T00:00:00",
          "2020-06-01T00:00:00",
          "2020-08-01T00:00:00",
          "2020-09-01T00:00:00",
          "2020-10-01T00:00:00",
          "2020-11-01T00:00:00",
          "2020-12-01T00:00:00",
          "2021-04-01T00:00:00",
          "2021-09-01T00:00:00"
         ],
         "y": [
          1,
          787,
          118,
          63,
          118,
          58,
          173,
          2219,
          3245,
          803,
          376,
          193,
          100,
          5,
          1,
          374,
          907,
          821,
          822,
          480,
          311,
          229,
          148,
          1652,
          2094,
          2401,
          1206,
          799,
          576,
          10,
          1226,
          1792,
          1457,
          1084,
          650,
          464,
          3,
          4,
          2,
          1,
          2,
          5169,
          4949,
          714,
          156,
          118,
          125,
          56,
          199,
          1772,
          1208,
          1,
          2,
          41,
          2,
          2,
          1521,
          1267,
          803,
          590,
          76,
          1204,
          251,
          162,
          7,
          4,
          9,
          14,
          459,
          1235,
          959,
          507,
          351,
          376,
          536,
          29,
          24,
          33,
          13,
          67,
          11,
          543,
          654,
          285,
          328,
          201,
          181,
          73,
          1,
          2,
          1,
          9,
          6,
          71,
          170,
          182,
          62,
          69,
          94,
          165,
          87,
          476,
          225,
          217,
          177,
          187,
          21,
          11,
          4,
          2,
          1,
          1,
          83,
          101,
          36,
          12,
          7,
          2,
          1,
          5,
          5,
          204,
          824,
          562,
          19,
          16,
          35,
          387,
          87,
          23,
          4,
          5,
          6,
          11,
          41,
          215,
          180,
          121,
          6,
          12,
          14,
          31,
          9,
          26,
          65,
          171,
          197,
          200,
          177,
          31,
          4,
          6,
          3,
          2,
          19,
          8,
          4,
          2,
          5,
          4,
          2,
          39,
          149,
          78,
          43,
          37,
          22,
          34,
          30,
          289,
          77,
          137,
          101,
          21,
          11,
          4,
          8,
          8,
          60,
          73,
          489,
          532,
          237,
          50,
          13,
          11,
          9,
          226,
          181,
          129,
          205,
          161,
          33,
          10,
          15,
          9,
          20,
          64,
          123,
          70,
          96,
          81,
          32,
          18,
          14,
          45,
          71
         ]
        }
       ],
       "layout": {
        "template": {
         "data": {
          "bar": [
           {
            "error_x": {
             "color": "#2a3f5f"
            },
            "error_y": {
             "color": "#2a3f5f"
            },
            "marker": {
             "line": {
              "color": "#E5ECF6",
              "width": 0.5
             },
             "pattern": {
              "fillmode": "overlay",
              "size": 10,
              "solidity": 0.2
             }
            },
            "type": "bar"
           }
          ],
          "barpolar": [
           {
            "marker": {
             "line": {
              "color": "#E5ECF6",
              "width": 0.5
             },
             "pattern": {
              "fillmode": "overlay",
              "size": 10,
              "solidity": 0.2
             }
            },
            "type": "barpolar"
           }
          ],
          "carpet": [
           {
            "aaxis": {
             "endlinecolor": "#2a3f5f",
             "gridcolor": "white",
             "linecolor": "white",
             "minorgridcolor": "white",
             "startlinecolor": "#2a3f5f"
            },
            "baxis": {
             "endlinecolor": "#2a3f5f",
             "gridcolor": "white",
             "linecolor": "white",
             "minorgridcolor": "white",
             "startlinecolor": "#2a3f5f"
            },
            "type": "carpet"
           }
          ],
          "choropleth": [
           {
            "colorbar": {
             "outlinewidth": 0,
             "ticks": ""
            },
            "type": "choropleth"
           }
          ],
          "contour": [
           {
            "colorbar": {
             "outlinewidth": 0,
             "ticks": ""
            },
            "colorscale": [
             [
              0,
              "#0d0887"
             ],
             [
              0.1111111111111111,
              "#46039f"
             ],
             [
              0.2222222222222222,
              "#7201a8"
             ],
             [
              0.3333333333333333,
              "#9c179e"
             ],
             [
              0.4444444444444444,
              "#bd3786"
             ],
             [
              0.5555555555555556,
              "#d8576b"
             ],
             [
              0.6666666666666666,
              "#ed7953"
             ],
             [
              0.7777777777777778,
              "#fb9f3a"
             ],
             [
              0.8888888888888888,
              "#fdca26"
             ],
             [
              1,
              "#f0f921"
             ]
            ],
            "type": "contour"
           }
          ],
          "contourcarpet": [
           {
            "colorbar": {
             "outlinewidth": 0,
             "ticks": ""
            },
            "type": "contourcarpet"
           }
          ],
          "heatmap": [
           {
            "colorbar": {
             "outlinewidth": 0,
             "ticks": ""
            },
            "colorscale": [
             [
              0,
              "#0d0887"
             ],
             [
              0.1111111111111111,
              "#46039f"
             ],
             [
              0.2222222222222222,
              "#7201a8"
             ],
             [
              0.3333333333333333,
              "#9c179e"
             ],
             [
              0.4444444444444444,
              "#bd3786"
             ],
             [
              0.5555555555555556,
              "#d8576b"
             ],
             [
              0.6666666666666666,
              "#ed7953"
             ],
             [
              0.7777777777777778,
              "#fb9f3a"
             ],
             [
              0.8888888888888888,
              "#fdca26"
             ],
             [
              1,
              "#f0f921"
             ]
            ],
            "type": "heatmap"
           }
          ],
          "heatmapgl": [
           {
            "colorbar": {
             "outlinewidth": 0,
             "ticks": ""
            },
            "colorscale": [
             [
              0,
              "#0d0887"
             ],
             [
              0.1111111111111111,
              "#46039f"
             ],
             [
              0.2222222222222222,
              "#7201a8"
             ],
             [
              0.3333333333333333,
              "#9c179e"
             ],
             [
              0.4444444444444444,
              "#bd3786"
             ],
             [
              0.5555555555555556,
              "#d8576b"
             ],
             [
              0.6666666666666666,
              "#ed7953"
             ],
             [
              0.7777777777777778,
              "#fb9f3a"
             ],
             [
              0.8888888888888888,
              "#fdca26"
             ],
             [
              1,
              "#f0f921"
             ]
            ],
            "type": "heatmapgl"
           }
          ],
          "histogram": [
           {
            "marker": {
             "pattern": {
              "fillmode": "overlay",
              "size": 10,
              "solidity": 0.2
             }
            },
            "type": "histogram"
           }
          ],
          "histogram2d": [
           {
            "colorbar": {
             "outlinewidth": 0,
             "ticks": ""
            },
            "colorscale": [
             [
              0,
              "#0d0887"
             ],
             [
              0.1111111111111111,
              "#46039f"
             ],
             [
              0.2222222222222222,
              "#7201a8"
             ],
             [
              0.3333333333333333,
              "#9c179e"
             ],
             [
              0.4444444444444444,
              "#bd3786"
             ],
             [
              0.5555555555555556,
              "#d8576b"
             ],
             [
              0.6666666666666666,
              "#ed7953"
             ],
             [
              0.7777777777777778,
              "#fb9f3a"
             ],
             [
              0.8888888888888888,
              "#fdca26"
             ],
             [
              1,
              "#f0f921"
             ]
            ],
            "type": "histogram2d"
           }
          ],
          "histogram2dcontour": [
           {
            "colorbar": {
             "outlinewidth": 0,
             "ticks": ""
            },
            "colorscale": [
             [
              0,
              "#0d0887"
             ],
             [
              0.1111111111111111,
              "#46039f"
             ],
             [
              0.2222222222222222,
              "#7201a8"
             ],
             [
              0.3333333333333333,
              "#9c179e"
             ],
             [
              0.4444444444444444,
              "#bd3786"
             ],
             [
              0.5555555555555556,
              "#d8576b"
             ],
             [
              0.6666666666666666,
              "#ed7953"
             ],
             [
              0.7777777777777778,
              "#fb9f3a"
             ],
             [
              0.8888888888888888,
              "#fdca26"
             ],
             [
              1,
              "#f0f921"
             ]
            ],
            "type": "histogram2dcontour"
           }
          ],
          "mesh3d": [
           {
            "colorbar": {
             "outlinewidth": 0,
             "ticks": ""
            },
            "type": "mesh3d"
           }
          ],
          "parcoords": [
           {
            "line": {
             "colorbar": {
              "outlinewidth": 0,
              "ticks": ""
             }
            },
            "type": "parcoords"
           }
          ],
          "pie": [
           {
            "automargin": true,
            "type": "pie"
           }
          ],
          "scatter": [
           {
            "fillpattern": {
             "fillmode": "overlay",
             "size": 10,
             "solidity": 0.2
            },
            "type": "scatter"
           }
          ],
          "scatter3d": [
           {
            "line": {
             "colorbar": {
              "outlinewidth": 0,
              "ticks": ""
             }
            },
            "marker": {
             "colorbar": {
              "outlinewidth": 0,
              "ticks": ""
             }
            },
            "type": "scatter3d"
           }
          ],
          "scattercarpet": [
           {
            "marker": {
             "colorbar": {
              "outlinewidth": 0,
              "ticks": ""
             }
            },
            "type": "scattercarpet"
           }
          ],
          "scattergeo": [
           {
            "marker": {
             "colorbar": {
              "outlinewidth": 0,
              "ticks": ""
             }
            },
            "type": "scattergeo"
           }
          ],
          "scattergl": [
           {
            "marker": {
             "colorbar": {
              "outlinewidth": 0,
              "ticks": ""
             }
            },
            "type": "scattergl"
           }
          ],
          "scattermapbox": [
           {
            "marker": {
             "colorbar": {
              "outlinewidth": 0,
              "ticks": ""
             }
            },
            "type": "scattermapbox"
           }
          ],
          "scatterpolar": [
           {
            "marker": {
             "colorbar": {
              "outlinewidth": 0,
              "ticks": ""
             }
            },
            "type": "scatterpolar"
           }
          ],
          "scatterpolargl": [
           {
            "marker": {
             "colorbar": {
              "outlinewidth": 0,
              "ticks": ""
             }
            },
            "type": "scatterpolargl"
           }
          ],
          "scatterternary": [
           {
            "marker": {
             "colorbar": {
              "outlinewidth": 0,
              "ticks": ""
             }
            },
            "type": "scatterternary"
           }
          ],
          "surface": [
           {
            "colorbar": {
             "outlinewidth": 0,
             "ticks": ""
            },
            "colorscale": [
             [
              0,
              "#0d0887"
             ],
             [
              0.1111111111111111,
              "#46039f"
             ],
             [
              0.2222222222222222,
              "#7201a8"
             ],
             [
              0.3333333333333333,
              "#9c179e"
             ],
             [
              0.4444444444444444,
              "#bd3786"
             ],
             [
              0.5555555555555556,
              "#d8576b"
             ],
             [
              0.6666666666666666,
              "#ed7953"
             ],
             [
              0.7777777777777778,
              "#fb9f3a"
             ],
             [
              0.8888888888888888,
              "#fdca26"
             ],
             [
              1,
              "#f0f921"
             ]
            ],
            "type": "surface"
           }
          ],
          "table": [
           {
            "cells": {
             "fill": {
              "color": "#EBF0F8"
             },
             "line": {
              "color": "white"
             }
            },
            "header": {
             "fill": {
              "color": "#C8D4E3"
             },
             "line": {
              "color": "white"
             }
            },
            "type": "table"
           }
          ]
         },
         "layout": {
          "annotationdefaults": {
           "arrowcolor": "#2a3f5f",
           "arrowhead": 0,
           "arrowwidth": 1
          },
          "autotypenumbers": "strict",
          "coloraxis": {
           "colorbar": {
            "outlinewidth": 0,
            "ticks": ""
           }
          },
          "colorscale": {
           "diverging": [
            [
             0,
             "#8e0152"
            ],
            [
             0.1,
             "#c51b7d"
            ],
            [
             0.2,
             "#de77ae"
            ],
            [
             0.3,
             "#f1b6da"
            ],
            [
             0.4,
             "#fde0ef"
            ],
            [
             0.5,
             "#f7f7f7"
            ],
            [
             0.6,
             "#e6f5d0"
            ],
            [
             0.7,
             "#b8e186"
            ],
            [
             0.8,
             "#7fbc41"
            ],
            [
             0.9,
             "#4d9221"
            ],
            [
             1,
             "#276419"
            ]
           ],
           "sequential": [
            [
             0,
             "#0d0887"
            ],
            [
             0.1111111111111111,
             "#46039f"
            ],
            [
             0.2222222222222222,
             "#7201a8"
            ],
            [
             0.3333333333333333,
             "#9c179e"
            ],
            [
             0.4444444444444444,
             "#bd3786"
            ],
            [
             0.5555555555555556,
             "#d8576b"
            ],
            [
             0.6666666666666666,
             "#ed7953"
            ],
            [
             0.7777777777777778,
             "#fb9f3a"
            ],
            [
             0.8888888888888888,
             "#fdca26"
            ],
            [
             1,
             "#f0f921"
            ]
           ],
           "sequentialminus": [
            [
             0,
             "#0d0887"
            ],
            [
             0.1111111111111111,
             "#46039f"
            ],
            [
             0.2222222222222222,
             "#7201a8"
            ],
            [
             0.3333333333333333,
             "#9c179e"
            ],
            [
             0.4444444444444444,
             "#bd3786"
            ],
            [
             0.5555555555555556,
             "#d8576b"
            ],
            [
             0.6666666666666666,
             "#ed7953"
            ],
            [
             0.7777777777777778,
             "#fb9f3a"
            ],
            [
             0.8888888888888888,
             "#fdca26"
            ],
            [
             1,
             "#f0f921"
            ]
           ]
          },
          "colorway": [
           "#636efa",
           "#EF553B",
           "#00cc96",
           "#ab63fa",
           "#FFA15A",
           "#19d3f3",
           "#FF6692",
           "#B6E880",
           "#FF97FF",
           "#FECB52"
          ],
          "font": {
           "color": "#2a3f5f"
          },
          "geo": {
           "bgcolor": "white",
           "lakecolor": "white",
           "landcolor": "#E5ECF6",
           "showlakes": true,
           "showland": true,
           "subunitcolor": "white"
          },
          "hoverlabel": {
           "align": "left"
          },
          "hovermode": "closest",
          "mapbox": {
           "style": "light"
          },
          "paper_bgcolor": "white",
          "plot_bgcolor": "#E5ECF6",
          "polar": {
           "angularaxis": {
            "gridcolor": "white",
            "linecolor": "white",
            "ticks": ""
           },
           "bgcolor": "#E5ECF6",
           "radialaxis": {
            "gridcolor": "white",
            "linecolor": "white",
            "ticks": ""
           }
          },
          "scene": {
           "xaxis": {
            "backgroundcolor": "#E5ECF6",
            "gridcolor": "white",
            "gridwidth": 2,
            "linecolor": "white",
            "showbackground": true,
            "ticks": "",
            "zerolinecolor": "white"
           },
           "yaxis": {
            "backgroundcolor": "#E5ECF6",
            "gridcolor": "white",
            "gridwidth": 2,
            "linecolor": "white",
            "showbackground": true,
            "ticks": "",
            "zerolinecolor": "white"
           },
           "zaxis": {
            "backgroundcolor": "#E5ECF6",
            "gridcolor": "white",
            "gridwidth": 2,
            "linecolor": "white",
            "showbackground": true,
            "ticks": "",
            "zerolinecolor": "white"
           }
          },
          "shapedefaults": {
           "line": {
            "color": "#2a3f5f"
           }
          },
          "ternary": {
           "aaxis": {
            "gridcolor": "white",
            "linecolor": "white",
            "ticks": ""
           },
           "baxis": {
            "gridcolor": "white",
            "linecolor": "white",
            "ticks": ""
           },
           "bgcolor": "#E5ECF6",
           "caxis": {
            "gridcolor": "white",
            "linecolor": "white",
            "ticks": ""
           }
          },
          "title": {
           "x": 0.05
          },
          "xaxis": {
           "automargin": true,
           "gridcolor": "white",
           "linecolor": "white",
           "ticks": "",
           "title": {
            "standoff": 15
           },
           "zerolinecolor": "white",
           "zerolinewidth": 2
          },
          "yaxis": {
           "automargin": true,
           "gridcolor": "white",
           "linecolor": "white",
           "ticks": "",
           "title": {
            "standoff": 15
           },
           "zerolinecolor": "white",
           "zerolinewidth": 2
          }
         }
        },
        "title": {
         "text": "Monthly Spider Occurrences by Landscape"
        },
        "xaxis": {
         "title": {
          "text": "Date"
         }
        },
        "yaxis": {
         "title": {
          "text": "Occurrences"
         }
        }
       }
      }
     },
     "metadata": {},
     "output_type": "display_data"
    }
   ],
   "source": [
    "# Create a list of unique landscapes\n",
    "landscapes = monthly_data['Landscape'].unique()\n",
    "\n",
    "# Create the plot for spider occurrences by landscape\n",
    "fig = go.Figure()\n",
    "\n",
    "# Iterate over landscapes\n",
    "for landscape in landscapes:\n",
    "    # Filter data for the current landscape\n",
    "    landscape_data = monthly_data[monthly_data['Landscape'] == landscape]\n",
    "    \n",
    "    # Add occurrences line for the current landscape\n",
    "    fig.add_trace(go.Scatter(x=landscape_data['date'], y=landscape_data['occurrenceStatus'], mode='lines', name=landscape))\n",
    "\n",
    "# Set layout\n",
    "fig.update_layout(title='Monthly Spider Occurrences by Landscape',\n",
    "                  xaxis_title='Date',\n",
    "                  yaxis_title='Occurrences')\n",
    "\n",
    "# Show the plot\n",
    "fig.show()"
   ]
  },
  {
   "attachments": {},
   "cell_type": "markdown",
   "metadata": {},
   "source": [
    "Statistical tests"
   ]
  },
  {
   "cell_type": "code",
   "execution_count": 195,
   "metadata": {},
   "outputs": [
    {
     "name": "stdout",
     "output_type": "stream",
     "text": [
      "Correlation Coefficient (Temperature vs Occurrences): 0.3001219205872613\n",
      "p-value (Temperature vs Occurrences): 3.607917389920756e-10\n",
      "There is a statistically significant relationship between temperature and spider occurrences.\n"
     ]
    }
   ],
   "source": [
    "from scipy.stats import pearsonr\n",
    "\n",
    "# Calculate the correlation coefficient and p-value between temperature and spider occurrences\n",
    "correlation_coefficient_temp, p_value_temp = pearsonr(monthly_data['Temperature'], monthly_data['occurrenceStatus'])\n",
    "\n",
    "# Print the correlation coefficient and p-value\n",
    "print(\"Correlation Coefficient (Temperature vs Occurrences):\", correlation_coefficient_temp)\n",
    "print(\"p-value (Temperature vs Occurrences):\", p_value_temp)\n",
    "\n",
    "# Check for statistical significance\n",
    "alpha = 0.05  # Set the significance level\n",
    "\n",
    "if p_value_temp < alpha:\n",
    "    print(\"There is a statistically significant relationship between temperature and spider occurrences.\")\n",
    "else:\n",
    "    print(\"There is no statistically significant relationship between temperature and spider occurrences.\")"
   ]
  },
  {
   "cell_type": "code",
   "execution_count": 196,
   "metadata": {},
   "outputs": [
    {
     "name": "stdout",
     "output_type": "stream",
     "text": [
      "Correlation Coefficient (Precipitation vs Occurrences): 0.12729002599544506\n",
      "p-value (Precipitation vs Occurrences): 0.009096757212835545\n",
      "There is a statistically significant relationship between precipitation and spider occurrences.\n"
     ]
    }
   ],
   "source": [
    "# Calculate the correlation coefficient and p-value between precipitation and spider occurrences\n",
    "correlation_coefficient_precip, p_value_precip = pearsonr(monthly_data['Precipitation'], monthly_data['occurrenceStatus'])\n",
    "\n",
    "# Print the correlation coefficient and p-value\n",
    "print(\"Correlation Coefficient (Precipitation vs Occurrences):\", correlation_coefficient_precip)\n",
    "print(\"p-value (Precipitation vs Occurrences):\", p_value_precip)\n",
    "\n",
    "# Check for statistical significance\n",
    "alpha = 0.05  # Set the significance level\n",
    "\n",
    "if p_value_precip < alpha:\n",
    "    print(\"There is a statistically significant relationship between precipitation and spider occurrences.\")\n",
    "else:\n",
    "    print(\"There is no statistically significant relationship between precipitation and spider occurrences.\")"
   ]
  },
  {
   "cell_type": "code",
   "execution_count": 197,
   "metadata": {},
   "outputs": [
    {
     "data": {
      "image/png": "[encoded data removed]",
      "text/plain": [
       "<Figure size 1000x400 with 2 Axes>"
      ]
     },
     "metadata": {},
     "output_type": "display_data"
    }
   ],
   "source": [
    "# checking if the data is normally distributed\n",
    "\n",
    "# Creating a figure with two subplots in one row\n",
    "fig, (ax1, ax2) = plt.subplots(1, 2, figsize=(10, 4))\n",
    "\n",
    "# Plotting the first histogram\n",
    "ax1.hist(monthly_data['Temperature'], bins='auto', edgecolor='black')\n",
    "ax1.set_xlabel('Temperature')\n",
    "ax1.set_ylabel('Frequency')\n",
    "ax1.set_title('Temperature distribution')\n",
    "\n",
    "# Plotting the second histogram\n",
    "ax2.hist(monthly_data['Precipitation'], bins='auto', edgecolor='black')\n",
    "ax2.set_xlabel('Precipitation')\n",
    "ax2.set_ylabel('Frequency')\n",
    "ax2.set_title('Precipitation distribution')\n",
    "\n",
    "# Adjusting the spacing between subplots\n",
    "plt.tight_layout()\n",
    "\n",
    "# Display the plot\n",
    "plt.show()"
   ]
  },
  {
   "cell_type": "code",
   "execution_count": 198,
   "metadata": {},
   "outputs": [
    {
     "name": "stdout",
     "output_type": "stream",
     "text": [
      "Wilcoxon Rank-Sum Test (Temperature vs Occurrences):\n",
      "Test Statistic: -12.832957381396875\n",
      "p-value: 1.071929376200353e-37\n",
      "There is a statistically significant relationship between temperature and spider occurrences.\n"
     ]
    }
   ],
   "source": [
    "# performing a wilicoxon test because it does not assume normal distribution\n",
    "from scipy.stats import ranksums\n",
    "\n",
    "statistic_temp, p_value_temp = ranksums(monthly_data['Temperature'], monthly_data['occurrenceStatus'])\n",
    "\n",
    "# Print the test statistic and p-value\n",
    "print(\"Wilcoxon Rank-Sum Test (Temperature vs Occurrences):\")\n",
    "print(\"Test Statistic:\", statistic_temp)\n",
    "print(\"p-value:\", p_value_temp)\n",
    "\n",
    "# Check for statistical significance\n",
    "alpha = 0.05  # Set the significance level\n",
    "\n",
    "if p_value_temp < alpha:\n",
    "    print(\"There is a statistically significant relationship between temperature and spider occurrences.\")\n",
    "else:\n",
    "    print(\"There is no statistically significant relationship between temperature and spider occurrences.\")\n"
   ]
  },
  {
   "cell_type": "code",
   "execution_count": 199,
   "metadata": {},
   "outputs": [
    {
     "name": "stdout",
     "output_type": "stream",
     "text": [
      "Wilcoxon Rank-Sum Test (Precipitation vs Occurrences):\n",
      "Test Statistic: 2.6148001594950405\n",
      "p-value: 0.008927967530542657\n",
      "There is a statistically significant relationship between precipitation and spider occurrences.\n"
     ]
    }
   ],
   "source": [
    "# Perform the Wilcoxon rank-sum test between precipitation and spider occurrences\n",
    "statistic_precip, p_value_precip = ranksums(monthly_data['Precipitation'], monthly_data['occurrenceStatus'])\n",
    "\n",
    "# Print the test statistic and p-value\n",
    "print(\"Wilcoxon Rank-Sum Test (Precipitation vs Occurrences):\")\n",
    "print(\"Test Statistic:\", statistic_precip)\n",
    "print(\"p-value:\", p_value_precip)\n",
    "\n",
    "# Check for statistical significance\n",
    "alpha = 0.05  # Set the significance level\n",
    "\n",
    "if p_value_precip < alpha:\n",
    "    print(\"There is a statistically significant relationship between precipitation and spider occurrences.\")\n",
    "else:\n",
    "    print(\"There is no statistically significant relationship between precipitation and spider occurrences.\")"
   ]
  },
  {
   "attachments": {},
   "cell_type": "markdown",
   "metadata": {},
   "source": [
    "exploring the efeects of landscape more"
   ]
  },
  {
   "cell_type": "code",
   "execution_count": 200,
   "metadata": {},
   "outputs": [
    {
     "data": {
      "image/png": "[encoded data removed]",
      "text/plain": [
       "<Figure size 640x480 with 1 Axes>"
      ]
     },
     "metadata": {},
     "output_type": "display_data"
    },
    {
     "data": {
      "image/png": "[encoded data removed]",
      "text/plain": [
       "<Figure size 640x480 with 1 Axes>"
      ]
     },
     "metadata": {},
     "output_type": "display_data"
    }
   ],
   "source": [
    "# Group data by landscape and calculate the total number of spider occurrences in each landscape\n",
    "landscape_counts = data.groupby('Landscape')['occurrenceStatus'].sum()\n",
    "\n",
    "# Create a bar chart to visualize the distribution of spider occurrences across landscape types\n",
    "plt.bar(landscape_counts.index, landscape_counts.values)\n",
    "plt.xlabel('Landscape')\n",
    "plt.ylabel('Number of Spider Occurrences')\n",
    "plt.title('Distribution of Spider Occurrences Across Landscape Types')\n",
    "plt.show()\n",
    "\n",
    "# Alternatively, you can create a pie chart to visualize the distribution\n",
    "plt.pie(landscape_counts.values, labels=landscape_counts.index, autopct='%1.1f%%')\n",
    "plt.title('Distribution of Spider Occurrences Across Landscape Types')\n",
    "plt.show()"
   ]
  },
  {
   "cell_type": "code",
   "execution_count": 201,
   "metadata": {},
   "outputs": [
    {
     "name": "stdout",
     "output_type": "stream",
     "text": [
      "Kruskal-Wallis Test Statistic: 50.178970719054696\n",
      "p-value: 1.2699158817154567e-11\n",
      "There are statistically significant differences in the number of occurrences across landscape types.\n"
     ]
    }
   ],
   "source": [
    "from scipy.stats import kruskal\n",
    "\n",
    "# because I have landscape which is a cetegorical data and monthly occurences in this landscape better to perform Kruskal-Wallis test\n",
    "# which is a non-parametric test used to determine if there are differences between multiple groups\n",
    "# you can consider each landscape type as a group and the number of monthly occurrences as the variable of interest\n",
    "\n",
    "# Group the data by landscape and obtain the occurrences for each landscape\n",
    "landscape_groups = [group['occurrenceStatus'] for _, group in monthly_data.groupby('Landscape')]\n",
    "\n",
    "# Perform the Kruskal-Wallis test\n",
    "statistic, p_value = kruskal(*landscape_groups)\n",
    "\n",
    "# Print the test statistic and p-value\n",
    "print(\"Kruskal-Wallis Test Statistic:\", statistic)\n",
    "print(\"p-value:\", p_value)\n",
    "\n",
    "# Check for statistical significance\n",
    "alpha = 0.05  # Set the significance level\n",
    "\n",
    "if p_value < alpha:\n",
    "    print(\"There are statistically significant differences in the number of occurrences across landscape types.\")\n",
    "else:\n",
    "    print(\"There are no statistically significant differences in the number of occurrences across landscape types.\")"
   ]
  },
  {
   "attachments": {},
   "cell_type": "markdown",
   "metadata": {},
   "source": [
    "Detection of New Spider Species:"
   ]
  },
  {
   "cell_type": "code",
   "execution_count": 202,
   "metadata": {},
   "outputs": [
    {
     "name": "stdout",
     "output_type": "stream",
     "text": [
      "Year 1981: Trochosa terricola, Evarcha arcuata, Alopecosa trabalis, Metellina segmentata, Heliophanus cupreus, Neottiura bimaculata, Pardosa hortensis, Alopecosa cuneata, Ozyptila scabricula, Pocadicnemis pumila, Agroeca cuprea, Zelotes petrensis, Misumena vatia, Minicia marginella, Arctosa lutetiana, Atypus affinis, Linyphia triangularis, Evarcha falcata, Pardosa bifasciata, Pardosa palustris, Thanatus formicinus, Neottiura suaveolens, Tapinopa longidens, Ozyptila atomaria, Drassyllus praeficus, Ozyptila claveata, Hypsosinga albovittata, Aulonia albimana, Drassodes pubescens, Xysticus erraticus, Diplostyla concolor, Palliduphantes pallidus, Robertus neglectus, Pardosa monticola, Xysticus kochi, Walckenaeria antica, Micaria guttulata, Bathyphantes gracilis, Oedothorax retusus, Atypus piceus, Clubiona similis, Euophrys frontalis, Pachygnatha degeeri, Drassyllus pusillus, Philodromus cespitum, Xysticus cristatus, Tenuiphantes mengei, Sintula corniger, Pellenes tripunctatus, Metopobactrus prominulus, Arctosa figurata, Agyneta simplicitarsis, Xysticus bifasciatus, Agyneta rurestris, Episinus truncatus, Micrargus subaequalis, Neriene clathrata, Enoplognatha ovata, Antistea elegans, Pachygnatha clercki, Phrurolithus festivus, Tapinocyboides pygmaeus, Haplodrassus signifer, Dysdera erythrina, Sibianor aurocinctus, Heliophanus flavipes, Euryopis flavomaculata, Oedothorax apicatus, Micrommata virescens, Hahnia pusilla, Mangora acalypha, Pirata piraticus, Pisaura mirabilis, Centromerus incilium, Pardosa amentata, Heterotheridion nigrovariegatum, Enoplognatha thoracica, Inermocoelotes inermis, Gnaphosa lucifuga, Erigone atra, Synema globosum, Maso sundevalli, Pardosa pullata, Panamomops sulcifrons, Phylloneta impressa\n",
      "Year 1982: Argiope bruennichi, Dictyna uncinata, Pirata piscatorius\n",
      "Year 1983: Piratula latitans, Erigone atra, Alopecosa pulverulenta, Pardosa amentata, Pachygnatha degeeri, Erigone dentipalpis, Aulonia albimana, Oedothorax fuscus, Walckenaeria acuminata, Tiso vagans, Arctosa lutetiana, Pocadicnemis juncea, Dicymbium nigrum, Diplostyla concolor, Araeoncus humilis, Zelotes latreillei, Pelecopsis parallela, Pirata piraticus, Bathyphantes approximatus, Pachygnatha clercki, Agyneta rurestris, Tenuiphantes tenuis, Piratula uliginosa, Micrargus subaequalis, Pirata tenuitarsis, Arctosa leopardus, Trochosa spinipalpis, Liocranoeca striata, Pardosa palustris, Pardosa pullata, Phrurolithus minimus, Talavera aequipes, Phrurolithus festivus, Piratula hygrophila, Clubiona lutescens, Bathyphantes gracilis, Oedothorax apicatus, Xysticus cristatus, Pardosa prativaga, Diplocephalus cristatus, Pardosa hortensis, Trochosa terricola, Araneus diadematus, Walckenaeria atrotibialis, Clubiona similis, Tenuiphantes mengei, Ozyptila simplex, Gnathonarium dentatum, Drassyllus lutetianus, Pardosa agrestis, Pisaura mirabilis, Cnephalocotes obscurus, Tallusia experta, Agyneta affinis, Walckenaeria antica, Trochosa ruricola, Xerolycosa miniata, Centromerus sylvaticus, Antistea elegans, Diplocephalus latifrons, Silometopus reussi, Robertus lividus, Micrargus herbigradus, Palliduphantes pallidus, Centromerita bicolor, Xysticus bifasciatus, Xysticus kochi, Allomengea vidua, Arctosa perita, Neriene clathrata, Neottiura bimaculata, Ceratinella brevipes, Micaria pulicaria, Diplocephalus picinus, Silometopus elegans, Clubiona reclusa, Phlegra fasciata, Enoplognatha thoracica, Tetragnatha obtusa, Porrhomma pygmaeum, Monocephalus fuscipes, Porrhomma oblitum, Theridiosoma gemmosum, Ceratinella scabrosa, Zora spinimana, Pachygnatha listeri, Alopecosa cuneata, Porrhomma microps, Cicurina cicur, Pirata piscatorius, Walckenaeria vigilax, Xysticus ulmi, Ozyptila praticola, Myrmarachne formicaria, Helophora insignis, Trachyzelotes pedestris, Theridion pictum, Walckenaeria nudipalpis, Hahnia nava, Allagelena gracilens, Ceratinella brevis, Dismodicus bifrons, Mioxena blanda, Ozyptila trux, Bathyphantes nigrinus, Tetragnatha extensa, Euophrys frontalis, Evarcha arcuata, Histopona torpida, Linyphia triangularis, Drassodes pubescens, Porrhomma cambridgei, Drassyllus pusillus, Minyriolus pusillus, Microneta viaria, Gongylidiellum murcidum, Clubiona terrestris, Clubiona phragmitis, Cheiracanthium erraticum, Zodarion italicum, Xysticus lineatus, Floronia bucculenta, Tetragnatha montana, Walckenaeria dysderoides, Heliophanus flavipes, Stemonyphantes lineatus, Urozelotes rusticus, Agyneta mollis, Gongylidium rufipes, Tenuiphantes cristatus, Robertus scoticus, Dictyna uncinata, Tenuiphantes tenebricola, Tetragnatha striata, Bolyphantes alticeps, Theridion varians, Coelotes terrestris, Porrhomma convexum\n",
      "Year 1984: Pachygnatha degeeri, Drassyllus pusillus, Arctosa leopardus, Pirata piraticus, Oedothorax fuscus, Pardosa agrestis, Pardosa wagleri, Alopecosa pulverulenta, Micrargus herbigradus, Bathyphantes gracilis, Piratula latitans, Pardosa amentata, Pachygnatha clercki, Pardosa pullata, Erigone dentipalpis, Phrurolithus festivus, Walckenaeria vigilax, Trochosa ruricola, Allomengea vidua, Clubiona phragmitis, Pocadicnemis juncea, Ozyptila praticola, Pirata piscatorius, Pardosa palustris, Alopecosa farinosa, Tiso vagans, Porrhomma pygmaeum, Aulonia albimana, Centromerus sylvaticus, Glyphesis servulus, Micaria pulicaria, Erigone atra, Agyneta rurestris, Centromerita bicolor, Tenuiphantes tenuis, Gnathonarium dentatum, Trochosa spinipalpis, Trochosa terricola, Gongylidiellum murcidum, Clubiona neglecta, Diplostyla concolor, Liocranoeca striata, Xysticus kochi, Walckenaeria antica, Pelecopsis parallela, Evarcha arcuata, Pardosa prativaga, Walckenaeria nudipalpis, Silometopus elegans, Tallusia experta, Myrmarachne formicaria, Antistea elegans, Histopona torpida, Diplocephalus latifrons, Porrhomma microps, Drassyllus lutetianus, Walckenaeria obtusa, Pardosa hortensis, Cicurina cicur, Xysticus cristatus, Piratula hygrophila, Pirata tenuitarsis, Araeoncus humilis, Oedothorax apicatus, Microlinyphia impigra, Piratula uliginosa, Clubiona lutescens, Inermocoelotes inermis, Diplocephalus cristatus, Dicymbium nigrum, Dismodicus bifrons, Ozyptila simplex, Tetragnatha striata, Walckenaeria unicornis, Trachyzelotes pedestris, Pardosa paludicola, Saaristoa abnormis, Robertus lividus, Talavera aequipes, Agyneta affinis, Tenuiphantes mengei, Xysticus ulmi, Sibianor aurocinctus, Floronia bucculenta, Micrargus subaequalis, Attulus caricis, Donacochara speciosa, Panamomops sulcifrons, Heliophanus flavipes, Microneta viaria, Styloctetor compar, Thanatus formicinus, Hahnia pusilla, Zelotes latreillei, Neottiura bimaculata, Phlegra fasciata, Xysticus luctator, Hypomma fulvum, Alopecosa cuneata, Bathyphantes approximatus, Neriene clathrata, Porrhomma oblitum, Palliduphantes pallidus, Euophrys frontalis, Walckenaeria dysderoides, Walckenaeria acuminata, Pachygnatha listeri, Euryopis flavomaculata, Hahnia helveola, Pisaura mirabilis, Mioxena blanda, Metellina segmentata, Clubiona stagnatilis, Ceratinella brevipes, Ceratinella brevis, Formiphantes lepthyphantiformis, Heliophanus auratus, Monocephalus fuscipes, Theridion varians, Eratigena atrica, Zora spinimana, Nesticus cellulanus, Zelotes apricorum, Theridiosoma gemmosum, Tapinopa longidens, Diplocephalus picinus, Kaestneria pullata, Maso sundevalli, Walckenaeria atrotibialis, Arctosa lutetiana, Agyneta mollis, Trichopternoides thorelli, Heliophanus cupreus, Ceratinella scabrosa, Xerolycosa miniata, Oedothorax retusus, Xerolycosa nemoralis, Agelena labyrinthica, Thanatus striatus, Clubiona reclusa, Tibellus maritimus, Episinus angulatus, Linyphia triangularis, Centromerus brevipalpus, Neon reticulatus, Argiope bruennichi\n",
      "Year 1985: Salticus scenicus, Cicurina cicur, Zelotes apricorum, Heliophanus aeneus, Atypus affinis, Trochosa ruricola, Pisaura mirabilis, Neriene clathrata, Gnaphosa badia, Pardosa ferruginea\n",
      "Year 1986: Pardosa pullata, Coelotes terrestris, Alopecosa pulverulenta, Euryopis flavomaculata, Haplodrassus signifer, Zelotes subterraneus, Robertus lividus, Trochosa terricola, Ceratinella brevis, Piratula uliginosa, Tapinocyba pallens, Agyneta cauta, Agroeca brunnea, Agyneta affinis, Xerolycosa nemoralis, Centromerus brevipalpus, Asagena phalerata, Centromerus pabulator, Evarcha falcata, Drassodes pubescens, Hahnia pusilla, Xysticus cristatus, Tenuiphantes mengei, Agroeca proxima, Cybaeus tetricus, Argiope bruennichi, Pardosa amentata, Pardosa blanda, Heliophanus flavipes, Heliophanus aeneus\n",
      "Year 1987: Drapetisca socialis, Linyphia triangularis, Dysdera crocata, Drassodes lapidosus, Tapinocyba maureri, Peponocranium orbiculatum, Pardosa riparia, Asagena phalerata, Alopecosa trabalis, Xysticus kochi, Pocadicnemis juncea, Euryopis flavomaculata, Argenna subnigra, Ozyptila simplex, Walckenaeria cucullata, Palliduphantes pallidus, Xysticus bifasciatus, Tenuiphantes tenebricola, Styloctetor compar, Cybaeus intermedius, Drassyllus praeficus, Pachygnatha degeeri, Alopecosa pulverulenta, Eratigena fuesslini, Xysticus erraticus, Arctosa figurata, Drassodes pubescens, Agyneta mollis, Euophrys frontalis, Aulonia albimana, Bassaniodes robustus, Metopobactrus prominulus, Ceratinella brevipes, Zelotes latreillei, Pelecopsis radicicola, Dysdera erythrina, Xysticus cristatus, Pardosa palustris, Haplodrassus silvestris, Aculepeira ceropegia, Mecopisthes silus, Trochosa terricola, Gnaphosa bicolor, Agyneta rurestris, Pardosa bifasciata, Sibianor aurocinctus, Hypsosinga albovittata, Arctosa lutetiana, Cybaeus montanus, Zora spinimana, Araniella cucurbitina, Thanatus atratus, Zelotes petrensis, Tenuiphantes mengei, Mansuphantes aridus, Zora nemoralis, Trochosa hispanica, Psammitis ninnii, Centromerus sylvaticus, Zelotes electus, Hypsosinga sanguinea, Metopobactrus nadigi, Tibellus oblongus, Panamomops inconspicuus, Erigone dentipalpis, Trichopterna cito, Haplodrassus signifer, Ceratinella scabrosa, Histopona torpida, Micrargus herbigradus, Mangora acalypha, Phrurolithus nigrinus, Zodarion italicum, Drassyllus pusillus, Microctenonyx subitaneus, Piratula latitans, Centromerus brevipalpus, Robertus mediterraneus, Enoplognatha thoracica, Talavera aequipes, Clubiona comta, Phlegra fasciata, Thanatus coloradensis, Enoplognatha ovata, Tenuiphantes flavipes, Xysticus gallicus, Tapinocyba pallens, Microneta viaria, Hahnia ononidum, Robertus lividus, Clubiona terrestris, Mecopisthes latinus, Saloca diceros, Cozyptila blackwalli, Robertus neglectus, Steatoda paykulliana, Minyriolus pusillus, Agroeca cuprea, Gonatium paradoxum, Misumena vatia, Xysticus lanio, Walckenaeria antica, Heliophanus flavipes, Coelotes mediocris, Neriene furtiva, Troglohyphantes caligatus, Cryphoeca brignolii, Cyclosa conica, Walckenaeria furcillata, Dasumia taeniifera, Myrmarachne formicaria, Phylloneta sisyphia, Pardosa amentata, Parasteatoda tepidariorum, Metellina segmentata, Agelena labyrinthica, Araneus diadematus, Dendryphantes rudis, Scytodes thoracica, Philodromus dispar, Marpissa muscosa, Ozyptila praticola, Philaeus chrysops, Harpactocrates drassoides\n",
      "Year 1988: Alopecosa pulverulenta, Ceratinella brevis, Pardosa riparia, Tenuiphantes mengei, Micrargus herbigradus, Microctenonyx subitaneus, Drassyllus praeficus, Hahnia nava, Thanatus atratus, Xysticus kochi, Psammitis ninnii, Steatoda paykulliana, Dysdera ninnii, Centromerus brevipalpus, Pardosa bifasciata, Walckenaeria mitrata, Histopona italica, Trochosa terricola, Aulonia albimana, Walckenaeria acuminata, Mermessus trilobatus, Agyneta mollis, Agroeca cuprea, Centromerus sellarius, Sintula corniger, Zodarion italicum, Mansuphantes aridus, Zelotes latreillei, Dicymbium nigrum, Xysticus kempeleni, Pachygnatha degeeri, Asagena phalerata, Coelotes mediocris, Alopecosa trabalis, Lasaeola coracina, Trochosa hispanica, Cybaeus intermedius, Pocadicnemis juncea, Peponocranium orbiculatum, Styloctetor compar, Agyneta rurestris, Tenuiphantes flavipes, Centromerus sylvaticus, Drassodes pubescens, Argenna subnigra, Enoplognatha thoracica, Diplostyla concolor, Walckenaeria antica, Pocadicnemis pumila, Diplocephalus latifrons, Metellina mengei, Linyphia triangularis, Drapetisca socialis, Zora spinimana, Cyclosa conica, Araniella cucurbitina, Euophrys frontalis, Cybaeus montanus, Arctosa figurata, Heliophanus flavipes, Zelotes erebeus, Marpissa nivoyi, Zora silvestris, Phrurolithus minimus, Agroeca proxima, Metopobactrus nadigi, Drassyllus pusillus, Xysticus bifasciatus, Lasaeola prona, Micrargus subaequalis, Pardosa palustris, Clubiona neglecta, Centromerus incilium, Tegenaria silvestris, Amaurobius jugorum, Cryphoeca silvicola, Microneta viaria, Gnaphosa bicolor, Philodromus margaritatus, Neriene radiata, Araniella alpica, Metellina segmentata, Evarcha falcata, Trichopterna cito, Tapinocyba maureri, Hogna radiata, Zelotes electus, Xysticus erraticus, Dasumia taeniifera, Drassyllus villicus, Clubiona diversa, Tapinocyboides pygmaeus, Zelotes petrensis, Poecilochroa variana, Thanatus formicinus, Palliduphantes pallidus, Tiso vagans, Haplodrassus signifer, Walckenaeria atrotibialis, Piratula hygrophila, Euryopis flavomaculata, Arctosa lutetiana, Hypsosinga albovittata, Piratula latitans, Tenuiphantes tenebricola, Aelurillus v-insignitus, Enoplognatha ovata, Walckenaeria alticeps, Walckenaeria furcillata, Erigone autumnalis, Agroeca brunnea, Trachyzelotes pedestris, Alopecosa sulzeri, Antistea elegans, Walckenaeria obtusa, Talavera aequipes, Bassaniodes robustus, Segestria senoculata, Robertus lividus, Dipoena melanogaster, Pisaura mirabilis, Linyphia hortensis, Zelotes apricorum, Parasteatoda lunata, Tapinocyba pallens, Troglohyphantes caligatus, Erigone dentipalpis, Gonatium paradoxum, Centromerus cavernarum, Harpactocrates drassoides, Araneus diadematus, Neriene peltata, Mastigusa arietina, Alopecosa cuneata, Mecopisthes silus, Clubiona comta, Amaurobius fenestralis, Pelecopsis radicicola, Walckenaeria stylifrons, Theonina cornix, Haplodrassus umbratilis, Phaeocedus braccatus, Agyneta ramosa, Mecopisthes latinus, Walckenaeria cucullata, Zelotes subterraneus, Ozyptila atomaria, Ozyptila simplex, Phlegra fasciata, Phrurolithus festivus, Xysticus audax, Haplodrassus silvestris, Zelotes similis, Obscuriphantes obscurus, Araneus marmoreus, Neriene clathrata, Drassodes lapidosus, Hahnia pusilla, Ozyptila secreta, Neottiura bimaculata, Zora nemoralis, Aculepeira ceropegia, Caracladus leberti, Staveleya paulae, Panamomops inconspicuus, Tenuiphantes tenuis, Neottiura suaveolens, Philodromus aureolus, Xysticus cristatus, Neon levis, Philodromus dispar, Xerolycosa nemoralis, Diaea dorsata, Zodarion rubidum, Asthenargus paganus, Eratigena fuesslini, Scotina celans, Pardosa agrestis, Labulla thoracica, Hypsosinga sanguinea, Trochosa robusta, Pelecopsis elongata, Clubiona caerulescens, Bolyphantes alticeps, Sittisax saxicola, Attulus pubescens, Metellina merianae, Cozyptila blackwalli, Heliophanus cupreus, Ero furcata, Tenuiphantes cristatus, Anguliphantes monticola, Zygiella montana, Pholcus phalangioides, Argiope bruennichi, Philaeus chrysops, Harpactea lepida, Pardosa amentata, Centromerus dilutus, Erigone atra, Oedothorax apicatus, Ozyptila trux, Bathyphantes gracilis, Agyneta saxatilis, Clubiona reclusa, Panamomops mengei, Gongylidiellum latebricola, Walckenaeria vigilax, Maso sundevalli, Cicurina cicur, Inermocoelotes inermis, Walckenaeria dysderoides, Coelotes terrestris, Clubiona terrestris, Oedothorax fuscus, Walckenaeria cuspidata, Histopona torpida, Centromerita bicolor, Bathyphantes parvulus, Gonatium rubellum, Hahnia helveola, Ceratinella scabrosa, Platnickina tincta, Tapinocyba insecta, Tenuiphantes zimmermanni, Pardosa pullata, Atypus affinis, Trochosa ruricola, Walckenaeria corniculans, Trochosa spinipalpis, Diplocephalus picinus, Micaria fulgens, Kishidaia conspicua, Panamomops sulcifrons, Ozyptila praticola, Monocephalus fuscipes, Robertus neglectus, Saaristoa abnormis, Ozyptila claveata, Cybaeus tetricus, Liocranoeca striata, Pardosa paludicola, Dysdera erythrina, Dicymbium tibiale, Centromerus leruthi, Minyriolus pusillus, Talavera inopinata, Formiphantes lepthyphantiformis, Hypomma cornutum, Hylyphantes nigritus, Neriene emphana, Neon reticulatus, Micaria pulicaria, Ostearius melanopygius, Clubiona brevipes, Centromerus serratus, Drassyllus lutetianus, Pardosa hortensis, Iberina montana, Hilaira excisa, Saloca diceros, Gongylidium rufipes, Porrhomma pygmaeum, Philodromus rufus, Macrargus rufus, Nigma flavescens, Stemonyphantes lineatus, Clubiona lutescens, Micrargus apertus, Tetragnatha obtusa, Harpactea hombergi, Micrommata virescens, Centromerus pabulator, Allagelena gracilens, Araeoncus humilis, Pachygnatha listeri, Helophora insignis, Asthenargus helveticus, Piratula uliginosa, Trematocephalus cristatus, Cryptachaea riparia, Porrhomma errans, Eratigena picta, Agyneta affinis, Lepthyphantes nodifer, Pachygnatha clercki, Clubiona pallidula, Ballus chalybeius, Pellenes tripunctatus, Thyreosthenius biovatus, Moebelia penicillata, Tmarus piger, Troxochrus scabriculus, Clubiona germanica, Tapinopa longidens, Diplocephalus cristatus, Cnephalocotes obscurus, Xysticus luctuosus, Theridion varians, Walckenaeria incisa, Arctosa leopardus, Tetragnatha montana\n",
      "Year 1989: Argiope bruennichi, Pisaura mirabilis, Drassyllus pusillus, Micrargus herbigradus, Pocadicnemis juncea, Alopecosa pulverulenta, Centromerus sylvaticus, Pelecopsis radicicola, Zelotes latreillei, Walckenaeria acuminata, Alopecosa trabalis, Agyneta rurestris, Agyneta mollis, Xysticus acerbus, Aulonia albimana, Pardosa bifasciata, Trochosa terricola, Pachygnatha degeeri, Tenuiphantes mengei, Palliduphantes pallidus, Centromerus sellarius, Pachygnatha clercki, Tenuiphantes tenebricola, Diplostyla concolor, Phrurolithus festivus, Zelotes apricorum, Scotina celans, Centromerus leruthi, Mermessus trilobatus, Trochosa hispanica, Alopecosa sulzeri, Centromerus brevipalpus, Theonina cornix, Xysticus erraticus, Euophrys frontalis, Zelotes erebeus, Neon levis, Zora silvestris, Mansuphantes aridus, Neon reticulatus, Sintula corniger, Zelotes petrensis, Staveleya paulae, Tapinocyba maureri, Drassodes pubescens, Metopobactrus nadigi, Peponocranium orbiculatum, Agroeca proxima, Histopona torpida, Pardosa riparia, Trochosa ruricola, Xysticus bifasciatus, Microneta viaria, Diplocephalus picinus, Ozyptila atomaria, Walckenaeria antica, Dasumia taeniifera, Xysticus kochi, Pardosa palustris, Agroeca cuprea, Thanatus formicinus, Linyphia hortensis, Walckenaeria cucullata, Ceratinella brevis, Walckenaeria furcillata, Enoplognatha thoracica, Argenna subnigra, Asagena phalerata, Psammitis ninnii, Tiso vagans, Dicymbium nigrum, Hypsosinga sanguinea, Trachyzelotes pedestris, Arctosa lutetiana, Centromerus incilium, Agyneta affinis, Alopecosa cuneata, Coelotes mediocris, Hogna radiata, Steatoda paykulliana, Tenuiphantes tenuis, Trichopterna cito, Drassodes lapidosus, Mecopisthes latinus, Micrargus apertus, Talavera aequipes, Troglohyphantes caligatus, Eratigena fuesslini, Xysticus gallicus, Zora spinimana, Walckenaeria stylifrons, Amaurobius jugorum, Styloctetor compar, Drassyllus praeficus, Gonatium paradoxum, Bassaniodes robustus, Cnephalocotes obscurus, Tenuiphantes flavipes, Cicurina cicur, Lasaeola coracina, Euryopis flavomaculata, Cybaeus intermedius, Marpissa nivoyi, Agyneta ramosa, Thanatus atratus, Clubiona neglecta, Cercidia prominens, Hahnia pusilla, Haplodrassus umbratilis, Apostenus fuscus, Eratigena agrestis, Drassyllus villicus, Clubiona diversa, Erigone dentipalpis, Micrargus subaequalis, Sibianor aurocinctus, Diplocephalus latifrons, Panamomops inconspicuus, Haplodrassus kulczynskii, Xysticus cristatus, Phlegra fasciata, Zelotes electus, Arctosa figurata, Harpactocrates drassoides, Macrargus rufus, Microctenonyx subitaneus, Hahnia nava, Walckenaeria mitrata, Haplodrassus silvestris, Robertus lividus, Drassodes cupreus, Erigone autumnalis, Harpactea hombergi, Alopecosa inquilina, Microdipoena jobi, Saloca diceros, Hahnia ononidum, Erigonoplus foveatus, Evarcha arcuata, Walckenaeria obtusa, Haplodrassus signifer, Piratula latitans, Heliophanus cupreus, Microlinyphia pusilla, Phrurolithus minimus, Zora nemoralis, Bathyphantes gracilis, Xysticus kempeleni, Dysdera ninnii, Zodarion italicum, Ozyptila simplex, Histopona italica, Crustulina guttata, Kishidaia conspicua, Tapinocyboides pygmaeus, Lasaeola prona, Erigone jaegeri, Pardosa prativaga, Acartauchenius scurrilis, Phaeocedus braccatus, Tapinocyba pallens, Robertus mediterraneus, Tegenaria silvestris, Centromerus serratus, Mioxena blanda, Neottiura suaveolens, Micaria fulgens, Mastigusa arietina, Segestria senoculata, Mecopisthes silus, Episinus truncatus, Clubiona terrestris, Agyneta gulosa, Hypsosinga albovittata, Atypus muralis, Neottiura bimaculata, Alopecosa farinosa, Cybaeus montanus, Walckenaeria atrotibialis, Heliophanus flavipes, Bolyphantes alticeps, Porrhomma campbelli, Harpactea thaleri, Tallusia vindobonensis, Metellina segmentata, Arctosa personata, Dysdera erythrina, Diplocephalus cristatus, Agyneta simplicitarsis, Gnaphosa bicolor, Walckenaeria alticeps, Ozyptila secreta, Ero furcata, Zelotes atrocaeruleus, Poecilochroa variana, Araneus diadematus, Neriene clathrata, Tenuiphantes cristatus, Robertus neglectus, Cheiracanthium virescens, Echemus angustifrons, Textrix denticulata, Minicia marginella, Ceratinella scabrosa, Erigone atra, Xysticus lanio, Labulla thoracica, Drapetisca socialis, Agyneta saxatilis, Enoplognatha ovata, Bathyphantes parvulus, Linyphia triangularis, Centromerus dilutus, Tapinopa longidens, Walckenaeria corniculans, Walckenaeria dysderoides, Clubiona caerulescens, Harpactea lepida, Inermocoelotes inermis, Coelotes terrestris, Pardosa hortensis, Saaristoa abnormis, Hahnia helveola, Monocephalus fuscipes, Clubiona reclusa, Xerolycosa nemoralis, Pardosa agrestis, Walckenaeria cuspidata, Formiphantes lepthyphantiformis, Ozyptila praticola, Pardosa pullata, Maso sundevalli, Xysticus ulmi, Ozyptila trux, Clubiona lutescens, Pardosa amentata, Araeoncus humilis, Clubiona comta, Tenuiphantes zimmermanni, Pachygnatha listeri, Ceratinella brevipes, Talavera inopinata, Oedothorax apicatus, Porrhomma errans, Panamomops sulcifrons, Gonatium rubellum, Metellina merianae, Walckenaeria vigilax, Tapinocyba insecta, Ballus chalybeius, Cybaeus tetricus, Arctosa leopardus, Oedothorax fuscus, Anyphaena accentuata, Nigma flavescens, Drassyllus lutetianus, Dismodicus bifrons, Cinetata gradata, Dicymbium tibiale, Atypus piceus, Agroeca brunnea, Gongylidiellum latebricola, Philodromus collinus, Paidiscura pallens, Neriene emphana, Amaurobius ferox, Metellina mengei, Micaria pulicaria, Entelecara flavipes, Porrhomma oblitum, Neriene peltata, Panamomops mengei, Centromerita bicolor, Salticus zebraneus, Nusoncus nasutus, Episinus angulatus, Stemonyphantes lineatus, Ozyptila claveata, Lepthyphantes nodifer, Walckenaeria unicornis, Obscuriphantes obscurus, Hylyphantes nigritus, Parasteatoda simulans, Iberina montana, Piratula uliginosa\n",
      "Year 1990: Aculepeira ceropegia, Argiope bruennichi, Pisaura mirabilis, Centromerus sellarius, Staveleya paulae, Hahnia pusilla, Drassodes cupreus, Centromerus brevipalpus, Minyriolus pusillus, Tapinocyba maureri, Pachygnatha degeeri, Trochosa ruricola, Panamomops inconspicuus, Argenna subnigra, Mermessus trilobatus, Trochosa terricola, Dicymbium nigrum, Mansuphantes aridus, Tenuiphantes mengei, Walckenaeria acuminata, Psammitis ninnii, Thanatus formicinus, Centromerus incilium, Microneta viaria, Tenuiphantes flavipes, Micrargus subaequalis, Xysticus kochi, Zelotes electus, Alopecosa pulverulenta, Agyneta mollis, Scotina celans, Centromerus leruthi, Erigonoplus foveatus, Saloca diceros, Xysticus bifasciatus, Drassyllus pusillus, Xysticus kempeleni, Diplocephalus picinus, Centromerus sylvaticus, Aulonia albimana, Styloctetor compar, Alopecosa trabalis, Tiso vagans, Zelotes latreillei, Haplodrassus signifer, Amaurobius jugorum, Walckenaeria antica, Sintula corniger, Micrargus herbigradus, Ozyptila atomaria, Alopecosa cuneata, Erigone jaegeri, Stemonyphantes lineatus, Agyneta affinis, Coelotes mediocris, Centromerus serratus, Diplostyla concolor, Tenuiphantes cristatus, Agroeca cuprea, Gonatium paradoxum, Xysticus erraticus, Walckenaeria cucullata, Cybaeus intermedius, Trichopterna cito, Arctosa lutetiana, Tenuiphantes tenebricola, Zora spinimana, Trochosa hispanica, Pardosa prativaga, Pardosa riparia, Ozyptila secreta, Mioxena blanda, Peponocranium orbiculatum, Macrargus rufus, Drassyllus praeficus, Harpactea thaleri, Pocadicnemis juncea, Zelotes petrensis, Xysticus gallicus, Tapinocyboides pygmaeus, Pholcomma gibbum, Robertus mediterraneus, Minicia marginella, Palliduphantes pallidus, Pardosa palustris, Agroeca proxima, Zora silvestris, Drassodes pubescens, Eratigena fuesslini, Apostenus fuscus, Walckenaeria obtusa, Walckenaeria nudipalpis, Agyneta rurestris, Cnephalocotes obscurus, Bolyphantes alticeps, Lasaeola coracina, Haplodrassus silvestris, Lasaeola prona, Walckenaeria mitrata, Talavera aequipes, Agroeca brunnea, Arctosa personata, Clubiona diversa, Scytodes thoracica, Enoplognatha latimana, Piratula latitans, Ceratinella brevis, Steatoda paykulliana, Phlegra fasciata, Zelotes apricorum, Zelotes subterraneus, Pardosa pullata, Bathyphantes approximatus, Erigone dentipalpis, Erigone atra, Pardosa amentata, Zora nemoralis, Evarcha falcata, Xysticus luctuosus, Arctosa leopardus, Tapinocyba pallens, Oedothorax fuscus, Hypomma fulvum, Antistea elegans, Xerolycosa nemoralis, Oedothorax gibbosus, Trochosa spinipalpis, Silometopus elegans, Xysticus cristatus, Heliophanus flavipes, Pirata piraticus, Pelecopsis parallela, Porrhomma campbelli, Dismodicus bifrons, Leptorhoptrum robustum, Enoplognatha ovata, Walckenaeria kochi, Agyneta cauta, Euophrys frontalis, Asagena phalerata, Microlinyphia pusilla, Pocadicnemis pumila, Centromerita bicolor, Micaria pulicaria, Pachygnatha clercki, Ceratinella scabrosa, Drepanotylus uncatus, Lophomma punctatum, Piratula uliginosa, Eratigena atrica, Tetragnatha extensa, Allagelena gracilens\n",
      "Year 1991: Argiope bruennichi, Pardosa pullata, Zelotes clivicola, Gnaphosa nigerrima, Trochosa spinipalpis, Notioscopus sarcinatus, Micaria pulicaria, Centromerus brevipalpus, Zora nemoralis, Agroeca brunnea, Piratula hygrophila, Oedothorax gibbosus, Walckenaeria antica, Alopecosa taeniata, Trochosa terricola, Silometopus elegans, Alopecosa pulverulenta, Tapinocyba pallens, Piratula latitans, Xysticus audax, Agyneta cauta, Agyneta conigera, Euophrys frontalis, Inermocoelotes inermis, Clubiona kulczynskii, Gonatium rubens, Iberina difficilis, Pocadicnemis pumila, Evarcha falcata, Cryphoeca silvicola, Ceratinella brevis, Larinioides sclopetarius, Neon reticulatus, Maso sundevalli, Linyphia triangularis, Drassodes lapidosus, Tenuiphantes mengei, Evarcha arcuata, Walckenaeria cucullata, Harpactea lepida, Walckenaeria nudipalpis, Agroeca proxima, Lepthyphantes leprosus, Clubiona lutescens, Steatoda bipunctata, Eratigena atrica, Neriene emphana, Nesticus cellulanus, Amaurobius similis, Megalepthyphantes nebulosus, Scytodes thoracica, Agroeca cuprea, Alopecosa farinosa, Arctosa lutetiana, Drassyllus praeficus, Dysdera crocata, Euophrys herbigrada, Gnaphosa lugubris, Hahnia nava, Haplodrassus dalmatensis, Haplodrassus signifer, Lathys stigmatisata, Nomisia exornata, Ozyptila claveata, Pardosa bifasciata, Pellenes nigrociliatus, Asianellus festivus, Robertus neglectus, Titanoeca quadriguttata, Zelotes longipes, Zodarion italicum, Haplodrassus kulczynskii, Alopecosa trabalis, Styloctetor romanus, Euryopis quinqueguttata, Syedra gracilis, Typhochrestus inflatus, Psammitis ninnii, Sibianor aurocinctus, Eresus kollari, Liocranum rupicola, Pardosa saltans, Walckenaeria dysderoides, Arctosa figurata, Callilepis schuszteri, Drassodes pubescens, Minicia marginella, Synaphosus sauvage, Xysticus cor, Chalcoscirtus infimus, Erigonoplus globipes, Harpactea hombergi, Talavera aequipes, Trachyzelotes pedestris, Xysticus cristatus, Drassyllus villicus, Pelecopsis elongata, Neottiura suaveolens, Heliophanus cupreus, Xysticus erraticus, Alopecosa cuneata, Hahnia ononidum, Trichopterna cito, Trochosa robusta, Zelotes petrensis, Porrhoclubiona genevensis, Alopecosa fabrilis, Xysticus kochi, Centromerus serratus, Segestria bavarica, Enoplognatha ovata, Palliduphantes pallidus, Bassaniodes robustus, Heliophanus tribulosus, Diplostyla concolor, Pardosa oreophila, Erigone remota, Diplocephalus helleri, Gnaphosa badia, Micaria alpina, Silometopus rosemariae, Thanatus formicinus, Erigone dentipalpis, Tenuiphantes jacksoni, Agyneta gulosa, Tenuiphantes zimmermanni, Pardosa blanda, Erigone cristatopalpus, Xysticus ulmi, Erigone atra, Pardosa palustris, Arctosa alpigena, Oedothorax retusus, Zodarion rubidum, Pardosa torrentum, Euryopis flavomaculata, Walckenaeria atrotibialis, Trochosa ruricola, Amaurobius jugorum, Tapinocyba insecta, Centromerus sylvaticus, Phrurolithus festivus, Ceratinella scabrosa, Pachygnatha listeri, Zelotes latreillei, Xysticus bifasciatus, Neriene clathrata, Clubiona pallidula, Aulonia albimana, Pardosa mixta, Mughiphantes handschini, Pardosa saturatior, Centromerus pabulator, Erigone tenuimana, Erigonella hiemalis, Oedothorax gibbifer, Coelotes rudolfi, Pardosa amentata, Zelotes subterraneus, Pachygnatha degeeri, Ozyptila rauda, Argenna subnigra, Tenuiphantes flavipes, Xerolycosa nemoralis, Pisaura mirabilis, Styloctetor compar, Araeoncus anguineus, Leptorhoptrum robustum, Pardosa monticola, Mecynargus paetulus, Ozyptila atomaria, Micaria nivosa, Micrargus herbigradus, Tmarus piger, Pardosa riparia, Drassyllus lutetianus, Phlegra fasciata, Clubiona comta, Mansuphantes fragilis, Pardosa nigra, Clubiona similis, Liocranoeca striata, Pocadicnemis juncea, Tiso vagans, Enoplognatha thoracica, Xysticus luctator, Clubiona neglecta, Agyneta nigripes, Oedothorax apicatus, Cybaeus tetricus, Pardosa wagleri, Pardosa agrestis, Tegenaria silvestris, Aelurillus v-insignitus, Asthenargus paganus, Robertus truncorum, Pardosa giebeli, Diplocephalus cristatus, Textrix denticulata, Zora spinimana, Anguliphantes monticola, Ozyptila simplex, Stemonyphantes lineatus, Walckenaeria acuminata, Agyneta affinis, Clubiona diversa, Walckenaeria furcillata, Mermessus trilobatus, Walckenaeria vigilax, Porrhomma convexum, Walckenaeria capito, Drassodex heeri, Ceratinella brevipes, Drassyllus pumilus, Salticus scenicus, Drassyllus pusillus, Microneta viaria, Scotinotylus antennatus, Centromerus subalpinus, Asagena phalerata, Attulus longipes, Cheiracanthium virescens, Collinsia inerrans, Tenuiphantes monachus, Clubiona caerulescens, Heliophanus flavipes, Anyphaena accentuata, Dicymbium nigrum, Nematogmus sanguinolentus, Talavera petrensis, Porrhomma rosenhaueri, Eratigena agrestis, Ostearius melanopygius, Myrmarachne formicaria, Oreonetides glacialis, Walckenaeria alticeps, Cicurina cicur, Micrargus apertus\n",
      "Year 1992: Erigone atra, Argiope bruennichi, Erigone remota, Pirata tenuitarsis, Antistea elegans, Erigone cristatopalpus, Pachygnatha degeeri, Oedothorax fuscus, Dicymbium nigrum, Erigone dentipalpis, Pardosa palustris, Oedothorax retusus, Piratula latitans, Leptorhoptrum robustum, Pardosa pullata, Pardosa amentata, Alopecosa pulverulenta, Ceratinella brevipes, Xysticus cristatus, Pachygnatha clercki, Oedothorax apicatus, Tiso vagans, Bathyphantes gracilis, Trochosa spinipalpis, Tegenaria domestica, Amaurobius similis, Lepthyphantes leprosus, Xerolycosa nemoralis, Evarcha arcuata, Lophomma punctatum, Zygiella montana, Xysticus erraticus, Evarcha falcata, Labulla thoracica, Theridion varians, Araneus diadematus, Steatoda bipunctata, Arctosa leopardus, Diplocephalus permixtus, Palliduphantes pallidus, Bathyphantes approximatus, Coelotes terrestris, Aelurillus v-insignitus, Salticus scenicus, Tenuiphantes tenebricola, Scytodes thoracica, Tenuiphantes mengei, Pseudeuophrys lanigera, Tenuiphantes cristatus, Drepanotylus uncatus, Segestria senoculata, Pisaura mirabilis, Aculepeira carbonaria, Liocranum rupicola, Pardosa giebeli, Pardosa blanda, Micrargus herbigradus, Trochosa ruricola, Phrurolithus festivus, Araeoncus humilis, Panamomops sulcifrons, Agyneta affinis, Styloctetor compar, Diplocephalus latifrons, Xysticus kochi, Porrhomma microps, Pocadicnemis pumila, Ceratinella brevis, Phrurolithus minimus, Notioscopus sarcinatus, Tapinocyba insecta, Piratula hygrophila, Euophrys frontalis, Ozyptila trux, Neon reticulatus, Walckenaeria atrotibialis, Walckenaeria nudipalpis, Walckenaeria furcillata, Gongylidiellum latebricola, Agelena labyrinthica, Micaria pulicaria, Zelotes latreillei, Enoplognatha thoracica, Ozyptila simplex, Arctosa lutetiana, Pardosa proxima, Hahnia nava, Pocadicnemis juncea, Phlegra fasciata, Xysticus bifasciatus, Cnephalocotes obscurus, Trochosa terricola, Histopona torpida, Nesticus cellulanus, Pardosa saltans, Walckenaeria antica, Ozyptila atomaria, Synageles venator, Erigonella hiemalis, Textrix denticulata\n",
      "Year 1993: Pisaura mirabilis, Argiope bruennichi, Pardosa palustris, Piratula latitans, Alopecosa pulverulenta, Pardosa pullata, Oedothorax fuscus, Pachygnatha clercki, Oedothorax retusus, Pachygnatha degeeri, Dicymbium nigrum, Tiso vagans, Pardosa amentata, Erigone atra, Metellina segmentata, Philodromus dispar, Xysticus cristatus, Drassodex lesserti, Pholcus phalangioides, Macrargus rufus, Eratigena atrica, Pityohyphantes phrygianus, Steatoda bipunctata, Tegenaria silvestris, Textrix denticulata, Tegenaria domestica, Zygiella x-notata, Araneus diadematus, Centromerus sylvaticus, Nuctenea umbratica, Tapinopa longidens, Aelurillus v-insignitus, Harpactea hombergi, Coelotes terrestris, Nesticus cellulanus, Harpactea lepida, Psilochorus simoni, Metellina merianae, Agnyphantes expunctus, Phylloneta impressa, Piniphantes pinicola, Lepthyphantes leprosus, Xerolycosa nemoralis, Pardosa blanda, Trochosa ruricola, Arctosa leopardus, Erigone dentipalpis, Pocadicnemis pumila, Piratula hygrophila, Neon reticulatus, Walckenaeria alticeps, Zelotes latreillei, Euryopis flavomaculata, Gongylidiellum murcidum, Histopona torpida, Trochosa spinipalpis, Gongylidiellum latebricola, Ozyptila trux, Harpactocrates drassoides, Euophrys frontalis, Cicurina cicur, Pocadicnemis juncea, Walckenaeria antica, Xysticus erraticus, Tapinocyba insecta, Xysticus bifasciatus, Arctosa lutetiana, Enoplognatha thoracica, Pardosa proxima, Micaria pulicaria, Phlegra fasciata, Cnephalocotes obscurus, Micrargus subaequalis\n",
      "Year 1994: Walckenaeria antica, Pardosa palustris, Hahnia nava, Haplodrassus signifer, Alopecosa cuneata, Aulonia albimana, Argenna subnigra, Enoplognatha thoracica, Agyneta affinis, Pardosa pullata, Pisaura mirabilis, Micaria pulicaria, Palliduphantes pallidus, Agyneta mollis, Drassyllus pusillus, Micrargus subaequalis, Phrurolithus festivus, Erigone dentipalpis, Trochosa ruricola, Pachygnatha degeeri, Pardosa hortensis, Tenuiphantes tenuis, Zora silvestris, Mermessus trilobatus, Drassyllus praeficus, Pardosa bifasciata, Drassodes pubescens, Zelotes latreillei, Alopecosa pulverulenta, Trachyzelotes pedestris, Tiso vagans, Pocadicnemis juncea, Sibianor aurocinctus, Micaria fulgens, Pardosa monticola, Myrmarachne formicaria, Cnephalocotes obscurus, Microneta viaria, Ozyptila simplex, Pardosa saltans, Agyneta rurestris, Bathyphantes gracilis, Mioxena blanda, Ozyptila claveata, Xysticus kochi, Euophrys frontalis, Histopona torpida, Zora spinimana, Trochosa robusta, Bassaniodes robustus, Drassyllus pumilus, Porrhomma convexum, Trochosa terricola, Micaria formicaria, Meta menardi, Piratula latitans, Episinus truncatus, Zelotes petrensis, Centromerita bicolor, Atypus piceus, Oedothorax apicatus, Dolomedes fimbriatus, Anyphaena accentuata, Argiope bruennichi, Oedothorax retusus, Dicymbium nigrum, Pardosa amentata, Xysticus cristatus, Oedothorax fuscus, Erigone atra, Ceratinella brevipes, Amaurobius similis, Tenuiphantes mengei, Eratigena atrica, Nesticus cellulanus, Pirata piraticus, Tegenaria silvestris, Tegenaria ferruginea, Amaurobius fenestralis, Metellina merianae, Silometopus reussi, Philodromus aureolus, Pocadicnemis pumila, Piratula hygrophila, Harpactea lepida, Centromerus sylvaticus, Walckenaeria alticeps, Hahnia pusilla, Tapinocyba pallens, Ceratinella brevis, Scotophaeus quadripunctatus, Tapinocyba insecta, Arctosa lutetiana, Pelecopsis radicicola, Panamomops sulcifrons, Trochosa spinipalpis, Xysticus erraticus, Xysticus bifasciatus, Drassodes cupreus, Heliophanus flavipes, Agroeca brunnea, Clubiona terrestris, Pelecopsis parallela, Antistea elegans, Araeoncus humilis, Porrhomma microphthalmum, Dysdera erythrina, Pachygnatha clercki, Xysticus luctator, Agyneta simplicitarsis, Pardosa agrestis, Zodarion italicum, Arctosa leopardus, Diplostyla concolor, Porrhomma oblitum, Euryopis flavomaculata, Pardosa proxima, Dysdera crocata, Walckenaeria vigilax, Tenuiphantes cristatus, Piratula uliginosa, Robertus arundineti, Palliduphantes arenicola, Arctosa alpigena, Tenuiphantes flavipes, Robertus lividus, Neottiura bimaculata, Robertus neglectus, Ostearius melanopygius, Saaristoa abnormis, Erigonella hiemalis, Micrommata virescens, Asagena phalerata, Textrix denticulata, Talavera aperta, Linyphia hortensis, Microlinyphia pusilla, Tallusia experta, Macrargus rufus, Bathyphantes parvulus, Maso sundevalli, Prinerigone vagans, Agelena labyrinthica, Clubiona comta, Nigma flavescens, Walckenaeria mitrata, Ozyptila praticola, Pachygnatha listeri, Cicurina cicur, Micrargus herbigradus, Walckenaeria atrotibialis, Coelotes terrestris, Clubiona kulczynskii, Centromerus brevipalpus, Walckenaeria corniculans, Trematocephalus cristatus, Walckenaeria cucullata, Xerolycosa miniata, Alopecosa taeniata, Diplocephalus helleri, Attulus terebratus, Steatoda bipunctata, Alopecosa farinosa, Lepthyphantes leprosus, Pardosa giebeli, Megalepthyphantes collinus, Ozyptila trux, Harpactocrates drassoides, Diplocephalus cristatus, Ozyptila atomaria, Mughiphantes variabilis, Agnyphantes expunctus, Tenuiphantes zimmermanni, Tegenaria domestica, Diplocephalus picinus, Agyneta ramosa, Haplodrassus silvestris, Clubiona neglecta, Monocephalus fuscipes, Phrurolithus minimus, Talavera aequipes, Ceratinella scabrosa, Talavera inopinata, Gnaphosa lucifuga, Phrurolithus nigrinus, Eratigena picta, Xysticus lanio, Agroeca cuprea, Alopecosa trabalis, Panamomops mengei, Callilepis schuszteri, Centromerus serratus, Gongylidiellum latebricola, Heliophanus cupreus, Zelotes exiguus, Lasaeola coracina, Zora nemoralis, Diplocephalus latifrons, Ipa keyserlingi, Haplodrassus kulczynskii, Zelotes apricorum, Drassodes lapidosus, Centromerita concinna, Tenuiphantes tenebricola, Philodromus collinus, Clubiona diversa, Lasaeola prona, Ozyptila pullata, Walckenaeria dysderoides, Neottiura suaveolens, Cybaeus tetricus, Walckenaeria acuminata, Pellenes tripunctatus, Pardosa prativaga, Crustulina guttata, Scotina celans, Evarcha arcuata, Hahnia ononidum, Gnaphosa bicolor, Ozyptila scabricula, Walckenaeria obtusa, Xerolycosa nemoralis, Tapinocyboides pygmaeus, Lepthyphantes nodifer, Sintula corniger, Nematogmus sanguinolentus, Euryopis quinqueguttata, Harpactea hombergi, Metopobactrus prominulus, Segestria senoculata, Centromerus dilutus\n",
      "Year 1995: Hahnia ononidum, Pardosa saltans, Cozyptila blackwalli, Walckenaeria dysderoides, Clubiona terrestris, Trichoncus affinis, Walckenaeria corniculans, Hahnia pusilla, Tenuiphantes flavipes, Zodarion italicum, Tegenaria silvestris, Phrurolithus festivus, Apostenus fuscus, Theonina cornix, Harpactea lepida, Histopona torpida, Coelotes terrestris, Anguliphantes angulipalpis, Harpactea hombergi, Tapinopa longidens, Iberina candida, Scotina celans, Cicurina cicur, Tapinocyba pallens, Euryopis flavomaculata, Ceratinella scabrosa, Diplocephalus latifrons, Walckenaeria atrotibialis, Zelotes apricorum, Drassyllus villicus, Hahnia helveola, Segestria senoculata, Centromerus serratus, Zora nemoralis, Arctosa lutetiana, Haplodrassus silvestris, Phylloneta impressa, Dysdera erythrina, Trochosa terricola, Diplostyla concolor, Palliduphantes pallidus, Harpactocrates drassoides, Enoplognatha ovata, Textrix denticulata, Microneta viaria, Amaurobius fenestralis, Trichoncyboides simoni, Robertus lividus, Panamomops mengei, Enoplognatha thoracica, Zora spinimana, Walckenaeria cucullata, Cybaeus tetricus, Drassodes lapidosus, Dendryphantes rudis, Centromerus cavernarum, Saloca diceros, Clubiona comta, Evarcha falcata, Drassyllus praeficus, Micrargus apertus, Philodromus albidus, Nigma flavescens, Monocephalus fuscipes, Oedothorax apicatus, Neriene clathrata, Theonoe minutissima, Pardosa amentata, Metopobactrus prominulus, Walckenaeria mitrata, Pardosa hortensis, Atypus affinis, Zelotes erebeus, Pholcomma gibbum, Parasteatoda lunata, Xysticus lanio, Araneus diadematus, Labulla thoracica, Crustulina guttata, Atypus piceus, Hypomma cornutum, Mangora acalypha, Attulus rupicola, Agelena labyrinthica, Ozyptila scabricula, Alopecosa cuneata, Araeoncus humilis, Aulonia albimana, Evarcha laetabunda, Hahnia nava, Tenuiphantes tenuis, Pardosa bifasciata, Xerolycosa miniata, Zelotes atrocaeruleus, Agyneta rurestris, Agyneta simplicitarsis, Ozyptila atomaria, Pachygnatha degeeri, Pardosa pullata, Xysticus acerbus, Xysticus kempeleni, Centromerus incilium, Phlegra fasciata, Silometopus bonessi, Zelotes petrensis, Alopecosa farinosa, Ozyptila claveata, Pardosa palustris, Xysticus erraticus, Civizelotes civicus, Argenna subnigra, Cnephalocotes obscurus, Pardosa vittata, Haplodrassus signifer, Tiso vagans, Drassyllus pusillus, Hypsosinga sanguinea, Hypsosinga albovittata, Oxyopes lineatus, Philaeus chrysops, Trichoncus hackmani, Pardosa agrestis, Xysticus bifasciatus, Lasaeola coracina, Trochosa ruricola, Cheiracanthium virescens, Typhochrestus digitatus, Zelotes exiguus, Argiope bruennichi, Bathyphantes gracilis, Ozyptila simplex, Stemonyphantes lineatus, Sibianor aurocinctus, Micrargus subaequalis, Xysticus kochi, Dictyna arundinacea, Phrurolithus nigrinus, Clubiona frutetorum, Haplodrassus kulczynskii, Neottiura suaveolens, Centromerita bicolor, Pardosa monticola, Alopecosa striatipes, Arctosa figurata, Pisaura mirabilis, Pardosa proxima, Trichopterna cito, Alopecosa trabalis, Erigone dentipalpis, Walckenaeria acuminata, Clubiona pseudoneglecta, Alopecosa fabrilis, Drassodes pubescens, Zora parallela, Xysticus cristatus, Agalenatea redii, Euophrys frontalis, Asagena phalerata, Bassaniodes robustus, Thanatus formicinus, Alopecosa pulverulenta, Euryopis quinqueguttata, Walckenaeria antica, Heliophanus flavipes, Evarcha arcuata, Zelotes latreillei, Ebrechtella tricuspidata, Trochosa robusta, Misumena vatia, Inermocoelotes inermis, Pellenes tripunctatus, Linyphia triangularis, Micaria pulicaria, Neottiura bimaculata, Porrhomma microphthalmum, Trachyzelotes pedestris, Clubiona diversa, Talavera aequipes, Talavera aperta, Hylyphantes nigritus, Neriene furtiva, Piratula latitans, Oedothorax retusus, Ceratinella brevipes, Oedothorax fuscus, Leptorhoptrum robustum, Dicymbium nigrum, Tegenaria ferruginea, Eratigena atrica, Meta menardi, Porrhomma errans, Theridion betteni, Tenuiphantes alacris, Amaurobius ferox, Tegenaria domestica, Alopecosa taeniata, Drassodex lesserti, Tenuiphantes zimmermanni, Bathyphantes similis, Porrhomma convexum, Cryphoeca silvicola, Neriene emphana, Metellina merianae, Tetragnatha obtusa, Myrmarachne formicaria, Panamomops sulcifrons, Centromerus sylvaticus, Micaria formicaria, Scotina palliardii, Agroeca cuprea, Porrhomma oblitum, Haplodrassus dalmatensis, Thanatus atratus, Micrargus herbigradus, Walckenaeria alticeps, Clubiona neglecta, Robertus neglectus, Linyphia hortensis, Walckenaeria vigilax, Micaria guttulata, Erigone atra, Agyneta mollis, Phrurolithus minimus, Microlinyphia pusilla, Enoplognatha latimana, Pachygnatha clercki, Piratula hygrophila, Ozyptila pullata, Metellina segmentata, Mermessus trilobatus, Heliophanus cupreus, Diplocephalus picinus, Micaria fulgens, Episinus truncatus, Tenuiphantes cristatus, Zora silvestris, Pardosa riparia, Walckenaeria monoceros, Tetragnatha extensa, Ozyptila praticola, Micaria coarctata, Arctosa personata, Piratula uliginosa, Saaristoa abnormis, Gnaphosa lucifuga, Sintula corniger, Pardosa nigriceps, Dolomedes fimbriatus, Pelecopsis parallela, Ero furcata, Euryopis laeta, Aelurillus v-insignitus, Pardosa mixta, Mughiphantes pulcher, Xysticus audax, Megalepthyphantes collinus, Styloctetor compar, Arctosa leopardus, Oedothorax agrestis, Trochosa spinipalpis, Ozyptila trux, Tapinocyba insecta\n",
      "Year 1996: Coelotes terrestris, Histopona torpida, Walckenaeria acuminata, Tenuiphantes flavipes, Walckenaeria corniculans, Diplostyla concolor, Pardosa saltans, Pardosa hortensis, Ceratinella brevis, Pardosa amentata, Palliduphantes pallidus, Piratula latitans, Trochosa terricola, Robertus lividus, Cnephalocotes obscurus, Ozyptila simplex, Walckenaeria atrotibialis, Inermocoelotes inermis, Aulonia albimana, Oedothorax apicatus, Phrurolithus festivus, Xysticus cristatus, Evarcha arcuata, Piratula uliginosa, Zelotes latreillei, Microneta viaria, Drassyllus pusillus, Pachygnatha degeeri, Saaristoa abnormis, Xysticus kochi, Trochosa ruricola, Pardosa agrestis, Oedothorax fuscus, Pardosa proxima, Tenuiphantes tenuis, Pardosa palustris, Micaria pulicaria, Hahnia nava, Ostearius melanopygius, Mermessus trilobatus, Micrargus subaequalis, Erigone dentipalpis, Arctosa leopardus, Enoplognatha thoracica, Pardosa prativaga, Pardosa pullata, Xysticus acerbus, Walckenaeria antica, Alopecosa pulverulenta, Drassyllus praeficus, Agyneta affinis, Diplocephalus latifrons, Gongylidiellum latebricola, Diplocephalus picinus, Trachyzelotes pedestris, Drassyllus lutetianus, Myrmarachne formicaria, Argenna subnigra, Apostenus fuscus, Agyneta rurestris, Tiso vagans, Erigone atra, Pachygnatha clercki, Arctosa lutetiana, Zelotes petrensis, Cercidia prominens, Dicymbium nigrum, Piratula hygrophila, Centromerus sylvaticus, Pocadicnemis juncea, Talavera aperta, Walckenaeria vigilax, Agyneta mollis, Alopecosa cuneata, Tenuiphantes zimmermanni, Zora spinimana, Centromerus leruthi, Ballus chalybeius, Neriene clathrata, Tegenaria silvestris, Porrhomma microphthalmum, Zodarion italicum, Porrhomma pallidum, Gnathonarium dentatum, Euophrys frontalis, Walckenaeria alticeps, Evarcha falcata, Haplodrassus signifer, Pisaura mirabilis, Clubiona terrestris, Cicurina cicur, Enoplognatha ovata, Zelotes apricorum, Palliduphantes insignis, Sibianor aurocinctus, Linyphia hortensis, Neon reticulatus, Pelecopsis parallela, Bathyphantes gracilis, Macrargus rufus, Pirata piraticus, Xysticus ulmi, Micrargus herbigradus, Ozyptila praticola, Attulus penicillatus, Agelena labyrinthica, Walckenaeria nudipalpis, Walckenaeria obtusa, Microlinyphia pusilla, Floronia bucculenta, Centromerita bicolor, Hahnia pusilla, Araeoncus humilis, Xysticus erraticus, Walckenaeria dysderoides, Neottiura bimaculata, Liocranoeca striata, Drassodes lapidosus, Phrurolithus minimus, Tenuiphantes mengei, Xysticus lanio, Talavera aequipes, Agroeca brunnea, Porrhomma oblitum, Parasteatoda tepidariorum, Pirata tenuitarsis, Pholcus phalangioides, Gongylidium rufipes, Philodromus aureolus, Nuctenea umbratica, Zygiella x-notata, Eratigena atrica, Linyphia triangularis, Lepthyphantes leprosus, Tetragnatha extensa, Drapetisca socialis, Clubiona pallidula, Misumena vatia, Anyphaena accentuata, Clubiona lutescens, Steatoda bipunctata, Harpactea hombergi, Theridiosoma gemmosum, Argiope bruennichi, Neriene peltata, Liocranum rupicola, Cryphoeca silvicola, Tetragnatha montana, Metellina mengei, Entelecara acuminata, Pirata piscatorius, Dictyna uncinata, Philodromus buxi, Nesticus cellulanus, Nigma walckenaeri, Synageles venator, Clubiona brevipes, Scotophaeus quadripunctatus, Salticus zebraneus, Ozyptila scabricula, Philodromus albidus, Theridion pictum, Neriene montana, Parasteatoda lunata, Phylloneta impressa, Marpissa muscosa, Philodromus dispar, Hypsosinga sanguinea, Araniella opisthographa, Atypus affinis, Neriene emphana, Aculepeira ceropegia, Brigittea civica, Lepthyphantes minutus, Psilochorus simoni, Araneus diadematus, Theridion varians, Neriene radiata, Araniella cucurbitina, Piratula knorri, Pholcus opilionoides, Metellina segmentata, Larinioides cornutus, Philodromus praedatus, Ero aphana, Pseudeuophrys lanigera, Platnickina tincta, Dictyna arundinacea, Diaea dorsata, Metellina merianae, Amaurobius ferox, Parasteatoda simulans, Scytodes thoracica, Pseudicius encarpatus, Attulus floricola, Hylyphantes graminicola, Clubiona reclusa, Oedothorax agrestis, Erigone dentigera, Parapelecopsis nemoralis, Cryptachaea riparia, Salticus scenicus, Tegenaria ferruginea, Diplocephalus cristatus, Heliophanus cupreus, Amaurobius similis, Episinus angulatus, Pardosa blanda, Alopecosa trabalis, Clubiona caerulescens, Haplodrassus kulczynskii, Pardosa bifasciata, Thanatus formicinus, Centromerus incilium, Ozyptila claveata, Alopecosa farinosa, Atypus piceus, Clubiona pseudoneglecta, Zelotes atrocaeruleus, Agyneta simplicitarsis, Phlegra fasciata, Arctosa figurata, Heliophanus flavipes, Zelotes exiguus, Metopobactrus prominulus, Scotina palliardii, Civizelotes civicus, Silometopus bonessi, Robertus arundineti, Dysdera erythrina, Ozyptila atomaria, Xysticus kempeleni, Xysticus bifasciatus, Typhochrestus digitatus, Episinus truncatus, Phrurolithus nigrinus, Hypsosinga albovittata, Pardosa vittata, Evarcha laetabunda, Drassyllus villicus, Neriene furtiva, Oxyopes lineatus, Alopecosa fabrilis, Tmarus piger, Alopecosa striatipes, Drassodes pubescens, Ozyptila pullata, Zora parallela, Xysticus lineatus, Bassaniodes robustus, Trichopterna cito, Asagena phalerata, Drassyllus pumilus, Pardosa monticola, Synema globosum, Stemonyphantes lineatus, Mangora acalypha, Trichoncus hackmani, Xysticus audax, Trochosa robusta, Poecilochroa variana, Cheiracanthium virescens, Diplocephalus dentatus, Synageles hilarulus, Antistea elegans, Clubiona diversa, Neottiura suaveolens, Euryopis flavomaculata, Titanoeca quadriguttata, Kryptonesticus eremita, Ceratinella brevipes, Oedothorax retusus, Leptorhoptrum robustum, Acantholycosa norvegica, Porrhomma egeria, Cyclosa conica, Heliophanus aeneus, Araneus sturmi, Pseudeuophrys erratica, Sardinidion blackwalli, Crustulina guttata, Textrix denticulata, Tenuiphantes alacris, Harpactocrates drassoides, Micaria formicaria, Agroeca proxima, Micaria guttulata, Typhochrestus simoni, Panamomops sulcifrons, Zora silvestris, Erigonella hiemalis, Gonatium rubens, Tapinocyboides pygmaeus, Gibbaranea gibbosa, Walckenaeria furcillata, Agyneta saxatilis, Callilepis schuszteri, Steatoda albomaculata, Centromerita concinna, Philodromus rufus, Zelotes erebeus, Minicia marginella, Pardosa riparia, Carrhotus xanthogramma, Agroeca cuprea, Jacksonella falconeri, Heterotheridion nigrovariegatum, Xerolycosa miniata, Maso sundevalli, Centromerus dilutus, Drassodes cupreus, Micaria coarctata, Ceratinella scabrosa, Acartauchenius scurrilis, Monocephalus fuscipes, Neoscona adianta, Centromerus serratus, Theridion mystaceum, Walckenaeria mitrata, Clubiona neglecta, Lasaeola coracina, Dipoena melanogaster, Theridion pinastri, Walckenaeria cucullata, Robertus neglectus, Xysticus luctator, Walckenaeria monoceros, Pardosa nigriceps, Haplodrassus dalmatensis, Micaria fulgens, Pityohyphantes phrygianus, Pellenes tripunctatus, Ozyptila trux, Theonina cornix, Phaeocedus braccatus, Erigonoplus globipes, Nigma flavescens, Ipa keyserlingi, Hyptiotes paradoxus, Dysdera crocata, Philodromus cespitum, Gnaphosa lucifuga, Cozyptila blackwalli, Mioxena blanda, Gongylidiellum murcidum, Tetragnatha pinicola, Zora nemoralis, Centromerus brevipalpus, Euryopis laeta, Zygiella atrica, Anelosimus vittatus, Pardosa mixta, Brigittea latens, Philodromus vagulus, Tegenaria domestica, Tapinopa longidens, Meta menardi, Metopobactrus nodicornis, Porrhomma convexum, Trematocephalus cristatus, Larinioides sclopetarius, Tapinocyba pallens, Obscuriphantes obscurus, Trochosa spinipalpis, Tapinocyba insecta, Tenuiphantes tenebricola\n",
      "Year 1997: Oedothorax apicatus, Pardosa agrestis, Piratula latitans, Alopecosa pulverulenta, Erigone dentipalpis, Agyneta rurestris, Pachygnatha degeeri, Pardosa hortensis, Trochosa ruricola, Neriene clathrata, Phrurolithus minimus, Clubiona lutescens, Trochosa terricola, Pardosa palustris, Diplocephalus picinus, Microneta viaria, Zodarion italicum, Pardosa pullata, Hahnia nava, Drassyllus pusillus, Micaria pulicaria, Xysticus kochi, Phrurolithus festivus, Alopecosa cuneata, Ozyptila simplex, Xysticus acerbus, Drassyllus praeficus, Tenuiphantes tenuis, Pardosa amentata, Diplostyla concolor, Erigone atra, Oedothorax fuscus, Xysticus cristatus, Palliduphantes pallidus, Mermessus trilobatus, Agyneta affinis, Enoplognatha thoracica, Micrargus subaequalis, Pardosa saltans, Coelotes terrestris, Micrargus herbigradus, Walckenaeria corniculans, Euophrys frontalis, Saaristoa abnormis, Tenuiphantes flavipes, Floronia bucculenta, Zelotes latreillei, Pardosa proxima, Araeoncus humilis, Pachygnatha clercki, Ozyptila claveata, Aulonia albimana, Haplodrassus signifer, Ostearius melanopygius, Argenna subnigra, Dysdera erythrina, Tegenaria silvestris, Myrmarachne formicaria, Walckenaeria atrotibialis, Cnephalocotes obscurus, Ozyptila praticola, Centromerus sylvaticus, Agyneta mollis, Walckenaeria antica, Trachyzelotes pedestris, Tiso vagans, Porrhomma microphthalmum, Histopona torpida, Dicymbium nigrum, Xysticus audax, Pocadicnemis juncea, Asagena phalerata, Pisaura mirabilis, Apostenus fuscus, Xysticus erraticus, Zora spinimana, Nematogmus sanguinolentus, Neottiura bimaculata, Walckenaeria vigilax, Diplocephalus latifrons, Bathyphantes gracilis, Xysticus kempeleni, Allagelena gracilens, Pardosa paludicola, Centromerus serratus, Clubiona terrestris, Macrargus rufus, Centromerus pabulator, Maso sundevalli, Microlinyphia pusilla, Centromerita bicolor, Clubiona comta, Eratigena agrestis, Crustulina guttata, Agelena labyrinthica, Arctosa leopardus, Zelotes exiguus, Pardosa prativaga, Tenuiphantes mengei, Robertus lividus, Walckenaeria acuminata, Stemonyphantes lineatus, Inermocoelotes inermis, Monocephalus fuscipes, Robertus neglectus, Harpactea lepida, Agyneta saxatilis, Ero furcata, Pelecopsis parallela, Hahnia pusilla, Linyphia hortensis, Heliophanus flavipes, Porrhomma oblitum, Walckenaeria cucullata, Porrhomma rosenhaueri, Nesticus cellulanus, Micrargus apertus, Eratigena atrica, Misumena vatia, Meta menardi, Cyclosa conica, Metellina segmentata, Neriene peltata, Metellina merianae, Nigma flavescens, Philodromus aureolus, Psilochorus simoni, Atypus piceus, Araneus angulatus, Labulla thoracica, Pirata piraticus, Porrhomma egeria, Porrhomma convexum, Cicurina cicur, Walckenaeria dysderoides, Philodromus dispar, Talavera aperta, Walckenaeria nudipalpis, Metellina mengei, Lophomma punctatum, Anyphaena accentuata, Tetragnatha montana, Xysticus luctator, Textrix denticulata, Walckenaeria alticeps, Piratula hygrophila, Pachygnatha listeri, Cetonana laticeps, Theridion mystaceum, Oedothorax agrestis, Paidiscura pallens, Centromerus brevipalpus, Liocranoeca striata, Piratula uliginosa, Clubiona pallidula, Antistea elegans, Enoplognatha ovata, Panamomops sulcifrons, Lathys humilis, Walckenaeria mitrata, Diaea dorsata, Pirata tenuitarsis, Agyneta innotabilis, Ceratinella scabrosa, Trichopterna cito, Gongylidium rufipes, Neriene montana, Agroeca brunnea, Zelotes subterraneus, Gongylidiellum murcidum, Agyneta simplicitarsis, Araneus sturmi, Tenuiphantes cristatus, Zelotes apricorum, Haplodrassus silvestris, Philodromus cespitum, Bathyphantes nigrinus, Tallusia experta, Sibianor aurocinctus, Lepthyphantes minutus, Araniella cucurbitina, Walckenaeria obtusa, Trochosa spinipalpis, Robertus arundineti, Aelurillus v-insignitus, Agroeca cuprea, Alopecosa farinosa, Alopecosa fabrilis, Amaurobius jugorum, Atypus affinis, Callilepis schuszteri, Drassodes lapidosus, Dysdera crocata, Eresus kollari, Erigonoplus globipes, Pseudeuophrys lanigera, Gnaphosa lugubris, Heliophanus tribulosus, Nomisia exornata, Pardosa bifasciata, Titanoeca quadriguttata, Trochosa robusta, Xerolycosa nemoralis, Zelotes aeneus, Zelotes erebeus, Drassyllus villicus, Heliophanus cupreus, Micaria guttulata, Oxyopes lineatus, Syedra gracilis, Zelotes longipes, Episinus truncatus, Hahnia ononidum, Minicia marginella, Acartauchenius scurrilis, Cheiracanthium virescens, Talavera aequipes, Lathys stigmatisata, Typhochrestus digitatus, Xysticus cor, Evarcha falcata, Haplodrassus dalmatensis, Harpactea hombergi, Psammitis ninnii, Brigittea latens, Arctosa figurata, Echemus angustifrons, Evarcha laetabunda, Pholcomma gibbum, Porrhoclubiona genevensis, Thomisus onustus, Euryopis quinqueguttata, Haplodrassus kulczynskii, Arctosa lutetiana, Euophrys herbigrada, Salticus scenicus, Zelotes gallicus, Centromerus leruthi, Ero aphana, Jacksonella falconeri, Heterotheridion nigrovariegatum, Agyneta fuscipalpa, Scytodes thoracica, Zodarion rubidum, Pellenes nigrociliatus, Chalcoscirtus infimus, Argiope bruennichi, Dipoena melanogaster, Synaphosus sauvage, Gnaphosa montana, Segestria bavarica, Dictyna uncinata, Pardosa lugubris, Segestria senoculata, Hypomma cornutum, Tetragnatha obtusa, Theridion varians, Linyphia triangularis, Agyneta ramosa, Gibbaranea gibbosa, Marpissa muscosa, Zilla diodia, Glyphesis servulus, Platnickina tincta, Clubiona phragmitis, Rugathodes instabilis, Philodromus collinus, Theridion pinastri, Neon reticulatus, Kaestneria pullata, Minyriolus pusillus, Rhysodromus histrio, Microlinyphia impigra, Trematocephalus cristatus, Philodromus rufus, Episinus angulatus, Araniella opisthographa, Ceratinella brevipes, Anelosimus vittatus, Salticus zebraneus, Xysticus lanio, Clubiona brevipes, Larinioides patagiatus, Clubiona subsultans, Kaestneria dorsalis, Ceratinella brevis, Araneus diadematus, Clubiona caerulescens, Obscuriphantes obscurus, Nuctenea umbratica, Neriene emphana, Ballus chalybeius\n",
      "Year 1998: Pisaura mirabilis, Metellina mengei, Piratula latitans, Neriene clathrata, Tetragnatha nigrita, Agelena labyrinthica, Tetragnatha obtusa, Trematocephalus cristatus, Atypus piceus, Cicurina cicur, Enoplognatha ovata, Evarcha arcuata, Piratula hygrophila, Theridiosoma gemmosum, Alopecosa pulverulenta, Metellina merianae, Salticus scenicus, Misumena vatia, Evarcha falcata, Mangora acalypha, Amaurobius jugorum, Dipoena melanogaster, Microneta viaria, Mansuphantes aridus, Micrargus herbigradus, Tenuiphantes tenebricola, Phrurolithus minimus, Trochosa hispanica, Macrargus rufus, Liocranum rupicola, Centromerus leruthi, Palliduphantes pallidus, Tapinocyba maureri, Cybaeus intermedius, Zelotes apricorum, Hahnia pusilla, Alopecosa sulzeri, Apostenus fuscus, Trochosa terricola, Ozyptila secreta, Eratigena fuesslini, Zelotes petrensis, Panamomops inconspicuus, Metopobactrus nadigi, Phlegra fasciata, Drassodes lapidosus, Drassodes pubescens, Tenuiphantes tenuis, Pardosa bifasciata, Xysticus erraticus, Walckenaeria furcillata, Zora silvestris, Haplodrassus umbratilis, Mermessus trilobatus, Theonina cornix, Pardosa saltans, Gnaphosa bicolor, Drassyllus villicus, Arctosa figurata, Hahnia nava, Walckenaeria mitrata, Tenuiphantes flavipes, Centromerus sellarius, Philodromus dispar, Robertus mediterraneus, Cozyptila blackwalli, Aulonia albimana, Zodarion italicum, Saloca diceros, Talavera inopinata, Peponocranium orbiculatum, Xysticus cristatus, Alopecosa trabalis, Pardosa riparia, Zora nemoralis, Callilepis schuszteri, Micrargus subaequalis, Atypus affinis, Coelotes mediocris, Dasumia taeniifera, Clubiona comta, Xysticus lanio, Dysdera ninnii, Sintula corniger, Poecilochroa variana, Zora parallela, Clubiona diversa, Thanatus formicinus, Lasaeola coracina, Sibianor aurocinctus, Erigone autumnalis, Haplodrassus silvestris, Agyneta saxatilis, Diplocephalus cristatus, Centromerus brevipalpus, Minicia marginella, Tapinocyboides pygmaeus, Agroeca cuprea, Bassaniodes robustus, Phrurolithus festivus, Ozyptila atomaria, Diplostyla concolor, Tegenaria silvestris, Agyneta simplicitarsis, Xysticus kochi, Callilepis nocturna, Erigonoplus foveatus, Psammitis ninnii, Kryptonesticus eremita, Histopona torpida, Linyphia hortensis, Agyneta rurestris, Xerolycosa nemoralis, Ceratinella scabrosa, Tenuiphantes mengei, Lepthyphantes leprosus, Hahnia ononidum, Alopecosa farinosa, Arctosa lutetiana, Zora spinimana, Zoropsis spinimana, Agyneta gulosa, Scotina celans, Alopecosa taeniata, Agroeca proxima, Pardosa monticola, Walckenaeria stylifrons, Anyphaena accentuata, Micaria rossica, Talavera aequipes, Zelotes erebeus, Harpactea hombergi, Carrhotus xanthogramma, Mecopisthes silus, Pardosa agrestis, Neon levis, Euophrys frontalis, Ballus chalybeius, Walckenaeria obtusa, Amaurobius crassipalpis, Cercidia prominens, Trochosa ruricola, Erigone dentipalpis, Diplocephalus latifrons, Xysticus bifasciatus, Clubiona terrestris, Echemus angustifrons, Segestria senoculata, Neon reticulatus, Dicymbium nigrum, Micaria silesiaca, Ceratinella brevipes, Neottiura bimaculata, Drassyllus praeficus, Steatoda bipunctata, Spiracme striatipes, Philodromus margaritatus, Lasaeola prona, Zelotes latreillei, Nematogmus sanguinolentus, Mecopisthes latinus, Platnickina tincta, Trachyzelotes pedestris, Enoplognatha thoracica, Philodromus aureolus, Textrix denticulata, Nuctenea umbratica, Zygiella montana, Scytodes thoracica, Nesticus cellulanus, Steatoda triangulosa, Zygiella x-notata, Argiope bruennichi, Aculepeira ceropegia, Pardosa nigra, Coelotes terrestris, Araneus quadratus, Parasteatoda tepidariorum, Micrommata virescens, Pholcus opilionoides, Clubiona corticalis, Philodromus collinus, Philodromus albidus, Araneus diadematus, Eratigena atrica, Marpissa muscosa, Tenuiphantes cristatus, Philodromus praedatus, Tetragnatha montana, Tmarus piger, Centromerus sylvaticus, Drassyllus pusillus, Erigone atra, Xysticus luctuosus, Microlinyphia pusilla, Walckenaeria acuminata, Ozyptila praticola, Pardosa hortensis, Asagena phalerata, Pachygnatha clercki, Diplocephalus picinus, Araeoncus humilis, Oedothorax fuscus, Ero furcata, Walckenaeria dysderoides, Inermocoelotes inermis, Pardosa amentata, Pardosa palustris, Talavera aperta, Panamomops sulcifrons, Pachygnatha degeeri, Micaria pulicaria, Centromerus incilium, Gongylidiellum murcidum, Oedothorax apicatus, Pardosa pullata, Pardosa proxima, Zelotes exiguus, Ozyptila simplex, Linyphia triangularis, Walckenaeria alticeps, Trochosa spinipalpis, Haplodrassus signifer, Alopecosa cuneata, Walckenaeria corniculans, Walckenaeria cucullata, Walckenaeria vigilax, Argenna subnigra, Crustulina guttata, Hygrolycosa rubrofasciata, Robertus neglectus, Porrhomma microphthalmum, Bathyphantes parvulus, Robertus lividus, Jacksonella falconeri, Bathyphantes gracilis, Agyneta mollis, Tiso vagans, Stemonyphantes lineatus, Drassodex lesserti, Arctosa leopardus, Monocephalus fuscipes, Walckenaeria nudipalpis, Neriene peltata, Clubiona lutescens, Synageles venator, Drassyllus lutetianus, Agroeca brunnea, Centromerita bicolor, Allagelena gracilens, Porrhomma oblitum, Aelurillus v-insignitus, Alopecosa fabrilis, Styloctetor romanus, Dysdera crocata, Erigonoplus globipes, Euophrys herbigrada, Euryopis quinqueguttata, Gnaphosa lugubris, Haplodrassus dalmatensis, Oxyopes lineatus, Ozyptila claveata, Pellenes nigrociliatus, Syedra gracilis, Synaphosus sauvage, Titanoeca quadriguttata, Trichopterna cito, Trochosa robusta, Xysticus cor, Zelotes aeneus, Zelotes longipes, Chalcoscirtus infimus, Brigittea latens, Pseudeuophrys lanigera, Heliophanus tribulosus, Robertus arundineti, Eratigena agrestis, Heterotheridion nigrovariegatum, Typhochrestus digitatus, Zelotes tenuis, Acartauchenius scurrilis, Frontinellina frutetorum, Zelotes gallicus, Zelotes subterraneus, Cryptodrassus hungaricus, Nomisia exornata, Tegenaria domestica, Centromerus serratus, Salticus zebraneus, Cheiracanthium virescens, Philodromus rufus, Haplodrassus kulczynskii, Heliophanus cupreus, Pardosa mixta, Segestria bavarica, Zodarion rubidum, Phylloneta impressa, Xysticus audax, Gnaphosa badia, Pityohyphantes phrygianus, Araniella alpica, Amaurobius fenestralis\n",
      "Year 1999: Drassyllus praeficus, Drassodes pubescens, Ozyptila claveata, Zelotes exiguus, Aulonia albimana, Pardosa bifasciata, Tenuiphantes tenuis, Micrargus subaequalis, Pardosa hortensis, Phrurolithus festivus, Pardosa pullata, Heliophanus flavipes, Heliophanus cupreus, Drassyllus pusillus, Walckenaeria antica, Hahnia nava, Alopecosa cuneata, Enoplognatha thoracica, Pardosa monticola, Euophrys frontalis, Zora nemoralis, Alopecosa pulverulenta, Pachygnatha degeeri, Trochosa robusta, Zelotes latreillei, Cnephalocotes obscurus, Myrmarachne formicaria, Atypus piceus, Talavera aequipes, Apostenus fuscus, Argenna subnigra, Pardosa saltans, Zora silvestris, Trochosa ruricola, Haplodrassus signifer, Micaria pulicaria, Ozyptila simplex, Mermessus trilobatus, Stemonyphantes lineatus, Hahnia pusilla, Harpactocrates drassoides, Microneta viaria, Tegenaria silvestris, Tenuiphantes flavipes, Theonina cornix, Walckenaeria cucullata, Hahnia helveola, Scotina celans, Mansuphantes mansuetus, Drassyllus pumilus, Pardosa palustris, Histopona torpida, Dysdera erythrina, Harpactea lepida, Hypsosinga sanguinea, Agyneta rurestris, Xysticus kochi, Micaria fulgens, Micaria formicaria, Tapinocyba pallens, Panamomops mengei, Euryopis flavomaculata, Centromerus cavernarum, Diplostyla concolor, Trochosa terricola, Phrurolithus minimus, Evarcha arcuata, Phlegra fasciata, Centromerus serratus, Pocadicnemis juncea, Xysticus erraticus, Dicymbium nigrum, Pisaura mirabilis, Cicurina cicur, Walckenaeria mitrata, Anguliphantes angulipalpis, Palliduphantes pallidus, Amaurobius fenestralis, Ozyptila scabricula, Ozyptila atomaria, Talavera inopinata, Agyneta mollis, Zora spinimana, Zodarion italicum, Neon reticulatus, Iberina candida, Arctosa lutetiana, Clubiona neglecta, Episinus truncatus, Asagena phalerata, Agyneta affinis, Coelotes terrestris, Bathyphantes gracilis, Walckenaeria corniculans, Nematogmus sanguinolentus, Haplodrassus silvestris, Gongylidiellum latebricola, Ceratinella scabrosa, Walckenaeria dysderoides, Atypus affinis, Theonoe minutissima, Robertus lividus, Labulla thoracica, Harpactea hombergi, Walckenaeria obtusa, Heliophanus dubius, Hahnia ononidum, Xerolycosa nemoralis, Zelotes apricorum, Zelotes erebeus, Pardosa amentata, Drassodes lapidosus, Trichoncyboides simoni, Segestria senoculata, Trichoncus affinis, Clubiona terrestris, Monocephalus fuscipes, Cozyptila blackwalli, Neriene clathrata, Pholcomma gibbum, Crustulina guttata, Oedothorax apicatus, Jacksonella falconeri, Saloca diceros, Drassyllus villicus, Xysticus lanio, Entelecara flavipes, Nigma flavescens, Evarcha falcata, Pseudeuophrys erratica, Inermocoelotes inermis, Araneus circe, Argiope bruennichi, Scytodes thoracica, Pachygnatha clercki, Pardosa prativaga, Pirata piraticus, Argyroneta aquatica, Ozyptila trux, Gnathonarium dentatum, Ceratinella brevipes, Pardosa lugubris, Arctosa leopardus, Bathyphantes nigrinus, Pardosa blanda, Antistea elegans, Erigone dentipalpis, Walckenaeria atrotibialis, Pardosa proxima, Gongylidium rufipes, Dolomedes fimbriatus, Pirata tenuitarsis, Xysticus ulmi, Erigone atra, Ceratinella brevis, Attulus floricola, Walckenaeria nudipalpis, Larinioides sclopetarius, Scotophaeus blackwalli, Brigittea civica, Misumena vatia, Araneus diadematus, Neriene emphana, Ballus chalybeius, Icius subinermis, Trachyzelotes pedestris, Zilla diodia, Nigma puella, Steatoda triangulosa, Anyphaena accentuata, Nesticus cellulanus, Heliophanus auratus, Larinioides cornutus, Floronia bucculenta, Pholcus phalangioides, Xysticus audax, Neriene peltata, Linyphia hortensis, Philodromus margaritatus, Tetragnatha montana, Parasteatoda tepidariorum, Singa nitidula, Enoplognatha ovata, Philodromus aureolus, Araniella cucurbitina, Parasteatoda lunata, Eratigena atrica, Dictyna uncinata, Sintula corniger, Talavera aperta, Porrhomma microphthalmum, Walckenaeria vigilax, Micrargus herbigradus, Walckenaeria alticeps, Tiso vagans, Zelotes subterraneus, Piratula hygrophila, Agroeca cuprea, Philodromus praedatus, Araeoncus humilis, Pardosa agrestis, Agroeca proxima, Xysticus cristatus, Oedothorax fuscus, Clubiona comta, Diplocephalus picinus, Xysticus luctator, Pseudeuophrys lanigera, Ozyptila praticola, Diaea dorsata, Pelecopsis parallela, Piratula uliginosa, Neottiura bimaculata, Saaristoa abnormis, Metellina mengei, Diplocephalus latifrons, Tenuiphantes cristatus, Robertus arundineti, Porrhomma oblitum, Xerolycosa miniata, Centromerus sylvaticus, Liocranoeca striata, Trichopterna cito, Agroeca brunnea, Erigonella hiemalis, Piratula latitans, Dysdera crocata, Erigonoplus globipes, Gnaphosa lugubris, Segestria bavarica, Typhochrestus digitatus, Alopecosa farinosa, Liocranum rupicola, Aelurillus v-insignitus, Chalcoscirtus infimus, Philodromus rufus, Heliophanus aeneus, Agyneta gulosa, Agyneta simplicitarsis, Syedra gracilis, Xysticus cor, Philodromus cespitum, Zodarion rubidum, Amaurobius jugorum, Aculepeira ceropegia, Alopecosa inquilina, Callilepis schuszteri, Echemus angustifrons, Asthenargus helveticus, Zelotes aeneus, Salticus scenicus, Ostearius melanopygius, Zelotes gallicus, Amaurobius ferox, Helophora insignis, Philodromus collinus, Linyphia triangularis, Clubiona reclusa, Tetragnatha extensa, Pardosa oreophila, Pachygnatha listeri, Arctosa perita, Centromerita bicolor, Zelotes clivicola, Clubiona pallidula, Cryptachaea riparia, Nusoncus nasutus, Mioxena blanda, Silometopus reussi, Synageles venator, Collinsia inerrans, Clubiona lutescens, Drassyllus lutetianus, Tenuiphantes mengei, Xysticus luctuosus, Maso sundevalli, Microlinyphia pusilla, Tenuiphantes tenebricola, Alopecosa trabalis, Haplodrassus kulczynskii, Pocadicnemis pumila, Phrurolithus nigrinus, Scotina palliardii, Ozyptila pullata, Zelotes petrensis, Drassodes cupreus, Lasaeola prona, Robertus neglectus, Alopecosa striatipes, Cheiracanthium virescens, Dipoena melanogaster, Bassaniodes robustus, Sibianor aurocinctus, Eratigena picta\n",
      "Year 2000: Oedothorax fuscus, Walckenaeria vigilax, Erigone dentipalpis, Pardosa agrestis, Drassyllus pusillus, Oedothorax apicatus, Trochosa ruricola, Phrurolithus festivus, Hahnia nava, Porrhomma microphthalmum, Porrhomma oblitum, Ero cambridgei, Pseudeuophrys lanigera, Diplostyla concolor, Pachygnatha clercki, Aulonia albimana, Piratula latitans, Trochosa terricola, Pardosa palustris, Pardosa hortensis, Micrargus subaequalis, Pardosa prativaga, Pachygnatha degeeri, Robertus neglectus, Palliduphantes pallidus, Bathyphantes gracilis, Pirata piraticus, Erigone atra, Pelecopsis parallela, Hahnia pusilla, Tenuiphantes tenuis, Agyneta rurestris, Diplocephalus latifrons, Xysticus kochi, Pardosa amentata, Synageles venator, Araeoncus humilis, Clubiona phragmitis, Arctosa perita, Micaria pulicaria, Araneus diadematus, Clubiona terrestris, Piratula hygrophila, Alopecosa pulverulenta, Zygiella x-notata, Pardosa lugubris, Pirata tenuitarsis, Gnathonarium dentatum, Ozyptila trux, Antistea elegans, Ceratinella brevipes, Arctosa leopardus, Pardosa proxima, Argyroneta aquatica, Mendoza canestrinii, Erigone autumnalis, Clubiona lutescens, Pardosa mixta, Pirata piscatorius, Clubiona stagnatilis, Xerolycosa miniata, Pardosa torrentum, Tetragnatha extensa, Myrmarachne formicaria, Araneus quadratus, Dolomedes fimbriatus, Philaeus chrysops, Attulus floricola, Eratigena atrica, Walckenaeria nudipalpis, Icius subinermis, Argiope bruennichi, Uloborus walckenaerius, Cicurina cicur, Hasarius adansoni, Centromerita bicolor, Tegenaria silvestris, Diaea dorsata, Philodromus aureolus, Metellina segmentata, Clubiona pallidula, Ebrechtella tricuspidata, Gonatium rubellum, Linyphia triangularis, Coelotes terrestris, Clubiona brevipes, Philodromus albidus, Clubiona comta, Heliophanus cupreus, Cryphoeca silvicola, Pholcus phalangioides, Histopona torpida, Xysticus bifasciatus, Cyclosa conica, Allagelena gracilens, Misumena vatia, Anyphaena accentuata, Labulla thoracica, Lepthyphantes minutus, Salticus zebraneus, Oedothorax agrestis, Metellina mengei, Lepthyphantes leprosus, Xysticus cristatus, Marpissa muscosa, Nigma flavescens, Callilepis nocturna, Cnephalocotes obscurus, Pardosa oreophila, Micrargus herbigradus, Sibianor aurocinctus, Ozyptila praticola, Marpissa radiata, Tibellus maritimus, Larinioides cornutus, Neon valentulus, Gongylidiellum murcidum, Phylloneta impressa, Micrommata virescens, Attulus caricis, Drassyllus praeficus, Pisaura mirabilis, Evarcha arcuata, Silometopus elegans, Robertus insignis, Bathyphantes setiger, Trochosa spinipalpis, Theridion pictum, Alopecosa cuneata, Enoplognatha thoracica, Zelotes exiguus, Porrhomma campbelli, Neoscona adianta, Pardosa saltans, Centromerus serratus, Clubiona subtilis, Ceratinella scabrosa, Walckenaeria atrotibialis, Araneus sturmi, Agyneta mollis, Agyneta simplicitarsis, Walckenaeria cucullata, Diplocephalus picinus, Walckenaeria alticeps, Walckenaeria dysderoides, Xysticus luctator, Ozyptila simplex, Microlinyphia impigra, Euryopis flavomaculata, Phrurolithus minimus, Zodarion italicum, Argenna subnigra, Pardosa pullata, Asagena phalerata, Saaristoa abnormis, Zora spinimana, Trichopternoides thorelli, Haplodrassus signifer, Centromerus sylvaticus, Mangora acalypha, Clubiona juvenis, Anelosimus vittatus, Hahnia helveola, Maso sundevalli, Neriene clathrata, Microneta viaria, Tetragnatha pinicola, Nigma puella, Mermessus trilobatus, Piratula uliginosa, Linyphia hortensis, Liocranoeca striata, Thanatus striatus, Walckenaeria mitrata, Tenuiphantes flavipes, Satilatlas britteni, Eresus kollari, Tibellus oblongus, Clubiona neglecta, Pardosa giebeli, Nuctenea umbratica, Drassodes lapidosus, Drassodes pubescens, Philodromus collinus, Parasteatoda lunata, Zelotes petrensis, Araniella cucurbitina, Amaurobius fenestralis, Tegenaria ferruginea, Gnaphosa badia, Robertus lividus, Dicymbium nigrum, Talavera inopinata, Enoplognatha latimana, Ostearius melanopygius, Drassyllus lutetianus, Collinsia inerrans, Ballus chalybeius, Neottiura bimaculata, Talavera petrensis, Mioxena blanda, Clubiona reclusa, Cryptachaea riparia, Agelena labyrinthica\n",
      "Year 2001: Pardosa amentata, Tenuiphantes tenuis, Pachygnatha degeeri, Drassyllus pusillus, Pardosa palustris, Pardosa agrestis, Pardosa pullata, Alopecosa pulverulenta, Trochosa terricola, Trochosa ruricola, Micaria pulicaria, Tiso vagans, Erigone dentipalpis, Porrhomma microphthalmum, Micrargus subaequalis, Pardosa hortensis, Alopecosa cuneata, Pardosa paludicola, Saloca diceros, Panamomops sulcifrons, Xysticus cristatus, Xysticus erraticus, Cnephalocotes obscurus, Diplostyla concolor, Tenuiphantes flavipes, Xysticus kochi, Dicymbium nigrum, Diplocephalus latifrons, Hahnia nava, Porrhomma oblitum, Araeoncus humilis, Cicurina cicur, Agyneta rurestris, Arctosa leopardus, Neriene clathrata, Microneta viaria, Centromerita bicolor, Bathyphantes gracilis, Erigone atra, Oedothorax fuscus, Pelecopsis parallela, Oedothorax apicatus, Mermessus trilobatus, Pachygnatha clercki, Walckenaeria vigilax, Cryptachaea riparia, Mioxena blanda, Metellina merianae, Walckenaeria alticeps, Pardosa prativaga, Arctosa lutetiana, Diplocephalus cristatus, Argiope bruennichi, Piratula latitans, Collinsia inerrans, Dolomedes fimbriatus, Trochosa spinipalpis, Theridiosoma gemmosum, Hahnia pusilla, Robertus neglectus, Mughiphantes pulcher, Xysticus lanio, Attulus rupicola, Metellina mengei, Cyclosa conica, Pardosa blanda, Drassodex heeri, Gnaphosa badia, Phylloneta sisyphia, Pardosa mixta, Alopecosa aculeata, Oreoneta montigena, Evarcha arcuata, Gibbaranea omoeda, Tibellus oblongus, Tetragnatha extensa, Pityohyphantes phrygianus, Pardosa riparia, Pirata piraticus, Harpactea hombergi, Clubiona brevipes, Parasteatoda lunata, Eratigena atrica, Centromerus pabulator, Segestria bavarica, Heliophanus aeneus, Pseudeuophrys lanigera, Heliophanus cupreus, Tegenaria ferruginea, Parasteatoda tepidariorum, Philodromus aureolus, Philodromus collinus, Steatoda bipunctata, Linyphia triangularis, Synageles venator, Micrommata virescens, Tetragnatha obtusa, Amaurobius ferox, Coelotes terrestris, Zygiella x-notata, Philodromus albidus, Mangora acalypha, Larinioides cornutus, Synema globosum, Scotophaeus scutulatus, Philodromus cespitum, Xysticus audax, Harpactea rubicunda, Haplodrassus signifer, Argenna subnigra, Phrurolithus festivus, Pardosa proxima, Palliduphantes pallidus, Aulonia albimana, Pardosa saltans, Piratula hygrophila, Sibianor aurocinctus, Araneus angulatus, Piratula uliginosa, Xysticus acerbus, Pisaura mirabilis, Agyneta mollis, Trichopterna cito, Hypomma bituberculatum, Saaristoa abnormis, Microlinyphia pusilla, Micrargus herbigradus, Phrurolithus minimus, Ozyptila praticola, Xerolycosa miniata, Ero furcata, Histopona torpida, Antistea elegans, Heliophanus flavipes, Metellina segmentata, Walckenaeria mitrata, Ozyptila simplex, Larinioides patagiatus, Clubiona comta, Zelotes exiguus, Walckenaeria dysderoides, Gibbaranea bituberculata, Zelotes petrensis, Hyptiotes paradoxus, Araniella cucurbitina, Talavera petrensis, Araneus sturmi, Araneus diadematus, Zelotes subterraneus, Attulus longipes, Drassodes pubescens, Theridion betteni, Aculepeira ceropegia, Heliophanus auratus, Micaria rossica, Philodromus vagulus, Trochosa robusta, Alopecosa trabalis, Phlegra fasciata, Araneus quadratus, Neottiura bimaculata, Arctosa perita, Bathyphantes approximatus, Pardosa lugubris, Ostearius melanopygius, Walckenaeria nudipalpis, Euophrys frontalis, Robertus lividus, Diplocephalus picinus\n",
      "Year 2002: Marpissa muscosa, Scytodes thoracica, Argiope bruennichi, Ozyptila scabricula, Linyphia triangularis, Metellina mengei, Drapetisca socialis, Pardosa blanda, Araneus diadematus, Erigone autumnalis, Trochosa hispanica, Xerolycosa nemoralis, Eratigena fuesslini, Mecopisthes latinus, Ceratinella brevis, Drassyllus praeficus, Agyneta gulosa, Erigone dentipalpis, Oedothorax apicatus, Pachygnatha clercki, Pirata piraticus, Zelotes erebeus, Nematogmus sanguinolentus, Microneta viaria, Arctosa leopardus, Erigone atra, Pardosa proxima, Agyneta rurestris, Callilepis nocturna, Mermessus trilobatus, Tenuiphantes flavipes, Heliophanus cupreus, Antistea elegans, Argyroneta aquatica, Gnathonarium dentatum, Pardosa torrentum, Coelotes mediocris, Dasumia taeniifera, Phrurolithus festivus, Bassaniodes robustus, Apostenus fuscus, Trochosa ruricola, Drassodes lapidosus, Tenuiphantes mengei, Centromerus serratus, Pardosa bifasciata, Aulonia albimana, Pirata tenuitarsis, Philodromus aureolus, Centromerus brevipalpus, Sintula corniger, Gonatium rubens, Hahnia ononidum, Liocranum rupicola, Agyneta mollis, Callilepis schuszteri, Moebelia penicillata, Porrhomma pygmaeum, Pseudeuophrys erratica, Ceratinella scabrosa, Pardosa lugubris, Amaurobius jugorum, Bathyphantes gracilis, Trochosa terricola, Robertus lividus, Carrhotus xanthogramma, Tenuiphantes tenebricola, Centromerus sellarius, Heterotheridion nigrovariegatum, Tegenaria silvestris, Prinerigone vagans, Histopona italica, Drassodes pubescens, Dysdera ninnii, Pardosa prativaga, Xysticus ulmi, Dolomedes fimbriatus, Cicurina cicur, Monocephalus fuscipes, Philodromus rufus, Dysdera crocata, Philodromus dispar, Nuctenea umbratica, Alopecosa cuneata, Pachygnatha degeeri, Tenuiphantes tenuis, Alopecosa farinosa, Pardosa palustris, Alopecosa pulverulenta, Micaria pulicaria, Xerolycosa miniata, Diplostyla concolor, Tetragnatha extensa, Oedothorax gibbosus, Pardosa agrestis, Asagena phalerata, Cyclosa conica, Micrargus subaequalis, Xysticus kochi, Drassyllus pusillus, Enoplognatha ovata, Tetragnatha montana, Pholcus phalangioides, Heliophanus flavipes, Xysticus luctator, Synageles venator, Pardosa hortensis, Xysticus cristatus, Walckenaeria vigilax, Enoplognatha thoracica, Ozyptila simplex, Eratigena atrica, Lepthyphantes minutus, Drassyllus pumilus, Evarcha falcata, Misumena vatia, Enoplognatha latimana, Ozyptila praticola, Microlinyphia pusilla, Harpactea lepida, Parasteatoda tepidariorum, Talavera aequipes, Neriene clathrata, Pardosa amentata, Steatoda bipunctata, Phylloneta impressa, Psilochorus simoni, Pardosa pullata, Araneus angulatus, Neottiura bimaculata, Oedothorax fuscus, Porrhomma oblitum, Nusoncus nasutus, Pardosa saltans, Hahnia pusilla, Tiso vagans, Hahnia nava, Bathyphantes approximatus, Araeoncus humilis, Ostearius melanopygius, Micrargus herbigradus, Piratula hygrophila, Piratula latitans, Gongylidiellum latebricola, Tapinocyba pallens, Sibianor aurocinctus, Arctosa lutetiana, Haplodrassus signifer, Argenna subnigra, Stemonyphantes lineatus, Zora spinimana, Pocadicnemis juncea, Dicymbium nigrum, Phrurolithus minimus, Clubiona neglecta, Ozyptila claveata, Trachyzelotes pedestris, Centromerus sylvaticus, Ero furcata, Centromerus capucinus, Walckenaeria nudipalpis, Clubiona reclusa, Walckenaeria acuminata, Euophrys frontalis, Syedra gracilis, Haplodrassus kulczynskii, Phrurolithus nigrinus, Centromerita bicolor, Clubiona juvenis, Pseudicius encarpatus, Scotinotylus alpigena, Cryphoeca silvicola, Eresus kollari, Alopecosa taeniata, Bolyphantes alticeps, Caracladus avicula, Gnaphosa leporina, Robertus truncorum, Coelotes terrestris, Pardosa mixta, Micaria aenea, Agyneta affinis, Thanatus formicinus, Ozyptila trux, Pardosa riparia, Metopobactrus prominulus, Centromerus pabulator, Xysticus audax, Bolyphantes luteolus, Agyneta cauta, Pelecopsis radicicola, Hilaira excisa, Phylloneta sisyphia, Xysticus erraticus, Arctosa renidescens, Zelotes talpinus, Xysticus luctuosus, Panamomops palmgreni, Centromerus arcanus, Porrhomma pallidum, Macrargus carpenteri, Drassodes cupreus, Minicia marginella, Walckenaeria antica, Gnaphosa lapponum, Pocadicnemis pumila, Pardosa ferruginea, Porrhomma campbelli, Thanatus coloradensis, Iberina difficilis, Zygiella montana, Agroeca proxima, Araneus quadratus, Evansia merens, Thyreosthenius biovatus, Scotargus pilosus, Larinioides patagiatus, Tenuiphantes alacris, Xysticus bifasciatus, Philodromus vagulus, Gnaphosa badia, Neriene emphana, Araneus marmoreus, Zelotes latreillei, Tallusia experta, Sittisax saxicola, Agnyphantes expunctus, Evarcha arcuata, Bolephthyphantes index, Diplocephalus picinus, Talavera monticola, Amaurobius fenestralis, Metellina segmentata, Attulus rupicola, Clubiona phragmitis\n",
      "Year 2003: Xysticus cristatus, Alopecosa cuneata, Clubiona comta, Salticus zebraneus, Araneus sturmi, Philodromus albidus, Agyneta rurestris, Dismodicus bifrons, Trematocephalus cristatus, Atypus piceus, Xysticus acerbus, Xerolycosa miniata, Paidiscura pallens, Parasteatoda simulans, Linyphia hortensis, Maso sundevalli, Tegenaria silvestris, Tenuiphantes flavipes, Zilla diodia, Minicia marginella, Histopona torpida, Textrix denticulata, Neriene emphana, Trichoncus affinis, Arctosa lutetiana, Callilepis schuszteri, Crustulina guttata, Dipoena melanogaster, Metellina mengei, Euophrys frontalis, Drassodes lapidosus, Segestria bavarica, Enoplognatha ovata, Zelotes apricorum, Enoplognatha thoracica, Episinus maculipes, Theridion betteni, Episinus truncatus, Cyclosa conica, Diplostyla concolor, Harpactea hombergi, Philodromus collinus, Parasteatoda lunata, Lepthyphantes leprosus, Neriene peltata, Evarcha falcata, Phrurolithus festivus, Heliophanus kochii, Mangora acalypha, Diaea dorsata, Philodromus praedatus, Centromerus sylvaticus, Coelotes terrestris, Diplocephalus latifrons, Erigone atra, Hahnia pusilla, Semljicola faustus, Tenuiphantes cristatus, Palliduphantes pallidus, Tenuiphantes tenebricola, Microneta viaria, Oedothorax agrestis, Ozyptila trux, Pardosa saltans, Piratula hygrophila, Robertus lividus, Trochosa terricola, Walckenaeria atrotibialis, Walckenaeria obtusa, Araeoncus humilis, Clubiona caerulescens, Diplocephalus helleri, Diplocephalus picinus, Gonatium rubens, Pelecopsis radicicola, Oedothorax retusus, Ozyptila praticola, Pardosa saturatior, Piratula knorri, Thanatus formicinus, Segestria senoculata, Monocephalus fuscipes, Asthenargus helveticus, Clubiona lutescens, Erigone dentipalpis, Nesticus cellulanus, Tiso vagans, Xerolycosa nemoralis, Zelotes subterraneus, Clubiona terrestris, Ceratinella scabrosa, Tenuiphantes tenuis, Oedothorax fuscus, Dicymbium nigrum, Argiope bruennichi, Linyphia triangularis, Diplocephalus cristatus, Pardosa amentata, Pardosa wagleri, Trochosa ruricola, Oedothorax gibbosus, Walckenaeria acuminata, Liocranoeca striata, Walckenaeria dysderoides, Ostearius melanopygius, Gonatium rubellum, Micrargus herbigradus, Panamomops inconspicuus, Gongylidium rufipes, Micrargus laudatus, Robertus neglectus, Mermessus trilobatus, Haplodrassus silvestris, Micrargus subaequalis, Saaristoa abnormis, Agroeca brunnea, Panamomops mengei, Diplocentria rectangulata, Panamomops palmgreni, Oedothorax apicatus, Oedothorax gibbifer, Zora nemoralis, Lessertinella kulczynskii, Microctenonyx subitaneus, Pachygnatha listeri, Panamomops sulcifrons, Walckenaeria mitrata, Inermocoelotes inermis, Moebelia penicillata, Apostenus fuscus, Pelecopsis parallela, Neriene clathrata, Tapinopa longidens, Monocephalus castaneipes, Peponocranium ludicrum, Theridion varians, Notioscopus sarcinatus, Ceratinella brevis, Mioxena blanda, Episinus angulatus, Parapelecopsis nemoralis, Collinsia inerrans, Scytodes thoracica, Dysdera crocata, Panamomops tauricornis, Harpactea lepida, Walckenaeria corniculans, Pelecopsis elongata, Tapinocyba pallens, Minyriolus pusillus, Pelecopsis mengei, Amaurobius jugorum, Theridion mystaceum, Trochosa hispanica, Mecopisthes latinus, Erigone autumnalis, Atypus affinis, Dasumia taeniifera, Alopecosa taeniata, Coelotes mediocris, Euryopis flavomaculata, Pardosa torrentum, Tapinocyba maureri, Heliophanus cupreus, Bassaniodes robustus, Zelotes erebeus, Tenuiphantes mengei, Eratigena fuesslini, Callilepis nocturna, Ozyptila rauda, Synema globosum, Centromerus sellarius, Pachygnatha degeeri, Metellina segmentata, Philodromus aureolus, Drassodes pubescens, Micaria nivosa, Troxochrus scabriculus, Saitis barbipes, Centromerus brevipalpus, Ballus chalybeius, Bathyphantes similis, Zelotes exiguus, Enoplognatha mordax, Hahnia helveola, Porrhomma campbelli, Carrhotus xanthogramma, Agroeca cuprea, Metellina merianae, Pisaura mirabilis, Liocranum rupicola, Ero furcata, Steatoda bipunctata, Hilaira excisa, Pardosa hortensis, Attulus distinguendus, Alopecosa pulverulenta, Araneus triguttatus, Cicurina cicur, Sintula corniger, Labulla thoracica, Nuctenea umbratica, Peponocranium orbiculatum, Pocadicnemis carpatica, Pardosa riparia, Misumena vatia, Clubiona subsultans, Bolyphantes alticeps, Pardosa mixta, Pardosa oreophila, Xysticus desidiosus, Heliophanus patagiatus, Pardosa blanda, Drassyllus pumilus, Pardosa monticola, Clubiona frutetorum, Zodarion italicum, Tibellus oblongus, Bathyphantes gracilis, Eresus kollari, Agyneta fuscipalpa, Agyneta saxatilis, Philaeus chrysops, Stemonyphantes lineatus, Clubiona similis, Singa hamata, Ohlertidion ohlerti, Araneus diadematus, Cryphoeca silvicola, Dictyna arundinacea, Agnyphantes expunctus, Mughiphantes mughi, Philodromus cespitum, Pityohyphantes phrygianus, Stemonyphantes conspersus, Phylloneta impressa, Micaria aenea, Xysticus luctuosus, Arctosa renidescens, Walckenaeria antica, Scotinotylus alpigena, Tapinocyba affinis, Haplodrassus signifer, Improphantes nitidus, Maro lehtineni, Caracladus avicula, Scotinotylus clavatus, Porrhomma pallidum, Bolyphantes luteolus, Mughiphantes cornutus, Scotargus pilosus, Macrargus carpenteri, Gnaphosa leporina, Pocadicnemis pumila, Asthenargus perforatus, Zelotes latreillei, Agyneta cauta, Drassodes cupreus, Agroeca proxima, Robertus truncorum, Xysticus audax, Mastigusa arietina, Centromerus pabulator, Aculepeira ceropegia, Hypsosinga albovittata, Centromerus arcanus, Araneus quadratus, Ozyptila atomaria, Anguliphantes monticola, Micrommata virescens, Mansuphantes pseudoarciger, Clubiona diversa, Araniella displicata, Philodromus vagulus, Zygiella montana, Thyreosthenius biovatus, Erigonella subelevata, Bolephthyphantes index, Micrargus alpinus, Micaria pulicaria, Evarcha arcuata, Alopecosa farinosa, Tenuiphantes jacksonoides, Talavera monticola, Thanatus coloradensis, Zelotes talpinus, Pirata piraticus, Xysticus macedonicus, Walckenaeria monoceros, Obscuriphantes obscurus, Salticus scenicus, Walckenaeria languida, Pardosa ferruginea, Tallusia experta, Evansia merens, Xysticus gallicus, Erigone cristatopalpus, Oreonetides vaginatus, Agyneta innotabilis, Lepthyphantes nodifer, Asagena phalerata, Robertus scoticus, Xysticus bifasciatus\n",
      "Year 2004: Phrurolithus festivus, Dysdera erythrina, Atypus piceus, Uloborus plumipes, Eratigena atrica, Araniella cucurbitina, Drassodex heeri, Argiope bruennichi, Haplodrassus umbratilis, Misumena vatia, Enoplognatha ovata, Kishidaia conspicua, Alopecosa trabalis, Pardosa saltans, Xysticus erraticus, Sibianor aurocinctus, Zelotes petrensis, Coelotes mediocris, Ozyptila secreta, Drassodes lapidosus, Aulonia albimana, Alopecosa pulverulenta, Psammitis ninnii, Alopecosa sulzeri, Zelotes latreillei, Trochosa hispanica, Dysdera ninnii, Callilepis schuszteri, Heliophanus flavipes, Cybaeus intermedius, Trochosa terricola, Thanatus formicinus, Zelotes apricorum, Ozyptila atomaria, Arctosa figurata, Eratigena fuesslini, Drassodes pubescens, Scotina celans, Eratigena agrestis, Pardosa bifasciata, Metopobactrus nadigi, Drassyllus villicus, Xysticus cristatus, Zodarion italicum, Pisaura mirabilis, Gnaphosa bicolor, Agroeca proxima, Apostenus fuscus, Theonina cornix, Pardosa riparia, Poecilochroa variana, Zelotes erebeus, Tegenaria silvestris, Walckenaeria mitrata, Phylloneta impressa, Amaurobius crassipalpis, Alopecosa farinosa, Zora spinimana, Erigonoplus foveatus, Atypus affinis, Dasumia taeniifera, Trachyzelotes pedestris, Drassyllus praeficus, Clubiona terrestris, Agroeca brunnea, Micrommata virescens, Tapinocyba maureri, Walckenaeria furcillata, Callilepis nocturna, Xerolycosa nemoralis, Xysticus bifasciatus, Hahnia pusilla, Peponocranium orbiculatum, Marpissa nivoyi, Heliophanus cupreus, Zora nemoralis, Haplodrassus silvestris, Histopona italica, Tenuiphantes zimmermanni, Euophrys frontalis, Agyneta saxatilis, Ozyptila sanctuaria, Xysticus kempeleni, Pachygnatha degeeri, Centromerus brevipalpus, Neon levis, Hogna radiata, Walckenaeria acuminata, Mughiphantes variabilis, Xysticus kochi, Cercidia prominens, Euryopis flavomaculata, Agyneta rurestris, Phaeocedus braccatus, Crustulina guttata, Arctosa lutetiana, Sintula corniger, Ceratinella scabrosa, Hahnia ononidum, Tapinocyboides pygmaeus, Bassaniodes robustus, Centromerus sellarius, Tenuiphantes tenuis, Erigone dentipalpis, Pardosa vittata, Tenuiphantes mengei, Amaurobius ferox, Tegenaria ferruginea, Araneus triguttatus, Linyphia triangularis, Scytodes thoracica, Alopecosa cuneata, Icius subinermis, Mangora acalypha, Aculepeira ceropegia, Araneus diadematus, Porrhomma microphthalmum, Brigittea civica, Asagena phalerata, Stemonyphantes lineatus, Diaea dorsata, Harpactea hombergi, Gonatium rubens, Zilla diodia, Nuctenea umbratica, Pardosa palustris, Drassyllus pumilus, Collinsia inerrans, Pardosa agrestis, Xerolycosa miniata, Drassyllus pusillus, Enoplognatha thoracica, Pardosa pullata, Trochosa ruricola, Heliophanus auratus, Clubiona comta, Leptorchestes berolinensis, Micaria pulicaria, Marpissa muscosa, Pardosa hortensis, Diplostyla concolor, Scotophaeus scutulatus, Talavera aequipes, Larinioides cornutus, Hyptiotes paradoxus, Salticus scenicus, Ozyptila simplex, Phrurolithus nigrinus, Neriene furtiva, Agelena labyrinthica, Haplodrassus signifer, Episinus angulatus, Pardosa amentata, Robertus lividus, Cheiracanthium mildei, Oedothorax agrestis, Arctosa leopardus, Nigma flavescens, Ballus chalybeius, Attulus pubescens, Metellina mengei, Metellina segmentata, Oedothorax apicatus, Oedothorax fuscus, Mermessus trilobatus, Piratula uliginosa, Pocadicnemis juncea, Pachygnatha clercki, Porrhomma oblitum, Tiso vagans, Phlegra fasciata, Dicymbium nigrum, Piratula hygrophila, Pseudeuophrys lanigera, Walckenaeria dysderoides, Pelecopsis parallela, Micrargus subaequalis, Xysticus lineatus, Walckenaeria atrotibialis, Hahnia nava, Piratula latitans, Antistea elegans, Harpactea lepida, Bathyphantes gracilis, Walckenaeria vigilax, Phrurolithus minimus, Micrargus herbigradus, Bathyphantes parvulus, Gongylidiellum latebricola, Neottiura bimaculata, Haplodrassus kulczynskii, Argenna subnigra, Robertus neglectus, Zelotes exiguus, Centromerus sylvaticus, Ozyptila claveata, Ero furcata, Xysticus desidiosus, Clubiona neglecta, Pardosa lugubris, Tibellus maritimus, Theridion hemerobium, Drassyllus lutetianus, Clubiona phragmitis, Floronia bucculenta, Pirata tenuitarsis, Rugathodes instabilis, Dolomedes fimbriatus, Liocranoeca striata, Gnathonarium dentatum, Neriene clathrata, Pardosa prativaga, Tetragnatha extensa, Theridion pictum, Pirata piraticus, Ebrechtella tricuspidata, Clubiona stagnatilis, Trochosa spinipalpis, Hygrolycosa rubrofasciata, Philodromus rufus, Philodromus aureolus, Theridiosoma gemmosum, Evarcha arcuata, Kaestneria pullata, Marpissa radiata, Sardinidion blackwalli, Thomisus onustus, Xysticus cor, Araneus quadratus, Frontinellina frutetorum, Philaeus chrysops, Pholcus opilionoides, Asianellus festivus, Zelotes longipes, Aelurillus v-insignitus, Heterotheridion nigrovariegatum, Zelotes subterraneus, Tibellus oblongus, Xysticus gallicus, Uloborus walckenaerius, Phylloneta sisyphia, Xysticus audax, Theridion betteni, Heliophanus tribulosus, Neriene radiata, Philodromus vagulus, Enoplognatha latimana, Micaria fulgens, Attulus caricis, Heliophanus aeneus, Pardosa blanda, Zygiella montana, Steatoda bipunctata, Amaurobius fenestralis, Cryphoeca silvicola, Pardosa mixta, Pholcus phalangioides, Araneus circe, Gnaphosa lugubris, Mughiphantes mughi, Pardosa oreophila, Lepthyphantes leprosus, Alopecosa inquilina, Anyphaena accentuata, Megalepthyphantes nebulosus, Gnaphosa badia, Araneus angulatus, Microlinyphia pusilla, Bolyphantes luteolus, Araniella alpica, Drassodes cupreus, Salticus zebraneus, Drassodes villosus, Clubiona subsultans, Textrix denticulata, Alopecosa aculeata, Larinioides patagiatus, Microlinyphia impigra, Pardosa paludicola, Myrmarachne formicaria, Inermocoelotes inermis, Diplocephalus cristatus, Enoplognatha caricis, Ero cambridgei, Philodromus albidus\n",
      "Year 2005: Scytodes thoracica, Nuctenea umbratica, Eratigena atrica, Ozyptila praticola, Diplocephalus picinus, Ero furcata, Tenuiphantes tenuis, Piratula latitans, Euophrys frontalis, Pardosa prativaga, Diplocephalus latifrons, Tenuiphantes flavipes, Micrargus subaequalis, Palliduphantes pallidus, Phrurolithus festivus, Zodarion italicum, Agyneta rurestris, Diplostyla concolor, Pachygnatha clercki, Centromerita bicolor, Tiso vagans, Dysdera crocata, Pardosa hortensis, Aulonia albimana, Hahnia nava, Mermessus trilobatus, Trochosa terricola, Pardosa amentata, Dicymbium nigrum, Erigone dentipalpis, Walckenaeria antica, Tetragnatha pinicola, Lathys humilis, Theridion melanurum, Neriene clathrata, Xysticus kochi, Pardosa pullata, Enoplognatha ovata, Theridion varians, Parasteatoda tepidariorum, Histopona torpida, Maso sundevalli, Ero aphana, Trachyzelotes pedestris, Pachygnatha degeeri, Monocephalus fuscipes, Zodarion rubidum, Cnephalocotes obscurus, Microneta viaria, Zelotes exiguus, Agyneta mollis, Pardosa palustris, Haplodrassus signifer, Salticus scenicus, Tetragnatha montana, Heterotheridion nigrovariegatum, Leptorchestes berolinensis, Trochosa ruricola, Xysticus cristatus, Phlegra fasciata, Erigone atra, Clubiona comta, Panamomops sulcifrons, Dysdera erythrina, Araeoncus humilis, Pisaura mirabilis, Diaea dorsata, Philodromus collinus, Enoplognatha thoracica, Dictyna arundinacea, Steatoda triangulosa, Bathyphantes gracilis, Piratula hygrophila, Centromerus sylvaticus, Alopecosa pulverulenta, Pardosa saltans, Philodromus rufus, Heliophanus cupreus, Harpactea hombergi, Amaurobius fenestralis, Drassodes lapidosus, Xysticus ulmi, Oedothorax fuscus, Cicurina cicur, Pirata piraticus, Gibbaranea gibbosa, Dipoena melanogaster, Philodromus albidus, Amaurobius ferox, Agalenatea redii, Pocadicnemis juncea, Scotina celans, Tegenaria domestica, Philodromus aureolus, Anelosimus vittatus, Zelotes apricorum, Ozyptila simplex, Clubiona lutescens, Zilla diodia, Zora spinimana, Oedothorax apicatus, Amaurobius similis, Clubiona terrestris, Tapinesthis inermis, Platnickina tincta, Drassyllus praeficus, Pholcomma gibbum, Paidiscura pallens, Theridiosoma gemmosum, Zelotes tenuis, Theridion pinastri, Phrurolithus minimus, Myrmarachne formicaria, Episinus truncatus, Arctosa leopardus, Cyclosa oculata, Harpactocrates drassoides, Walckenaeria acuminata, Agelena labyrinthica, Araneus diadematus, Drassyllus pusillus, Episinus angulatus, Neon reticulatus, Pholcus phalangioides, Pseudeuophrys lanigera, Dictyna uncinata, Sintula corniger, Tegenaria ferruginea, Cheiracanthium mildei, Piratula uliginosa, Larinioides sclopetarius, Segestria bavarica, Evarcha arcuata, Theridion mystaceum, Philodromus praedatus, Anyphaena accentuata, Textrix denticulata, Liocranum rupicola, Linyphia hortensis, Aculepeira carbonaria, Pardosa mixta, Atypus piceus, Argiope bruennichi, Pardosa blanda, Misumena vatia, Pardosa oreophila, Zoropsis spinimana, Stemonyphantes lineatus, Alopecosa cuneata, Mangora acalypha, Steatoda bipunctata, Tegenaria parietina, Gonatium rubens, Pardosa monticola, Phylloneta impressa, Araneus saevus, Cercidia prominens, Linyphia triangularis, Coelotes terrestris, Heliophanus flavipes, Marpissa muscosa, Pachygnatha listeri, Ebrechtella tricuspidata, Araneus angulatus, Aculepeira ceropegia, Clubiona phragmitis, Clubiona stagnatilis, Larinioides cornutus, Dolomedes fimbriatus, Singa hamata, Dolomedes plantarius, Araniella alpica, Drassodes pubescens, Araniella cucurbitina, Micaria formicaria, Heliophanus aeneus, Theridion betteni, Philodromus vagulus, Cyclosa conica, Philodromus cespitum, Thomisus onustus, Pardosa ferruginea, Aelurillus v-insignitus, Minicia marginella, Hypsosinga albovittata, Drassodes cupreus, Alopecosa taeniata, Thanatus formicinus, Bolyphantes alticeps, Tenuiphantes cristatus, Xysticus luctuosus, Bolyphantes luteolus, Centromerus pabulator, Robertus truncorum, Pardosa riparia, Centromerus arcanus, Zelotes talpinus, Scotinotylus alpigena, Tapinocyba affinis, Tenuiphantes mengei, Scotinotylus clavatus, Ceratinella brevis, Improphantes nitidus, Panamomops tauricornis, Scotargus pilosus, Pityohyphantes phrygianus, Mansuphantes pseudoarciger, Cryphoeca silvicola, Mughiphantes cornutus, Porrhomma pallidum, Tenuiphantes tenebricola, Mughiphantes mughi, Agyneta alpica, Ozyptila atomaria, Xysticus audax, Agyneta cauta, Caracladus avicula, Arctosa renidescens, Mastigusa arietina, Pelecopsis radicicola, Agnyphantes expunctus, Tallusia experta, Micrargus alpinus, Talavera monticola, Tibellus oblongus, Micrommata virescens, Xysticus gallicus, Alopecosa farinosa, Macrargus carpenteri, Pelecopsis elongata, Agroeca proxima, Microctenonyx subitaneus, Stemonyphantes conspersus, Thyreosthenius biovatus, Phylloneta sisyphia, Bolephthyphantes index, Robertus lividus, Anguliphantes monticola, Agyneta orites, Gnaphosa leporina, Centromerita concinna, Porrhomma campbelli, Xysticus desidiosus, Erigonella subelevata, Micaria aenea, Alopecosa trabalis, Asthenargus perforatus, Maro lehtineni, Walckenaeria monoceros, Thyreosthenius parasiticus, Pseudeuophrys erratica, Agyneta conigera, Evansia merens, Obscuriphantes obscurus, Pardosa wagleri, Asagena phalerata, Hilaira excisa, Micaria pulicaria, Xysticus macedonicus, Panamomops palmgreni, Zelotes clivicola, Walckenaeria languida, Minyriolus pusillus, Pocadicnemis pumila, Clubiona diversa, Xerolycosa nemoralis, Asianellus festivus, Microlinyphia pusilla, Pardosa giebeli, Thanatus coloradensis, Zelotes subterraneus, Xysticus bifasciatus, Dictyna pusilla, Erigone dentigera, Clubiona reclusa, Zygiella montana, Harpactea rubicunda, Pholcus opilionoides, Gibbaranea omoeda\n",
      "Year 2006: Evarcha arcuata, Heliophanus cupreus, Pardosa hortensis, Pardosa saltans, Apostenus fuscus, Trichoncus affinis, Alopecosa pulverulenta, Gnaphosa bicolor, Zodarion italicum, Zelotes apricorum, Xerolycosa nemoralis, Dysdera erythrina, Pardosa agrestis, Drassyllus praeficus, Phrurolithus festivus, Histopona torpida, Iberina candida, Drassodes lapidosus, Zelotes erebeus, Atypus affinis, Metellina merianae, Marpissa muscosa, Philodromus praedatus, Anelosimus vittatus, Neriene peltata, Tetragnatha obtusa, Centromerus sylvaticus, Dysdera crocata, Trochosa terricola, Trochosa ruricola, Pholcus phalangioides, Xysticus kochi, Alopecosa trabalis, Walckenaeria cucullata, Trachyzelotes pedestris, Hahnia pusilla, Aulonia albimana, Tenuiphantes flavipes, Scotina celans, Tetragnatha montana, Theridion varians, Theridion pinastri, Platnickina tincta, Entelecara acuminata, Pachygnatha degeeri, Centromerita bicolor, Palliduphantes pallidus, Pholcomma gibbum, Xysticus ulmi, Steatoda triangulosa, Pseudeuophrys lanigera, Jacksonella falconeri, Drassyllus villicus, Drassyllus pumilus, Phlegra fasciata, Harpactocrates drassoides, Theonoe minutissima, Dictyna uncinata, Pachygnatha clercki, Philodromus aureolus, Sardinidion blackwalli, Maso sundevalli, Diplostyla concolor, Talavera inopinata, Theonina cornix, Coelotes terrestris, Tetragnatha pinicola, Philodromus albidus, Xysticus audax, Agyneta rurestris, Tapinocyba pallens, Walckenaeria mitrata, Micaria fulgens, Araniella cucurbitina, Ozyptila praticola, Lathys humilis, Tegenaria ferruginea, Erigone dentipalpis, Cercidia prominens, Ceratinella scabrosa, Haplodrassus silvestris, Icius subinermis, Clubiona terrestris, Philodromus collinus, Clubiona comta, Hahnia nava, Segestria bavarica, Amaurobius similis, Hyptiotes paradoxus, Pisaura mirabilis, Cheiracanthium mildei, Haplodrassus signifer, Mermessus trilobatus, Xysticus cristatus, Metopobactrus prominulus, Cybaeus tetricus, Ballus chalybeius, Holocnemus pluchei, Dicymbium nigrum, Titanoeca quadriguttata, Episinus truncatus, Hahnia helveola, Philodromus rufus, Salticus zebraneus, Dipoena melanogaster, Mangora acalypha, Neriene montana, Pardosa amentata, Theridion melanurum, Ero aphana, Paidiscura pallens, Salticus scenicus, Diplocephalus latifrons, Metellina mengei, Euryopis flavomaculata, Walckenaeria obtusa, Cicurina cicur, Larinioides sclopetarius, Tenuiphantes tenuis, Enoplognatha thoracica, Tegenaria silvestris, Nesticus cellulanus, Alopecosa cuneata, Tetragnatha extensa, Anyphaena accentuata, Ebrechtella tricuspidata, Xysticus kempeleni, Zelotes petrensis, Tegenaria domestica, Cyclosa conica, Neottiura bimaculata, Robertus lividus, Harpactea lepida, Philodromus cespitum, Tetragnatha nigrita, Agyneta mollis, Erigone atra, Zora spinimana, Harpactea hombergi, Crustulina guttata, Piratula uliginosa, Gongylidium rufipes, Enoplognatha ovata, Clubiona lutescens, Neriene clathrata, Walckenaeria corniculans, Hahnia ononidum, Arctosa lutetiana, Xysticus bifasciatus, Zora nemoralis, Cozyptila blackwalli, Anguliphantes angulipalpis, Linyphia hortensis, Agroeca cuprea, Evarcha falcata, Saloca diceros, Monocephalus fuscipes, Callilepis schuszteri, Centromerus serratus, Clubiona reclusa, Heliophanus aeneus, Walckenaeria dysderoides, Gongylidiellum latebricola, Drassodes pubescens, Segestria senoculata, Micaria pulicaria, Phylloneta impressa, Araeoncus humilis, Microneta viaria, Ero furcata, Alopecosa taeniata, Sittisax saxicola, Agyneta fuscipalpa, Aculepeira ceropegia, Tapinocyba insecta, Liocranum rupicola, Sintula corniger, Thanatus sabulosus, Centromerus dilutus, Piratula latitans, Neon reticulatus, Walckenaeria acuminata, Alopecosa farinosa, Amaurobius fenestralis, Araniella alpica, Drassodes cupreus, Trichoncyboides simoni, Phylloneta sisyphia, Bolyphantes alticeps, Zoropsis spinimana, Argiope bruennichi, Meta menardi, Pirata piraticus, Steatoda bipunctata, Parasteatoda tepidariorum, Agelena labyrinthica, Nigma walckenaeri, Amaurobius ferox, Linyphia triangularis, Piratula knorri, Zelotes latreillei, Scotophaeus scutulatus, Argyroneta aquatica, Pholcus opilionoides, Araneus diadematus, Aculepeira carbonaria, Gnaphosa petrobia, Micrommata virescens, Drassodex heeri, Araneus quadratus, Dolomedes fimbriatus, Misumena vatia, Zelotes subterraneus, Attulus pubescens, Araneus angulatus, Eresus kollari, Textrix denticulata, Neriene radiata, Thanatus coloradensis, Theridion petraeum, Asianellus festivus, Callobius claustrarius, Gnaphosa badia, Synema globosum, Parasteatoda lunata, Frontinellina frutetorum, Pseudeuophrys erratica, Alopecosa aculeata, Zelotes similis, Attulus longipes, Tegenaria mirifica, Tegenaria tridentina, Amaurobius jugorum, Philodromus margaritatus, Clubiona phragmitis, Hasarius adansoni\n",
      "Year 2007: Nigma flavescens, Enoplognatha ovata, Theridion varians, Oedothorax apicatus, Tegenaria domestica, Erigone dentipalpis, Eratigena atrica, Tenuiphantes tenuis, Pelecopsis radicicola, Pardosa saltans, Pardosa hortensis, Metellina mengei, Mangora acalypha, Araniella cucurbitina, Centromerus cavernarum, Centromerus serratus, Cicurina cicur, Inermocoelotes inermis, Formiphantes lepthyphantiformis, Hahnia helveola, Tegenaria silvestris, Saaristoa firma, Tenuiphantes flavipes, Tenuiphantes zimmermanni, Walckenaeria corniculans, Walckenaeria cucullata, Clubiona terrestris, Crustulina guttata, Harpactea lepida, Harpactocrates drassoides, Palliduphantes pallidus, Tapinocyba pallens, Centromerus sellarius, Gonatium rubellum, Panamomops mengei, Amaurobius fenestralis, Histopona torpida, Linyphia triangularis, Mansuphantes mansuetus, Microneta viaria, Monocephalus fuscipes, Walckenaeria obtusa, Tapinopa longidens, Zelotes apricorum, Robertus lividus, Trochosa terricola, Theonoe minutissima, Haplodrassus silvestris, Macrargus rufus, Centromerita bicolor, Asthenargus helveticus, Mermessus trilobatus, Saaristoa abnormis, Argiope bruennichi, Aculepeira ceropegia, Atypus piceus, Misumena vatia, Psilochorus simoni, Meta menardi, Leptorchestes berolinensis, Steatoda triangulosa, Clubiona comta, Pachygnatha degeeri, Heliophanus auratus, Clubiona brevipes, Xysticus cristatus, Kratochviliella bicapitata, Pisaura mirabilis, Phrurolithus festivus, Xysticus kochi, Neottiura bimaculata, Agyneta rurestris, Theridion boesenbergi, Zilla diodia, Araniella opisthographa, Pardosa pullata, Salticus scenicus, Ballus chalybeius, Pholcus opilionoides, Tetragnatha pinicola, Zelotes latreillei, Linyphia hortensis, Heliophanus cupreus, Phylloneta impressa, Parasteatoda lunata, Philodromus aureolus, Metellina merianae, Tegenaria ferruginea, Araneus diadematus, Araneus angulatus, Dolomedes fimbriatus, Tetragnatha extensa, Thomisus onustus, Micaria aenea, Hyptiotes paradoxus, Micaria formicaria, Drassodes pubescens, Aculepeira carbonaria, Micaria pulicaria, Acantholycosa pedestris, Zelotes subterraneus, Hypsosinga albovittata, Pardosa palustris, Philodromus vagulus, Nuctenea umbratica, Pardosa riparia, Thanatus coloradensis, Araeoncus anguineus, Xysticus erraticus, Erigone atra, Pardosa saturatior, Psammitis ninnii, Phylloneta sisyphia, Cybaeus tetricus, Alopecosa trabalis, Agnyphantes expunctus, Aelurillus v-insignitus, Porrhomma convexum, Cyclosa conica, Alopecosa farinosa, Micrommata virescens, Clubiona neglecta, Gnaphosa petrobia, Steatoda bipunctata, Zygiella montana, Enoplognatha latimana, Gnaphosa lugubris, Drassodes lapidosus, Agyneta gulosa, Drassodex heeri\n",
      "Year 2008: Zoropsis spinimana, Agyneta ramosa, Asthenargus helveticus, Caracladus leberti, Centromerus sellarius, Centromerus serratus, Clubiona terrestris, Diplostyla concolor, Hahnia helveola, Hahnia pusilla, Haplodrassus silvestris, Harpactea lepida, Harpactocrates drassoides, Histopona torpida, Lepthyphantes nodifer, Macrargus rufus, Mansuphantes mansuetus, Microneta viaria, Monocephalus fuscipes, Palliduphantes pallidus, Panamomops mengei, Pardosa saltans, Robertus lividus, Tapinocyba pallens, Tenuiphantes flavipes, Tenuiphantes zimmermanni, Theonina cornix, Walckenaeria corniculans, Walckenaeria cucullata, Walckenaeria dysderoides, Walckenaeria mitrata, Zelotes apricorum, Amaurobius fenestralis, Ballus chalybeius, Cicurina cicur, Gnaphosa bicolor, Linyphia hortensis, Saaristoa firma, Theonoe minutissima, Trochosa terricola, Walckenaeria obtusa, Zora nemoralis, Callobius claustrarius, Centromerus cavernarum, Cybaeus tetricus, Neon reticulatus, Iberina candida, Jacksonella falconeri, Micaria pulicaria, Philodromus collinus, Saloca diceros, Trichoncus affinis, Nusoncus nasutus, Apostenus fuscus, Inermocoelotes inermis, Pholcomma gibbum, Walckenaeria atrotibialis, Hahnia ononidum, Pseudocarorita thaleri, Tenuiphantes cristatus, Drassodes lapidosus, Pardosa hortensis, Tenuiphantes tenebricola, Xysticus lanio, Dysdera erythrina, Maso sundevalli, Micrargus apertus, Segestria senoculata, Walckenaeria acuminata, Saaristoa abnormis, Tenuiphantes tenuis, Crustulina guttata, Harpactea hombergi, Gonatium rubellum, Centromerus dilutus, Diplocephalus latifrons, Clubiona comta, Centromerus leruthi, Argiope bruennichi, Misumena vatia, Acantholycosa norvegica, Neriene peltata, Scotophaeus scutulatus, Anyphaena accentuata, Araneus diadematus, Synema globosum, Micrommata virescens, Philaeus chrysops, Xysticus cristatus, Carrhotus xanthogramma, Pistius truncatus, Gibbaranea bituberculata, Eresus kollari, Metellina segmentata, Pardosa oreophila, Xerolycosa nemoralis, Zygiella montana, Araniella cucurbitina, Micaria formicaria, Bolephthyphantes index, Xysticus desidiosus, Xysticus gallicus, Linyphia triangularis, Evarcha falcata, Aculepeira ceropegia, Gnaphosa leporina, Phylloneta impressa, Bolyphantes alticeps, Steatoda bipunctata, Pellenes tripunctatus, Alopecosa aculeata, Pardosa lugubris, Phylloneta sisyphia\n",
      "Year 2009: Zoropsis spinimana, Enoplognatha ovata, Argiope bruennichi, Neriene radiata, Xerolycosa nemoralis, Aculepeira ceropegia, Evarcha falcata, Callilepis nocturna, Callilepis schuszteri, Neriene clathrata, Xysticus cristatus, Pardosa bifasciata, Thanatus sabulosus, Drassodes lapidosus, Neriene furtiva, Pellenes tripunctatus, Zodarion italicum, Mermessus trilobatus, Cnephalocotes obscurus, Phrurolithus minimus, Pardosa hortensis, Araeoncus humilis, Agyneta rurestris, Hahnia nava, Tenuiphantes tenuis, Diplostyla concolor, Zelotes exiguus, Cheiracanthium mildei, Euophrys frontalis, Talavera aequipes, Araniella opisthographa, Microlinyphia pusilla, Erigone dentipalpis, Micrargus subaequalis, Talavera aperta, Pseudeuophrys lanigera, Theridion varians, Agyneta saxatilis, Phrurolithus festivus, Pseudomaro aenigmaticus, Aulonia albimana, Oedothorax apicatus, Erigone atra, Amaurobius ferox, Hahnia pusilla, Trochosa terricola, Oecobius maculatus, Carniella brignolii, Neriene peltata, Ero aphana, Diplocephalus cristatus, Clubiona neglecta, Enoplognatha thoracica, Drassyllus pusillus, Alopecosa pulverulenta, Zora nemoralis, Parasteatoda tepidariorum, Pistius truncatus, Cetonana laticeps, Dysdera erythrina, Theridion pinastri, Phlegra fasciata, Collinsia inerrans, Ozyptila claveata, Philodromus collinus, Philodromus rufus, Tegenaria domestica, Dendryphantes rudis, Tegenaria silvestris, Meta menardi, Metellina merianae, Metellina segmentata, Nesticus cellulanus, Araneus quadratus, Heliophanus aeneus, Ero furcata, Pardosa nigra, Attulus rupicola, Aculepeira carbonaria, Micaria pulicaria, Coelotes terrestris, Zelotes apricorum, Haplodrassus signifer, Dictyna arundinacea, Araneus diadematus, Anyphaena accentuata, Drassodex heeri, Tetragnatha montana, Pardosa amentata, Pardosa palustris, Pisaura mirabilis, Dolomedes fimbriatus, Clubiona lutescens, Parasteatoda lunata, Pachygnatha degeeri, Araniella cucurbitina, Metellina mengei, Eresus kollari, Philaeus chrysops, Clubiona subsultans, Phylloneta impressa, Micrommata virescens, Linyphia triangularis, Philodromus albidus, Clubiona kulczynskii, Heliophanus flavipes, Evarcha arcuata, Zelotes similis, Xysticus luctuosus, Araneus marmoreus, Pardosa sordidata, Agelena labyrinthica, Salticus scenicus, Pardosa lugubris, Nuctenea umbratica, Philodromus cespitum, Lepthyphantes leprosus, Theridion betteni, Pholcus phalangioides, Eratigena atrica, Neriene emphana\n",
      "Year 2010: Argiope bruennichi, Xysticus cristatus, Salticus scenicus, Misumena vatia, Agyneta rurestris, Oedothorax apicatus, Erigone dentipalpis, Dicymbium nigrum, Diplostyla concolor, Erigone atra, Araeoncus humilis, Arctosa lutetiana, Collinsia inerrans, Pachygnatha clercki, Pardosa agrestis, Pachygnatha degeeri, Pardosa palustris, Pelecopsis parallela, Porrhomma microphthalmum, Pardosa amentata, Tiso vagans, Trochosa ruricola, Mermessus trilobatus, Oedothorax fuscus, Bathyphantes gracilis, Tenuiphantes tenuis, Histopona torpida, Zoropsis spinimana, Tegenaria silvestris, Robertus lividus, Drassyllus pusillus, Coelotes terrestris, Euophrys frontalis, Linyphia triangularis, Micrargus subaequalis, Xerolycosa nemoralis, Arctosa leopardus, Dysdera erythrina, Walckenaeria vigilax, Metellina mengei, Cryptachaea riparia, Tenuiphantes flavipes, Micaria pulicaria, Phrurolithus minimus, Diplocephalus cristatus, Porrhomma oblitum, Xysticus kochi, Zelotes latreillei, Zodarion italicum, Nesticus cellulanus, Araneus circe, Antistea elegans, Alopecosa cuneata, Alopecosa pulverulenta, Atypus affinis, Aulonia albimana, Centromerus serratus, Ceratinella scabrosa, Clubiona terrestris, Crustulina guttata, Drassyllus praeficus, Gonatium rubellum, Haplodrassus signifer, Macrargus rufus, Micaria guttulata, Neottiura bimaculata, Ozyptila atomaria, Ozyptila praticola, Palliduphantes pallidus, Pardosa hortensis, Pardosa lugubris, Pardosa pullata, Pardosa saltans, Phlegra fasciata, Saaristoa abnormis, Sintula corniger, Talavera aequipes, Trachyzelotes pedestris, Trochosa terricola, Walckenaeria antica, Walckenaeria corniculans, Xysticus acerbus, Xysticus erraticus, Zelotes petrensis, Tetragnatha extensa, Micrargus herbigradus, Cetonana laticeps, Dictyna uncinata, Enoplognatha thoracica, Microneta viaria, Ozyptila claveata, Pardosa prativaga, Pisaura mirabilis, Bassaniodes robustus, Zora spinimana, Pardosa proxima, Argenna subnigra, Centromerita bicolor, Cicurina cicur, Diplocephalus picinus, Drassyllus pumilus, Episinus truncatus, Harpactea hombergi, Agyneta simplicitarsis, Neriene clathrata, Scotina celans, Talavera aperta, Walckenaeria atrotibialis, Zelotes apricorum, Gongylidiellum vivum, Amaurobius fenestralis, Centromerus incilium, Centromerus sylvaticus, Cnephalocotes obscurus, Hahnia nava, Mansuphantes simoni, Pardosa bifasciata, Tenuiphantes zimmermanni, Trichoncus affinis, Walckenaeria acuminata, Gnathonarium dentatum, Agyneta innotabilis, Amaurobius ferox, Clubiona comta, Harpactea lepida, Inermocoelotes inermis, Maso sundevalli, Ozyptila simplex, Pelecopsis radicicola, Zelotes exiguus, Zora nemoralis, Metellina segmentata, Pirata piraticus, Apostenus fuscus, Clubiona neglecta, Gongylidium rufipes, Hahnia pusilla, Pocadicnemis pumila, Trichopterna cito, Walckenaeria furcillata, Acartauchenius scurrilis, Drassyllus villicus, Pholcomma gibbum, Phrurolithus festivus, Titanoeca quadriguttata, Larinioides cornutus, Agroeca cuprea, Dysdera crocata, Nigma flavescens, Tenuiphantes cristatus, Walckenaeria alticeps, Xysticus audax, Aculepeira ceropegia, Centromerus pabulator, Drassodes lapidosus, Harpactocrates drassoides, Ozyptila trux, Philodromus cespitum, Araneus diadematus, Arctosa alpigena, Heliophanus flavipes, Minicia marginella, Philodromus dispar, Phrurolithus nigrinus, Stemonyphantes lineatus, Diplocephalus permixtus, Alopecosa striatipes, Carrhotus xanthogramma, Tetragnatha obtusa, Zelotes erebeus, Micaria coarctata, Philodromus rufus, Piratula uliginosa, Tallusia experta, Hypomma bituberculatum, Helophora insignis, Nematogmus sanguinolentus, Diplocephalus latifrons, Cozyptila blackwalli, Ero furcata, Myrmarachne formicaria, Silometopus bonessi, Xerolycosa miniata, Zelotes subterraneus, Monocephalus fuscipes, Piratula latitans, Linyphia hortensis, Sibianor aurocinctus, Micrommata virescens, Walckenaeria nudipalpis, Arctosa figurata, Pholcus phalangioides, Metellina merianae, Drassodes cupreus, Ostearius melanopygius, Robertus arundineti, Agelena labyrinthica, Robertus neglectus, Clubiona brevipes, Enoplognatha latimana, Meta menardi, Eratigena atrica, Neriene radiata, Pseudicius encarpatus, Parasteatoda tepidariorum, Theridion mystaceum, Araniella opisthographa, Parasteatoda lunata, Evarcha arcuata, Tetragnatha montana, Synema globosum, Scytodes thoracica, Tetragnatha pinicola, Araniella cucurbitina, Enoplognatha ovata, Pseudeuophrys lanigera, Sardinidion blackwalli, Steatoda bipunctata, Anyphaena accentuata, Marpissa muscosa, Theridion pictum, Philodromus albidus, Mangora acalypha, Heliophanus cupreus, Cheiracanthium mildei, Hypomma cornutum, Nuctenea umbratica, Paidiscura pallens, Pholcus opilionoides, Theridion varians, Platnickina tincta, Philodromus collinus, Tegenaria ferruginea, Segestria bavarica, Scotophaeus quadripunctatus, Larinioides sclopetarius, Zygiella x-notata, Neriene peltata, Thomisus onustus, Phylloneta sisyphia, Atypus piceus, Attulus terebratus\n",
      "Year 2011: Zoropsis spinimana, Atypus piceus, Micrommata virescens, Xysticus cristatus, Pseudeuophrys lanigera, Aculepeira ceropegia, Argiope bruennichi, Oedothorax fuscus, Pardosa palustris, Pardosa amentata, Collinsia inerrans, Erigone dentipalpis, Arctosa leopardus, Tetragnatha extensa, Erigone atra, Oedothorax apicatus, Xerolycosa nemoralis, Pirata piraticus, Gongylidiellum vivum, Trochosa ruricola, Synageles venator, Oedothorax retusus, Larinioides cornutus, Agyneta rurestris, Pardosa pullata, Tapinocyba pallens, Attulus floricola, Larinioides sclopetarius, Nusoncus nasutus, Trochosa terricola, Oedothorax gibbosus, Saaristoa abnormis, Haplodrassus signifer, Styloctetor compar, Mermessus trilobatus, Alopecosa pulverulenta, Pardosa proxima, Walckenaeria obtusa, Gnathonarium dentatum, Piratula latitans, Xysticus audax, Phylloneta impressa, Tiso vagans, Evarcha falcata, Ostearius melanopygius, Tegenaria ferruginea, Araniella cucurbitina, Tetragnatha montana, Nigma flavescens, Metellina merianae, Marpissa muscosa, Neriene radiata, Heliophanus cupreus, Pardosa saltans, Cicurina cicur, Neriene peltata, Tenuiphantes flavipes, Clubiona terrestris, Metellina mengei, Diplostyla concolor, Anyphaena accentuata, Xysticus lanio, Robertus lividus, Linyphia hortensis, Mangora acalypha, Microneta viaria, Neon reticulatus, Histopona torpida, Dictyna uncinata, Amaurobius fenestralis, Platnickina tincta, Misumena vatia, Scytodes thoracica, Eratigena atrica, Piratula hygrophila, Entelecara acuminata, Theridion varians, Nesticus cellulanus, Tegenaria silvestris, Dolomedes fimbriatus, Synema globosum, Pisaura mirabilis, Araneus quadratus, Eresus kollari, Philaeus chrysops, Uloborus plumipes, Amaurobius ferox, Thanatus formicinus, Meta menardi\n",
      "Year 2012: Zoropsis spinimana, Argiope bruennichi, Xerolycosa miniata, Larinioides cornutus, Paidiscura pallens, Araneus diadematus, Pseudeuophrys erratica, Misumena vatia, Ebrechtella tricuspidata, Synema globosum, Pholcus phalangioides, Pistius truncatus, Icius subinermis, Heliophanus auratus, Heliophanus kochii, Pardosa torrentum, Cryptachaea riparia, Marpissa muscosa, Nuctenea umbratica, Tegenaria ferruginea, Pardosa amentata, Clubiona phragmitis, Meta menardi, Textrix denticulata, Metellina segmentata, Scytodes thoracica, Psilochorus simoni, Metellina mengei, Salticus scenicus, Tetragnatha extensa, Titanoeca quadriguttata, Zygiella x-notata, Micrommata virescens, Aculepeira ceropegia, Xysticus cristatus, Evarcha jucunda, Drassodes lapidosus, Linyphia triangularis, Diaea dorsata, Xysticus kochi, Pisaura mirabilis, Araniella cucurbitina, Amaurobius similis, Evarcha falcata, Pardosa hortensis, Xysticus lanio, Tegenaria silvestris, Amaurobius fenestralis, Atypus piceus, Evarcha arcuata, Metellina merianae, Diplocephalus helleri, Nesticus cellulanus, Pardosa blanda, Agyneta alpica, Erigone cristatopalpus, Xysticus desidiosus, Mecynargus brocchus, Pardosa mixta, Mecynargus paetulus, Zelotes talpinus, Centromerus prudens, Scotinotylus alpigena, Arctosa alpigena, Agyneta nigripes, Ozyptila atomaria, Scotinotylus antennatus, Gnaphosa badia, Silometopus rosemariae, Pardosa oreophila, Haplodrassus signifer, Pelecopsis alpica, Gonatium rubens, Centromerus pabulator, Micaria alpina, Erigone remota, Leptorhoptrum robustum, Erigone dentipalpis, Tiso vagans, Agyneta gulosa, Heliophanus lineiventris, Pardosa giebeli, Metopobactrus prominulus, Drassodex heeri, Pardosa riparia, Erigonella subelevata, Oedothorax gibbifer, Palliduphantes pallidus, Agyneta rurestris, Talavera petrensis, Coelotes terrestris, Tenuiphantes zimmermanni, Janetschekia monodon, Sciastes carli, Walckenaeria vigilax, Incestophantes frigidus, Clubiona diversa, Erigone tenuimana, Araneus quadratus, Drapetisca socialis, Pseudicius encarpatus, Dolomedes fimbriatus, Segestria bavarica, Alopecosa cuneata, Thanatus coloradensis, Eresus kollari, Bolyphantes luteolus, Xysticus macedonicus, Xerolycosa nemoralis, Aculepeira carbonaria, Zelotes petrensis, Micaria rossica, Wiehlenarius tirolensis, Oreoneta montigena, Thomisus onustus, Scotinotylus evansi, Zelotes subterraneus, Attulus terebratus, Oreonetides glacialis, Sittisax saxicola, Typhochrestus digitatus, Philaeus chrysops, Cybaeus tetricus, Tenuiphantes tenebricola, Histopona torpida, Philodromus collinus, Pardosa saturatior, Xysticus ulmi\n",
      "Year 2013: Zoropsis spinimana, Pardosa hortensis, Coleosoma floridanum, Steatoda triangulosa, Agyneta rurestris, Uloborus plumipes, Pholcus phalangioides, Psilochorus simoni, Argiope bruennichi, Alopecosa striatipes, Larinioides patagiatus, Holocnemus pluchei, Allagelena gracilens, Nuctenea umbratica, Enoplognatha ovata, Theridion melanurum, Brigittea civica, Scytodes thoracica, Salticus scenicus, Zygiella x-notata, Eratigena atrica, Synema globosum, Mangora acalypha, Mermessus trilobatus, Pardosa amentata, Erigone dentipalpis, Xerolycosa nemoralis, Pardosa pullata, Erigone atra, Arctosa leopardus, Clubiona lutescens, Metellina segmentata, Coelotes terrestris, Oedothorax fuscus, Pardosa palustris, Pardosa proxima, Oedothorax apicatus, Clubiona comta, Heliophanus aeneus, Pachygnatha clercki, Pirata piraticus, Clubiona terrestris, Alopecosa inquilina, Oedothorax retusus, Gongylidiellum vivum, Gnathonarium dentatum, Aculepeira ceropegia, Trochosa ruricola, Clubiona stagnatilis, Larinioides sclopetarius, Neriene montana, Xysticus cristatus, Meta menardi, Clubiona brevipes, Dysdera crocata, Metellina merianae, Robertus lividus, Xysticus kochi, Alopecosa cuneata, Tegenaria silvestris, Piratula latitans, Callobius claustrarius, Parasteatoda lunata, Amaurobius fenestralis, Liocranum rupicola, Textrix denticulata, Scotophaeus scutulatus, Harpactea rubicunda, Pholcus opilionoides, Micrommata virescens, Cheiracanthium mildei, Xysticus audax, Pardosa lugubris, Nesticus cellulanus, Arctosa alpigena, Pardosa mixta, Pardosa giebeli, Xysticus desidiosus, Silometopus rosemariae, Pardosa oreophila, Haplodrassus signifer, Mecynargus brocchus, Micaria alpina, Sciastes carli, Walckenaeria vigilax, Tenuiphantes zimmermanni, Gonatium rubens, Centromerus pabulator, Agyneta alpica, Scotinotylus antennatus, Drassodex heeri, Leptorhoptrum robustum, Centromerus subalpinus, Scotinotylus evansi, Araneus diadematus, Dolomedes fimbriatus, Carrhotus xanthogramma, Pisaura mirabilis, Macaroeris nidicolens, Attulus rupicola, Segestria senoculata, Hyptiotes paradoxus, Nigma walckenaeri, Misumena vatia, Tetragnatha obtusa, Nigma flavescens, Pholcomma gibbum, Thomisus onustus, Agalenatea redii, Erigone tenuimana, Pardosa wagleri, Thanatus coloradensis, Alopecosa fabrilis, Pardosa blanda, Hypsosinga sanguinea, Mughiphantes mughi, Neriene peltata, Zygiella montana, Pardosa saturatior, Philodromus vagulus, Ohlertidion ohlerti, Pardosa riparia, Phylloneta sisyphia, Alopecosa taeniata, Pellenes lapponicus, Metellina mengei, Parasteatoda simulans, Phylloneta impressa, Labulla thoracica, Tibellus oblongus, Arctosa renidescens, Pityohyphantes phrygianus, Agyneta ressli, Gnaphosa leporina, Pelecopsis parallela, Zelotes devotus, Dendryphantes rudis, Hypsosinga albovittata, Larinioides cornutus, Agnyphantes expunctus, Zora spinimana, Heliophanus cupreus, Drassodes pubescens, Xysticus lanio\n",
      "Year 2014: Parasteatoda tepidariorum, Pholcus phalangioides, Steatoda triangulosa, Zoropsis spinimana, Holocnemus pluchei, Tegenaria ferruginea, Larinioides cornutus, Steatoda bipunctata, Tenuiphantes tenuis, Amaurobius ferox, Platnickina tincta, Larinioides sclopetarius, Uloborus plumipes, Cheiracanthium mildei, Lathys humilis, Phrurolithus festivus, Mangora acalypha, Pholcus opilionoides, Pseudeuophrys lanigera, Cryptachaea blattea, Brigittea civica, Theridion asopi, Trachyzelotes pedestris, Segestria florentina, Argiope bruennichi, Tegenaria hasperi, Haplodrassus silvestris, Salticus scenicus, Uloborus walckenaerius, Neriene peltata, Tetragnatha montana, Misumena vatia, Atypus affinis, Heliophanus kochii, Aculepeira ceropegia, Heliophanus aeneus, Synema globosum, Araniella cucurbitina, Gnaphosa lucifuga, Phylloneta impressa, Coelotes terrestris, Enoplognatha ovata, Metellina merianae, Pisaura mirabilis, Segestria senoculata, Pardosa hortensis, Metellina mengei, Marpissa muscosa, Xysticus lanio, Dolomedes fimbriatus, Parasteatoda lunata, Tetragnatha nigrita, Microlinyphia pusilla, Amaurobius similis, Araneus diadematus, Drassodes lapidosus, Neriene montana, Clubiona corticalis, Micrommata virescens, Cyclosa conica, Meta menardi, Clubiona lutescens, Araneus sturmi, Clubiona phragmitis, Pirata piscatorius, Frontinellina frutetorum, Linyphia triangularis, Atypus piceus, Carrhotus xanthogramma, Trochosa ruricola, Clubiona terrestris, Tegenaria silvestris, Metellina segmentata, Pardosa mixta, Pardosa oreophila, Arctosa alpigena, Xysticus desidiosus, Gnaphosa badia, Erigonella subelevata, Pardosa giebeli, Centromerus pabulator, Silometopus reussi, Agyneta alpica, Palliduphantes pallidus, Sciastes carli, Haplodrassus signifer, Silometopus rosemariae, Gonatium rubens, Tenuiphantes jacksoni, Scotinotylus antennatus, Walckenaeria vigilax, Erigone atra, Thanatus coloradensis, Drassodex heeri, Mecynargus brocchus, Heliophanus lineiventris, Leptorhoptrum robustum, Araeoncus anguineus, Bolyphantes luteolus, Oreonetides vaginatus, Micaria alpina, Agyneta rurestris, Araneus angulatus, Philaeus chrysops, Nuctenea umbratica, Heliophanus cupreus, Icius subinermis, Nusoncus nasutus, Sardinidion blackwalli, Psammitis ninnii, Drassyllus praeficus, Tiso vagans, Erigone tenuimana, Gibbaranea bituberculata, Pardosa blanda, Gnaphosa lugubris, Thomisus onustus, Evansia merens, Aelurillus v-insignitus, Neottiura suaveolens, Xysticus kochi, Araniella opisthographa, Mecynargus paetulus, Cheiracanthium punctorium, Xysticus erraticus, Agelena labyrinthica, Xerolycosa nemoralis, Linyphia hortensis, Cryptachaea riparia, Evarcha falcata, Eratigena atrica, Oxyopes ramosus, Xysticus cristatus\n",
      "Year 2015: Zoropsis spinimana, Araneus diadematus, Argiope bruennichi, Arctosa cinerea, Misumena vatia, Araniella cucurbitina, Alopecosa pulverulenta, Pardosa saltans, Trochosa terricola, Pardosa pullata, Marpissa radiata, Nuctenea umbratica, Pardosa amentata, Xysticus cristatus, Dolomedes fimbriatus, Linyphia hortensis, Xysticus kochi, Xysticus lanio, Tegenaria silvestris, Meta menardi, Aculepeira ceropegia, Marpissa muscosa, Pisaura mirabilis, Philodromus aureolus, Larinioides sclopetarius, Steatoda triangulosa, Araneus angulatus, Synema globosum, Philodromus margaritatus, Segestria senoculata, Diaea dorsata, Dysdera crocata, Micrommata virescens, Scotophaeus scutulatus, Segestria bavarica, Eresus kollari, Enoplognatha latimana, Cheiracanthium punctorium, Salticus scenicus, Aculepeira carbonaria, Scytodes thoracica, Thomisus onustus, Pseudeuophrys lanigera, Linyphia triangularis, Eratigena atrica, Textrix denticulata, Phylloneta impressa, Tenuiphantes tenebricola, Ohlertidion ohlerti, Harpactea rubicunda, Pardosa riparia, Cyclosa conica, Aelurillus v-insignitus, Tetragnatha montana, Microlinyphia pusilla, Zygiella montana, Asagena phalerata, Xysticus gallicus, Bolyphantes alticeps, Alopecosa farinosa, Gnaphosa leporina, Metellina mengei, Gnaphosa badia, Pardosa giebeli, Evarcha arcuata, Heliophanus auratus, Haplodrassus signifer, Philodromus vagulus, Philodromus cespitum, Phylloneta sisyphia, Tetragnatha extensa, Pardosa ferruginea, Pardosa mixta, Xysticus audax, Drassodex heeri, Clubiona subsultans, Agnyphantes expunctus, Pardosa oreophila, Oxyopes ramosus, Clubiona stagnatilis, Pardosa blanda, Leptorchestes berolinensis, Dictyna arundinacea, Pardosa palustris, Mughiphantes pulcher, Dictyna pusilla, Philodromus emarginatus, Micaria alpina, Pityohyphantes phrygianus, Liocranum rupicola, Alopecosa aculeata, Hypsosinga albovittata, Xysticus macedonicus, Alopecosa taeniata, Dictyna uncinata, Drassodes lapidosus, Drapetisca socialis, Gibbaranea omoeda, Neriene emphana, Pachygnatha degeeri, Drassodes pubescens, Pachygnatha listeri\n",
      "Year 2016: Brigittea civica, Uloborus plumipes, Ebrechtella tricuspidata, Zoropsis spinimana, Sardinidion blackwalli, Heterotheridion nigrovariegatum, Steatoda triangulosa, Zygiella x-notata, Larinioides sclopetarius, Tenuiphantes flavipes, Parasteatoda tepidariorum, Tenuiphantes tenuis, Philodromus dispar, Pholcus opilionoides, Pholcus phalangioides, Mangora acalypha, Platnickina tincta, Argiope bruennichi, Ero aphana, Araeoncus humilis, Pisaura mirabilis, Theridion melanurum, Alopecosa pulverulenta, Pardosa palustris, Walckenaeria atrotibialis, Pardosa agrestis, Xysticus kochi, Pardosa pullata, Scytodes thoracica, Erigone atra, Pardosa amentata, Erigone dentipalpis, Hilaira excisa, Piratula hygrophila, Leptorhoptrum robustum, Cybaeus tetricus, Linyphia hortensis, Lophomma punctatum, Pachygnatha degeeri, Araneus diadematus, Palliduphantes pallidus, Walckenaeria nudipalpis, Carrhotus xanthogramma, Tenuiphantes tenebricola, Oedothorax gibbosus, Agyneta cauta, Tenuiphantes cristatus, Agyneta saxatilis, Philaeus chrysops, Eresus kollari, Synema globosum, Icius subinermis, Meta menardi, Araniella cucurbitina, Araniella opisthographa, Neriene clathrata, Aelurillus v-insignitus, Neottiura bimaculata, Pardosa hortensis, Liocranum rupicola, Zilla diodia, Heliophanus flavipes, Xysticus acerbus, Misumena vatia, Heliophanus cupreus, Xysticus cristatus, Nigma flavescens, Metellina mengei, Dolomedes fimbriatus, Aculepeira ceropegia, Gibbaranea bituberculata, Eratigena atrica, Araniella alpica, Agelena labyrinthica, Amaurobius ferox, Hypsosinga heri, Micrommata virescens, Tetragnatha extensa, Clubiona comta, Aculepeira carbonaria, Lathys stigmatisata, Pardosa ferruginea, Talavera petrensis, Metellina merianae, Drassodes lapidosus, Oxyopes lineatus, Salticus scenicus, Gnaphosa lugubris, Microlinyphia pusilla, Episinus truncatus, Haplodrassus signifer, Micaria formicaria, Neriene radiata, Steatoda bipunctata, Lepthyphantes leprosus, Philodromus vagulus, Gnaphosa nigerrima, Tibellus oblongus, Attulus longipes, Asagena phalerata, Nomisia exornata, Pardosa bifasciata, Harpactea hombergi, Segestria senoculata, Drassodes cupreus, Phlegra fasciata, Zygiella montana, Alopecosa farinosa, Zelotes apricorum, Zelotes puritanus, Alopecosa aculeata, Theridion betteni, Zelotes subterraneus, Thomisus onustus, Bolyphantes luteolus, Textrix denticulata, Nuctenea umbratica, Cetonana laticeps, Tetragnatha pinicola, Leptorchestes berolinensis, Tegenaria mirifica, Marpissa muscosa, Amaurobius fenestralis, Ohlertidion ohlerti, Neriene emphana, Phylloneta impressa, Micaria rossica, Phylloneta sisyphia, Drassodex heeri, Episinus angulatus, Araneus quadratus, Microneta viaria, Anyphaena accentuata, Pardosa oreophila, Parasteatoda lunata, Centromerus silvicola, Cyclosa conica, Pseudeuophrys erratica, Harpactea rubicunda, Tapinocyba pallens, Dysdera erythrina, Pachygnatha clercki, Marpissa radiata, Myrmarachne formicaria, Gnathonarium dentatum\n",
      "Year 2017: Philodromus praedatus, Heliophanus cupreus, Enoplognatha latimana, Pholcus phalangioides, Synema globosum, Allagelena gracilens, Pachygnatha degeeri, Zoropsis spinimana, Entelecara acuminata, Heliophanus flavipes, Pardosa amentata, Theridion varians, Paidiscura pallens, Pardosa hortensis, Pisaura mirabilis, Neriene clathrata, Araneus sturmi, Pardosa saltans, Linyphia triangularis, Argiope bruennichi, Tetragnatha extensa, Icius subinermis, Heterotheridion nigrovariegatum, Parasteatoda tepidariorum, Trochosa terricola, Platnickina tincta, Apostenus fuscus, Enoplognatha ovata, Araniella cucurbitina, Microneta viaria, Mangora acalypha, Phylloneta impressa, Tetragnatha obtusa, Ebrechtella tricuspidata, Dipoena melanogaster, Palliduphantes pallidus, Clubiona brevipes, Brigittea civica, Araneus diadematus, Holocnemus pluchei, Philodromus albidus, Ballus chalybeius, Diplocephalus latifrons, Agyneta rurestris, Tenuiphantes tenuis, Theridion pinastri, Misumena vatia, Diplostyla concolor, Ozyptila simplex, Aculepeira ceropegia, Steatoda bipunctata, Araneus quadratus, Micrommata virescens, Agelena labyrinthica, Salticus scenicus, Dolomedes fimbriatus, Evarcha arcuata, Pachygnatha clercki, Trochosa spinipalpis, Cheiracanthium mildei, Steatoda triangulosa, Atypus piceus, Philaeus chrysops, Steatoda paykulliana, Erigone atra, Attulus floricola, Bathyphantes approximatus, Pardosa pullata, Piratula latitans, Xerolycosa nemoralis, Diplocephalus permixtus, Haplodrassus signifer, Pardosa palustris, Erigone dentipalpis, Mermessus trilobatus, Arctosa leopardus, Trochosa ruricola, Pardosa proxima, Coelotes terrestris, Microlinyphia pusilla, Micrargus apertus, Pirata piraticus, Oedothorax retusus, Larinioides cornutus, Tapinocyba pallens, Oedothorax apicatus, Oedothorax fuscus, Tegenaria silvestris, Arctosa lutetiana, Gongylidiellum vivum, Marpissa radiata, Clubiona reclusa, Antistea elegans, Lophomma punctatum, Walckenaeria vigilax, Xysticus kochi, Xysticus cristatus, Zelotes latreillei, Gnathonarium dentatum, Eratigena atrica, Diaea dorsata, Leptorchestes berolinensis, Marpissa muscosa, Araneus triguttatus, Anyphaena accentuata, Parasteatoda lunata, Metellina merianae, Zilla diodia, Myrmarachne formicaria, Meta menardi, Dysdera crocata, Zygiella x-notata, Agalenatea redii, Larinioides sclopetarius, Eresus kollari, Heliophanus tribulosus, Metellina segmentata, Gibbaranea ullrichi, Scytodes thoracica, Asianellus festivus, Neriene emphana, Obscuriphantes obscurus, Textrix denticulata, Tegenaria ferruginea, Mendoza canestrinii, Nuctenea umbratica, Hypsosinga albovittata, Gibbaranea omoeda, Harpactea rubicunda, Alopecosa trabalis, Bolyphantes alticeps, Dictyna arundinacea, Pardosa ferruginea, Theridion betteni, Pholcus opilionoides, Pardosa sphagnicola, Neriene montana, Segestria bavarica, Drassodes pubescens, Philodromus fuscolimbatus, Pardosa blanda, Philodromus aureolus, Tetragnatha pinicola, Amaurobius ferox, Amaurobius fenestralis, Xysticus erraticus, Labulla thoracica, Cyclosa conica, Xysticus audax, Cetonana laticeps, Phylloneta sisyphia, Mughiphantes mughi, Tegenaria domestica, Bolyphantes luteolus, Ohlertidion ohlerti, Pardosa mixta, Dysdera erythrina, Agnyphantes expunctus, Neriene peltata\n",
      "Year 2018: Pisaura mirabilis, Zoropsis spinimana, Ebrechtella tricuspidata, Argiope bruennichi, Oedothorax apicatus, Trochosa ruricola, Oedothorax fuscus, Pardosa agrestis, Mermessus trilobatus, Pardosa palustris, Erigone dentipalpis, Pardosa proxima, Porrhomma microphthalmum, Pachygnatha clercki, Collinsia inerrans, Diplocephalus cristatus, Agyneta rurestris, Araeoncus humilis, Erigone atra, Robertus neglectus, Bathyphantes gracilis, Misumena vatia, Tiso vagans, Walckenaeria vigilax, Liocranoeca striata, Diplostyla concolor, Phrurolithus festivus, Tenuiphantes tenuis, Neriene emphana, Trochosa terricola, Pachygnatha degeeri, Ozyptila simplex, Drassyllus pusillus, Aculepeira ceropegia, Agelena labyrinthica, Marpissa muscosa, Phylloneta sisyphia, Alopecosa pulverulenta, Arctosa leopardus, Attulus rupicola, Parasteatoda lunata, Salticus scenicus, Porrhomma oblitum, Atypus affinis, Heliophanus aeneus, Alopecosa striatipes, Xysticus cristatus, Heliophanus cupreus, Araneus quadratus, Araneus diadematus, Araniella alpica, Drassodes cupreus, Phylloneta impressa, Xysticus kochi, Evarcha falcata, Drassodes lapidosus, Micaria pulicaria, Oedothorax retusus, Linyphia hortensis, Drassodes pubescens, Micrargus subaequalis, Tetragnatha extensa, Diaea dorsata, Drassyllus praeficus, Xerolycosa miniata, Araneus sturmi, Metellina segmentata, Histopona torpida, Pelecopsis parallela, Enoplognatha ovata, Micrommata virescens, Pardosa saturatior, Heliophanus flavipes, Cyclosa conica, Zelotes subterraneus, Zelotes latreillei, Meta menardi, Walckenaeria nudipalpis, Pardosa pullata, Neriene radiata, Amaurobius fenestralis, Phlegra fasciata, Haplodrassus signifer, Attulus terebratus, Ostearius melanopygius, Trachyzelotes pedestris, Zodarion italicum, Allagelena gracilens, Araneus marmoreus, Eresus kollari, Araniella cucurbitina, Synema globosum, Larinioides sclopetarius, Aulonia albimana, Icius subinermis, Mangora acalypha, Pholcus phalangioides, Araneus alsine, Holocnemus pluchei, Pholcus opilionoides, Nesticus cellulanus, Pistius truncatus, Cheiracanthium mildei, Harpactea rubicunda, Metellina merianae, Scytodes thoracica, Nematogmus sanguinolentus, Carrhotus xanthogramma, Steatoda triangulosa, Steatoda bipunctata, Pardosa amentata, Coelotes terrestris, Alopecosa taeniata, Diplocephalus latifrons, Philodromus vagulus, Theridion betteni, Pardosa sordidata, Philodromus emarginatus, Pardosa riparia, Nuctenea umbratica, Pseudeuophrys lanigera, Linyphia triangularis, Gnaphosa lugubris, Pardosa wagleri, Alopecosa cuneata, Pardosa giebeli, Tmarus piger, Pellenes nigrociliatus, Drassodex heeri, Xysticus desidiosus, Aelurillus v-insignitus, Asagena phalerata, Philodromus dispar, Alopecosa farinosa, Evarcha arcuata, Micaria alpina, Micaria formicaria, Asianellus festivus, Alopecosa aculeata, Textrix denticulata, Tegenaria ferruginea, Clubiona reclusa, Amaurobius ferox, Liocranum rupicola, Eratigena atrica, Callobius claustrarius, Pardosa mixta, Dictyna arundinacea, Philodromus cespitum, Philaeus chrysops, Parasteatoda simulans, Scotophaeus scutulatus, Segestria senoculata, Tegenaria silvestris, Cetonana laticeps, Pardosa saltans, Aculepeira carbonaria, Xerolycosa nemoralis, Singa nitidula, Paidiscura pallens\n",
      "Year 2019: Zoropsis spinimana, Argiope bruennichi, Synema globosum, Eratigena atrica, Pholcus phalangioides, Araneus diadematus, Pardosa hortensis, Aculepeira ceropegia, Nematogmus sanguinolentus, Larinioides sclopetarius, Heliophanus cupreus, Agelena labyrinthica, Heliophanus auratus, Ozyptila praticola, Attulus distinguendus, Micrommata virescens, Philodromus aureolus, Dolomedes fimbriatus, Salticus scenicus, Attulus rupicola, Clubiona comta, Pisaura mirabilis, Pardosa wagleri, Marpissa muscosa, Tetragnatha extensa, Misumena vatia, Meta menardi, Xerolycosa nemoralis, Nigma flavescens, Larinioides cornutus, Walckenaeria antica, Sittisax saxicola, Evarcha arcuata, Zilla diodia, Xysticus kochi, Tegenaria ferruginea, Anyphaena accentuata, Zodarion italicum, Pardosa amentata, Nuctenea umbratica, Monocephalus fuscipes, Diaea dorsata, Aulonia albimana, Cheiracanthium mildei, Neon reticulatus, Trachyzelotes pedestris, Holocnemus pluchei, Parasteatoda tepidariorum, Heliophanus aeneus, Pardosa alacris, Triaeris stenaspis, Scytodes thoracica, Maso sundevalli, Mangora acalypha, Alopecosa cuneata, Pseudeuophrys lanigera, Attulus terebratus, Agyneta rurestris, Diplostyla concolor, Drassyllus pusillus, Erigone dentipalpis, Hahnia nava, Haplodrassus signifer, Oedothorax apicatus, Ostearius melanopygius, Ozyptila simplex, Pachygnatha degeeri, Pardosa agrestis, Pardosa palustris, Pardosa proxima, Porrhomma microphthalmum, Trochosa ruricola, Xysticus acerbus, Pardosa pullata, Phrurolithus festivus, Stemonyphantes lineatus, Drassyllus praeficus, Alopecosa pulverulenta, Clubiona pseudoneglecta, Tenuiphantes tenuis, Argenna subnigra, Thanatus formicinus, Micaria pulicaria, Hypsosinga pygmaea, Ozyptila claveata, Xysticus cristatus, Agyneta simplicitarsis, Piratula latitans, Drassodes lapidosus, Phlegra fasciata, Palliduphantes insignis, Cyclosa oculata, Cnephalocotes obscurus, Pelecopsis parallela, Araneus angulatus, Hogna radiata, Brigittea civica, Philaeus chrysops, Xysticus ulmi, Araniella opisthographa, Metellina mengei, Arctosa leopardus, Neriene radiata, Pachygnatha clercki, Clubiona pallidula, Singa nitidula, Erigone atra, Tetragnatha montana, Euryopis flavomaculata, Evarcha falcata, Heliophanus flavipes, Pachygnatha listeri, Trochosa spinipalpis, Clubiona germanica, Singa hamata, Dictyna uncinata, Hypomma bituberculatum, Linyphia hortensis, Piratula hygrophila, Neriene peltata, Attulus floricola, Philodromus dispar, Icius subinermis, Ballus chalybeius, Araniella alpica, Drapetisca socialis, Araneus circe, Neriene emphana, Allagelena gracilens, Linyphia triangularis, Steatoda triangulosa, Pholcus opilionoides, Cryptachaea riparia, Steatoda bipunctata, Nigma walckenaeri, Textrix denticulata, Cyclosa conica, Atypus piceus, Harpactea hombergi, Liocranum rupicola, Uloborus plumipes, Trochosa terricola, Asagena phalerata, Attulus longipes, Clubiona terrestris, Xysticus gallicus, Zelotes longipes, Aculepeira carbonaria, Dysdera crocata, Zygiella montana, Araneus quadratus, Scotophaeus scutulatus, Xysticus luctator, Gnaphosa petrobia, Hypsosinga albovittata, Asianellus festivus, Micaria fulgens, Eresus kollari, Talavera aequipes, Pellenes nigrociliatus, Alopecosa striatipes, Xerolycosa miniata, Saitis barbipes, Micaria alpina, Micaria formicaria, Thomisus onustus, Bassaniodes robustus, Enoplognatha ovata, Harpactea rubicunda, Parasteatoda lunata, Amaurobius fenestralis, Metellina segmentata, Hoplopholcus forskali, Heterotheridion nigrovariegatum, Philodromus margaritatus, Amaurobius ferox, Phylloneta impressa, Neottiura bimaculata, Theridion betteni, Myrmarachne formicaria, Metellina merianae, Agalenatea redii, Nesticus cellulanus, Cheiracanthium punctorium\n",
      "Year 2020: Araneus diadematus, Zoropsis spinimana, Asagena phalerata, Attulus penicillatus, Dysdera crocata, Gibbaranea bituberculata, Singa nitidula, Titanoeca quadriguttata, Evarcha falcata, Larinioides cornutus, Pseudeuophrys erratica, Misumena vatia, Salticus scenicus, Evarcha arcuata, Coelotes terrestris, Argiope bruennichi, Heliophanus cupreus, Meta menardi, Micrommata virescens, Pellenes tripunctatus, Nuctenea umbratica, Cyclosa conica, Attulus distinguendus, Pisaura mirabilis, Parasteatoda lunata, Araneus quadratus, Mangora acalypha, Aelurillus v-insignitus, Tetragnatha extensa, Eratigena atrica, Attulus rupicola, Agelena labyrinthica, Marpissa muscosa, Aculepeira ceropegia, Diaea dorsata, Harpactea hombergi, Heliophanus aeneus, Dolomedes fimbriatus, Carrhotus xanthogramma, Araniella cucurbitina, Nematogmus sanguinolentus, Brigittea civica, Philaeus chrysops, Ballus chalybeius, Eresus kollari, Xerolycosa nemoralis, Zygiella montana, Scytodes thoracica, Agalenatea redii, Heterotheridion nigrovariegatum, Pseudeuophrys lanigera, Pachygnatha degeeri, Tenuiphantes tenuis, Zilla diodia, Steatoda bipunctata, Nigma walckenaeri, Aulonia albimana, Synema globosum, Larinioides sclopetarius, Icius subinermis, Gibbaranea gibbosa, Pholcus phalangioides, Tetragnatha nigrita, Holocnemus pluchei, Pardosa wagleri, Pardosa torrentum, Drassyllus pusillus, Erigone dentipalpis, Araneus angulatus, Tetragnatha montana, Trachyzelotes pedestris, Zelotes latreillei, Atypus piceus, Enoplognatha ovata, Cheiracanthium mildei, Aculepeira carbonaria, Marpissa pomatia, Zygiella x-notata, Ozyptila scabricula, Cicurina cicur, Nigma flavescens, Hasarius adansoni, Allagelena gracilens, Talavera petrensis, Textrix denticulata, Xysticus cristatus, Steatoda triangulosa, Leptorchestes berolinensis, Micaria fulgens, Pardosa blanda, Pellenes nigrociliatus, Tibellus oblongus, Phylloneta impressa, Thomisus onustus, Diplocephalus helleri, Drassodex drescoi, Drassodex heeri, Scotophaeus blackwalli, Heliophanus flavipes, Kishidaia conspicua, Heliophanus tribulosus, Asianellus festivus, Uloborus walckenaerius, Dictyna arundinacea, Psammitis ninnii, Micaria formicaria, Neriene peltata, Pardosa monticola, Lepthyphantes leprosus, Liocranum rupicola, Phylloneta sisyphia, Pholcus opilionoides, Amaurobius ferox, Harpactea rubicunda, Ebrechtella tricuspidata, Araniella alpica, Tegenaria ferruginea, Philodromus dispar, Anyphaena accentuata, Hoplopholcus forskali, Marpissa radiata, Labulla thoracica, Philodromus margaritatus, Linyphia triangularis, Marpissa nivoyi, Heliophanus auratus, Hyptiotes paradoxus, Metellina merianae, Hypomma bituberculatum\n",
      "Year 2021: Evarcha arcuata, Neon levis, Evarcha falcata, Heliophanus cupreus, Anyphaena accentuata, Pellenes tripunctatus, Pisaura mirabilis, Argiope bruennichi, Heliophanus aeneus, Ballus chalybeius, Zilla diodia, Marpissa muscosa, Parasteatoda tepidariorum, Araneus quadratus, Aculepeira ceropegia, Misumena vatia, Salticus scenicus, Brigittea civica, Micrommata virescens, Steatoda triangulosa, Nuctenea umbratica, Phlegra fasciata, Diaea dorsata, Araneus diadematus, Meta menardi, Pseudeuophrys lanigera, Alopecosa cuneata, Araniella alpica, Synema globosum, Trochosa terricola, Carrhotus xanthogramma, Steatoda bipunctata, Clubiona corticalis, Asianellus festivus, Agelena labyrinthica, Parasteatoda lunata, Metellina merianae, Metellina segmentata, Xysticus luctator, Leptorchestes berolinensis, Tegenaria parietina, Attulus pubescens, Ebrechtella tricuspidata, Heliophanus kochii, Mangora acalypha, Cyclosa conica, Philaeus chrysops, Zoropsis spinimana, Pholcus phalangioides, Asagena phalerata, Thomisus onustus, Hogna radiata, Xysticus kochi, Salticus zebraneus, Episinus truncatus, Atypus affinis, Linyphia triangularis, Scytodes thoracica, Pseudicius encarpatus, Singa nitidula, Aulonia albimana, Agalenatea redii, Textrix denticulata, Tetragnatha nigrita, Amaurobius ferox, Larinioides cornutus, Zygiella x-notata, Larinioides sclopetarius, Segestria senoculata, Tetragnatha extensa, Icius subinermis, Xerolycosa miniata, Holocnemus pluchei, Eratigena atrica, Arctosa leopardus, Oxyopes ramosus, Heterotheridion nigrovariegatum, Harpactea hombergi, Gibbaranea gibbosa, Drassodes lapidosus, Xysticus lanio, Philodromus dispar, Pistius truncatus, Araneus sturmi, Allagelena gracilens, Atypus piceus, Araniella cucurbitina, Myrmarachne formicaria, Segestria bavarica, Dolomedes fimbriatus, Pardosa hortensis, Xysticus acerbus, Pardosa amentata, Araneus angulatus, Neriene radiata, Erigone dentipalpis, Apostenus fuscus, Tenuiphantes tenuis, Trachyzelotes pedestris, Hyptiotes paradoxus, Phrurolithus festivus, Eresus kollari, Tmarus piger, Pholcus opilionoides, Micaria coarctata, Aelurillus v-insignitus, Nigma flavescens, Pardosa pullata, Metellina mengei, Zora spinimana, Heliophanus tribulosus, Xerolycosa nemoralis, Pardosa wagleri, Araneus circe, Pardosa blanda, Tibellus oblongus, Episinus angulatus, Attulus rupicola, Aculepeira carbonaria, Theridion melanurum, Neriene peltata, Macaroeris nidicolens, Heliophanus patagiatus, Cetonana laticeps, Coelotes terrestris, Tetragnatha montana, Philodromus rufus, Araneus marmoreus, Gongylidium rufipes, Linyphia hortensis, Micaria pulicaria, Tetragnatha obtusa, Pardosa proxima, Ozyptila praticola\n"
     ]
    }
   ],
   "source": [
    "# Extract relevant columns from the dataset\n",
    "species_data = data2[['Year', 'species']]\n",
    "\n",
    "# Group the data by Year and collect the unique spider species observed in each year\n",
    "species_by_year = species_data.groupby('Year')['species'].unique()\n",
    "\n",
    "###\n",
    "# Print the spider species observed each year\n",
    "###\n",
    "for year, species_list in species_by_year.items():\n",
    "    print(f\"Year {year}: {', '.join(species_list)}\")"
   ]
  },
  {
   "cell_type": "code",
   "execution_count": 203,
   "metadata": {},
   "outputs": [
    {
     "data": {
      "image/png": "[encoded data removed]",
      "text/plain": [
       "<Figure size 1000x600 with 1 Axes>"
      ]
     },
     "metadata": {},
     "output_type": "display_data"
    }
   ],
   "source": [
    "# Group the data by Year and species, calculate the count of unique species for each year\n",
    "species_count = species_data.groupby('Year')['species'].nunique()\n",
    "\n",
    "# Create a line plot or bar chart to visualize the trend\n",
    "plt.figure(figsize=(10, 6))\n",
    "species_count.plot(kind='line', marker='o')\n",
    "plt.title('Trend in Appearance of New Spider Species')\n",
    "plt.xlabel('Year')\n",
    "plt.ylabel('Number of Unique Species')\n",
    "plt.grid(True)\n",
    "plt.show()"
   ]
  },
  {
   "cell_type": "code",
   "execution_count": 207,
   "metadata": {},
   "outputs": [
    {
     "name": "stdout",
     "output_type": "stream",
     "text": [
      "Year 1981: Synema globosum, Pirata piraticus, Oedothorax retusus, Drassodes pubescens, Pocadicnemis pumila, Aulonia albimana, Mangora acalypha, Zelotes petrensis, Palliduphantes pallidus, Pardosa pullata, Micaria guttulata, Metellina segmentata, Pardosa palustris, Evarcha falcata, Pardosa monticola, Misumena vatia, Panamomops sulcifrons, Drassyllus pusillus, Trochosa terricola, Tenuiphantes mengei, Dysdera erythrina, Episinus truncatus, Xysticus cristatus, Erigone atra, Micrargus subaequalis, Agyneta simplicitarsis, Pardosa amentata, Pardosa bifasciata, Drassyllus praeficus, Enoplognatha ovata, Agroeca cuprea, Tapinopa longidens, Clubiona similis, Heliophanus flavipes, Evarcha arcuata, Ozyptila scabricula, Philodromus cespitum, Diplostyla concolor, Pachygnatha degeeri, Phrurolithus festivus, Pellenes tripunctatus, Phylloneta impressa, Metopobactrus prominulus, Linyphia triangularis, Oedothorax apicatus, Bathyphantes gracilis, Walckenaeria antica, Hahnia pusilla, Agyneta rurestris, Robertus neglectus, Ozyptila atomaria, Gnaphosa lucifuga, Micrommata virescens, Pisaura mirabilis, Inermocoelotes inermis, Pachygnatha clercki, Enoplognatha thoracica, Alopecosa cuneata, Euophrys frontalis, Arctosa figurata, Alopecosa trabalis, Neottiura suaveolens, Xysticus bifasciatus, Neottiura bimaculata, Sintula corniger, Heterotheridion nigrovariegatum, Maso sundevalli, Euryopis flavomaculata, Sibianor aurocinctus, Xysticus kochi, Atypus piceus, Thanatus formicinus, Arctosa lutetiana, Neriene clathrata, Minicia marginella, Haplodrassus signifer, Xysticus erraticus, Ozyptila claveata, Heliophanus cupreus, Atypus affinis, Tapinocyboides pygmaeus, Hypsosinga albovittata, Centromerus incilium, Antistea elegans, Pardosa hortensis\n",
      "Year 1982: Dictyna uncinata, Pirata piscatorius, Argiope bruennichi\n",
      "Year 1983: Walckenaeria nudipalpis, Centromerita bicolor, Robertus lividus, Pardosa prativaga, Tetragnatha extensa, Allagelena gracilens, Pardosa agrestis, Walckenaeria acuminata, Gongylidiellum murcidum, Clubiona reclusa, Tenuiphantes tenebricola, Monocephalus fuscipes, Theridion pictum, Agyneta mollis, Trochosa ruricola, Tallusia experta, Tenuiphantes tenuis, Helophora insignis, Allomengea vidua, Theridion varians, Tenuiphantes cristatus, Arctosa leopardus, Myrmarachne formicaria, Cheiracanthium erraticum, Pachygnatha listeri, Stemonyphantes lineatus, Urozelotes rusticus, Porrhomma oblitum, Ceratinella brevipes, Bathyphantes nigrinus, Zodarion italicum, Pelecopsis parallela, Alopecosa pulverulenta, Walckenaeria vigilax, Xerolycosa miniata, Trachyzelotes pedestris, Talavera aequipes, Phlegra fasciata, Tetragnatha obtusa, Walckenaeria atrotibialis, Histopona torpida, Coelotes terrestris, Robertus scoticus, Theridiosoma gemmosum, Ozyptila trux, Gongylidium rufipes, Zelotes latreillei, Tetragnatha striata, Xysticus lineatus, Piratula hygrophila, Ozyptila praticola, Porrhomma cambridgei, Microneta viaria, Piratula uliginosa, Bathyphantes approximatus, Dismodicus bifrons, Gnathonarium dentatum, Phrurolithus minimus, Clubiona phragmitis, Centromerus sylvaticus, Liocranoeca striata, Trochosa spinipalpis, Ozyptila simplex, Ceratinella brevis, Micrargus herbigradus, Tiso vagans, Pocadicnemis juncea, Xysticus ulmi, Porrhomma pygmaeum, Walckenaeria dysderoides, Diplocephalus cristatus, Micaria pulicaria, Dicymbium nigrum, Piratula latitans, Diplocephalus picinus, Drassyllus lutetianus, Cnephalocotes obscurus, Ceratinella scabrosa, Zora spinimana, Tetragnatha montana, Porrhomma microps, Bolyphantes alticeps, Clubiona terrestris, Arctosa perita, Diplocephalus latifrons, Porrhomma convexum, Araeoncus humilis, Cicurina cicur, Silometopus reussi, Oedothorax fuscus, Pirata tenuitarsis, Silometopus elegans, Minyriolus pusillus, Hahnia nava, Araneus diadematus, Floronia bucculenta, Mioxena blanda, Agyneta affinis, Clubiona lutescens, Erigone dentipalpis\n",
      "Year 1984: Tibellus maritimus, Styloctetor compar, Agelena labyrinthica, Xerolycosa nemoralis, Nesticus cellulanus, Centromerus brevipalpus, Xysticus luctator, Glyphesis servulus, Walckenaeria obtusa, Formiphantes lepthyphantiformis, Heliophanus auratus, Clubiona neglecta, Pardosa wagleri, Hypomma fulvum, Saaristoa abnormis, Zelotes apricorum, Thanatus striatus, Alopecosa farinosa, Microlinyphia impigra, Kaestneria pullata, Pardosa paludicola, Attulus caricis, Walckenaeria unicornis, Eratigena atrica, Trichopternoides thorelli, Hahnia helveola, Clubiona stagnatilis, Donacochara speciosa, Neon reticulatus, Episinus angulatus\n",
      "Year 1985: Gnaphosa badia, Heliophanus aeneus, Pardosa ferruginea, Salticus scenicus\n",
      "Year 1986: Cybaeus tetricus, Agyneta cauta, Agroeca proxima, Centromerus pabulator, Zelotes subterraneus, Pardosa blanda, Tapinocyba pallens, Agroeca brunnea, Asagena phalerata\n",
      "Year 1987: Trochosa hispanica, Argenna subnigra, Eratigena fuesslini, Coelotes mediocris, Harpactocrates drassoides, Tenuiphantes flavipes, Clubiona comta, Steatoda paykulliana, Drassodes lapidosus, Walckenaeria cucullata, Troglohyphantes caligatus, Gnaphosa bicolor, Tibellus oblongus, Walckenaeria furcillata, Microctenonyx subitaneus, Aculepeira ceropegia, Zora nemoralis, Trichopterna cito, Thanatus coloradensis, Mecopisthes latinus, Metopobactrus nadigi, Cyclosa conica, Mansuphantes aridus, Pardosa riparia, Zelotes electus, Bassaniodes robustus, Hahnia ononidum, Araniella cucurbitina, Cybaeus intermedius, Xysticus gallicus, Saloca diceros, Phrurolithus nigrinus, Psammitis ninnii, Cybaeus montanus, Robertus mediterraneus, Cryphoeca brignolii, Dasumia taeniifera, Hypsosinga sanguinea, Xysticus lanio, Panamomops inconspicuus, Parasteatoda tepidariorum, Cozyptila blackwalli, Marpissa muscosa, Drapetisca socialis, Dendryphantes rudis, Philaeus chrysops, Dysdera crocata, Thanatus atratus, Pelecopsis radicicola, Scytodes thoracica, Haplodrassus silvestris, Tapinocyba maureri, Mecopisthes silus, Gonatium paradoxum, Phylloneta sisyphia, Peponocranium orbiculatum, Philodromus dispar, Neriene furtiva\n",
      "Year 1988: Centromerus dilutus, Walckenaeria mitrata, Centromerus leruthi, Macrargus rufus, Histopona italica, Walckenaeria alticeps, Aelurillus v-insignitus, Platnickina tincta, Neriene radiata, Clubiona brevipes, Ero furcata, Sittisax saxicola, Drassyllus villicus, Asthenargus paganus, Zora silvestris, Zodarion rubidum, Araniella alpica, Phaeocedus braccatus, Diaea dorsata, Centromerus sellarius, Alopecosa sulzeri, Walckenaeria corniculans, Dipoena melanogaster, Ozyptila secreta, Micaria fulgens, Tmarus piger, Linyphia hortensis, Lepthyphantes nodifer, Xysticus audax, Walckenaeria stylifrons, Philodromus rufus, Cryptachaea riparia, Obscuriphantes obscurus, Pholcus phalangioides, Clubiona germanica, Gonatium rubellum, Xysticus kempeleni, Centromerus serratus, Ostearius melanopygius, Clubiona diversa, Iberina montana, Amaurobius jugorum, Theonina cornix, Neriene emphana, Troxochrus scabriculus, Harpactea hombergi, Ballus chalybeius, Mermessus trilobatus, Mastigusa arietina, Metellina merianae, Porrhomma errans, Walckenaeria incisa, Tegenaria silvestris, Segestria senoculata, Parasteatoda lunata, Kishidaia conspicua, Neon levis, Agyneta saxatilis, Zelotes erebeus, Anguliphantes monticola, Cryphoeca silvicola, Hilaira excisa, Staveleya paulae, Araneus marmoreus, Agyneta ramosa, Micrargus apertus, Hypomma cornutum, Eratigena picta, Dysdera ninnii, Hogna radiata, Erigone autumnalis, Marpissa nivoyi, Metellina mengei, Caracladus leberti, Lasaeola prona, Clubiona caerulescens, Tenuiphantes zimmermanni, Scotina celans, Hylyphantes nigritus, Thyreosthenius biovatus, Tapinocyba insecta, Gongylidiellum latebricola, Nigma flavescens, Attulus pubescens, Pelecopsis elongata, Walckenaeria cuspidata, Poecilochroa variana, Philodromus margaritatus, Zygiella montana, Clubiona pallidula, Labulla thoracica, Trochosa robusta, Amaurobius fenestralis, Harpactea lepida, Dicymbium tibiale, Zelotes similis, Lasaeola coracina, Bathyphantes parvulus, Asthenargus helveticus, Haplodrassus umbratilis, Moebelia penicillata, Neriene peltata, Trematocephalus cristatus, Xysticus luctuosus, Panamomops mengei, Centromerus cavernarum, Talavera inopinata, Philodromus aureolus\n",
      "Year 1989: Amaurobius ferox, Alopecosa inquilina, Drassodes cupreus, Acartauchenius scurrilis, Tallusia vindobonensis, Agyneta gulosa, Arctosa personata, Cheiracanthium virescens, Haplodrassus kulczynskii, Philodromus collinus, Apostenus fuscus, Porrhomma campbelli, Paidiscura pallens, Microdipoena jobi, Echemus angustifrons, Erigonoplus foveatus, Xysticus acerbus, Harpactea thaleri, Erigone jaegeri, Entelecara flavipes, Microlinyphia pusilla, Cinetata gradata, Salticus zebraneus, Textrix denticulata, Zelotes atrocaeruleus, Nusoncus nasutus, Atypus muralis, Cercidia prominens, Parasteatoda simulans, Anyphaena accentuata, Crustulina guttata, Eratigena agrestis\n",
      "Year 1990: Pholcomma gibbum, Leptorhoptrum robustum, Walckenaeria kochi, Enoplognatha latimana, Drepanotylus uncatus, Oedothorax gibbosus, Lophomma punctatum\n",
      "Year 1991: Micaria alpina, Pardosa oreophila, Zelotes clivicola, Asianellus festivus, Steatoda bipunctata, Mughiphantes handschini, Euophrys herbigrada, Haplodrassus dalmatensis, Megalepthyphantes nebulosus, Liocranum rupicola, Pardosa mixta, Porrhomma rosenhaueri, Eresus kollari, Mansuphantes fragilis, Notioscopus sarcinatus, Drassyllus pumilus, Pardosa giebeli, Coelotes rudolfi, Talavera petrensis, Silometopus rosemariae, Heliophanus tribulosus, Erigone cristatopalpus, Erigonella hiemalis, Araeoncus anguineus, Lepthyphantes leprosus, Pardosa saturatior, Erigone tenuimana, Clubiona kulczynskii, Arctosa alpigena, Oreonetides glacialis, Erigonoplus globipes, Pardosa torrentum, Gnaphosa nigerrima, Mecynargus paetulus, Pardosa saltans, Micaria nivosa, Syedra gracilis, Gonatium rubens, Attulus longipes, Pardosa nigra, Collinsia inerrans, Agyneta conigera, Titanoeca quadriguttata, Styloctetor romanus, Zelotes longipes, Typhochrestus inflatus, Tenuiphantes monachus, Alopecosa taeniata, Nomisia exornata, Agyneta nigripes, Scotinotylus antennatus, Walckenaeria capito, Euryopis quinqueguttata, Porrhoclubiona genevensis, Tenuiphantes jacksoni, Diplocephalus helleri, Lathys stigmatisata, Erigone remota, Segestria bavarica, Alopecosa fabrilis, Synaphosus sauvage, Iberina difficilis, Centromerus subalpinus, Ozyptila rauda, Robertus truncorum, Drassodex heeri, Callilepis schuszteri, Amaurobius similis, Oedothorax gibbifer, Nematogmus sanguinolentus, Chalcoscirtus infimus, Gnaphosa lugubris, Xysticus cor, Larinioides sclopetarius, Pellenes nigrociliatus\n",
      "Year 1992: Pseudeuophrys lanigera, Aculepeira carbonaria, Synageles venator, Diplocephalus permixtus, Tegenaria domestica, Pardosa proxima\n",
      "Year 1993: Zygiella x-notata, Agnyphantes expunctus, Piniphantes pinicola, Pityohyphantes phrygianus, Psilochorus simoni, Nuctenea umbratica, Drassodex lesserti\n",
      "Year 1994: Zelotes exiguus, Palliduphantes arenicola, Ipa keyserlingi, Talavera aperta, Robertus arundineti, Prinerigone vagans, Dolomedes fimbriatus, Scotophaeus quadripunctatus, Micaria formicaria, Porrhomma microphthalmum, Tegenaria ferruginea, Ozyptila pullata, Megalepthyphantes collinus, Meta menardi, Centromerita concinna, Mughiphantes variabilis, Attulus terebratus\n",
      "Year 1995: Alopecosa striatipes, Dictyna arundinacea, Ebrechtella tricuspidata, Pardosa vittata, Micaria coarctata, Clubiona frutetorum, Silometopus bonessi, Trichoncyboides simoni, Theonoe minutissima, Zora parallela, Theridion betteni, Clubiona pseudoneglecta, Typhochrestus digitatus, Mughiphantes pulcher, Pardosa nigriceps, Walckenaeria monoceros, Anguliphantes angulipalpis, Evarcha laetabunda, Iberina candida, Agalenatea redii, Tenuiphantes alacris, Euryopis laeta, Trichoncus affinis, Attulus rupicola, Civizelotes civicus, Scotina palliardii, Oxyopes lineatus, Bathyphantes similis, Philodromus albidus, Trichoncus hackmani, Oedothorax agrestis\n",
      "Year 1996: Entelecara acuminata, Porrhomma egeria, Neriene montana, Attulus floricola, Jacksonella falconeri, Neoscona adianta, Gibbaranea gibbosa, Hyptiotes paradoxus, Philodromus buxi, Parapelecopsis nemoralis, Nigma walckenaeri, Pseudeuophrys erratica, Theridion mystaceum, Carrhotus xanthogramma, Lepthyphantes minutus, Hylyphantes graminicola, Erigone dentigera, Zygiella atrica, Tetragnatha pinicola, Acantholycosa norvegica, Pholcus opilionoides, Porrhomma pallidum, Larinioides cornutus, Brigittea latens, Pseudicius encarpatus, Piratula knorri, Ero aphana, Steatoda albomaculata, Kryptonesticus eremita, Sardinidion blackwalli, Philodromus vagulus, Araniella opisthographa, Metopobactrus nodicornis, Palliduphantes insignis, Diplocephalus dentatus, Araneus sturmi, Brigittea civica, Typhochrestus simoni, Philodromus praedatus, Theridion pinastri, Synageles hilarulus, Anelosimus vittatus, Attulus penicillatus\n",
      "Year 1997: Clubiona subsultans, Rhysodromus histrio, Zelotes gallicus, Pardosa lugubris, Zelotes aeneus, Larinioides patagiatus, Agyneta fuscipalpa, Thomisus onustus, Araneus angulatus, Gnaphosa montana, Kaestneria dorsalis, Rugathodes instabilis, Zilla diodia, Agyneta innotabilis, Cetonana laticeps, Lathys humilis\n",
      "Year 1998: Araneus quadratus, Micaria silesiaca, Frontinellina frutetorum, Clubiona corticalis, Tetragnatha nigrita, Amaurobius crassipalpis, Spiracme striatipes, Hygrolycosa rubrofasciata, Callilepis nocturna, Steatoda triangulosa, Zelotes tenuis, Zoropsis spinimana, Micaria rossica, Cryptodrassus hungaricus\n",
      "Year 1999: Argyroneta aquatica, Singa nitidula, Araneus circe, Mansuphantes mansuetus, Nigma puella, Icius subinermis, Scotophaeus blackwalli, Heliophanus dubius\n",
      "Year 2000: Neon valentulus, Mendoza canestrinii, Clubiona juvenis, Marpissa radiata, Uloborus walckenaerius, Ero cambridgei, Satilatlas britteni, Clubiona subtilis, Robertus insignis, Bathyphantes setiger, Hasarius adansoni\n",
      "Year 2001: Oreoneta montigena, Gibbaranea bituberculata, Gibbaranea omoeda, Hypomma bituberculatum, Harpactea rubicunda, Alopecosa aculeata, Scotophaeus scutulatus\n",
      "Year 2002: Caracladus avicula, Gnaphosa lapponum, Arctosa renidescens, Bolephthyphantes index, Centromerus arcanus, Evansia merens, Macrargus carpenteri, Micaria aenea, Panamomops palmgreni, Talavera monticola, Zelotes talpinus, Bolyphantes luteolus, Scotinotylus alpigena, Centromerus capucinus, Scotargus pilosus, Gnaphosa leporina\n",
      "Year 2003: Tenuiphantes jacksonoides, Micrargus laudatus, Attulus distinguendus, Oreonetides vaginatus, Lessertinella kulczynskii, Heliophanus kochii, Pocadicnemis carpatica, Micrargus alpinus, Araniella displicata, Diplocentria rectangulata, Stemonyphantes conspersus, Pelecopsis mengei, Ohlertidion ohlerti, Singa hamata, Araneus triguttatus, Erigonella subelevata, Mansuphantes pseudoarciger, Asthenargus perforatus, Enoplognatha mordax, Maro lehtineni, Scotinotylus clavatus, Mughiphantes mughi, Mughiphantes cornutus, Panamomops tauricornis, Tapinocyba affinis, Monocephalus castaneipes, Xysticus desidiosus, Heliophanus patagiatus, Saitis barbipes, Walckenaeria languida, Episinus maculipes, Peponocranium ludicrum, Improphantes nitidus, Xysticus macedonicus, Semljicola faustus\n",
      "Year 2004: Enoplognatha caricis, Uloborus plumipes, Cheiracanthium mildei, Drassodes villosus, Leptorchestes berolinensis, Ozyptila sanctuaria, Theridion hemerobium\n",
      "Year 2005: Tegenaria parietina, Tapinesthis inermis, Theridion melanurum, Thyreosthenius parasiticus, Araneus saevus, Dolomedes plantarius, Cyclosa oculata, Agyneta orites, Dictyna pusilla, Agyneta alpica\n",
      "Year 2006: Tegenaria mirifica, Callobius claustrarius, Theridion petraeum, Gnaphosa petrobia, Thanatus sabulosus, Tegenaria tridentina, Holocnemus pluchei\n",
      "Year 2007: Kratochviliella bicapitata, Acantholycosa pedestris, Theridion boesenbergi, Saaristoa firma\n",
      "Year 2008: Pistius truncatus, Pseudocarorita thaleri\n",
      "Year 2009: Carniella brignolii, Pardosa sordidata, Pseudomaro aenigmaticus, Oecobius maculatus\n",
      "Year 2010: Gongylidiellum vivum, Mansuphantes simoni\n",
      "Year 2012: Scotinotylus evansi, Heliophanus lineiventris, Incestophantes frigidus, Sciastes carli, Janetschekia monodon, Centromerus prudens, Pelecopsis alpica, Wiehlenarius tirolensis, Evarcha jucunda, Mecynargus brocchus\n",
      "Year 2013: Zelotes devotus, Macaroeris nidicolens, Pellenes lapponicus, Agyneta ressli, Coleosoma floridanum\n",
      "Year 2014: Segestria florentina, Cryptachaea blattea, Oxyopes ramosus, Tegenaria hasperi, Theridion asopi, Cheiracanthium punctorium\n",
      "Year 2015: Philodromus emarginatus, Arctosa cinerea\n",
      "Year 2016: Zelotes puritanus, Centromerus silvicola, Hypsosinga heri\n",
      "Year 2017: Philodromus fuscolimbatus, Gibbaranea ullrichi, Pardosa sphagnicola\n",
      "Year 2018: Araneus alsine\n",
      "Year 2019: Hoplopholcus forskali, Hypsosinga pygmaea, Triaeris stenaspis, Pardosa alacris\n",
      "Year 2020: Drassodex drescoi, Marpissa pomatia\n"
     ]
    }
   ],
   "source": [
    "# checking if there are spiders that were first detected on a certain year, new type of spider appearing\n",
    "\n",
    "# Sort the data by Year in ascending order\n",
    "species_data = species_data.sort_values('Year')\n",
    "\n",
    "# Create a dictionary to store the detected species for each year\n",
    "detected_species = {}\n",
    "\n",
    "# Iterate over the data to identify species detected in each year\n",
    "for index, row in species_data.iterrows():\n",
    "    year = row['Year']\n",
    "    species = row['species']\n",
    "    \n",
    "    # Check if it's the first year in the list\n",
    "    if year == species_data['Year'].min():\n",
    "        detected_species[year] = set(species_data[species_data['Year'] == year]['species'])\n",
    "    else:\n",
    "        detected_previous_years = set()\n",
    "        # Loop through all previous years\n",
    "        for prev_year in range(species_data['Year'].min(), year):\n",
    "            # Check if species detected in previous years\n",
    "            if prev_year in detected_species:\n",
    "                detected_previous_years.update(detected_species[prev_year])\n",
    "        # Check if species is not detected in previous years\n",
    "        if species not in detected_previous_years:\n",
    "            if year not in detected_species:\n",
    "                detected_species[year] = set()\n",
    "            detected_species[year].add(species)\n",
    "\n",
    "# Print the unique newly detected species in each year\n",
    "for year, species_set in detected_species.items():\n",
    "    print(f\"Year {year}: {', '.join(species_set)}\")"
   ]
  },
  {
   "cell_type": "code",
   "execution_count": 209,
   "metadata": {},
   "outputs": [
    {
     "data": {
      "application/vnd.plotly.v1+json": {
       "config": {
        "plotlyServerURL": "https://plot.ly"
       },
       "data": [
        {
         "hovertext": [
          "Year: 1981<br>Number of New Species: 85",
          "Year: 1982<br>Number of New Species: 3",
          "Year: 1983<br>Number of New Species: 100",
          "Year: 1984<br>Number of New Species: 30",
          "Year: 1985<br>Number of New Species: 4",
          "Year: 1986<br>Number of New Species: 9",
          "Year: 1987<br>Number of New Species: 58",
          "Year: 1988<br>Number of New Species: 108",
          "Year: 1989<br>Number of New Species: 32",
          "Year: 1990<br>Number of New Species: 7",
          "Year: 1991<br>Number of New Species: 75",
          "Year: 1992<br>Number of New Species: 6",
          "Year: 1993<br>Number of New Species: 7",
          "Year: 1994<br>Number of New Species: 17",
          "Year: 1995<br>Number of New Species: 31",
          "Year: 1996<br>Number of New Species: 43",
          "Year: 1997<br>Number of New Species: 16",
          "Year: 1998<br>Number of New Species: 14",
          "Year: 1999<br>Number of New Species: 8",
          "Year: 2000<br>Number of New Species: 11",
          "Year: 2001<br>Number of New Species: 7",
          "Year: 2002<br>Number of New Species: 16",
          "Year: 2003<br>Number of New Species: 35",
          "Year: 2004<br>Number of New Species: 7",
          "Year: 2005<br>Number of New Species: 10",
          "Year: 2006<br>Number of New Species: 7",
          "Year: 2007<br>Number of New Species: 4",
          "Year: 2008<br>Number of New Species: 2",
          "Year: 2009<br>Number of New Species: 4",
          "Year: 2010<br>Number of New Species: 2",
          "Year: 2012<br>Number of New Species: 10",
          "Year: 2013<br>Number of New Species: 5",
          "Year: 2014<br>Number of New Species: 6",
          "Year: 2015<br>Number of New Species: 2",
          "Year: 2016<br>Number of New Species: 3",
          "Year: 2017<br>Number of New Species: 3",
          "Year: 2018<br>Number of New Species: 1",
          "Year: 2019<br>Number of New Species: 4",
          "Year: 2020<br>Number of New Species: 2"
         ],
         "type": "bar",
         "x": [
          1981,
          1982,
          1983,
          1984,
          1985,
          1986,
          1987,
          1988,
          1989,
          1990,
          1991,
          1992,
          1993,
          1994,
          1995,
          1996,
          1997,
          1998,
          1999,
          2000,
          2001,
          2002,
          2003,
          2004,
          2005,
          2006,
          2007,
          2008,
          2009,
          2010,
          2012,
          2013,
          2014,
          2015,
          2016,
          2017,
          2018,
          2019,
          2020
         ],
         "y": [
          85,
          3,
          100,
          30,
          4,
          9,
          58,
          108,
          32,
          7,
          75,
          6,
          7,
          17,
          31,
          43,
          16,
          14,
          8,
          11,
          7,
          16,
          35,
          7,
          10,
          7,
          4,
          2,
          4,
          2,
          10,
          5,
          6,
          2,
          3,
          3,
          1,
          4,
          2
         ]
        }
       ],
       "layout": {
        "annotations": [
         {
          "font": {
           "size": 12
          },
          "showarrow": false,
          "text": "85",
          "x": 1981,
          "y": 85
         },
         {
          "font": {
           "size": 12
          },
          "showarrow": false,
          "text": "3",
          "x": 1982,
          "y": 3
         },
         {
          "font": {
           "size": 12
          },
          "showarrow": false,
          "text": "100",
          "x": 1983,
          "y": 100
         },
         {
          "font": {
           "size": 12
          },
          "showarrow": false,
          "text": "30",
          "x": 1984,
          "y": 30
         },
         {
          "font": {
           "size": 12
          },
          "showarrow": false,
          "text": "4",
          "x": 1985,
          "y": 4
         },
         {
          "font": {
           "size": 12
          },
          "showarrow": false,
          "text": "9",
          "x": 1986,
          "y": 9
         },
         {
          "font": {
           "size": 12
          },
          "showarrow": false,
          "text": "58",
          "x": 1987,
          "y": 58
         },
         {
          "font": {
           "size": 12
          },
          "showarrow": false,
          "text": "108",
          "x": 1988,
          "y": 108
         },
         {
          "font": {
           "size": 12
          },
          "showarrow": false,
          "text": "32",
          "x": 1989,
          "y": 32
         },
         {
          "font": {
           "size": 12
          },
          "showarrow": false,
          "text": "7",
          "x": 1990,
          "y": 7
         },
         {
          "font": {
           "size": 12
          },
          "showarrow": false,
          "text": "75",
          "x": 1991,
          "y": 75
         },
         {
          "font": {
           "size": 12
          },
          "showarrow": false,
          "text": "6",
          "x": 1992,
          "y": 6
         },
         {
          "font": {
           "size": 12
          },
          "showarrow": false,
          "text": "7",
          "x": 1993,
          "y": 7
         },
         {
          "font": {
           "size": 12
          },
          "showarrow": false,
          "text": "17",
          "x": 1994,
          "y": 17
         },
         {
          "font": {
           "size": 12
          },
          "showarrow": false,
          "text": "31",
          "x": 1995,
          "y": 31
         },
         {
          "font": {
           "size": 12
          },
          "showarrow": false,
          "text": "43",
          "x": 1996,
          "y": 43
         },
         {
          "font": {
           "size": 12
          },
          "showarrow": false,
          "text": "16",
          "x": 1997,
          "y": 16
         },
         {
          "font": {
           "size": 12
          },
          "showarrow": false,
          "text": "14",
          "x": 1998,
          "y": 14
         },
         {
          "font": {
           "size": 12
          },
          "showarrow": false,
          "text": "8",
          "x": 1999,
          "y": 8
         },
         {
          "font": {
           "size": 12
          },
          "showarrow": false,
          "text": "11",
          "x": 2000,
          "y": 11
         },
         {
          "font": {
           "size": 12
          },
          "showarrow": false,
          "text": "7",
          "x": 2001,
          "y": 7
         },
         {
          "font": {
           "size": 12
          },
          "showarrow": false,
          "text": "16",
          "x": 2002,
          "y": 16
         },
         {
          "font": {
           "size": 12
          },
          "showarrow": false,
          "text": "35",
          "x": 2003,
          "y": 35
         },
         {
          "font": {
           "size": 12
          },
          "showarrow": false,
          "text": "7",
          "x": 2004,
          "y": 7
         },
         {
          "font": {
           "size": 12
          },
          "showarrow": false,
          "text": "10",
          "x": 2005,
          "y": 10
         },
         {
          "font": {
           "size": 12
          },
          "showarrow": false,
          "text": "7",
          "x": 2006,
          "y": 7
         },
         {
          "font": {
           "size": 12
          },
          "showarrow": false,
          "text": "4",
          "x": 2007,
          "y": 4
         },
         {
          "font": {
           "size": 12
          },
          "showarrow": false,
          "text": "2",
          "x": 2008,
          "y": 2
         },
         {
          "font": {
           "size": 12
          },
          "showarrow": false,
          "text": "4",
          "x": 2009,
          "y": 4
         },
         {
          "font": {
           "size": 12
          },
          "showarrow": false,
          "text": "2",
          "x": 2010,
          "y": 2
         },
         {
          "font": {
           "size": 12
          },
          "showarrow": false,
          "text": "10",
          "x": 2012,
          "y": 10
         },
         {
          "font": {
           "size": 12
          },
          "showarrow": false,
          "text": "5",
          "x": 2013,
          "y": 5
         },
         {
          "font": {
           "size": 12
          },
          "showarrow": false,
          "text": "6",
          "x": 2014,
          "y": 6
         },
         {
          "font": {
           "size": 12
          },
          "showarrow": false,
          "text": "2",
          "x": 2015,
          "y": 2
         },
         {
          "font": {
           "size": 12
          },
          "showarrow": false,
          "text": "3",
          "x": 2016,
          "y": 3
         },
         {
          "font": {
           "size": 12
          },
          "showarrow": false,
          "text": "3",
          "x": 2017,
          "y": 3
         },
         {
          "font": {
           "size": 12
          },
          "showarrow": false,
          "text": "1",
          "x": 2018,
          "y": 1
         },
         {
          "font": {
           "size": 12
          },
          "showarrow": false,
          "text": "4",
          "x": 2019,
          "y": 4
         },
         {
          "font": {
           "size": 12
          },
          "showarrow": false,
          "text": "2",
          "x": 2020,
          "y": 2
         }
        ],
        "template": {
         "data": {
          "bar": [
           {
            "error_x": {
             "color": "#2a3f5f"
            },
            "error_y": {
             "color": "#2a3f5f"
            },
            "marker": {
             "line": {
              "color": "#E5ECF6",
              "width": 0.5
             },
             "pattern": {
              "fillmode": "overlay",
              "size": 10,
              "solidity": 0.2
             }
            },
            "type": "bar"
           }
          ],
          "barpolar": [
           {
            "marker": {
             "line": {
              "color": "#E5ECF6",
              "width": 0.5
             },
             "pattern": {
              "fillmode": "overlay",
              "size": 10,
              "solidity": 0.2
             }
            },
            "type": "barpolar"
           }
          ],
          "carpet": [
           {
            "aaxis": {
             "endlinecolor": "#2a3f5f",
             "gridcolor": "white",
             "linecolor": "white",
             "minorgridcolor": "white",
             "startlinecolor": "#2a3f5f"
            },
            "baxis": {
             "endlinecolor": "#2a3f5f",
             "gridcolor": "white",
             "linecolor": "white",
             "minorgridcolor": "white",
             "startlinecolor": "#2a3f5f"
            },
            "type": "carpet"
           }
          ],
          "choropleth": [
           {
            "colorbar": {
             "outlinewidth": 0,
             "ticks": ""
            },
            "type": "choropleth"
           }
          ],
          "contour": [
           {
            "colorbar": {
             "outlinewidth": 0,
             "ticks": ""
            },
            "colorscale": [
             [
              0,
              "#0d0887"
             ],
             [
              0.1111111111111111,
              "#46039f"
             ],
             [
              0.2222222222222222,
              "#7201a8"
             ],
             [
              0.3333333333333333,
              "#9c179e"
             ],
             [
              0.4444444444444444,
              "#bd3786"
             ],
             [
              0.5555555555555556,
              "#d8576b"
             ],
             [
              0.6666666666666666,
              "#ed7953"
             ],
             [
              0.7777777777777778,
              "#fb9f3a"
             ],
             [
              0.8888888888888888,
              "#fdca26"
             ],
             [
              1,
              "#f0f921"
             ]
            ],
            "type": "contour"
           }
          ],
          "contourcarpet": [
           {
            "colorbar": {
             "outlinewidth": 0,
             "ticks": ""
            },
            "type": "contourcarpet"
           }
          ],
          "heatmap": [
           {
            "colorbar": {
             "outlinewidth": 0,
             "ticks": ""
            },
            "colorscale": [
             [
              0,
              "#0d0887"
             ],
             [
              0.1111111111111111,
              "#46039f"
             ],
             [
              0.2222222222222222,
              "#7201a8"
             ],
             [
              0.3333333333333333,
              "#9c179e"
             ],
             [
              0.4444444444444444,
              "#bd3786"
             ],
             [
              0.5555555555555556,
              "#d8576b"
             ],
             [
              0.6666666666666666,
              "#ed7953"
             ],
             [
              0.7777777777777778,
              "#fb9f3a"
             ],
             [
              0.8888888888888888,
              "#fdca26"
             ],
             [
              1,
              "#f0f921"
             ]
            ],
            "type": "heatmap"
           }
          ],
          "heatmapgl": [
           {
            "colorbar": {
             "outlinewidth": 0,
             "ticks": ""
            },
            "colorscale": [
             [
              0,
              "#0d0887"
             ],
             [
              0.1111111111111111,
              "#46039f"
             ],
             [
              0.2222222222222222,
              "#7201a8"
             ],
             [
              0.3333333333333333,
              "#9c179e"
             ],
             [
              0.4444444444444444,
              "#bd3786"
             ],
             [
              0.5555555555555556,
              "#d8576b"
             ],
             [
              0.6666666666666666,
              "#ed7953"
             ],
             [
              0.7777777777777778,
              "#fb9f3a"
             ],
             [
              0.8888888888888888,
              "#fdca26"
             ],
             [
              1,
              "#f0f921"
             ]
            ],
            "type": "heatmapgl"
           }
          ],
          "histogram": [
           {
            "marker": {
             "pattern": {
              "fillmode": "overlay",
              "size": 10,
              "solidity": 0.2
             }
            },
            "type": "histogram"
           }
          ],
          "histogram2d": [
           {
            "colorbar": {
             "outlinewidth": 0,
             "ticks": ""
            },
            "colorscale": [
             [
              0,
              "#0d0887"
             ],
             [
              0.1111111111111111,
              "#46039f"
             ],
             [
              0.2222222222222222,
              "#7201a8"
             ],
             [
              0.3333333333333333,
              "#9c179e"
             ],
             [
              0.4444444444444444,
              "#bd3786"
             ],
             [
              0.5555555555555556,
              "#d8576b"
             ],
             [
              0.6666666666666666,
              "#ed7953"
             ],
             [
              0.7777777777777778,
              "#fb9f3a"
             ],
             [
              0.8888888888888888,
              "#fdca26"
             ],
             [
              1,
              "#f0f921"
             ]
            ],
            "type": "histogram2d"
           }
          ],
          "histogram2dcontour": [
           {
            "colorbar": {
             "outlinewidth": 0,
             "ticks": ""
            },
            "colorscale": [
             [
              0,
              "#0d0887"
             ],
             [
              0.1111111111111111,
              "#46039f"
             ],
             [
              0.2222222222222222,
              "#7201a8"
             ],
             [
              0.3333333333333333,
              "#9c179e"
             ],
             [
              0.4444444444444444,
              "#bd3786"
             ],
             [
              0.5555555555555556,
              "#d8576b"
             ],
             [
              0.6666666666666666,
              "#ed7953"
             ],
             [
              0.7777777777777778,
              "#fb9f3a"
             ],
             [
              0.8888888888888888,
              "#fdca26"
             ],
             [
              1,
              "#f0f921"
             ]
            ],
            "type": "histogram2dcontour"
           }
          ],
          "mesh3d": [
           {
            "colorbar": {
             "outlinewidth": 0,
             "ticks": ""
            },
            "type": "mesh3d"
           }
          ],
          "parcoords": [
           {
            "line": {
             "colorbar": {
              "outlinewidth": 0,
              "ticks": ""
             }
            },
            "type": "parcoords"
           }
          ],
          "pie": [
           {
            "automargin": true,
            "type": "pie"
           }
          ],
          "scatter": [
           {
            "fillpattern": {
             "fillmode": "overlay",
             "size": 10,
             "solidity": 0.2
            },
            "type": "scatter"
           }
          ],
          "scatter3d": [
           {
            "line": {
             "colorbar": {
              "outlinewidth": 0,
              "ticks": ""
             }
            },
            "marker": {
             "colorbar": {
              "outlinewidth": 0,
              "ticks": ""
             }
            },
            "type": "scatter3d"
           }
          ],
          "scattercarpet": [
           {
            "marker": {
             "colorbar": {
              "outlinewidth": 0,
              "ticks": ""
             }
            },
            "type": "scattercarpet"
           }
          ],
          "scattergeo": [
           {
            "marker": {
             "colorbar": {
              "outlinewidth": 0,
              "ticks": ""
             }
            },
            "type": "scattergeo"
           }
          ],
          "scattergl": [
           {
            "marker": {
             "colorbar": {
              "outlinewidth": 0,
              "ticks": ""
             }
            },
            "type": "scattergl"
           }
          ],
          "scattermapbox": [
           {
            "marker": {
             "colorbar": {
              "outlinewidth": 0,
              "ticks": ""
             }
            },
            "type": "scattermapbox"
           }
          ],
          "scatterpolar": [
           {
            "marker": {
             "colorbar": {
              "outlinewidth": 0,
              "ticks": ""
             }
            },
            "type": "scatterpolar"
           }
          ],
          "scatterpolargl": [
           {
            "marker": {
             "colorbar": {
              "outlinewidth": 0,
              "ticks": ""
             }
            },
            "type": "scatterpolargl"
           }
          ],
          "scatterternary": [
           {
            "marker": {
             "colorbar": {
              "outlinewidth": 0,
              "ticks": ""
             }
            },
            "type": "scatterternary"
           }
          ],
          "surface": [
           {
            "colorbar": {
             "outlinewidth": 0,
             "ticks": ""
            },
            "colorscale": [
             [
              0,
              "#0d0887"
             ],
             [
              0.1111111111111111,
              "#46039f"
             ],
             [
              0.2222222222222222,
              "#7201a8"
             ],
             [
              0.3333333333333333,
              "#9c179e"
             ],
             [
              0.4444444444444444,
              "#bd3786"
             ],
             [
              0.5555555555555556,
              "#d8576b"
             ],
             [
              0.6666666666666666,
              "#ed7953"
             ],
             [
              0.7777777777777778,
              "#fb9f3a"
             ],
             [
              0.8888888888888888,
              "#fdca26"
             ],
             [
              1,
              "#f0f921"
             ]
            ],
            "type": "surface"
           }
          ],
          "table": [
           {
            "cells": {
             "fill": {
              "color": "#EBF0F8"
             },
             "line": {
              "color": "white"
             }
            },
            "header": {
             "fill": {
              "color": "#C8D4E3"
             },
             "line": {
              "color": "white"
             }
            },
            "type": "table"
           }
          ]
         },
         "layout": {
          "annotationdefaults": {
           "arrowcolor": "#2a3f5f",
           "arrowhead": 0,
           "arrowwidth": 1
          },
          "autotypenumbers": "strict",
          "coloraxis": {
           "colorbar": {
            "outlinewidth": 0,
            "ticks": ""
           }
          },
          "colorscale": {
           "diverging": [
            [
             0,
             "#8e0152"
            ],
            [
             0.1,
             "#c51b7d"
            ],
            [
             0.2,
             "#de77ae"
            ],
            [
             0.3,
             "#f1b6da"
            ],
            [
             0.4,
             "#fde0ef"
            ],
            [
             0.5,
             "#f7f7f7"
            ],
            [
             0.6,
             "#e6f5d0"
            ],
            [
             0.7,
             "#b8e186"
            ],
            [
             0.8,
             "#7fbc41"
            ],
            [
             0.9,
             "#4d9221"
            ],
            [
             1,
             "#276419"
            ]
           ],
           "sequential": [
            [
             0,
             "#0d0887"
            ],
            [
             0.1111111111111111,
             "#46039f"
            ],
            [
             0.2222222222222222,
             "#7201a8"
            ],
            [
             0.3333333333333333,
             "#9c179e"
            ],
            [
             0.4444444444444444,
             "#bd3786"
            ],
            [
             0.5555555555555556,
             "#d8576b"
            ],
            [
             0.6666666666666666,
             "#ed7953"
            ],
            [
             0.7777777777777778,
             "#fb9f3a"
            ],
            [
             0.8888888888888888,
             "#fdca26"
            ],
            [
             1,
             "#f0f921"
            ]
           ],
           "sequentialminus": [
            [
             0,
             "#0d0887"
            ],
            [
             0.1111111111111111,
             "#46039f"
            ],
            [
             0.2222222222222222,
             "#7201a8"
            ],
            [
             0.3333333333333333,
             "#9c179e"
            ],
            [
             0.4444444444444444,
             "#bd3786"
            ],
            [
             0.5555555555555556,
             "#d8576b"
            ],
            [
             0.6666666666666666,
             "#ed7953"
            ],
            [
             0.7777777777777778,
             "#fb9f3a"
            ],
            [
             0.8888888888888888,
             "#fdca26"
            ],
            [
             1,
             "#f0f921"
            ]
           ]
          },
          "colorway": [
           "#636efa",
           "#EF553B",
           "#00cc96",
           "#ab63fa",
           "#FFA15A",
           "#19d3f3",
           "#FF6692",
           "#B6E880",
           "#FF97FF",
           "#FECB52"
          ],
          "font": {
           "color": "#2a3f5f"
          },
          "geo": {
           "bgcolor": "white",
           "lakecolor": "white",
           "landcolor": "#E5ECF6",
           "showlakes": true,
           "showland": true,
           "subunitcolor": "white"
          },
          "hoverlabel": {
           "align": "left"
          },
          "hovermode": "closest",
          "mapbox": {
           "style": "light"
          },
          "paper_bgcolor": "white",
          "plot_bgcolor": "#E5ECF6",
          "polar": {
           "angularaxis": {
            "gridcolor": "white",
            "linecolor": "white",
            "ticks": ""
           },
           "bgcolor": "#E5ECF6",
           "radialaxis": {
            "gridcolor": "white",
            "linecolor": "white",
            "ticks": ""
           }
          },
          "scene": {
           "xaxis": {
            "backgroundcolor": "#E5ECF6",
            "gridcolor": "white",
            "gridwidth": 2,
            "linecolor": "white",
            "showbackground": true,
            "ticks": "",
            "zerolinecolor": "white"
           },
           "yaxis": {
            "backgroundcolor": "#E5ECF6",
            "gridcolor": "white",
            "gridwidth": 2,
            "linecolor": "white",
            "showbackground": true,
            "ticks": "",
            "zerolinecolor": "white"
           },
           "zaxis": {
            "backgroundcolor": "#E5ECF6",
            "gridcolor": "white",
            "gridwidth": 2,
            "linecolor": "white",
            "showbackground": true,
            "ticks": "",
            "zerolinecolor": "white"
           }
          },
          "shapedefaults": {
           "line": {
            "color": "#2a3f5f"
           }
          },
          "ternary": {
           "aaxis": {
            "gridcolor": "white",
            "linecolor": "white",
            "ticks": ""
           },
           "baxis": {
            "gridcolor": "white",
            "linecolor": "white",
            "ticks": ""
           },
           "bgcolor": "#E5ECF6",
           "caxis": {
            "gridcolor": "white",
            "linecolor": "white",
            "ticks": ""
           }
          },
          "title": {
           "x": 0.05
          },
          "xaxis": {
           "automargin": true,
           "gridcolor": "white",
           "linecolor": "white",
           "ticks": "",
           "title": {
            "standoff": 15
           },
           "zerolinecolor": "white",
           "zerolinewidth": 2
          },
          "yaxis": {
           "automargin": true,
           "gridcolor": "white",
           "linecolor": "white",
           "ticks": "",
           "title": {
            "standoff": 15
           },
           "zerolinecolor": "white",
           "zerolinewidth": 2
          }
         }
        },
        "title": {
         "text": "Number of New Spider Species Detected Each Year"
        },
        "xaxis": {
         "title": {
          "text": "Year"
         }
        },
        "yaxis": {
         "title": {
          "text": "Number of New Species Detected"
         }
        }
       }
      }
     },
     "metadata": {},
     "output_type": "display_data"
    }
   ],
   "source": [
    "# Create a histogram to visualize the number of new species detected each year\n",
    "years = list(detected_species.keys())\n",
    "new_species_counts = [len(species_set) for species_set in detected_species.values()]\n",
    "\n",
    "# Create a hover text for each bar\n",
    "hover_text = [f\"Year: {year}<br>Number of New Species: {count}\" for year, count in zip(years, new_species_counts)]\n",
    "\n",
    "# Create the bar trace\n",
    "bar_trace = go.Bar(x=years, y=new_species_counts, hovertext=hover_text)\n",
    "\n",
    "# Create the labels for the bar values\n",
    "label_text = [str(count) for count in new_species_counts]\n",
    "\n",
    "# Create the annotations for the bar values\n",
    "annotations = [dict(x=x, y=y, text=text, showarrow=False, font=dict(size=12))\n",
    "               for x, y, text in zip(years, new_species_counts, label_text)]\n",
    "\n",
    "# Create the layout\n",
    "layout = go.Layout(\n",
    "    title='Number of New Spider Species Detected Each Year',\n",
    "    xaxis=dict(title='Year'),\n",
    "    yaxis=dict(title='Number of New Species Detected'),\n",
    "    annotations=annotations\n",
    ")\n",
    "\n",
    "# Create the figure and add the trace\n",
    "fig = go.Figure(data=[bar_trace], layout=layout)\n",
    "\n",
    "# Show the figure\n",
    "fig.show()\n"
   ]
  }
 ],
 "metadata": {
  "kernelspec": {
   "display_name": "ml_project",
   "language": "python",
   "name": "python3"
  },
  "language_info": {
   "codemirror_mode": {
    "name": "ipython",
    "version": 3
   },
   "file_extension": ".py",
   "mimetype": "text/x-python",
   "name": "python",
   "nbconvert_exporter": "python",
   "pygments_lexer": "ipython3",
   "version": "3.10.11"
  },
  "orig_nbformat": 4
 },
 "nbformat": 4,
 "nbformat_minor": 2
}
