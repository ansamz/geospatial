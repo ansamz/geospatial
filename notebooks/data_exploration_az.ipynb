{
 "cells": [
  {
   "cell_type": "code",
   "execution_count": 345,
   "metadata": {},
   "outputs": [],
   "source": [
    "import os\n",
    "import pandas as pd\n",
    "import numpy as np\n",
    "pd.set_option('display.max_columns', None)\n",
    "pd.set_option('display.max_rows', None)"
   ]
  },
  {
   "cell_type": "code",
   "execution_count": 346,
   "metadata": {},
   "outputs": [
    {
     "data": {
      "text/html": [
       "<div>\n",
       "<style scoped>\n",
       "    .dataframe tbody tr th:only-of-type {\n",
       "        vertical-align: middle;\n",
       "    }\n",
       "\n",
       "    .dataframe tbody tr th {\n",
       "        vertical-align: top;\n",
       "    }\n",
       "\n",
       "    .dataframe thead th {\n",
       "        text-align: right;\n",
       "    }\n",
       "</style>\n",
       "<table border=\"1\" class=\"dataframe\">\n",
       "  <thead>\n",
       "    <tr style=\"text-align: right;\">\n",
       "      <th></th>\n",
       "      <th>gbifID</th>\n",
       "      <th>datasetKey</th>\n",
       "      <th>occurrenceID</th>\n",
       "      <th>kingdom</th>\n",
       "      <th>phylum</th>\n",
       "      <th>class</th>\n",
       "      <th>order</th>\n",
       "      <th>family</th>\n",
       "      <th>genus</th>\n",
       "      <th>species</th>\n",
       "      <th>infraspecificEpithet</th>\n",
       "      <th>taxonRank</th>\n",
       "      <th>scientificName</th>\n",
       "      <th>verbatimScientificName</th>\n",
       "      <th>verbatimScientificNameAuthorship</th>\n",
       "      <th>countryCode</th>\n",
       "      <th>locality</th>\n",
       "      <th>stateProvince</th>\n",
       "      <th>occurrenceStatus</th>\n",
       "      <th>individualCount</th>\n",
       "      <th>publishingOrgKey</th>\n",
       "      <th>decimalLatitude</th>\n",
       "      <th>decimalLongitude</th>\n",
       "      <th>coordinateUncertaintyInMeters</th>\n",
       "      <th>coordinatePrecision</th>\n",
       "      <th>elevation</th>\n",
       "      <th>elevationAccuracy</th>\n",
       "      <th>depth</th>\n",
       "      <th>depthAccuracy</th>\n",
       "      <th>eventDate</th>\n",
       "      <th>day</th>\n",
       "      <th>month</th>\n",
       "      <th>year</th>\n",
       "      <th>taxonKey</th>\n",
       "      <th>speciesKey</th>\n",
       "      <th>basisOfRecord</th>\n",
       "      <th>institutionCode</th>\n",
       "      <th>collectionCode</th>\n",
       "      <th>catalogNumber</th>\n",
       "      <th>recordNumber</th>\n",
       "      <th>identifiedBy</th>\n",
       "      <th>dateIdentified</th>\n",
       "      <th>license</th>\n",
       "      <th>rightsHolder</th>\n",
       "      <th>recordedBy</th>\n",
       "      <th>typeStatus</th>\n",
       "      <th>establishmentMeans</th>\n",
       "      <th>lastInterpreted</th>\n",
       "      <th>mediaType</th>\n",
       "      <th>issue</th>\n",
       "    </tr>\n",
       "  </thead>\n",
       "  <tbody>\n",
       "    <tr>\n",
       "      <th>0</th>\n",
       "      <td>3121779301</td>\n",
       "      <td>77c244e3-05bc-48a8-b200-8336d9db3ca1</td>\n",
       "      <td>CSCF-ARA-26</td>\n",
       "      <td>Animalia</td>\n",
       "      <td>Arthropoda</td>\n",
       "      <td>Arachnida</td>\n",
       "      <td>Araneae</td>\n",
       "      <td>Linyphiidae</td>\n",
       "      <td>Diplocephalus</td>\n",
       "      <td>Diplocephalus latifrons</td>\n",
       "      <td>NaN</td>\n",
       "      <td>SPECIES</td>\n",
       "      <td>Diplocephalus latifrons (O.Pickard-Cambridge, ...</td>\n",
       "      <td>Diplocephalus latifrons (O. P.-Cambridge, 1863)</td>\n",
       "      <td>(O. P.-Cambridge, 1863)</td>\n",
       "      <td>CH</td>\n",
       "      <td>NaN</td>\n",
       "      <td>Ju</td>\n",
       "      <td>PRESENT</td>\n",
       "      <td>NaN</td>\n",
       "      <td>64ee55c9-570a-42af-b7da-3f13c6b4e5a9</td>\n",
       "      <td>47.37776</td>\n",
       "      <td>7.07449</td>\n",
       "      <td>3535.0</td>\n",
       "      <td>NaN</td>\n",
       "      <td>505.0</td>\n",
       "      <td>NaN</td>\n",
       "      <td>NaN</td>\n",
       "      <td>NaN</td>\n",
       "      <td>1988-10-07T00:00:00</td>\n",
       "      <td>7.0</td>\n",
       "      <td>10.0</td>\n",
       "      <td>1988</td>\n",
       "      <td>2137859</td>\n",
       "      <td>2137859</td>\n",
       "      <td>HUMAN_OBSERVATION</td>\n",
       "      <td>NaN</td>\n",
       "      <td>NaN</td>\n",
       "      <td>CSCF-ARA-26</td>\n",
       "      <td>NaN</td>\n",
       "      <td>Hänggi Ambros</td>\n",
       "      <td>NaN</td>\n",
       "      <td>CC_BY_4_0</td>\n",
       "      <td>Info Fauna - Centre Suisse de Cartographie de ...</td>\n",
       "      <td>Gonseth Yves</td>\n",
       "      <td>NaN</td>\n",
       "      <td>NaN</td>\n",
       "      <td>2023-01-24T21:54:39.384Z</td>\n",
       "      <td>NaN</td>\n",
       "      <td>CONTINENT_DERIVED_FROM_COORDINATES</td>\n",
       "    </tr>\n",
       "    <tr>\n",
       "      <th>1</th>\n",
       "      <td>3121779302</td>\n",
       "      <td>77c244e3-05bc-48a8-b200-8336d9db3ca1</td>\n",
       "      <td>CSCF-ARA-44</td>\n",
       "      <td>Animalia</td>\n",
       "      <td>Arthropoda</td>\n",
       "      <td>Arachnida</td>\n",
       "      <td>Araneae</td>\n",
       "      <td>Dysderidae</td>\n",
       "      <td>Harpactea</td>\n",
       "      <td>Harpactea lepida</td>\n",
       "      <td>NaN</td>\n",
       "      <td>SPECIES</td>\n",
       "      <td>Harpactea lepida (C.L.Koch, 1838)</td>\n",
       "      <td>Harpactea lepida (C. L. Koch, 1838)</td>\n",
       "      <td>(C. L. Koch, 1838)</td>\n",
       "      <td>CH</td>\n",
       "      <td>NaN</td>\n",
       "      <td>Ju</td>\n",
       "      <td>PRESENT</td>\n",
       "      <td>NaN</td>\n",
       "      <td>64ee55c9-570a-42af-b7da-3f13c6b4e5a9</td>\n",
       "      <td>47.37753</td>\n",
       "      <td>7.00828</td>\n",
       "      <td>3535.0</td>\n",
       "      <td>NaN</td>\n",
       "      <td>470.0</td>\n",
       "      <td>NaN</td>\n",
       "      <td>NaN</td>\n",
       "      <td>NaN</td>\n",
       "      <td>1988-06-25T00:00:00</td>\n",
       "      <td>25.0</td>\n",
       "      <td>6.0</td>\n",
       "      <td>1988</td>\n",
       "      <td>2139113</td>\n",
       "      <td>2139113</td>\n",
       "      <td>HUMAN_OBSERVATION</td>\n",
       "      <td>NaN</td>\n",
       "      <td>NaN</td>\n",
       "      <td>CSCF-ARA-44</td>\n",
       "      <td>NaN</td>\n",
       "      <td>Hänggi Ambros</td>\n",
       "      <td>NaN</td>\n",
       "      <td>CC_BY_4_0</td>\n",
       "      <td>Info Fauna - Centre Suisse de Cartographie de ...</td>\n",
       "      <td>Gonseth Yves</td>\n",
       "      <td>NaN</td>\n",
       "      <td>NaN</td>\n",
       "      <td>2023-01-24T21:54:40.498Z</td>\n",
       "      <td>NaN</td>\n",
       "      <td>CONTINENT_DERIVED_FROM_COORDINATES</td>\n",
       "    </tr>\n",
       "    <tr>\n",
       "      <th>2</th>\n",
       "      <td>3121779303</td>\n",
       "      <td>77c244e3-05bc-48a8-b200-8336d9db3ca1</td>\n",
       "      <td>CSCF-ARA-62</td>\n",
       "      <td>Animalia</td>\n",
       "      <td>Arthropoda</td>\n",
       "      <td>Arachnida</td>\n",
       "      <td>Araneae</td>\n",
       "      <td>Theridiidae</td>\n",
       "      <td>Robertus</td>\n",
       "      <td>Robertus lividus</td>\n",
       "      <td>NaN</td>\n",
       "      <td>SPECIES</td>\n",
       "      <td>Robertus lividus (Blackwall, 1836)</td>\n",
       "      <td>Robertus lividus (Blackwall, 1836)</td>\n",
       "      <td>(Blackwall, 1836)</td>\n",
       "      <td>CH</td>\n",
       "      <td>NaN</td>\n",
       "      <td>Ju</td>\n",
       "      <td>PRESENT</td>\n",
       "      <td>NaN</td>\n",
       "      <td>64ee55c9-570a-42af-b7da-3f13c6b4e5a9</td>\n",
       "      <td>47.37776</td>\n",
       "      <td>7.07449</td>\n",
       "      <td>3535.0</td>\n",
       "      <td>NaN</td>\n",
       "      <td>505.0</td>\n",
       "      <td>NaN</td>\n",
       "      <td>NaN</td>\n",
       "      <td>NaN</td>\n",
       "      <td>1988-07-16T00:00:00</td>\n",
       "      <td>16.0</td>\n",
       "      <td>7.0</td>\n",
       "      <td>1988</td>\n",
       "      <td>2155895</td>\n",
       "      <td>2155895</td>\n",
       "      <td>HUMAN_OBSERVATION</td>\n",
       "      <td>NaN</td>\n",
       "      <td>NaN</td>\n",
       "      <td>CSCF-ARA-62</td>\n",
       "      <td>NaN</td>\n",
       "      <td>Hänggi Ambros</td>\n",
       "      <td>NaN</td>\n",
       "      <td>CC_BY_4_0</td>\n",
       "      <td>Info Fauna - Centre Suisse de Cartographie de ...</td>\n",
       "      <td>Gonseth Yves</td>\n",
       "      <td>NaN</td>\n",
       "      <td>NaN</td>\n",
       "      <td>2023-01-24T21:54:40.528Z</td>\n",
       "      <td>NaN</td>\n",
       "      <td>CONTINENT_DERIVED_FROM_COORDINATES</td>\n",
       "    </tr>\n",
       "    <tr>\n",
       "      <th>3</th>\n",
       "      <td>3121779304</td>\n",
       "      <td>77c244e3-05bc-48a8-b200-8336d9db3ca1</td>\n",
       "      <td>CSCF-ARA-80</td>\n",
       "      <td>Animalia</td>\n",
       "      <td>Arthropoda</td>\n",
       "      <td>Arachnida</td>\n",
       "      <td>Araneae</td>\n",
       "      <td>Lycosidae</td>\n",
       "      <td>Pardosa</td>\n",
       "      <td>Pardosa amentata</td>\n",
       "      <td>NaN</td>\n",
       "      <td>SPECIES</td>\n",
       "      <td>Pardosa amentata (Clerck, 1757)</td>\n",
       "      <td>Pardosa amentata (Clerck, 1757)</td>\n",
       "      <td>(Clerck, 1757)</td>\n",
       "      <td>CH</td>\n",
       "      <td>NaN</td>\n",
       "      <td>Ju</td>\n",
       "      <td>PRESENT</td>\n",
       "      <td>NaN</td>\n",
       "      <td>64ee55c9-570a-42af-b7da-3f13c6b4e5a9</td>\n",
       "      <td>47.37776</td>\n",
       "      <td>7.07449</td>\n",
       "      <td>3535.0</td>\n",
       "      <td>NaN</td>\n",
       "      <td>505.0</td>\n",
       "      <td>NaN</td>\n",
       "      <td>NaN</td>\n",
       "      <td>NaN</td>\n",
       "      <td>1988-05-13T00:00:00</td>\n",
       "      <td>13.0</td>\n",
       "      <td>5.0</td>\n",
       "      <td>1988</td>\n",
       "      <td>2146241</td>\n",
       "      <td>2146241</td>\n",
       "      <td>HUMAN_OBSERVATION</td>\n",
       "      <td>NaN</td>\n",
       "      <td>NaN</td>\n",
       "      <td>CSCF-ARA-80</td>\n",
       "      <td>NaN</td>\n",
       "      <td>Hänggi Ambros</td>\n",
       "      <td>NaN</td>\n",
       "      <td>CC_BY_4_0</td>\n",
       "      <td>Info Fauna - Centre Suisse de Cartographie de ...</td>\n",
       "      <td>Gonseth Yves</td>\n",
       "      <td>NaN</td>\n",
       "      <td>NaN</td>\n",
       "      <td>2023-01-24T21:54:40.543Z</td>\n",
       "      <td>NaN</td>\n",
       "      <td>CONTINENT_DERIVED_FROM_COORDINATES</td>\n",
       "    </tr>\n",
       "    <tr>\n",
       "      <th>4</th>\n",
       "      <td>3121779305</td>\n",
       "      <td>77c244e3-05bc-48a8-b200-8336d9db3ca1</td>\n",
       "      <td>CSCF-ARA-99</td>\n",
       "      <td>Animalia</td>\n",
       "      <td>Arthropoda</td>\n",
       "      <td>Arachnida</td>\n",
       "      <td>Araneae</td>\n",
       "      <td>Linyphiidae</td>\n",
       "      <td>Neriene</td>\n",
       "      <td>Neriene clathrata</td>\n",
       "      <td>NaN</td>\n",
       "      <td>SPECIES</td>\n",
       "      <td>Neriene clathrata (Sundevall, 1830)</td>\n",
       "      <td>Neriene clathrata (Sundevall, 1830)</td>\n",
       "      <td>(Sundevall, 1830)</td>\n",
       "      <td>CH</td>\n",
       "      <td>NaN</td>\n",
       "      <td>Ju</td>\n",
       "      <td>PRESENT</td>\n",
       "      <td>NaN</td>\n",
       "      <td>64ee55c9-570a-42af-b7da-3f13c6b4e5a9</td>\n",
       "      <td>47.37776</td>\n",
       "      <td>7.07449</td>\n",
       "      <td>3535.0</td>\n",
       "      <td>NaN</td>\n",
       "      <td>505.0</td>\n",
       "      <td>NaN</td>\n",
       "      <td>NaN</td>\n",
       "      <td>NaN</td>\n",
       "      <td>1988-06-25T00:00:00</td>\n",
       "      <td>25.0</td>\n",
       "      <td>6.0</td>\n",
       "      <td>1988</td>\n",
       "      <td>2137387</td>\n",
       "      <td>2137387</td>\n",
       "      <td>HUMAN_OBSERVATION</td>\n",
       "      <td>NaN</td>\n",
       "      <td>NaN</td>\n",
       "      <td>CSCF-ARA-99</td>\n",
       "      <td>NaN</td>\n",
       "      <td>Hänggi Ambros</td>\n",
       "      <td>NaN</td>\n",
       "      <td>CC_BY_4_0</td>\n",
       "      <td>Info Fauna - Centre Suisse de Cartographie de ...</td>\n",
       "      <td>Gonseth Yves</td>\n",
       "      <td>NaN</td>\n",
       "      <td>NaN</td>\n",
       "      <td>2023-01-24T21:54:40.587Z</td>\n",
       "      <td>NaN</td>\n",
       "      <td>CONTINENT_DERIVED_FROM_COORDINATES</td>\n",
       "    </tr>\n",
       "  </tbody>\n",
       "</table>\n",
       "</div>"
      ],
      "text/plain": [
       "       gbifID                            datasetKey occurrenceID   kingdom  \\\n",
       "0  3121779301  77c244e3-05bc-48a8-b200-8336d9db3ca1  CSCF-ARA-26  Animalia   \n",
       "1  3121779302  77c244e3-05bc-48a8-b200-8336d9db3ca1  CSCF-ARA-44  Animalia   \n",
       "2  3121779303  77c244e3-05bc-48a8-b200-8336d9db3ca1  CSCF-ARA-62  Animalia   \n",
       "3  3121779304  77c244e3-05bc-48a8-b200-8336d9db3ca1  CSCF-ARA-80  Animalia   \n",
       "4  3121779305  77c244e3-05bc-48a8-b200-8336d9db3ca1  CSCF-ARA-99  Animalia   \n",
       "\n",
       "       phylum      class    order       family          genus  \\\n",
       "0  Arthropoda  Arachnida  Araneae  Linyphiidae  Diplocephalus   \n",
       "1  Arthropoda  Arachnida  Araneae   Dysderidae      Harpactea   \n",
       "2  Arthropoda  Arachnida  Araneae  Theridiidae       Robertus   \n",
       "3  Arthropoda  Arachnida  Araneae    Lycosidae        Pardosa   \n",
       "4  Arthropoda  Arachnida  Araneae  Linyphiidae        Neriene   \n",
       "\n",
       "                   species infraspecificEpithet taxonRank  \\\n",
       "0  Diplocephalus latifrons                  NaN   SPECIES   \n",
       "1         Harpactea lepida                  NaN   SPECIES   \n",
       "2         Robertus lividus                  NaN   SPECIES   \n",
       "3         Pardosa amentata                  NaN   SPECIES   \n",
       "4        Neriene clathrata                  NaN   SPECIES   \n",
       "\n",
       "                                      scientificName  \\\n",
       "0  Diplocephalus latifrons (O.Pickard-Cambridge, ...   \n",
       "1                  Harpactea lepida (C.L.Koch, 1838)   \n",
       "2                 Robertus lividus (Blackwall, 1836)   \n",
       "3                    Pardosa amentata (Clerck, 1757)   \n",
       "4                Neriene clathrata (Sundevall, 1830)   \n",
       "\n",
       "                            verbatimScientificName  \\\n",
       "0  Diplocephalus latifrons (O. P.-Cambridge, 1863)   \n",
       "1              Harpactea lepida (C. L. Koch, 1838)   \n",
       "2               Robertus lividus (Blackwall, 1836)   \n",
       "3                  Pardosa amentata (Clerck, 1757)   \n",
       "4              Neriene clathrata (Sundevall, 1830)   \n",
       "\n",
       "  verbatimScientificNameAuthorship countryCode locality stateProvince  \\\n",
       "0          (O. P.-Cambridge, 1863)          CH      NaN            Ju   \n",
       "1               (C. L. Koch, 1838)          CH      NaN            Ju   \n",
       "2                (Blackwall, 1836)          CH      NaN            Ju   \n",
       "3                   (Clerck, 1757)          CH      NaN            Ju   \n",
       "4                (Sundevall, 1830)          CH      NaN            Ju   \n",
       "\n",
       "  occurrenceStatus  individualCount                      publishingOrgKey  \\\n",
       "0          PRESENT              NaN  64ee55c9-570a-42af-b7da-3f13c6b4e5a9   \n",
       "1          PRESENT              NaN  64ee55c9-570a-42af-b7da-3f13c6b4e5a9   \n",
       "2          PRESENT              NaN  64ee55c9-570a-42af-b7da-3f13c6b4e5a9   \n",
       "3          PRESENT              NaN  64ee55c9-570a-42af-b7da-3f13c6b4e5a9   \n",
       "4          PRESENT              NaN  64ee55c9-570a-42af-b7da-3f13c6b4e5a9   \n",
       "\n",
       "   decimalLatitude  decimalLongitude  coordinateUncertaintyInMeters  \\\n",
       "0         47.37776           7.07449                         3535.0   \n",
       "1         47.37753           7.00828                         3535.0   \n",
       "2         47.37776           7.07449                         3535.0   \n",
       "3         47.37776           7.07449                         3535.0   \n",
       "4         47.37776           7.07449                         3535.0   \n",
       "\n",
       "   coordinatePrecision  elevation  elevationAccuracy  depth  depthAccuracy  \\\n",
       "0                  NaN      505.0                NaN    NaN            NaN   \n",
       "1                  NaN      470.0                NaN    NaN            NaN   \n",
       "2                  NaN      505.0                NaN    NaN            NaN   \n",
       "3                  NaN      505.0                NaN    NaN            NaN   \n",
       "4                  NaN      505.0                NaN    NaN            NaN   \n",
       "\n",
       "             eventDate   day  month  year  taxonKey  speciesKey  \\\n",
       "0  1988-10-07T00:00:00   7.0   10.0  1988   2137859     2137859   \n",
       "1  1988-06-25T00:00:00  25.0    6.0  1988   2139113     2139113   \n",
       "2  1988-07-16T00:00:00  16.0    7.0  1988   2155895     2155895   \n",
       "3  1988-05-13T00:00:00  13.0    5.0  1988   2146241     2146241   \n",
       "4  1988-06-25T00:00:00  25.0    6.0  1988   2137387     2137387   \n",
       "\n",
       "       basisOfRecord institutionCode collectionCode catalogNumber  \\\n",
       "0  HUMAN_OBSERVATION             NaN            NaN   CSCF-ARA-26   \n",
       "1  HUMAN_OBSERVATION             NaN            NaN   CSCF-ARA-44   \n",
       "2  HUMAN_OBSERVATION             NaN            NaN   CSCF-ARA-62   \n",
       "3  HUMAN_OBSERVATION             NaN            NaN   CSCF-ARA-80   \n",
       "4  HUMAN_OBSERVATION             NaN            NaN   CSCF-ARA-99   \n",
       "\n",
       "   recordNumber   identifiedBy  dateIdentified    license  \\\n",
       "0           NaN  Hänggi Ambros             NaN  CC_BY_4_0   \n",
       "1           NaN  Hänggi Ambros             NaN  CC_BY_4_0   \n",
       "2           NaN  Hänggi Ambros             NaN  CC_BY_4_0   \n",
       "3           NaN  Hänggi Ambros             NaN  CC_BY_4_0   \n",
       "4           NaN  Hänggi Ambros             NaN  CC_BY_4_0   \n",
       "\n",
       "                                        rightsHolder    recordedBy  \\\n",
       "0  Info Fauna - Centre Suisse de Cartographie de ...  Gonseth Yves   \n",
       "1  Info Fauna - Centre Suisse de Cartographie de ...  Gonseth Yves   \n",
       "2  Info Fauna - Centre Suisse de Cartographie de ...  Gonseth Yves   \n",
       "3  Info Fauna - Centre Suisse de Cartographie de ...  Gonseth Yves   \n",
       "4  Info Fauna - Centre Suisse de Cartographie de ...  Gonseth Yves   \n",
       "\n",
       "   typeStatus  establishmentMeans           lastInterpreted  mediaType  \\\n",
       "0         NaN                 NaN  2023-01-24T21:54:39.384Z        NaN   \n",
       "1         NaN                 NaN  2023-01-24T21:54:40.498Z        NaN   \n",
       "2         NaN                 NaN  2023-01-24T21:54:40.528Z        NaN   \n",
       "3         NaN                 NaN  2023-01-24T21:54:40.543Z        NaN   \n",
       "4         NaN                 NaN  2023-01-24T21:54:40.587Z        NaN   \n",
       "\n",
       "                                issue  \n",
       "0  CONTINENT_DERIVED_FROM_COORDINATES  \n",
       "1  CONTINENT_DERIVED_FROM_COORDINATES  \n",
       "2  CONTINENT_DERIVED_FROM_COORDINATES  \n",
       "3  CONTINENT_DERIVED_FROM_COORDINATES  \n",
       "4  CONTINENT_DERIVED_FROM_COORDINATES  "
      ]
     },
     "execution_count": 346,
     "metadata": {},
     "output_type": "execute_result"
    }
   ],
   "source": [
    "df= pd.read_csv('.\\\\dataset\\\\0182752-230224095556074.csv', sep='\\t')\n",
    "df.head(5)"
   ]
  },
  {
   "cell_type": "code",
   "execution_count": 347,
   "metadata": {},
   "outputs": [
    {
     "name": "stdout",
     "output_type": "stream",
     "text": [
      "<class 'pandas.core.frame.DataFrame'>\n",
      "RangeIndex: 242196 entries, 0 to 242195\n",
      "Data columns (total 50 columns):\n",
      " #   Column                            Non-Null Count   Dtype  \n",
      "---  ------                            --------------   -----  \n",
      " 0   gbifID                            242196 non-null  int64  \n",
      " 1   datasetKey                        242196 non-null  object \n",
      " 2   occurrenceID                      242196 non-null  object \n",
      " 3   kingdom                           242196 non-null  object \n",
      " 4   phylum                            242196 non-null  object \n",
      " 5   class                             242196 non-null  object \n",
      " 6   order                             242196 non-null  object \n",
      " 7   family                            242196 non-null  object \n",
      " 8   genus                             242196 non-null  object \n",
      " 9   species                           242196 non-null  object \n",
      " 10  infraspecificEpithet              88 non-null      object \n",
      " 11  taxonRank                         242196 non-null  object \n",
      " 12  scientificName                    242196 non-null  object \n",
      " 13  verbatimScientificName            242196 non-null  object \n",
      " 14  verbatimScientificNameAuthorship  242196 non-null  object \n",
      " 15  countryCode                       242196 non-null  object \n",
      " 16  locality                          3893 non-null    object \n",
      " 17  stateProvince                     242196 non-null  object \n",
      " 18  occurrenceStatus                  242196 non-null  object \n",
      " 19  individualCount                   0 non-null       float64\n",
      " 20  publishingOrgKey                  242196 non-null  object \n",
      " 21  decimalLatitude                   242196 non-null  float64\n",
      " 22  decimalLongitude                  242196 non-null  float64\n",
      " 23  coordinateUncertaintyInMeters     242196 non-null  float64\n",
      " 24  coordinatePrecision               0 non-null       float64\n",
      " 25  elevation                         155544 non-null  float64\n",
      " 26  elevationAccuracy                 1566 non-null    float64\n",
      " 27  depth                             0 non-null       float64\n",
      " 28  depthAccuracy                     0 non-null       float64\n",
      " 29  eventDate                         242196 non-null  object \n",
      " 30  day                               205496 non-null  float64\n",
      " 31  month                             239320 non-null  float64\n",
      " 32  year                              242196 non-null  int64  \n",
      " 33  taxonKey                          242196 non-null  int64  \n",
      " 34  speciesKey                        242196 non-null  int64  \n",
      " 35  basisOfRecord                     242196 non-null  object \n",
      " 36  institutionCode                   18419 non-null   object \n",
      " 37  collectionCode                    50572 non-null   object \n",
      " 38  catalogNumber                     242196 non-null  object \n",
      " 39  recordNumber                      0 non-null       float64\n",
      " 40  identifiedBy                      214347 non-null  object \n",
      " 41  dateIdentified                    0 non-null       float64\n",
      " 42  license                           242196 non-null  object \n",
      " 43  rightsHolder                      242196 non-null  object \n",
      " 44  recordedBy                        236987 non-null  object \n",
      " 45  typeStatus                        0 non-null       float64\n",
      " 46  establishmentMeans                0 non-null       float64\n",
      " 47  lastInterpreted                   242196 non-null  object \n",
      " 48  mediaType                         0 non-null       float64\n",
      " 49  issue                             242196 non-null  object \n",
      "dtypes: float64(16), int64(4), object(30)\n",
      "memory usage: 92.4+ MB\n"
     ]
    }
   ],
   "source": [
    "df.info()"
   ]
  },
  {
   "cell_type": "code",
   "execution_count": 348,
   "metadata": {},
   "outputs": [],
   "source": [
    "df = df.drop(columns=['gbifID', 'datasetKey', 'occurrenceID', 'infraspecificEpithet', 'locality', 'individualCount', 'mediaType', 'coordinatePrecision', 'elevationAccuracy', 'depthAccuracy', \n",
    "                      'eventDate', 'taxonKey', 'speciesKey', 'institutionCode', 'collectionCode', 'catalogNumber', 'recordNumber', 'license', 'rightsHolder',\n",
    "                      'recordedBy', 'typeStatus', 'establishmentMeans', 'lastInterpreted', 'identifiedBy', 'depth', 'dateIdentified', 'verbatimScientificNameAuthorship',\n",
    "                      'mediaType', 'issue'], axis=1)"
   ]
  },
  {
   "cell_type": "code",
   "execution_count": 349,
   "metadata": {},
   "outputs": [
    {
     "name": "stdout",
     "output_type": "stream",
     "text": [
      "<class 'pandas.core.frame.DataFrame'>\n",
      "RangeIndex: 242196 entries, 0 to 242195\n",
      "Data columns (total 22 columns):\n",
      " #   Column                         Non-Null Count   Dtype  \n",
      "---  ------                         --------------   -----  \n",
      " 0   kingdom                        242196 non-null  object \n",
      " 1   phylum                         242196 non-null  object \n",
      " 2   class                          242196 non-null  object \n",
      " 3   order                          242196 non-null  object \n",
      " 4   family                         242196 non-null  object \n",
      " 5   genus                          242196 non-null  object \n",
      " 6   species                        242196 non-null  object \n",
      " 7   taxonRank                      242196 non-null  object \n",
      " 8   scientificName                 242196 non-null  object \n",
      " 9   verbatimScientificName         242196 non-null  object \n",
      " 10  countryCode                    242196 non-null  object \n",
      " 11  stateProvince                  242196 non-null  object \n",
      " 12  occurrenceStatus               242196 non-null  object \n",
      " 13  publishingOrgKey               242196 non-null  object \n",
      " 14  decimalLatitude                242196 non-null  float64\n",
      " 15  decimalLongitude               242196 non-null  float64\n",
      " 16  coordinateUncertaintyInMeters  242196 non-null  float64\n",
      " 17  elevation                      155544 non-null  float64\n",
      " 18  day                            205496 non-null  float64\n",
      " 19  month                          239320 non-null  float64\n",
      " 20  year                           242196 non-null  int64  \n",
      " 21  basisOfRecord                  242196 non-null  object \n",
      "dtypes: float64(6), int64(1), object(15)\n",
      "memory usage: 40.7+ MB\n"
     ]
    }
   ],
   "source": [
    "df.info()"
   ]
  },
  {
   "cell_type": "code",
   "execution_count": 350,
   "metadata": {},
   "outputs": [
    {
     "data": {
      "text/plain": [
       "Index(['kingdom', 'phylum', 'class', 'order', 'family', 'genus', 'species',\n",
       "       'taxonRank', 'scientificName', 'verbatimScientificName', 'countryCode',\n",
       "       'stateProvince', 'occurrenceStatus', 'publishingOrgKey',\n",
       "       'decimalLatitude', 'decimalLongitude', 'coordinateUncertaintyInMeters',\n",
       "       'elevation', 'day', 'month', 'year', 'basisOfRecord'],\n",
       "      dtype='object')"
      ]
     },
     "execution_count": 350,
     "metadata": {},
     "output_type": "execute_result"
    }
   ],
   "source": [
    "df.columns"
   ]
  },
  {
   "cell_type": "code",
   "execution_count": 351,
   "metadata": {},
   "outputs": [
    {
     "data": {
      "text/plain": [
       "[1896,\n",
       " 1909,\n",
       " 1918,\n",
       " 1920,\n",
       " 1923,\n",
       " 1924,\n",
       " 1925,\n",
       " 1926,\n",
       " 1927,\n",
       " 1928,\n",
       " 1929,\n",
       " 1930,\n",
       " 1941,\n",
       " 1974,\n",
       " 1975,\n",
       " 1978,\n",
       " 1979,\n",
       " 1980,\n",
       " 1981,\n",
       " 1982,\n",
       " 1983,\n",
       " 1984,\n",
       " 1985,\n",
       " 1986,\n",
       " 1987,\n",
       " 1988,\n",
       " 1989,\n",
       " 1990,\n",
       " 1991,\n",
       " 1992,\n",
       " 1993,\n",
       " 1994,\n",
       " 1995,\n",
       " 1996,\n",
       " 1997,\n",
       " 1998,\n",
       " 1999,\n",
       " 2000,\n",
       " 2001,\n",
       " 2002,\n",
       " 2003,\n",
       " 2004,\n",
       " 2005,\n",
       " 2006,\n",
       " 2007,\n",
       " 2008,\n",
       " 2009,\n",
       " 2010,\n",
       " 2011,\n",
       " 2012,\n",
       " 2013,\n",
       " 2014,\n",
       " 2015,\n",
       " 2016,\n",
       " 2017,\n",
       " 2018,\n",
       " 2019,\n",
       " 2020,\n",
       " 2021]"
      ]
     },
     "execution_count": 351,
     "metadata": {},
     "output_type": "execute_result"
    }
   ],
   "source": [
    "sorted(df['year'].unique())"
   ]
  },
  {
   "cell_type": "code",
   "execution_count": 352,
   "metadata": {},
   "outputs": [
    {
     "data": {
      "text/plain": [
       "array(['Ju', 'Franche-Comté', 'Lombardia', 'Be', 'Ne', 'Ti', 'Vs', 'Ge',\n",
       "       'Vd', 'Rhône-Alpes', 'Fr', 'Gr', 'Zh', 'Baden-Württemberg', 'Bl',\n",
       "       'Ag', 'Bs', 'Zg', 'Sz', 'Sg', 'Sh', 'So', 'Ow', 'Lu', 'Nw', 'Ur',\n",
       "       'Ar', 'Gl', 'Vorarlberg', 'Ai', 'Tg', 'Alsace', 'Gamprin',\n",
       "       'Valduz', 'Piemonte'], dtype=object)"
      ]
     },
     "execution_count": 352,
     "metadata": {},
     "output_type": "execute_result"
    }
   ],
   "source": [
    "df['stateProvince'].unique()"
   ]
  },
  {
   "cell_type": "code",
   "execution_count": 353,
   "metadata": {},
   "outputs": [
    {
     "data": {
      "text/plain": [
       "array(['CH', 'FR', 'IT', 'DE', 'AT', 'LI'], dtype=object)"
      ]
     },
     "execution_count": 353,
     "metadata": {},
     "output_type": "execute_result"
    }
   ],
   "source": [
    "df['countryCode'].unique()"
   ]
  },
  {
   "cell_type": "code",
   "execution_count": 354,
   "metadata": {},
   "outputs": [
    {
     "name": "stdout",
     "output_type": "stream",
     "text": [
      "<class 'pandas.core.frame.DataFrame'>\n",
      "Int64Index: 114054 entries, 0 to 242193\n",
      "Data columns (total 22 columns):\n",
      " #   Column                         Non-Null Count   Dtype  \n",
      "---  ------                         --------------   -----  \n",
      " 0   kingdom                        114054 non-null  object \n",
      " 1   phylum                         114054 non-null  object \n",
      " 2   class                          114054 non-null  object \n",
      " 3   order                          114054 non-null  object \n",
      " 4   family                         114054 non-null  object \n",
      " 5   genus                          114054 non-null  object \n",
      " 6   species                        114054 non-null  object \n",
      " 7   taxonRank                      114054 non-null  object \n",
      " 8   scientificName                 114054 non-null  object \n",
      " 9   verbatimScientificName         114054 non-null  object \n",
      " 10  countryCode                    114054 non-null  object \n",
      " 11  stateProvince                  114054 non-null  object \n",
      " 12  occurrenceStatus               114054 non-null  object \n",
      " 13  publishingOrgKey               114054 non-null  object \n",
      " 14  decimalLatitude                114054 non-null  float64\n",
      " 15  decimalLongitude               114054 non-null  float64\n",
      " 16  coordinateUncertaintyInMeters  114054 non-null  float64\n",
      " 17  elevation                      114054 non-null  float64\n",
      " 18  day                            114054 non-null  float64\n",
      " 19  month                          114054 non-null  float64\n",
      " 20  year                           114054 non-null  int64  \n",
      " 21  basisOfRecord                  114054 non-null  object \n",
      "dtypes: float64(6), int64(1), object(15)\n",
      "memory usage: 20.0+ MB\n"
     ]
    }
   ],
   "source": [
    "df_ch = df[df['countryCode'] == 'CH']\n",
    "df_ch = df_ch.dropna()\n",
    "df_ch.info()"
   ]
  },
  {
   "cell_type": "code",
   "execution_count": 355,
   "metadata": {},
   "outputs": [
    {
     "data": {
      "text/plain": [
       "array(['Ju', 'Be', 'Ne', 'Ti', 'Vs', 'Ge', 'Vd', 'Fr', 'Gr', 'Zh', 'Bl',\n",
       "       'Ag', 'Sh', 'So', 'Bs', 'Ow', 'Sz', 'Lu', 'Nw', 'Ur', 'Sg', 'Tg',\n",
       "       'Zg', 'Ai', 'Ar', 'Gl'], dtype=object)"
      ]
     },
     "execution_count": 355,
     "metadata": {},
     "output_type": "execute_result"
    }
   ],
   "source": [
    "df_ch['stateProvince'].unique()"
   ]
  },
  {
   "cell_type": "code",
   "execution_count": 356,
   "metadata": {},
   "outputs": [],
   "source": [
    "df_ch['stateProvince'] = df_ch['stateProvince'].replace(\n",
    "               {'Tg':'Thurgau', 'Gr':'Graubünden', 'Lu':'Luzern', 'Be':'Bern', 'Vs':'Valais', \n",
    "                'Bl':'Basel', 'So':'Solothurn', 'Vd':'Vaud', 'Sh':'Schaffhausen', 'Zh':'Zürich', \n",
    "                'Ag':'Aargau', 'Ur':'Uri', 'Ne':'Neuchâtel', 'Ti':'Ticino', 'Sg':'St. Gallen', 'Ge':'Genève', \n",
    "                'Gl':'Glarus', 'Ju':'Jura', 'Zg':'Zug', 'Ow':'Obwalden', 'Fr':'Fribourg', 'Sz':'Schwyz', \n",
    "                'Ar':'Appenzell', 'Ai':'Appenzell', 'Nw':'Nidwalden', 'Bs':'Basel'})"
   ]
  },
  {
   "cell_type": "code",
   "execution_count": 357,
   "metadata": {},
   "outputs": [
    {
     "data": {
      "text/html": [
       "<div>\n",
       "<style scoped>\n",
       "    .dataframe tbody tr th:only-of-type {\n",
       "        vertical-align: middle;\n",
       "    }\n",
       "\n",
       "    .dataframe tbody tr th {\n",
       "        vertical-align: top;\n",
       "    }\n",
       "\n",
       "    .dataframe thead th {\n",
       "        text-align: right;\n",
       "    }\n",
       "</style>\n",
       "<table border=\"1\" class=\"dataframe\">\n",
       "  <thead>\n",
       "    <tr style=\"text-align: right;\">\n",
       "      <th></th>\n",
       "      <th>kingdom</th>\n",
       "      <th>phylum</th>\n",
       "      <th>class</th>\n",
       "      <th>order</th>\n",
       "      <th>family</th>\n",
       "      <th>genus</th>\n",
       "      <th>species</th>\n",
       "      <th>taxonRank</th>\n",
       "      <th>scientificName</th>\n",
       "      <th>verbatimScientificName</th>\n",
       "      <th>countryCode</th>\n",
       "      <th>stateProvince</th>\n",
       "      <th>occurrenceStatus</th>\n",
       "      <th>publishingOrgKey</th>\n",
       "      <th>decimalLatitude</th>\n",
       "      <th>decimalLongitude</th>\n",
       "      <th>coordinateUncertaintyInMeters</th>\n",
       "      <th>elevation</th>\n",
       "      <th>day</th>\n",
       "      <th>month</th>\n",
       "      <th>year</th>\n",
       "      <th>basisOfRecord</th>\n",
       "    </tr>\n",
       "  </thead>\n",
       "  <tbody>\n",
       "    <tr>\n",
       "      <th>0</th>\n",
       "      <td>Animalia</td>\n",
       "      <td>Arthropoda</td>\n",
       "      <td>Arachnida</td>\n",
       "      <td>Araneae</td>\n",
       "      <td>Linyphiidae</td>\n",
       "      <td>Diplocephalus</td>\n",
       "      <td>Diplocephalus latifrons</td>\n",
       "      <td>SPECIES</td>\n",
       "      <td>Diplocephalus latifrons (O.Pickard-Cambridge, ...</td>\n",
       "      <td>Diplocephalus latifrons (O. P.-Cambridge, 1863)</td>\n",
       "      <td>CH</td>\n",
       "      <td>Jura</td>\n",
       "      <td>PRESENT</td>\n",
       "      <td>64ee55c9-570a-42af-b7da-3f13c6b4e5a9</td>\n",
       "      <td>47.37776</td>\n",
       "      <td>7.07449</td>\n",
       "      <td>3535.0</td>\n",
       "      <td>505.0</td>\n",
       "      <td>7.0</td>\n",
       "      <td>10.0</td>\n",
       "      <td>1988</td>\n",
       "      <td>HUMAN_OBSERVATION</td>\n",
       "    </tr>\n",
       "    <tr>\n",
       "      <th>1</th>\n",
       "      <td>Animalia</td>\n",
       "      <td>Arthropoda</td>\n",
       "      <td>Arachnida</td>\n",
       "      <td>Araneae</td>\n",
       "      <td>Dysderidae</td>\n",
       "      <td>Harpactea</td>\n",
       "      <td>Harpactea lepida</td>\n",
       "      <td>SPECIES</td>\n",
       "      <td>Harpactea lepida (C.L.Koch, 1838)</td>\n",
       "      <td>Harpactea lepida (C. L. Koch, 1838)</td>\n",
       "      <td>CH</td>\n",
       "      <td>Jura</td>\n",
       "      <td>PRESENT</td>\n",
       "      <td>64ee55c9-570a-42af-b7da-3f13c6b4e5a9</td>\n",
       "      <td>47.37753</td>\n",
       "      <td>7.00828</td>\n",
       "      <td>3535.0</td>\n",
       "      <td>470.0</td>\n",
       "      <td>25.0</td>\n",
       "      <td>6.0</td>\n",
       "      <td>1988</td>\n",
       "      <td>HUMAN_OBSERVATION</td>\n",
       "    </tr>\n",
       "    <tr>\n",
       "      <th>2</th>\n",
       "      <td>Animalia</td>\n",
       "      <td>Arthropoda</td>\n",
       "      <td>Arachnida</td>\n",
       "      <td>Araneae</td>\n",
       "      <td>Theridiidae</td>\n",
       "      <td>Robertus</td>\n",
       "      <td>Robertus lividus</td>\n",
       "      <td>SPECIES</td>\n",
       "      <td>Robertus lividus (Blackwall, 1836)</td>\n",
       "      <td>Robertus lividus (Blackwall, 1836)</td>\n",
       "      <td>CH</td>\n",
       "      <td>Jura</td>\n",
       "      <td>PRESENT</td>\n",
       "      <td>64ee55c9-570a-42af-b7da-3f13c6b4e5a9</td>\n",
       "      <td>47.37776</td>\n",
       "      <td>7.07449</td>\n",
       "      <td>3535.0</td>\n",
       "      <td>505.0</td>\n",
       "      <td>16.0</td>\n",
       "      <td>7.0</td>\n",
       "      <td>1988</td>\n",
       "      <td>HUMAN_OBSERVATION</td>\n",
       "    </tr>\n",
       "    <tr>\n",
       "      <th>3</th>\n",
       "      <td>Animalia</td>\n",
       "      <td>Arthropoda</td>\n",
       "      <td>Arachnida</td>\n",
       "      <td>Araneae</td>\n",
       "      <td>Lycosidae</td>\n",
       "      <td>Pardosa</td>\n",
       "      <td>Pardosa amentata</td>\n",
       "      <td>SPECIES</td>\n",
       "      <td>Pardosa amentata (Clerck, 1757)</td>\n",
       "      <td>Pardosa amentata (Clerck, 1757)</td>\n",
       "      <td>CH</td>\n",
       "      <td>Jura</td>\n",
       "      <td>PRESENT</td>\n",
       "      <td>64ee55c9-570a-42af-b7da-3f13c6b4e5a9</td>\n",
       "      <td>47.37776</td>\n",
       "      <td>7.07449</td>\n",
       "      <td>3535.0</td>\n",
       "      <td>505.0</td>\n",
       "      <td>13.0</td>\n",
       "      <td>5.0</td>\n",
       "      <td>1988</td>\n",
       "      <td>HUMAN_OBSERVATION</td>\n",
       "    </tr>\n",
       "    <tr>\n",
       "      <th>4</th>\n",
       "      <td>Animalia</td>\n",
       "      <td>Arthropoda</td>\n",
       "      <td>Arachnida</td>\n",
       "      <td>Araneae</td>\n",
       "      <td>Linyphiidae</td>\n",
       "      <td>Neriene</td>\n",
       "      <td>Neriene clathrata</td>\n",
       "      <td>SPECIES</td>\n",
       "      <td>Neriene clathrata (Sundevall, 1830)</td>\n",
       "      <td>Neriene clathrata (Sundevall, 1830)</td>\n",
       "      <td>CH</td>\n",
       "      <td>Jura</td>\n",
       "      <td>PRESENT</td>\n",
       "      <td>64ee55c9-570a-42af-b7da-3f13c6b4e5a9</td>\n",
       "      <td>47.37776</td>\n",
       "      <td>7.07449</td>\n",
       "      <td>3535.0</td>\n",
       "      <td>505.0</td>\n",
       "      <td>25.0</td>\n",
       "      <td>6.0</td>\n",
       "      <td>1988</td>\n",
       "      <td>HUMAN_OBSERVATION</td>\n",
       "    </tr>\n",
       "  </tbody>\n",
       "</table>\n",
       "</div>"
      ],
      "text/plain": [
       "    kingdom      phylum      class    order       family          genus  \\\n",
       "0  Animalia  Arthropoda  Arachnida  Araneae  Linyphiidae  Diplocephalus   \n",
       "1  Animalia  Arthropoda  Arachnida  Araneae   Dysderidae      Harpactea   \n",
       "2  Animalia  Arthropoda  Arachnida  Araneae  Theridiidae       Robertus   \n",
       "3  Animalia  Arthropoda  Arachnida  Araneae    Lycosidae        Pardosa   \n",
       "4  Animalia  Arthropoda  Arachnida  Araneae  Linyphiidae        Neriene   \n",
       "\n",
       "                   species taxonRank  \\\n",
       "0  Diplocephalus latifrons   SPECIES   \n",
       "1         Harpactea lepida   SPECIES   \n",
       "2         Robertus lividus   SPECIES   \n",
       "3         Pardosa amentata   SPECIES   \n",
       "4        Neriene clathrata   SPECIES   \n",
       "\n",
       "                                      scientificName  \\\n",
       "0  Diplocephalus latifrons (O.Pickard-Cambridge, ...   \n",
       "1                  Harpactea lepida (C.L.Koch, 1838)   \n",
       "2                 Robertus lividus (Blackwall, 1836)   \n",
       "3                    Pardosa amentata (Clerck, 1757)   \n",
       "4                Neriene clathrata (Sundevall, 1830)   \n",
       "\n",
       "                            verbatimScientificName countryCode stateProvince  \\\n",
       "0  Diplocephalus latifrons (O. P.-Cambridge, 1863)          CH          Jura   \n",
       "1              Harpactea lepida (C. L. Koch, 1838)          CH          Jura   \n",
       "2               Robertus lividus (Blackwall, 1836)          CH          Jura   \n",
       "3                  Pardosa amentata (Clerck, 1757)          CH          Jura   \n",
       "4              Neriene clathrata (Sundevall, 1830)          CH          Jura   \n",
       "\n",
       "  occurrenceStatus                      publishingOrgKey  decimalLatitude  \\\n",
       "0          PRESENT  64ee55c9-570a-42af-b7da-3f13c6b4e5a9         47.37776   \n",
       "1          PRESENT  64ee55c9-570a-42af-b7da-3f13c6b4e5a9         47.37753   \n",
       "2          PRESENT  64ee55c9-570a-42af-b7da-3f13c6b4e5a9         47.37776   \n",
       "3          PRESENT  64ee55c9-570a-42af-b7da-3f13c6b4e5a9         47.37776   \n",
       "4          PRESENT  64ee55c9-570a-42af-b7da-3f13c6b4e5a9         47.37776   \n",
       "\n",
       "   decimalLongitude  coordinateUncertaintyInMeters  elevation   day  month  \\\n",
       "0           7.07449                         3535.0      505.0   7.0   10.0   \n",
       "1           7.00828                         3535.0      470.0  25.0    6.0   \n",
       "2           7.07449                         3535.0      505.0  16.0    7.0   \n",
       "3           7.07449                         3535.0      505.0  13.0    5.0   \n",
       "4           7.07449                         3535.0      505.0  25.0    6.0   \n",
       "\n",
       "   year      basisOfRecord  \n",
       "0  1988  HUMAN_OBSERVATION  \n",
       "1  1988  HUMAN_OBSERVATION  \n",
       "2  1988  HUMAN_OBSERVATION  \n",
       "3  1988  HUMAN_OBSERVATION  \n",
       "4  1988  HUMAN_OBSERVATION  "
      ]
     },
     "execution_count": 357,
     "metadata": {},
     "output_type": "execute_result"
    }
   ],
   "source": [
    "df_ch.head()"
   ]
  },
  {
   "attachments": {},
   "cell_type": "markdown",
   "metadata": {},
   "source": [
    "# Temprature data"
   ]
  },
  {
   "cell_type": "code",
   "execution_count": 358,
   "metadata": {},
   "outputs": [
    {
     "name": "stdout",
     "output_type": "stream",
     "text": [
      "['ALTDORF.txt', 'ANDERMATT.txt', 'Bad Ragaz.txt', 'BASEL_BEINNINGEN.txt', 'BERN_ZOLLIKOFEN.txt', 'Chaumont.txt', \"Château-d'Oex.txt\", 'Col du Grand St-Bernard.txt', 'Davos.txt', 'Elm.txt', 'Engelberg.txt', 'Genève Cointrin.txt', 'Grimsel Hospiz.txt', 'Grächen.txt', 'Jungfraujoch.txt', 'La Chaux-de-Fonds.txt', 'Locarno Monti.txt', 'Lugano.txt', 'Luzern.txt', 'Meiringen.txt', 'Neuchâtel.txt', 'Payerne.txt', 'S. Bernardino.txt', 'Samedan.txt', 'Sargans.txt', 'Segl-Maria.txt', 'Sion.txt', 'St. Gallen.txt', 'Säntis.txt', 'Zürich  Fluntern.txt']\n"
     ]
    }
   ],
   "source": [
    "dir_list = os.listdir('dataset\\\\temp_data')\n",
    "print(dir_list)"
   ]
  },
  {
   "attachments": {},
   "cell_type": "markdown",
   "metadata": {},
   "source": [
    "1. 'BASEL_BEINNINGEN.txt' -  'Basel' / 'Solothurn'\n",
    "2. 'BERN_ZOLLIKOFEN.txt' - 'Bern'\n",
    "3. 'Genève Cointrin.txt' - 'Genève'\n",
    "4. 'Lugano.txt' - 'Ticino'\n",
    "5. 'Luzern.txt' - 'Luzern'\n",
    "6. 'Neuchâtel.txt' -  'Neuchâtel'\n",
    "7. 'St. Gallen.txt' - 'St. Gallen' / 'Thurgau'\n",
    "8. 'Zürich  Fluntern.txt' - 'Zürich' / 'Aargau' /  'Zug'/ 'Schaffhausen'\n",
    "9. 'ALTDORF.txt' - 'Uri'\n",
    "10. \"Château-d'Oex.txt\" - 'Vaud'\n",
    "11. 'Col du Grand St-Bernard.txt' - 'Valais'\n",
    "12. 'Davos.txt' - 'Graubünden'\n",
    "13. 'Elm.txt' - 'Glarus' /'Schwyz'\n",
    "14. 'Engelberg.txt' - 'Obwalden' / 'Nidwalden'\n",
    "15. 'Payerne.txt' - 'Vaud'\n",
    "16. 'Säntis.txt' - 'Appenzell'\n",
    "17. 'Chaumont.txt' - 'Fribourg'\n",
    "18. 'La Chaux-de-Fonds.txt' - 'Jura'"
   ]
  },
  {
   "cell_type": "code",
   "execution_count": 359,
   "metadata": {},
   "outputs": [],
   "source": [
    "df_temp4 = pd.read_fwf('dataset\\\\temp_data\\\\Lugano.txt', encoding='cp1252', skiprows=25)\n",
    "df_temp4['stateProvince'] = 'Ticino'"
   ]
  },
  {
   "cell_type": "code",
   "execution_count": 360,
   "metadata": {},
   "outputs": [],
   "source": [
    "df_temp5 = pd.read_fwf('dataset\\\\temp_data\\\\Luzern.txt', encoding='cp1252', skiprows=25)\n",
    "df_temp5['stateProvince'] = 'Luzern'\n"
   ]
  },
  {
   "cell_type": "code",
   "execution_count": 361,
   "metadata": {},
   "outputs": [],
   "source": [
    "df_temp6 = pd.read_fwf('dataset\\\\temp_data\\\\Neuchâtel.txt', encoding='cp1252', skiprows=25)\n",
    "df_temp6['stateProvince'] = 'Neuchâtel'"
   ]
  },
  {
   "cell_type": "code",
   "execution_count": 362,
   "metadata": {},
   "outputs": [],
   "source": [
    "df_temp7 = pd.read_fwf('dataset\\\\temp_data\\\\St. Gallen.txt', encoding='cp1252', skiprows=25)[23:].reset_index(drop=True)\n",
    "df_temp7['stateProvince'] = 'St. Gallen'\n"
   ]
  },
  {
   "cell_type": "code",
   "execution_count": 363,
   "metadata": {},
   "outputs": [],
   "source": [
    "df_temp8 = pd.read_fwf('dataset\\\\temp_data\\\\Zürich  Fluntern.txt', encoding='cp1252', skiprows=25)\n",
    "df_temp8['stateProvince'] = 'Zürich'"
   ]
  },
  {
   "cell_type": "code",
   "execution_count": 364,
   "metadata": {},
   "outputs": [],
   "source": [
    "df_temp9 = pd.read_fwf('dataset\\\\temp_data\\\\ALTDORF.txt', encoding='cp1252', skiprows=25)\n",
    "df_temp9['stateProvince'] = 'Uri'\n"
   ]
  },
  {
   "cell_type": "code",
   "execution_count": 365,
   "metadata": {},
   "outputs": [],
   "source": [
    "df_temp10 = pd.read_fwf(\"dataset\\\\temp_data\\\\Château-d'Oex.txt\", encoding='cp1252', skiprows=25)\n",
    "df_temp10['stateProvince'] = 'Vaud'\n"
   ]
  },
  {
   "cell_type": "code",
   "execution_count": 366,
   "metadata": {},
   "outputs": [],
   "source": [
    "df_temp11 = pd.read_fwf('dataset\\\\temp_data\\\\Col du Grand St-Bernard.txt', encoding='cp1252', skiprows=25)\n",
    "df_temp11['stateProvince'] = 'Valais'\n"
   ]
  },
  {
   "cell_type": "code",
   "execution_count": 367,
   "metadata": {},
   "outputs": [],
   "source": [
    "df_temp12 = pd.read_fwf('dataset\\\\temp_data\\\\Davos.txt', encoding='cp1252', skiprows=25)[40:].reset_index(drop=True)\n",
    "df_temp12['stateProvince'] = 'Graubünden'\n"
   ]
  },
  {
   "cell_type": "code",
   "execution_count": 368,
   "metadata": {},
   "outputs": [],
   "source": [
    "df_temp13 = pd.read_fwf('dataset\\\\temp_data\\\\Elm.txt', encoding='cp1252', skiprows=25)\n",
    "df_temp13['stateProvince'] = 'Glarus'\n"
   ]
  },
  {
   "cell_type": "code",
   "execution_count": 369,
   "metadata": {},
   "outputs": [],
   "source": [
    "df_temp14 = pd.read_fwf('dataset\\\\temp_data\\\\Engelberg.txt', encoding='cp1252', skiprows=25)\n",
    "df_temp14['stateProvince'] = 'Obwalden'\n"
   ]
  },
  {
   "cell_type": "code",
   "execution_count": 370,
   "metadata": {},
   "outputs": [],
   "source": [
    "df_temp15 = pd.read_fwf('dataset\\\\temp_data\\\\Payerne.txt', encoding='cp1252', skiprows=25)\n",
    "df_temp15['stateProvince'] = 'Vaud'\n"
   ]
  },
  {
   "cell_type": "code",
   "execution_count": 371,
   "metadata": {},
   "outputs": [],
   "source": [
    "df_temp16 = pd.read_fwf('dataset\\\\temp_data\\\\Säntis.txt', encoding='cp1252', skiprows=25)[224:].reset_index(drop=True)\n",
    "df_temp16['stateProvince'] = 'Appenzell'\n"
   ]
  },
  {
   "cell_type": "code",
   "execution_count": 372,
   "metadata": {},
   "outputs": [],
   "source": [
    "df_temp17 = pd.read_fwf('dataset\\\\temp_data\\\\Chaumont.txt', encoding='cp1252', skiprows=25)\n",
    "df_temp17['stateProvince'] = 'Fribourg'\n"
   ]
  },
  {
   "cell_type": "code",
   "execution_count": 373,
   "metadata": {},
   "outputs": [],
   "source": [
    "df_temp18 = pd.read_fwf('dataset\\\\temp_data\\\\La Chaux-de-Fonds.txt', encoding='cp1252', skiprows=25)\n",
    "df_temp18['stateProvince'] ='Jura'"
   ]
  },
  {
   "cell_type": "code",
   "execution_count": 374,
   "metadata": {},
   "outputs": [],
   "source": [
    "df_temp1 = pd.read_fwf('dataset\\\\temp_data\\\\BASEL_BEINNINGEN.txt', encoding='cp1252', skiprows=25)\n",
    "df_temp1['stateProvince'] = 'Basel'"
   ]
  },
  {
   "cell_type": "code",
   "execution_count": 375,
   "metadata": {},
   "outputs": [],
   "source": [
    "df_temp2 = pd.read_fwf('dataset\\\\temp_data\\\\BERN_ZOLLIKOFEN.txt', encoding='cp1252', skiprows=25)\n",
    "df_temp2['stateProvince'] = 'Bern'"
   ]
  },
  {
   "cell_type": "code",
   "execution_count": 376,
   "metadata": {},
   "outputs": [],
   "source": [
    "df_temp3 = pd.read_fwf('dataset\\\\temp_data\\\\Genève Cointrin.txt', encoding='cp1252', skiprows=25)\n",
    "df_temp3['stateProvince'] = 'Genève'"
   ]
  },
  {
   "cell_type": "code",
   "execution_count": 377,
   "metadata": {},
   "outputs": [
    {
     "data": {
      "text/plain": [
       "Index(['kingdom', 'phylum', 'class', 'order', 'family', 'genus', 'species',\n",
       "       'taxonRank', 'scientificName', 'verbatimScientificName', 'countryCode',\n",
       "       'stateProvince', 'occurrenceStatus', 'publishingOrgKey',\n",
       "       'decimalLatitude', 'decimalLongitude', 'coordinateUncertaintyInMeters',\n",
       "       'elevation', 'day', 'month', 'year', 'basisOfRecord'],\n",
       "      dtype='object')"
      ]
     },
     "execution_count": 377,
     "metadata": {},
     "output_type": "execute_result"
    }
   ],
   "source": [
    "df_ch.columns"
   ]
  },
  {
   "cell_type": "code",
   "execution_count": 378,
   "metadata": {},
   "outputs": [
    {
     "data": {
      "text/plain": [
       "Index(['Year', 'Month', 'Temperature', 'Precipitation', 'stateProvince'], dtype='object')"
      ]
     },
     "execution_count": 378,
     "metadata": {},
     "output_type": "execute_result"
    }
   ],
   "source": [
    "df_temp1.columns"
   ]
  },
  {
   "cell_type": "code",
   "execution_count": 379,
   "metadata": {},
   "outputs": [],
   "source": [
    "df_ch = df_ch.rename(columns={'month': 'Month', 'year': 'Year'})"
   ]
  },
  {
   "cell_type": "code",
   "execution_count": 380,
   "metadata": {},
   "outputs": [
    {
     "name": "stdout",
     "output_type": "stream",
     "text": [
      "<class 'pandas.core.frame.DataFrame'>\n",
      "RangeIndex: 1912 entries, 0 to 1911\n",
      "Data columns (total 5 columns):\n",
      " #   Column         Non-Null Count  Dtype  \n",
      "---  ------         --------------  -----  \n",
      " 0   Year           1912 non-null   int64  \n",
      " 1   Month          1912 non-null   int64  \n",
      " 2   Temperature    1912 non-null   float64\n",
      " 3   Precipitation  1912 non-null   float64\n",
      " 4   stateProvince  1912 non-null   object \n",
      "dtypes: float64(2), int64(2), object(1)\n",
      "memory usage: 74.8+ KB\n"
     ]
    }
   ],
   "source": [
    "df_temp1.info()"
   ]
  },
  {
   "cell_type": "code",
   "execution_count": 381,
   "metadata": {},
   "outputs": [
    {
     "data": {
      "text/plain": [
       "array([10.,  6.,  7.,  5.,  8.,  9.,  4., 11.,  3., 12.,  1.,  2.])"
      ]
     },
     "execution_count": 381,
     "metadata": {},
     "output_type": "execute_result"
    }
   ],
   "source": [
    "df_ch.Month.unique()"
   ]
  },
  {
   "cell_type": "code",
   "execution_count": 382,
   "metadata": {},
   "outputs": [
    {
     "data": {
      "text/plain": [
       "array([ 1,  2,  3,  4,  5,  6,  7,  8,  9, 10, 11, 12], dtype=int64)"
      ]
     },
     "execution_count": 382,
     "metadata": {},
     "output_type": "execute_result"
    }
   ],
   "source": [
    "df_temp1.Month.unique()"
   ]
  },
  {
   "cell_type": "code",
   "execution_count": 387,
   "metadata": {},
   "outputs": [
    {
     "name": "stdout",
     "output_type": "stream",
     "text": [
      "<class 'pandas.core.frame.DataFrame'>\n",
      "Int64Index: 114036 entries, 0 to 114053\n",
      "Data columns (total 24 columns):\n",
      " #   Column                         Non-Null Count   Dtype  \n",
      "---  ------                         --------------   -----  \n",
      " 0   kingdom                        114036 non-null  object \n",
      " 1   phylum                         114036 non-null  object \n",
      " 2   class                          114036 non-null  object \n",
      " 3   order                          114036 non-null  object \n",
      " 4   family                         114036 non-null  object \n",
      " 5   genus                          114036 non-null  object \n",
      " 6   species                        114036 non-null  object \n",
      " 7   taxonRank                      114036 non-null  object \n",
      " 8   scientificName                 114036 non-null  object \n",
      " 9   verbatimScientificName         114036 non-null  object \n",
      " 10  countryCode                    114036 non-null  object \n",
      " 11  stateProvince                  114036 non-null  object \n",
      " 12  occurrenceStatus               114036 non-null  object \n",
      " 13  publishingOrgKey               114036 non-null  object \n",
      " 14  decimalLatitude                114036 non-null  float64\n",
      " 15  decimalLongitude               114036 non-null  float64\n",
      " 16  coordinateUncertaintyInMeters  114036 non-null  float64\n",
      " 17  elevation                      114036 non-null  float64\n",
      " 18  day                            114036 non-null  float64\n",
      " 19  Month                          114036 non-null  float64\n",
      " 20  Year                           114036 non-null  object \n",
      " 21  basisOfRecord                  114036 non-null  object \n",
      " 22  Temperature                    114036 non-null  float64\n",
      " 23  Precipitation                  114036 non-null  float64\n",
      "dtypes: float64(8), object(16)\n",
      "memory usage: 21.8+ MB\n"
     ]
    }
   ],
   "source": [
    "weather_datasets = {\n",
    "    'Basel': df_temp1,\n",
    "    'Solothurn': df_temp1,\n",
    "    'Bern': df_temp2,\n",
    "    'Genève': df_temp3,\n",
    "    'Ticino': df_temp4,\n",
    "    'Luzern':df_temp5,\n",
    "    'Neuchâtel': df_temp6,\n",
    "    'St. Gallen': df_temp7, 'Thurgau': df_temp7,\n",
    "    'Zürich': df_temp8, 'Aargau': df_temp8, 'Zug': df_temp8, 'Schaffhausen': df_temp8,\n",
    "    'Uri': df_temp9,\n",
    "    'Vaud': df_temp10,\n",
    "    'Valais': df_temp11,\n",
    "    'Graubünden': df_temp12,\n",
    "    'Glarus': df_temp13, 'Schwyz': df_temp13,\n",
    "    'Obwalden': df_temp14, 'Nidwalden': df_temp14,\n",
    "    'Vaud': df_temp15,\n",
    "    'Appenzell': df_temp16,\n",
    "    'Fribourg': df_temp17,\n",
    "    'Jura': df_temp18\n",
    "} \n",
    "\n",
    "df_final = pd.DataFrame(columns=['kingdom', 'phylum', 'class', 'order', 'family', 'genus', 'species',\n",
    "       'taxonRank', 'scientificName', 'verbatimScientificName', 'countryCode',\n",
    "       'stateProvince', 'occurrenceStatus', 'publishingOrgKey',\n",
    "       'decimalLatitude', 'decimalLongitude', 'coordinateUncertaintyInMeters',\n",
    "       'elevation', 'day', 'Month', 'Year', 'basisOfRecord', 'Temperature',\n",
    "       'Precipitation'])\n",
    "\n",
    "for location, weather_data in weather_datasets.items():\n",
    "    weather_data['Month'] = weather_data['Month'].astype(float)\n",
    "    df_merged = pd.merge(df_ch[df_ch['stateProvince'] == location], weather_data[['Year', 'Month', 'Temperature', 'Precipitation']], on=['Month', 'Year'], how='left')\n",
    "    df_final = pd.concat([df_final,df_merged], ignore_index=True)\n",
    "\n",
    "df_final = df_final.dropna()\n",
    "df_final.info()"
   ]
  },
  {
   "cell_type": "code",
   "execution_count": 388,
   "metadata": {},
   "outputs": [],
   "source": [
    "df_final.to_csv('dataset\\\\temp_data\\\\final_dataset.csv')  "
   ]
  }
 ],
 "metadata": {
  "kernelspec": {
   "display_name": "python_main",
   "language": "python",
   "name": "python3"
  },
  "language_info": {
   "codemirror_mode": {
    "name": "ipython",
    "version": 3
   },
   "file_extension": ".py",
   "mimetype": "text/x-python",
   "name": "python",
   "nbconvert_exporter": "python",
   "pygments_lexer": "ipython3",
   "version": "3.10.9"
  },
  "orig_nbformat": 4
 },
 "nbformat": 4,
 "nbformat_minor": 2
}
